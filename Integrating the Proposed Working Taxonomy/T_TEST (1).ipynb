{
 "cells": [
  {
   "cell_type": "code",
   "execution_count": 1,
   "id": "a8adf8d5-ad4e-41f0-96c3-16d1ea6846a7",
   "metadata": {},
   "outputs": [],
   "source": [
    "import pandas as pd\n",
    "from sklearn.metrics import classification_report\n",
    "import matplotlib.pyplot as plt\n",
    "from sklearn.metrics import confusion_matrix\n",
    "from sklearn.metrics import ConfusionMatrixDisplay\n",
    "import numpy as np\n",
    "from scipy.stats import ttest_rel\n",
    "from sklearn.metrics import f1_score\n",
    "from tqdm import tqdm\n",
    "import seaborn as sns"
   ]
  },
  {
   "cell_type": "code",
   "execution_count": 2,
   "id": "ffb07871-c448-4d68-b354-45167194dc5b",
   "metadata": {},
   "outputs": [],
   "source": [
    "def merge_and_evaluate_correctness(df_incontext, df_zero, pred_col_theory, pred_col_no_theory, suffix_incontext='_theory', suffix_zero='_no_theory'):\n",
    "    merged = pd.merge(\n",
    "        df_incontext, \n",
    "        df_zero, \n",
    "        on=\"request\", \n",
    "        suffixes=(suffix_incontext, suffix_zero)\n",
    "    )\n",
    "    merged[\"correct_theory\"] = (\n",
    "        merged[pred_col_theory] == merged[\"gold_judgment\"+suffix_incontext]\n",
    "    ).astype(int)\n",
    "    merged[\"correct_no_theory\"] = (\n",
    "        merged[pred_col_no_theory] == merged[\"gold_judgment\"+suffix_incontext]\n",
    "    ).astype(int)\n",
    "\n",
    "    t_stat, p_value = ttest_rel(merged[\"correct_theory\"], merged[\"correct_no_theory\"])\n",
    "\n",
    "    merged_UND = merged[merged[\"gold_judgment\"+suffix_incontext] == 'underspecified']\n",
    "    t_stat_UND, p_value_UND = ttest_rel(merged_UND[\"correct_theory\"], merged_UND[\"correct_no_theory\"])\n",
    "\n",
    "    merged_FS = merged[merged[\"gold_judgment\"+suffix_incontext] == 'fully specified']\n",
    "    t_stat_FS, p_value_FS = ttest_rel(merged_FS[\"correct_theory\"], merged_FS[\"correct_no_theory\"])\n",
    "\n",
    "    # Results\n",
    "    print(\"Overall paired t-test:\")\n",
    "    print(f\"t-statistic = {t_stat:.4f}\")\n",
    "    print(f\"p-value     = {p_value:.4f}\")\n",
    "\n",
    "    print(\"UND paired t-test:\")\n",
    "    print(f\"t-statistic = {t_stat_UND:.4f}\")\n",
    "    print(f\"p-value     = {p_value_UND:.4f}\")\n",
    "\n",
    "    print(\"FS paired t-test:\")\n",
    "    print(f\"t-statistic = {t_stat_FS:.4f}\")\n",
    "    print(f\"p-value     = {p_value_FS:.4f}\")\n",
    "    \n",
    "    # 分析两种情况\n",
    "    theory_better = merged[(merged[\"correct_theory\"] == 1) & (merged[\"correct_no_theory\"] == 0)]\n",
    "    no_theory_better = merged[(merged[\"correct_theory\"] == 0) & (merged[\"correct_no_theory\"] == 1)]\n",
    "\n",
    "    print(f\"\\nNumber of cases where theory is correct and no_theory is not: {len(theory_better)}\")\n",
    "    print(f\"Number of cases where no_theory is correct and theory is not: {len(no_theory_better)}\")\n",
    "\n",
    "    return merged, theory_better, no_theory_better"
   ]
  },
  {
   "cell_type": "code",
   "execution_count": 10,
   "id": "59559eac-78f4-412b-b48a-38825c9a3f21",
   "metadata": {},
   "outputs": [],
   "source": [
    "Qwen3_4B_UND_FS_DSPy_CoT_instructions_examples_wording_A  = pd.read_csv('../DSPy_incontext_onehop.csv')\n",
    "Qwen3_4B_UND_FS_NL_no_theory_no_example_wording_B = pd.read_csv('../clean_exp_1/Qwen3_4B_FS_UND.csv')\n",
    "Qwen3_4B_UND_FS_DSPy_CoT_no_theory_no_example_wording_B = pd.read_csv('../clean_exp_1/Qwen3_4B_DSPy_FS_UND.csv')\n",
    "Qwen3_4B_UND_FS_DSPy_CoT_no_theory_no_example_wording_A = pd.read_csv('../clean_exp_1/Qwen3_4B_UND_FS_DSPy_CoT_no_theory_no_example_wording_A.csv')\n",
    "\n",
    "# Qwen3-4B_UND/FS_DSPy_CoT_instructions_examples_wording_A\n",
    "repro_test_1 =  pd.read_csv('../Reproductivity/test_1_complete.csv')\n",
    "repro_test_1_o =  pd.read_csv('../Reproductivity/test_1.csv')\n",
    "\n",
    "Qwen3_4B_UND_FS_DSPy_definitions_examples_wording_A = pd.read_csv('Qwen3_4B_UND_FS_DSPy_CoT_definitions_examples_wording_A.csv')\n",
    "Qwen3_4B_UND_FS_DSPy_definitions_examples_wording_B = pd.read_csv('Qwen3_4B_UND_FS_DSPy_CoT_definitions_examples_wording_B.csv')"
   ]
  },
  {
   "cell_type": "markdown",
   "id": "4aa4b8aa-ccac-4cf0-8eed-4adc3dfe6dbe",
   "metadata": {},
   "source": [
    "# Qwen3-4B DSPy CoT "
   ]
  },
  {
   "cell_type": "code",
   "execution_count": 7,
   "id": "a2c899a5-2083-4edd-bec5-1bb684b9b8f5",
   "metadata": {},
   "outputs": [
    {
     "name": "stdout",
     "output_type": "stream",
     "text": [
      "Overall paired t-test:\n",
      "t-statistic = 1.8012\n",
      "p-value     = 0.0720\n",
      "UND paired t-test:\n",
      "t-statistic = 0.1138\n",
      "p-value     = 0.9094\n",
      "FS paired t-test:\n",
      "t-statistic = 2.2999\n",
      "p-value     = 0.0219\n",
      "\n",
      "Number of cases where theory is correct and no_theory is not: 101\n",
      "Number of cases where no_theory is correct and theory is not: 77\n"
     ]
    }
   ],
   "source": [
    "repro_test_1_without = repro_test_1[repro_test_1['direct_source']!='AmbigQA']\n",
    "\n",
    "Qwen3_4B_UND_FS_NL_no_theory_no_example_wording_B_without = Qwen3_4B_UND_FS_NL_no_theory_no_example_wording_B[Qwen3_4B_UND_FS_NL_no_theory_no_example_wording_B['direct_source']!='AmbigQA']\n",
    "Qwen3_4B_UND_FS_DSPy_CoT_no_theory_no_example_wording_B_without = Qwen3_4B_UND_FS_DSPy_CoT_no_theory_no_example_wording_B[Qwen3_4B_UND_FS_DSPy_CoT_no_theory_no_example_wording_B['direct_source']!='AmbigQA']\n",
    "Qwen3_4B_UND_FS_DSPy_CoT_no_theory_no_example_wording_A_without = Qwen3_4B_UND_FS_DSPy_CoT_no_theory_no_example_wording_A[Qwen3_4B_UND_FS_DSPy_CoT_no_theory_no_example_wording_A['direct_source']!= 'AmbigQA']\n",
    "\n",
    "df_merge_nl, df_theory_better_nl, df_no_theory_better_nl = merge_and_evaluate_correctness(repro_test_1_without, Qwen3_4B_UND_FS_NL_no_theory_no_example_wording_B_without, 'model_pred_theory', 'model_pred_no_theory')"
   ]
  },
  {
   "cell_type": "code",
   "execution_count": 8,
   "id": "909028df-5383-4dc5-82ff-6da386ba3738",
   "metadata": {},
   "outputs": [
    {
     "name": "stdout",
     "output_type": "stream",
     "text": [
      "Overall paired t-test:\n",
      "t-statistic = 2.0217\n",
      "p-value     = 0.0435\n",
      "UND paired t-test:\n",
      "t-statistic = 4.6949\n",
      "p-value     = 0.0000\n",
      "FS paired t-test:\n",
      "t-statistic = -1.5414\n",
      "p-value     = 0.1239\n",
      "\n",
      "Number of cases where theory is correct and no_theory is not: 103\n",
      "Number of cases where no_theory is correct and theory is not: 76\n"
     ]
    }
   ],
   "source": [
    "df_merge_dspy_b, df_theory_better_dspy_b, df_no_theory_better_dspy_b = merge_and_evaluate_correctness(repro_test_1_without, Qwen3_4B_UND_FS_DSPy_CoT_no_theory_no_example_wording_B_without, 'model_pred_theory', 'model_pred_no_theory')"
   ]
  },
  {
   "cell_type": "code",
   "execution_count": 9,
   "id": "561a7dd7-b158-45ed-a912-b9616b690f7b",
   "metadata": {},
   "outputs": [
    {
     "name": "stdout",
     "output_type": "stream",
     "text": [
      "Overall paired t-test:\n",
      "t-statistic = 2.2932\n",
      "p-value     = 0.0221\n",
      "UND paired t-test:\n",
      "t-statistic = 4.4857\n",
      "p-value     = 0.0000\n",
      "FS paired t-test:\n",
      "t-statistic = -0.9331\n",
      "p-value     = 0.3513\n",
      "\n",
      "Number of cases where theory is correct and no_theory is not: 101\n",
      "Number of cases where no_theory is correct and theory is not: 71\n"
     ]
    }
   ],
   "source": [
    "df_merge_dspy_a, df_theory_better_dspy_a, df_no_theory_better_dspy_a = merge_and_evaluate_correctness(repro_test_1_without, Qwen3_4B_UND_FS_DSPy_CoT_no_theory_no_example_wording_A_without, 'model_pred_theory', 'model_pred_no_theory')"
   ]
  },
  {
   "cell_type": "code",
   "execution_count": 17,
   "id": "7701bac9-3c34-4d47-863b-ae66d30c2b88",
   "metadata": {},
   "outputs": [],
   "source": [
    "df_theory_better_nl.to_csv('df_theory_better_dspy_vs_nl.csv')\n",
    "df_no_theory_better_nl.to_csv('df_no_theory_better_dspy_vs_nl.csv')\n",
    "\n",
    "df_theory_better_dspy.to_csv('df_theory_better_dspy_vs_dspy.csv')\n",
    "df_no_theory_better_dspy.to_csv('df_no_theory_better_dspy_vs_dspy.csv')"
   ]
  },
  {
   "cell_type": "markdown",
   "id": "b1ae3f14-8a7f-4f10-bbc9-9e7ff544356d",
   "metadata": {},
   "source": [
    "# Qwen3-4B_UND/FS_DSPy_CoT_definitions_examples_wording_A"
   ]
  },
  {
   "cell_type": "code",
   "execution_count": 11,
   "id": "45d804da-fd6c-4dbe-944a-c2b5f0bafb03",
   "metadata": {},
   "outputs": [],
   "source": [
    "Qwen3_4B_UND_FS_DSPy_definitions_examples_wording_A_without = Qwen3_4B_UND_FS_DSPy_definitions_examples_wording_A[Qwen3_4B_UND_FS_DSPy_definitions_examples_wording_A['direct_source']!='AmbigQA']"
   ]
  },
  {
   "cell_type": "code",
   "execution_count": 12,
   "id": "77e47509-a242-4473-b991-ba8f9e9aafb3",
   "metadata": {},
   "outputs": [
    {
     "name": "stdout",
     "output_type": "stream",
     "text": [
      "Overall paired t-test:\n",
      "t-statistic = 1.6487\n",
      "p-value     = 0.0996\n",
      "UND paired t-test:\n",
      "t-statistic = -0.5693\n",
      "p-value     = 0.5694\n",
      "FS paired t-test:\n",
      "t-statistic = 2.5947\n",
      "p-value     = 0.0098\n",
      "\n",
      "Number of cases where theory is correct and no_theory is not: 109\n",
      "Number of cases where no_theory is correct and theory is not: 86\n"
     ]
    }
   ],
   "source": [
    "df_merge_nl, df_theory_better_nl, df_no_theory_better_nl = merge_and_evaluate_correctness(Qwen3_4B_UND_FS_DSPy_definitions_examples_wording_A_without, Qwen3_4B_UND_FS_NL_no_theory_no_example_wording_B_without, 'model_pred_theory', 'model_pred_no_theory')"
   ]
  },
  {
   "cell_type": "code",
   "execution_count": 13,
   "id": "529864ce-e312-4814-810d-ca5bb59f2a8e",
   "metadata": {},
   "outputs": [
    {
     "name": "stdout",
     "output_type": "stream",
     "text": [
      "Overall paired t-test:\n",
      "t-statistic = 1.9744\n",
      "p-value     = 0.0487\n",
      "UND paired t-test:\n",
      "t-statistic = 4.0992\n",
      "p-value     = 0.0000\n",
      "FS paired t-test:\n",
      "t-statistic = -1.0315\n",
      "p-value     = 0.3029\n",
      "\n",
      "Number of cases where theory is correct and no_theory is not: 100\n",
      "Number of cases where no_theory is correct and theory is not: 74\n"
     ]
    }
   ],
   "source": [
    "df_merge_dspy_b, df_theory_better_dspy_b, df_no_theory_better_dspy_b = merge_and_evaluate_correctness(Qwen3_4B_UND_FS_DSPy_definitions_examples_wording_A_without, Qwen3_4B_UND_FS_DSPy_CoT_no_theory_no_example_wording_B_without, 'model_pred_theory', 'model_pred_no_theory')"
   ]
  },
  {
   "cell_type": "code",
   "execution_count": 14,
   "id": "8301341f-633f-42a8-ba6e-91764e0fc0b4",
   "metadata": {},
   "outputs": [
    {
     "name": "stdout",
     "output_type": "stream",
     "text": [
      "Overall paired t-test:\n",
      "t-statistic = 2.1971\n",
      "p-value     = 0.0283\n",
      "UND paired t-test:\n",
      "t-statistic = 3.7218\n",
      "p-value     = 0.0002\n",
      "FS paired t-test:\n",
      "t-statistic = -0.4122\n",
      "p-value     = 0.6804\n",
      "\n",
      "Number of cases where theory is correct and no_theory is not: 102\n",
      "Number of cases where no_theory is correct and theory is not: 73\n"
     ]
    }
   ],
   "source": [
    "df_merge_dspy_a, df_theory_better_dspy_a, df_no_theory_better_dspy_a = merge_and_evaluate_correctness(Qwen3_4B_UND_FS_DSPy_definitions_examples_wording_A_without, Qwen3_4B_UND_FS_DSPy_CoT_no_theory_no_example_wording_A_without, 'model_pred_theory', 'model_pred_no_theory')"
   ]
  },
  {
   "cell_type": "markdown",
   "id": "abf6e149-7c8e-4880-90bd-0c26c73d8da0",
   "metadata": {},
   "source": [
    "# Qwen3-4B_UND/FS_DSPy_CoT_definitions_examples_wording_B"
   ]
  },
  {
   "cell_type": "code",
   "execution_count": 15,
   "id": "4c4a73f7-f756-4892-8a43-5226f76ae608",
   "metadata": {},
   "outputs": [],
   "source": [
    "Qwen3_4B_UND_FS_DSPy_definitions_examples_wording_B_without = Qwen3_4B_UND_FS_DSPy_definitions_examples_wording_B[Qwen3_4B_UND_FS_DSPy_definitions_examples_wording_B['direct_source']!='AmbigQA']"
   ]
  },
  {
   "cell_type": "code",
   "execution_count": 16,
   "id": "7238447a-fc8a-4b6d-a427-5ee7b81275a2",
   "metadata": {},
   "outputs": [
    {
     "name": "stdout",
     "output_type": "stream",
     "text": [
      "Overall paired t-test:\n",
      "t-statistic = 1.7912\n",
      "p-value     = 0.0736\n",
      "UND paired t-test:\n",
      "t-statistic = -0.1124\n",
      "p-value     = 0.9106\n",
      "FS paired t-test:\n",
      "t-statistic = 2.5027\n",
      "p-value     = 0.0127\n",
      "\n",
      "Number of cases where theory is correct and no_theory is not: 102\n",
      "Number of cases where no_theory is correct and theory is not: 78\n"
     ]
    }
   ],
   "source": [
    "df_merge_nl, df_theory_better_nl, df_no_theory_better_nl = merge_and_evaluate_correctness(Qwen3_4B_UND_FS_DSPy_definitions_examples_wording_B_without, Qwen3_4B_UND_FS_NL_no_theory_no_example_wording_B_without, 'model_pred_theory', 'model_pred_no_theory')"
   ]
  },
  {
   "cell_type": "code",
   "execution_count": 17,
   "id": "b52d6ff2-19cf-4137-9704-75461d146e23",
   "metadata": {},
   "outputs": [
    {
     "name": "stdout",
     "output_type": "stream",
     "text": [
      "Overall paired t-test:\n",
      "t-statistic = 1.9267\n",
      "p-value     = 0.0543\n",
      "UND paired t-test:\n",
      "t-statistic = 4.2061\n",
      "p-value     = 0.0000\n",
      "FS paired t-test:\n",
      "t-statistic = -1.2819\n",
      "p-value     = 0.2006\n",
      "\n",
      "Number of cases where theory is correct and no_theory is not: 112\n",
      "Number of cases where no_theory is correct and theory is not: 85\n"
     ]
    }
   ],
   "source": [
    "f_merge_dspy_b, df_theory_better_dspy_b, df_no_theory_better_dspy_b = merge_and_evaluate_correctness(Qwen3_4B_UND_FS_DSPy_definitions_examples_wording_B_without, Qwen3_4B_UND_FS_DSPy_CoT_no_theory_no_example_wording_B_without, 'model_pred_theory', 'model_pred_no_theory')"
   ]
  },
  {
   "cell_type": "code",
   "execution_count": 18,
   "id": "ec0d388b-5e76-4611-bf4e-53566d008482",
   "metadata": {},
   "outputs": [
    {
     "name": "stdout",
     "output_type": "stream",
     "text": [
      "Overall paired t-test:\n",
      "t-statistic = 2.2540\n",
      "p-value     = 0.0245\n",
      "UND paired t-test:\n",
      "t-statistic = 3.9447\n",
      "p-value     = 0.0001\n",
      "FS paired t-test:\n",
      "t-statistic = -0.7501\n",
      "p-value     = 0.4536\n",
      "\n",
      "Number of cases where theory is correct and no_theory is not: 104\n",
      "Number of cases where no_theory is correct and theory is not: 74\n"
     ]
    }
   ],
   "source": [
    "df_merge_dspy_a, df_theory_better_dspy_a, df_no_theory_better_dspy_a = merge_and_evaluate_correctness(Qwen3_4B_UND_FS_DSPy_definitions_examples_wording_B_without, Qwen3_4B_UND_FS_DSPy_CoT_no_theory_no_example_wording_A_without, 'model_pred_theory', 'model_pred_no_theory')"
   ]
  },
  {
   "cell_type": "markdown",
   "id": "76bcd27a-e45f-4cf9-a2e1-ef505363c581",
   "metadata": {},
   "source": [
    "# Result comparisons"
   ]
  },
  {
   "cell_type": "code",
   "execution_count": 5,
   "id": "ee212882-9ee1-4bc1-b93d-4ba1cdc6e9bf",
   "metadata": {},
   "outputs": [],
   "source": [
    "def find_model_pred_differences(df1, df2, key_column=\"request\"):\n",
    "\n",
    "    # 合并两个 DataFrame\n",
    "    merged = df1.merge(df2, on=key_column, suffixes=(\"_df1\", \"_df2\"))\n",
    "\n",
    "    # 过滤出 model_pred 不相等的行\n",
    "    diff = merged[merged[\"model_pred_df1\"] != merged[\"model_pred_df2\"]]\n",
    "\n",
    "    return diff[[key_column, 'gold_judgment_df1', \"model_pred_df1\", \"model_pred_df2\"]]"
   ]
  }
 ],
 "metadata": {
  "kernelspec": {
   "display_name": "Python (sglang-venv-2)",
   "language": "python",
   "name": "sglang-venv"
  },
  "language_info": {
   "codemirror_mode": {
    "name": "ipython",
    "version": 3
   },
   "file_extension": ".py",
   "mimetype": "text/x-python",
   "name": "python",
   "nbconvert_exporter": "python",
   "pygments_lexer": "ipython3",
   "version": "3.11.3"
  }
 },
 "nbformat": 4,
 "nbformat_minor": 5
}
