{
 "cells": [
  {
   "cell_type": "code",
   "execution_count": null,
   "id": "db2581eb-dd0f-48e5-b15f-e3ddd8608cbe",
   "metadata": {
    "id": "db2581eb-dd0f-48e5-b15f-e3ddd8608cbe",
    "outputId": "2b425021-44dc-4bc9-b5ca-2ffc6d936424"
   },
   "outputs": [
    {
     "name": "stdout",
     "output_type": "stream",
     "text": [
      "Mon Jul  7 12:34:12 2025       \n",
      "+-----------------------------------------------------------------------------------------+\n",
      "| NVIDIA-SMI 565.57.01              Driver Version: 565.57.01      CUDA Version: 12.7     |\n",
      "|-----------------------------------------+------------------------+----------------------+\n",
      "| GPU  Name                 Persistence-M | Bus-Id          Disp.A | Volatile Uncorr. ECC |\n",
      "| Fan  Temp   Perf          Pwr:Usage/Cap |           Memory-Usage | GPU-Util  Compute M. |\n",
      "|                                         |                        |               MIG M. |\n",
      "|=========================================+========================+======================|\n",
      "|   0  NVIDIA A100-SXM4-40GB          On  |   00000000:CA:00.0 Off |                    0 |\n",
      "| N/A   30C    P0             49W /  400W |       1MiB /  40960MiB |      0%      Default |\n",
      "|                                         |                        |             Disabled |\n",
      "+-----------------------------------------+------------------------+----------------------+\n",
      "                                                                                         \n",
      "+-----------------------------------------------------------------------------------------+\n",
      "| Processes:                                                                              |\n",
      "|  GPU   GI   CI        PID   Type   Process name                              GPU Memory |\n",
      "|        ID   ID                                                               Usage      |\n",
      "|=========================================================================================|\n",
      "|  No running processes found                                                             |\n",
      "+-----------------------------------------------------------------------------------------+\n"
     ]
    }
   ],
   "source": [
    "!nvidia-smi\n",
    "%matplotlib inline"
   ]
  },
  {
   "cell_type": "code",
   "execution_count": 1,
   "id": "45262588-1de8-41d9-ae38-25488a28160f",
   "metadata": {
    "id": "45262588-1de8-41d9-ae38-25488a28160f"
   },
   "outputs": [
    {
     "name": "stderr",
     "output_type": "stream",
     "text": [
      "/home/yhuang/sglang-venv-2/lib/python3.11/site-packages/torch/cuda/__init__.py:734: UserWarning: Can't initialize NVML\n",
      "  warnings.warn(\"Can't initialize NVML\")\n"
     ]
    }
   ],
   "source": [
    "import os\n",
    "import dspy\n",
    "import pandas as pd\n",
    "from sklearn.metrics import classification_report\n",
    "import matplotlib.pyplot as plt\n",
    "from sklearn.metrics import confusion_matrix\n",
    "from sklearn.metrics import ConfusionMatrixDisplay\n",
    "from tqdm import tqdm\n",
    "from typing import List, Literal, List, Dict, Any\n",
    "from dspy.evaluate import Evaluate\n",
    "from dspy import LabeledFewShot\n",
    "from dspy.teleprompt import BootstrapFewShotWithRandomSearch\n",
    "import numpy as np\n",
    "import seaborn as sns\n",
    "\n",
    "from datasets import load_dataset\n",
    "import random\n",
    "import json\n",
    "import re\n",
    "from functools import partial\n",
    "from datasets import Dataset\n",
    "from copy import deepcopy\n",
    "import evaluate\n",
    "import nltk\n",
    "from scipy.stats import ttest_ind\n",
    "import string\n",
    "from collections import Counter\n",
    "\n",
    "import openai\n",
    "import os\n",
    "import time\n",
    "import pandas as pd"
   ]
  },
  {
   "cell_type": "code",
   "execution_count": null,
   "id": "9cf4a27e-2eae-4dc4-840c-cad8ef05e1a7",
   "metadata": {
    "id": "9cf4a27e-2eae-4dc4-840c-cad8ef05e1a7",
    "outputId": "d6106cf6-3c33-4912-fd6b-ec1a455d3e3b"
   },
   "outputs": [
    {
     "name": "stdout",
     "output_type": "stream",
     "text": [
      "train 集下载成功 ✅\n",
      "dev 集下载成功 ✅\n"
     ]
    }
   ],
   "source": [
    "import requests\n",
    "\n",
    "# HotpotQA 正确的官方数据地址（来自 CMU）\n",
    "urls = {\n",
    "    \"train\": \"http://curtis.ml.cmu.edu/datasets/hotpot/hotpot_train_v1.1.json\",\n",
    "    \"dev\": \"http://curtis.ml.cmu.edu/datasets/hotpot/hotpot_dev_distractor_v1.json\"\n",
    "}\n",
    "\n",
    "for split, url in urls.items():\n",
    "    response = requests.get(url)\n",
    "    if response.status_code == 200:\n",
    "        with open(f\"hotpot_data/hotpot_{split}.json\", \"w\", encoding=\"utf-8\") as f:\n",
    "            f.write(response.text)\n",
    "        print(f\"{split} 集下载成功 ✅\")\n",
    "    else:\n",
    "        print(f\"{split} 集下载失败 ❌，状态码: {response.status_code}\")"
   ]
  },
  {
   "cell_type": "code",
   "execution_count": null,
   "id": "7ada12b3-7de3-48a7-869b-8e9c3db385bd",
   "metadata": {
    "id": "7ada12b3-7de3-48a7-869b-8e9c3db385bd"
   },
   "outputs": [],
   "source": [
    "import json\n",
    "from datasets import Dataset\n",
    "\n",
    "\n",
    "with open(\"hotpot_data/hotpot_train.json\", \"r\", encoding=\"utf-8\") as t:\n",
    "    train_data = json.load(t)\n",
    "with open(\"hotpot_data/hotpot_dev.json\", \"r\", encoding=\"utf-8\") as d:\n",
    "    dev_data = json.load(d)"
   ]
  },
  {
   "cell_type": "code",
   "execution_count": null,
   "id": "5f356bc4-9e9d-4bc2-a312-53a1fe38e6fc",
   "metadata": {
    "id": "5f356bc4-9e9d-4bc2-a312-53a1fe38e6fc",
    "outputId": "228bbdf0-3da3-460b-fdb3-ffec41e0396d"
   },
   "outputs": [
    {
     "name": "stdout",
     "output_type": "stream",
     "text": [
      "90447\n",
      "7405\n"
     ]
    }
   ],
   "source": [
    "print(len(train_data))\n",
    "print(len(dev_data))"
   ]
  },
  {
   "cell_type": "code",
   "execution_count": null,
   "id": "82764d0c-73da-4f37-bed1-72a53b126e85",
   "metadata": {
    "id": "82764d0c-73da-4f37-bed1-72a53b126e85"
   },
   "outputs": [],
   "source": [
    "task_relevant_data = [{\"id\": item[\"_id\"], \"question\": item[\"question\"], \"answer\": [item[\"answer\"]]} for item in dev_data]\n",
    "task_relevant_data_hf = Dataset.from_list(task_relevant_data)"
   ]
  },
  {
   "cell_type": "code",
   "execution_count": null,
   "id": "3c28ffac-2945-4b76-9dd7-3f925c78c9f4",
   "metadata": {
    "id": "3c28ffac-2945-4b76-9dd7-3f925c78c9f4"
   },
   "outputs": [],
   "source": [
    "hotpot_sample = task_relevant_data_hf.shuffle(seed=42).select(range(1000))"
   ]
  },
  {
   "cell_type": "code",
   "execution_count": null,
   "id": "e447686e-8a29-44ba-8a23-009b95fbf09b",
   "metadata": {
    "id": "e447686e-8a29-44ba-8a23-009b95fbf09b",
    "outputId": "3bc1f8cd-aeaa-4bc7-fde5-f2deb81162d9"
   },
   "outputs": [
    {
     "data": {
      "text/plain": [
       "{'id': '5add1d575542992c1e3a2540',\n",
       " 'question': \"What nationality was Oliver Reed's character in the film Royal Flash?\",\n",
       " 'answer': ['Prussian']}"
      ]
     },
     "execution_count": 7,
     "metadata": {},
     "output_type": "execute_result"
    }
   ],
   "source": [
    "hotpot_sample[0]"
   ]
  },
  {
   "cell_type": "code",
   "execution_count": null,
   "id": "3e9e3dfe-b2a3-48d1-bad0-2ee9d2b1d8a9",
   "metadata": {
    "colab": {
     "referenced_widgets": [
      "4819a4ca72ea480eaa8e6713d616965f",
      "2864351217c2471890669e57bc9b8174"
     ]
    },
    "id": "3e9e3dfe-b2a3-48d1-bad0-2ee9d2b1d8a9",
    "outputId": "ceec878d-d839-474b-cb50-7e3488c27203"
   },
   "outputs": [
    {
     "data": {
      "application/vnd.jupyter.widget-view+json": {
       "model_id": "2864351217c2471890669e57bc9b8174",
       "version_major": 2,
       "version_minor": 0
      },
      "text/plain": [
       "Creating json from Arrow format:   0%|          | 0/1 [00:00<?, ?ba/s]"
      ]
     },
     "metadata": {},
     "output_type": "display_data"
    },
    {
     "data": {
      "text/plain": [
       "170940"
      ]
     },
     "execution_count": 8,
     "metadata": {},
     "output_type": "execute_result"
    }
   ],
   "source": [
    "hotpot_sample.to_json(\"hotpot_sample_raw.jsonl\", orient=\"records\", lines=True)"
   ]
  },
  {
   "cell_type": "code",
   "execution_count": null,
   "id": "87b1edf3-8dda-4ea8-9439-bf0f624526e5",
   "metadata": {
    "id": "87b1edf3-8dda-4ea8-9439-bf0f624526e5"
   },
   "outputs": [],
   "source": [
    "\"\"\"\n",
    "module load CUDA/12.4.0\n",
    "source ~/sglang-venv-2/bin/activate\n",
    "huggingface-cli login\n",
    "\n",
    "\n",
    "# 创建所有必要的目录\n",
    "mkdir -p /scratch-local/yhuang/sglang_cache\n",
    "mkdir -p /scratch-local/yhuang/huggingface_cache\n",
    "mkdir -p /scratch-local/yhuang/torch_cache\n",
    "mkdir -p /scratch-local/yhuang/cuda_cache\n",
    "mkdir -p /scratch-local/yhuang/xdg_cache\n",
    "mkdir -p /scratch-local/yhuang/tmp\n",
    "mkdir -p /scratch-local/yhuang/logs\n",
    "\n",
    "# 设置所有相关环境变量\n",
    "export SGLANG_CACHE_DIR=/scratch-local/yhuang/sglang_cache\n",
    "export TRANSFORMERS_CACHE=/scratch-local/yhuang/huggingface_cache\n",
    "export HF_HOME=/scratch-local/yhuang/huggingface_cache\n",
    "export HF_DATASETS_CACHE=/scratch-local/yhuang/huggingface_cache/datasets\n",
    "export TORCH_HOME=/scratch-local/yhuang/torch_cache\n",
    "export CUDA_CACHE_PATH=/scratch-local/yhuang/cuda_cache\n",
    "export XDG_CACHE_HOME=/scratch-local/yhuang/xdg_cache\n",
    "export TMPDIR=/scratch-local/yhuang/tmp\n",
    "export TEMP=/scratch-local/yhuang/tmp\n",
    "export TMP=/scratch-local/yhuang/tmp\n",
    "export SGLANG_LOG_DIR=/scratch-local/yhuang/logs\n",
    "\n",
    "# launching\n",
    "python -m sglang.launch_server --port 7501 --model-path Qwen/Qwen3-4B --trust-remote-code\n",
    "CUDA_VISIBLE_DEVICES=0,1 python -m sglang.launch_server --port 7501 --model-path Qwen/Qwen3-32B --trust-remote-code --tp 2\n",
    "\"\"\""
   ]
  },
  {
   "cell_type": "markdown",
   "id": "uoAbWr_bxoJ6",
   "metadata": {
    "id": "uoAbWr_bxoJ6"
   },
   "source": [
    "# QA implementations"
   ]
  },
  {
   "cell_type": "code",
   "execution_count": 2,
   "id": "UUaXuf71xqlb",
   "metadata": {
    "id": "UUaXuf71xqlb"
   },
   "outputs": [],
   "source": [
    "underspecified_set = load_dataset(\n",
    "    \"json\",\n",
    "    data_files=\"classified_HotpotQA_sample_UND.jsonl\",\n",
    "    split=\"train\"  # 必须指定 split，否则默认返回 DatasetDict\n",
    ")\n",
    "\n",
    "fully_specified_set = load_dataset(\n",
    "    \"json\",\n",
    "    data_files=\"classified_HotpotQA_sample_FS.jsonl\",\n",
    "    split=\"train\"\n",
    ")"
   ]
  },
  {
   "cell_type": "markdown",
   "id": "3880w7oIxxR6",
   "metadata": {
    "id": "3880w7oIxxR6"
   },
   "source": [
    "## Loading GPT for short QA"
   ]
  },
  {
   "cell_type": "code",
   "execution_count": 3,
   "id": "ifThtguIxsvQ",
   "metadata": {
    "id": "ifThtguIxsvQ"
   },
   "outputs": [],
   "source": [
    "from openai import OpenAI\n",
    "\n",
    "client = OpenAI(\n",
    "    api_key=\"\",\n",
    "    base_url=\"https://generativelanguage.googleapis.com/v1beta/openai/\"\n",
    ") # Delete when sharing"
   ]
  },
  {
   "cell_type": "code",
   "execution_count": 4,
   "id": "hOpJXZpNy1wI",
   "metadata": {
    "id": "hOpJXZpNy1wI"
   },
   "outputs": [],
   "source": [
    "def ask_short_answer(question, client, model=\"gemini-2.5-flash\", temperature=0, max_retries=5, sleep_time=2.0):\n",
    "    system_prompt = (\n",
    "        \"Answer the question with concise responses. \"\n",
    "        \"Return answers as a list of strings. If there's only one answer, return a single-item list. \"\n",
    "        \"Each answer should be brief and direct.\"\n",
    "    )\n",
    "    retries = 0\n",
    "    while retries < max_retries:\n",
    "        try:\n",
    "            response = client.chat.completions.create(\n",
    "                model=model,\n",
    "                messages=[\n",
    "                    {\"role\": \"system\", \"content\": system_prompt},\n",
    "                    {\"role\": \"user\", \"content\": question}\n",
    "                ],\n",
    "                temperature=temperature\n",
    "            )\n",
    "            content = response.choices[0].message.content\n",
    "            if content.startswith(\"[\"):\n",
    "                return eval(content)\n",
    "            else:\n",
    "                return [content.strip()]\n",
    "        except Exception as e:\n",
    "            retries += 1\n",
    "            time.sleep(sleep_time * retries)\n",
    "    return [\"[Error]: Max retries exceeded\"]"
   ]
  },
  {
   "cell_type": "code",
   "execution_count": 5,
   "id": "Wk3_XPN1_Rie",
   "metadata": {
    "id": "Wk3_XPN1_Rie"
   },
   "outputs": [],
   "source": [
    "def run_batch_shortQA_api(batch, client, **kwargs):\n",
    "    short_answers = []\n",
    "    for q in batch[\"question\"]:\n",
    "        try:\n",
    "            answer = ask_short_answer(q, client=client, **kwargs)\n",
    "            short_answers.append(answer)\n",
    "        except Exception as e:\n",
    "            print(f\"Error: {e}\")\n",
    "            short_answers.append([\"error\"])\n",
    "    return {\"model_short_answer\": short_answers}"
   ]
  },
  {
   "cell_type": "code",
   "execution_count": 6,
   "id": "GJWuyCDQ_THB",
   "metadata": {
    "id": "GJWuyCDQ_THB"
   },
   "outputs": [],
   "source": [
    "def batch_QA_with_progress(dataset, batch_fn, output_key, batch_size=10, fill_value=\"error\", **batch_fn_kwargs):\n",
    "    all_outputs = []\n",
    "    for i in tqdm(range(0, len(dataset), batch_size), desc=f\"Running {output_key}\"):\n",
    "        batch = dataset.select(range(i, min(i + batch_size, len(dataset))))\n",
    "        try:\n",
    "            output = batch_fn(batch, **batch_fn_kwargs)\n",
    "            if output_key not in output:\n",
    "                raise ValueError(f\"Missing key '{output_key}' in batch result\")\n",
    "            all_outputs.extend(output[output_key])\n",
    "        except Exception as e:\n",
    "            print(f\"Batch error at {i}: {e}\")\n",
    "            all_outputs.extend([fill_value] * len(batch))\n",
    "\n",
    "    if len(all_outputs) != len(dataset):\n",
    "        print(f\"[Warning] Output length mismatch, auto-filling\")\n",
    "        all_outputs.extend([fill_value] * (len(dataset) - len(all_outputs)))\n",
    "\n",
    "    return {output_key: all_outputs}"
   ]
  },
  {
   "cell_type": "markdown",
   "id": "1OcCHxcE_WUt",
   "metadata": {
    "id": "1OcCHxcE_WUt"
   },
   "source": [
    "## Implementations"
   ]
  },
  {
   "cell_type": "code",
   "execution_count": 7,
   "id": "1FhNGJz1_VkE",
   "metadata": {
    "id": "1FhNGJz1_VkE"
   },
   "outputs": [
    {
     "name": "stderr",
     "output_type": "stream",
     "text": [
      "Running model_short_answer: 100%|██████████| 40/40 [1:50:26<00:00, 165.67s/it]  \n"
     ]
    }
   ],
   "source": [
    "short_results_UND = batch_QA_with_progress(\n",
    "    underspecified_set,\n",
    "    batch_fn=run_batch_shortQA_api,\n",
    "    output_key=\"model_short_answer\",\n",
    "    fill_value=[\"error\"],\n",
    "    client=client,\n",
    "    model=\"gemini-2.5-flash\",\n",
    "    temperature=0.0\n",
    ")"
   ]
  },
  {
   "cell_type": "code",
   "execution_count": 8,
   "id": "1ZWw6mDN_aIp",
   "metadata": {
    "id": "1ZWw6mDN_aIp"
   },
   "outputs": [
    {
     "name": "stderr",
     "output_type": "stream",
     "text": [
      "Running model_short_answer: 100%|██████████| 61/61 [36:52<00:00, 36.28s/it]   \n"
     ]
    }
   ],
   "source": [
    "# batch QA for FS\n",
    "short_results_FS = batch_QA_with_progress(\n",
    "    fully_specified_set,\n",
    "    batch_fn=run_batch_shortQA_api,\n",
    "    output_key=\"model_short_answer\",\n",
    "    fill_value=[\"error\"],\n",
    "    client=client,\n",
    "    model=\"gemini-2.5-flash\",\n",
    "    temperature=0.0\n",
    ")"
   ]
  },
  {
   "cell_type": "code",
   "execution_count": 9,
   "id": "0u4mNHin_fN3",
   "metadata": {
    "id": "0u4mNHin_fN3"
   },
   "outputs": [
    {
     "ename": "NameError",
     "evalue": "name 'short_results_UND' is not defined",
     "output_type": "error",
     "traceback": [
      "\u001b[0;31m---------------------------------------------------------------------------\u001b[0m",
      "\u001b[0;31mNameError\u001b[0m                                 Traceback (most recent call last)",
      "Cell \u001b[0;32mIn[9], line 3\u001b[0m\n\u001b[1;32m      1\u001b[0m qa_underspecified \u001b[38;5;241m=\u001b[39m deepcopy(underspecified_set)\n\u001b[0;32m----> 3\u001b[0m \u001b[38;5;28;01mfor\u001b[39;00m key \u001b[38;5;129;01min\u001b[39;00m \u001b[43mshort_results_UND\u001b[49m:\n\u001b[1;32m      4\u001b[0m     qa_underspecified \u001b[38;5;241m=\u001b[39m qa_underspecified\u001b[38;5;241m.\u001b[39madd_column(key, short_results_UND[key])\n\u001b[1;32m      6\u001b[0m qa_underspecified\u001b[38;5;241m.\u001b[39mto_json(\u001b[38;5;124m\"\u001b[39m\u001b[38;5;124mHotpotQA_UND_qa_Gemini.jsonl\u001b[39m\u001b[38;5;124m\"\u001b[39m, orient\u001b[38;5;241m=\u001b[39m\u001b[38;5;124m\"\u001b[39m\u001b[38;5;124mrecords\u001b[39m\u001b[38;5;124m\"\u001b[39m, lines\u001b[38;5;241m=\u001b[39m\u001b[38;5;28;01mTrue\u001b[39;00m)\n",
      "\u001b[0;31mNameError\u001b[0m: name 'short_results_UND' is not defined"
     ]
    }
   ],
   "source": [
    "qa_underspecified = deepcopy(underspecified_set)\n",
    "\n",
    "for key in short_results_UND:\n",
    "    qa_underspecified = qa_underspecified.add_column(key, short_results_UND[key])\n",
    "\n",
    "qa_underspecified.to_json(\"HotpotQA_UND_qa_Gemini.jsonl\", orient=\"records\", lines=True)"
   ]
  },
  {
   "cell_type": "code",
   "execution_count": 10,
   "id": "025OPrRz_kKo",
   "metadata": {
    "id": "025OPrRz_kKo"
   },
   "outputs": [
    {
     "data": {
      "application/vnd.jupyter.widget-view+json": {
       "model_id": "049ff955f6d44a4192fd9de371134397",
       "version_major": 2,
       "version_minor": 0
      },
      "text/plain": [
       "Creating json from Arrow format:   0%|          | 0/1 [00:00<?, ?ba/s]"
      ]
     },
     "metadata": {},
     "output_type": "display_data"
    },
    {
     "data": {
      "text/plain": [
       "402454"
      ]
     },
     "execution_count": 10,
     "metadata": {},
     "output_type": "execute_result"
    }
   ],
   "source": [
    "qa_fully_specified = deepcopy(fully_specified_set)\n",
    "\n",
    "for key in short_results_FS:\n",
    "    qa_fully_specified = qa_fully_specified.add_column(key, short_results_FS[key])\n",
    "\n",
    "qa_fully_specified.to_json(\"HotpotQA_FS_qa_Gemini.jsonl\", orient=\"records\", lines=True)"
   ]
  },
  {
   "cell_type": "code",
   "execution_count": 11,
   "id": "sQXa-d3i_oiP",
   "metadata": {
    "id": "sQXa-d3i_oiP"
   },
   "outputs": [],
   "source": [
    "df = pd.read_json(\"HotpotQA_UND_qa_Gemini.jsonl\", lines=True)\n",
    "df.to_csv('HotpotQA_UND_qa_Gemini.csv')\n",
    "\n",
    "df = pd.read_json(\"HotpotQA_FS_qa_Gemini.jsonl\", lines=True)\n",
    "df.to_csv('HotpotQA_FS_qa_Gemini.csv')"
   ]
  },
  {
   "cell_type": "markdown",
   "id": "b-y-zAKl_zgV",
   "metadata": {
    "id": "b-y-zAKl_zgV"
   },
   "source": [
    "# Evaluations"
   ]
  },
  {
   "cell_type": "code",
   "execution_count": 12,
   "id": "FSl7HKut_014",
   "metadata": {
    "id": "FSl7HKut_014"
   },
   "outputs": [
    {
     "data": {
      "application/vnd.jupyter.widget-view+json": {
       "model_id": "54cacd1c629c4b4ba549332da5295281",
       "version_major": 2,
       "version_minor": 0
      },
      "text/plain": [
       "Generating train split: 0 examples [00:00, ? examples/s]"
      ]
     },
     "metadata": {},
     "output_type": "display_data"
    },
    {
     "data": {
      "application/vnd.jupyter.widget-view+json": {
       "model_id": "99cf39d9c81f4bf1a92838d3f0f42e72",
       "version_major": 2,
       "version_minor": 0
      },
      "text/plain": [
       "Generating train split: 0 examples [00:00, ? examples/s]"
      ]
     },
     "metadata": {},
     "output_type": "display_data"
    }
   ],
   "source": [
    "underspecified_set_qa = load_dataset(\n",
    "    \"json\",\n",
    "    data_files=\"HotpotQA_UND_qa_Gemini.jsonl\",\n",
    "    split=\"train\"  # 必须指定 split，否则默认返回 DatasetDict\n",
    ")\n",
    "\n",
    "fully_specified_set_qa = load_dataset(\n",
    "    \"json\",\n",
    "    data_files=\"HotpotQA_FS_qa_Gemini.jsonl\",\n",
    "    split=\"train\"\n",
    ")"
   ]
  },
  {
   "cell_type": "markdown",
   "id": "t5xCXLGJ_6PP",
   "metadata": {
    "id": "t5xCXLGJ_6PP"
   },
   "source": [
    "## Squad EM + F1"
   ]
  },
  {
   "cell_type": "code",
   "execution_count": 13,
   "id": "c6Hffeen_8ec",
   "metadata": {
    "id": "c6Hffeen_8ec"
   },
   "outputs": [
    {
     "name": "stdout",
     "output_type": "stream",
     "text": [
      "Exact Match: 45.38\n",
      "F1 Score: 60.15\n"
     ]
    }
   ],
   "source": [
    "# Official squad script for avg EM and F1, not possible for t-test\n",
    "\n",
    "\n",
    "# Evaluate fully specified subset\n",
    "dataset = load_dataset(\"json\", data_files=\"HotpotQA_FS_qa_Gemini.jsonl\", split=\"train\")\n",
    "\n",
    "# 加载 HuggingFace 的 squad 评估器\n",
    "squad_metric = evaluate.load(\"squad\")\n",
    "\n",
    "# 构造 predictions 和 references（标准格式）\n",
    "predictions = [\n",
    "    {\n",
    "        \"id\": str(i),\n",
    "        \"prediction_text\": pred[0] if isinstance(pred, list) and pred else \"\"\n",
    "    }\n",
    "    for i, pred in enumerate(dataset[\"model_short_answer\"])\n",
    "]\n",
    "\n",
    "references = [\n",
    "    {\n",
    "        \"id\": str(i),\n",
    "        \"answers\": {\n",
    "            \"text\": ref if isinstance(ref, list) else [ref],\n",
    "            \"answer_start\": [0] * len(ref if isinstance(ref, list) else [ref])\n",
    "        }\n",
    "    }\n",
    "    for i, ref in enumerate(dataset[\"answer\"])\n",
    "]\n",
    "\n",
    "# 计算 SQuAD-style EM 和 F1\n",
    "results = squad_metric.compute(predictions=predictions, references=references)\n",
    "\n",
    "# 打印平均指标\n",
    "print(f\"Exact Match: {results['exact_match']:.2f}\")\n",
    "print(f\"F1 Score: {results['f1']:.2f}\")"
   ]
  },
  {
   "cell_type": "code",
   "execution_count": 14,
   "id": "XuC5wJBwBFmx",
   "metadata": {
    "id": "XuC5wJBwBFmx"
   },
   "outputs": [
    {
     "name": "stdout",
     "output_type": "stream",
     "text": [
      "Exact Match: 27.92\n",
      "F1 Score: 42.04\n"
     ]
    }
   ],
   "source": [
    "# Evaluate underspecified subset\n",
    "dataset = load_dataset(\"json\", data_files=\"HotpotQA_UND_qa_Gemini.jsonl\", split=\"train\")\n",
    "\n",
    "# 加载 HuggingFace 的 squad 评估器\n",
    "squad_metric = evaluate.load(\"squad\")\n",
    "\n",
    "# 构造 predictions 和 references（标准格式）\n",
    "predictions = [\n",
    "    {\n",
    "        \"id\": str(i),\n",
    "        \"prediction_text\": pred[0] if isinstance(pred, list) and pred else \"\"\n",
    "    }\n",
    "    for i, pred in enumerate(dataset[\"model_short_answer\"])\n",
    "]\n",
    "\n",
    "references = [\n",
    "    {\n",
    "        \"id\": str(i),\n",
    "        \"answers\": {\n",
    "            \"text\": ref if isinstance(ref, list) else [ref],\n",
    "            \"answer_start\": [0] * len(ref if isinstance(ref, list) else [ref])\n",
    "        }\n",
    "    }\n",
    "    for i, ref in enumerate(dataset[\"answer\"])\n",
    "]\n",
    "\n",
    "# 计算 SQuAD-style EM 和 F1\n",
    "results = squad_metric.compute(predictions=predictions, references=references)\n",
    "\n",
    "# 打印平均指标\n",
    "print(f\"Exact Match: {results['exact_match']:.2f}\")\n",
    "print(f\"F1 Score: {results['f1']:.2f}\")"
   ]
  },
  {
   "cell_type": "code",
   "execution_count": 16,
   "id": "tCBAvQK7DIbD",
   "metadata": {
    "id": "tCBAvQK7DIbD"
   },
   "outputs": [],
   "source": [
    "def evaluate_squad_per_sample_multi_ref_pred(dataset, pred_col=\"model_short_answer\", ref_col=\"answer\"):\n",
    "    \"\"\"\n",
    "    对每个样本逐一计算 EM 和 F1，支持多个参考答案和多个预测答案（list[str]）。\n",
    "    返回带 \"em\", \"f1\" 列的新 Dataset，以及 f1/em 列表用于统计分析。\n",
    "    Also considering multiple answers in both gold and pred and take the maximum score\n",
    "    \"\"\"\n",
    "\n",
    "    def normalize_answer(s):\n",
    "        def remove_articles(text):\n",
    "            return re.sub(r'\\b(a|an|the)\\b', ' ', text)\n",
    "        def white_space_fix(text):\n",
    "            return ' '.join(text.split())\n",
    "        def remove_punc(text):\n",
    "            return ''.join(ch for ch in text if ch not in string.punctuation)\n",
    "        def lower(text):\n",
    "            return text.lower()\n",
    "        return white_space_fix(remove_articles(remove_punc(lower(s))))\n",
    "\n",
    "    def compute_exact(a_pred, a_gold):\n",
    "    # 如果是 list，转成 set 并 normalize 每个元素\n",
    "        if isinstance(a_pred, list) and isinstance(a_gold, list):\n",
    "          pred_set = set(normalize_answer(a) for a in a_pred)\n",
    "          gold_set = set(normalize_answer(a) for a in a_gold)\n",
    "          return int(pred_set == gold_set)\n",
    "        else:\n",
    "          return int(normalize_answer(a_pred) == normalize_answer(a_gold))\n",
    "\n",
    "    def compute_f1(a_pred, a_gold):\n",
    "        pred_tokens = normalize_answer(a_pred).split()\n",
    "        gold_tokens = normalize_answer(a_gold).split()\n",
    "        common = Counter(pred_tokens) & Counter(gold_tokens)\n",
    "        num_same = sum(common.values())\n",
    "        if num_same == 0:\n",
    "            return 0.0\n",
    "        precision = num_same / len(pred_tokens)\n",
    "        recall = num_same / len(gold_tokens)\n",
    "        return 2 * precision * recall / (precision + recall)\n",
    "\n",
    "    new_data = []\n",
    "    f1_scores = []\n",
    "    em_scores = []\n",
    "\n",
    "    for item in dataset:\n",
    "        preds = item.get(pred_col, [])\n",
    "        golds = item.get(ref_col, [])\n",
    "        # 转为 list\n",
    "        if not isinstance(preds, list):\n",
    "            preds = [preds] if preds else []\n",
    "        if not isinstance(golds, list):\n",
    "            golds = [golds] if golds else []\n",
    "\n",
    "        # 多对多最大匹配\n",
    "        if not preds or not golds:\n",
    "            em = 0.0\n",
    "            f1 = 0.0\n",
    "        else:\n",
    "            em = max(compute_exact(p, g) for p in preds for g in golds)\n",
    "            f1 = max(compute_f1(p, g) for p in preds for g in golds)\n",
    "\n",
    "        new_item = deepcopy(item)\n",
    "        new_item[\"em\"] = em\n",
    "        new_item[\"f1\"] = f1\n",
    "        new_data.append(new_item)\n",
    "        em_scores.append(em)\n",
    "        f1_scores.append(f1)\n",
    "\n",
    "    return Dataset.from_list(new_data), f1_scores, em_scores"
   ]
  },
  {
   "cell_type": "code",
   "execution_count": 17,
   "id": "5oL_Tt_bDMFZ",
   "metadata": {
    "id": "5oL_Tt_bDMFZ"
   },
   "outputs": [
    {
     "data": {
      "application/vnd.jupyter.widget-view+json": {
       "model_id": "5a941e722aa7425f8da28dcdc1783208",
       "version_major": 2,
       "version_minor": 0
      },
      "text/plain": [
       "Creating json from Arrow format:   0%|          | 0/1 [00:00<?, ?ba/s]"
      ]
     },
     "metadata": {},
     "output_type": "display_data"
    },
    {
     "data": {
      "text/plain": [
       "285219"
      ]
     },
     "execution_count": 17,
     "metadata": {},
     "output_type": "execute_result"
    }
   ],
   "source": [
    "squad_scored_UND, UND_f1_list, UND_em_list = evaluate_squad_per_sample_multi_ref_pred(underspecified_set_qa)\n",
    "squad_scored_UND.to_json(\"HotpotQA_UND_qa_Gemini_with_squad_scores.jsonl\", orient=\"records\", lines=True)"
   ]
  },
  {
   "cell_type": "code",
   "execution_count": 18,
   "id": "46b7ESGGDN-B",
   "metadata": {
    "id": "46b7ESGGDN-B"
   },
   "outputs": [
    {
     "data": {
      "application/vnd.jupyter.widget-view+json": {
       "model_id": "6ed5101a0c1d461fab97ac2b4c79fb1f",
       "version_major": 2,
       "version_minor": 0
      },
      "text/plain": [
       "Creating json from Arrow format:   0%|          | 0/1 [00:00<?, ?ba/s]"
      ]
     },
     "metadata": {},
     "output_type": "display_data"
    },
    {
     "data": {
      "text/plain": [
       "412904"
      ]
     },
     "execution_count": 18,
     "metadata": {},
     "output_type": "execute_result"
    }
   ],
   "source": [
    "squad_scored_FS, FS_f1_list, FS_em_list = evaluate_squad_per_sample_multi_ref_pred(fully_specified_set_qa)\n",
    "squad_scored_FS.to_json(\"HotpotQA_FS_qa_Gemini_with_squad_scores.jsonl\", orient=\"records\", lines=True)"
   ]
  },
  {
   "cell_type": "code",
   "execution_count": 19,
   "id": "yVOus4fRDqpr",
   "metadata": {
    "id": "yVOus4fRDqpr"
   },
   "outputs": [
    {
     "name": "stdout",
     "output_type": "stream",
     "text": [
      "UND Exact Match (avg): 27.92\n",
      "UND F1 Score (avg): 42.04\n",
      "FS Exact Match (avg): 45.38\n",
      "FS F1 Score (avg): 60.15\n",
      "F1: t=6.460, p=0.0000\n",
      "EM: t=5.751, p=0.0000\n"
     ]
    }
   ],
   "source": [
    "UND_mean_em = np.mean(UND_em_list)  # em_scores: EM list per sample\n",
    "UND_mean_f1 = np.mean(UND_f1_list)  # f1_scores F1 list per sample\n",
    "print(f\"UND Exact Match (avg): {UND_mean_em * 100:.2f}\")\n",
    "print(f\"UND F1 Score (avg): {UND_mean_f1 * 100:.2f}\")\n",
    "\n",
    "FS_mean_em = np.mean(FS_em_list)  # em_scores: EM list per sample\n",
    "FS_mean_f1 = np.mean(FS_f1_list)  # f1_scores F1 list per sample\n",
    "print(f\"FS Exact Match (avg): {FS_mean_em * 100:.2f}\")\n",
    "print(f\"FS F1 Score (avg): {FS_mean_f1 * 100:.2f}\")\n",
    "\n",
    "f1_tstat, f1_pval = ttest_ind(FS_f1_list, UND_f1_list, equal_var=False)\n",
    "print(f\"F1: t={f1_tstat:.3f}, p={f1_pval:.4f}\")\n",
    "\n",
    "em_tstat, em_pval = ttest_ind(FS_em_list, UND_em_list, equal_var=False)\n",
    "print(f\"EM: t={em_tstat:.3f}, p={em_pval:.4f}\")"
   ]
  },
  {
   "cell_type": "code",
   "execution_count": 3,
   "id": "270c1bc4-8381-4b31-ba0e-c626fb8d6a5c",
   "metadata": {},
   "outputs": [
    {
     "data": {
      "application/vnd.jupyter.widget-view+json": {
       "model_id": "c773835bb15f432eb031ce641fc31048",
       "version_major": 2,
       "version_minor": 0
      },
      "text/plain": [
       "Generating train split: 0 examples [00:00, ? examples/s]"
      ]
     },
     "metadata": {},
     "output_type": "display_data"
    },
    {
     "data": {
      "application/vnd.jupyter.widget-view+json": {
       "model_id": "4b3e56c12efd49548a2339a4cbe10a00",
       "version_major": 2,
       "version_minor": 0
      },
      "text/plain": [
       "Generating train split: 0 examples [00:00, ? examples/s]"
      ]
     },
     "metadata": {},
     "output_type": "display_data"
    }
   ],
   "source": [
    "UND_full = load_dataset(\n",
    "    \"json\",\n",
    "    data_files=\"HotpotQA_UND_qa_Gemini_with_squad_scores.jsonl\",\n",
    "    split=\"train\"  # 必须指定 split，否则默认返回 DatasetDict\n",
    ")\n",
    "\n",
    "FS_full = load_dataset(\n",
    "    \"json\",\n",
    "    data_files=\"HotpotQA_FS_qa_Gemini_with_squad_scores.jsonl\",\n",
    "    split=\"train\"\n",
    ")"
   ]
  },
  {
   "cell_type": "code",
   "execution_count": 2,
   "id": "a3fe49ce-1319-4be1-a4af-577847c95291",
   "metadata": {},
   "outputs": [],
   "source": [
    "df = pd.read_json(\"HotpotQA_UND_qa_Gemini_with_squad_scores.jsonl\", lines=True)\n",
    "df.to_csv('HotpotQA_UND_qa_Gemini_with_squad_scores.csv')\n",
    "\n",
    "df = pd.read_json(\"HotpotQA_FS_qa_Gemini_with_squad_scores.jsonl\", lines=True)\n",
    "df.to_csv('HotpotQA_FS_qa_Gemini_with_squad_scores.csv')"
   ]
  },
  {
   "cell_type": "code",
   "execution_count": 4,
   "id": "45b01330-54c8-41ca-97ee-988e23feae17",
   "metadata": {},
   "outputs": [
    {
     "name": "stdout",
     "output_type": "stream",
     "text": [
      "Gemini 2.5 Flash HotpotQA NQ UND qa EM SD: 0.4486000222393035\n",
      "Gemini 2.5 Flash HotpotQA NQ FS qa EM SD: 0.4978605558265871\n",
      "Gemini 2.5 Flash HotpotQA NQ UND qa F1 SD: 0.43237539763493493\n",
      "Gemini 2.5 Flash HotpotQA NQ FS qa F1 SD: 0.4335075839594149\n"
     ]
    }
   ],
   "source": [
    "print(f'Gemini 2.5 Flash HotpotQA NQ UND qa EM SD: {np.std(UND_full[\"em\"])}')\n",
    "print(f'Gemini 2.5 Flash HotpotQA NQ FS qa EM SD: {np.std(FS_full[\"em\"])}')\n",
    "print(f'Gemini 2.5 Flash HotpotQA NQ UND qa F1 SD: {np.std(UND_full[\"f1\"])}')\n",
    "print(f'Gemini 2.5 Flash HotpotQA NQ FS qa F1 SD: {np.std(FS_full[\"f1\"])}')"
   ]
  },
  {
   "cell_type": "code",
   "execution_count": 6,
   "id": "148a2227-ce2b-4e48-886c-fb95a1fe6fd2",
   "metadata": {},
   "outputs": [],
   "source": [
    "def welch_df(n1, sd1, n2, sd2):\n",
    "    var1 = sd1**2\n",
    "    var2 = sd2**2\n",
    "    numerator = (var1/n1 + var2/n2)**2\n",
    "    denominator = ((var1/n1)**2)/(n1 - 1) + ((var2/n2)**2)/(n2 - 1)\n",
    "    return numerator / denominator"
   ]
  },
  {
   "cell_type": "code",
   "execution_count": 8,
   "id": "ffe2f523-acde-4881-8534-4000b81ac6f9",
   "metadata": {},
   "outputs": [
    {
     "data": {
      "text/plain": [
       "899.6740143938725"
      ]
     },
     "execution_count": 8,
     "metadata": {},
     "output_type": "execute_result"
    }
   ],
   "source": [
    "welch_df(394, np.std(UND_full[\"em\"]), 606, np.std(FS_full[\"em\"]))"
   ]
  },
  {
   "cell_type": "code",
   "execution_count": 7,
   "id": "a7071111-6a1a-4cb3-8c0a-3387638456f2",
   "metadata": {},
   "outputs": [
    {
     "data": {
      "text/plain": [
       "841.1760359299942"
      ]
     },
     "execution_count": 7,
     "metadata": {},
     "output_type": "execute_result"
    }
   ],
   "source": [
    "welch_df(394, np.std(UND_full[\"f1\"]), 606, np.std(FS_full[\"f1\"]))"
   ]
  },
  {
   "cell_type": "markdown",
   "id": "1byMx599DuOd",
   "metadata": {
    "id": "1byMx599DuOd"
   },
   "source": [
    "## Visualization"
   ]
  },
  {
   "cell_type": "code",
   "execution_count": 20,
   "id": "iJjiklGgDwTM",
   "metadata": {
    "id": "iJjiklGgDwTM"
   },
   "outputs": [
    {
     "name": "stderr",
     "output_type": "stream",
     "text": [
      "/scratch-local/yhuang.13034533/ipykernel_1269226/2004970743.py:7: FutureWarning: \n",
      "\n",
      "Passing `palette` without assigning `hue` is deprecated and will be removed in v0.14.0. Assign the `x` variable to `hue` and set `legend=False` for the same effect.\n",
      "\n",
      "  ax = sns.boxplot(x=\"Subset\", y=\"F1\", data=df_f1, palette=\"Set2\", showfliers=False)\n",
      "/scratch-local/yhuang.13034533/ipykernel_1269226/2004970743.py:33: FutureWarning: \n",
      "\n",
      "The `ci` parameter is deprecated. Use `errorbar=('ci', 95)` for the same effect.\n",
      "\n",
      "  sns.barplot(x=\"Subset\", y=\"EM\", data=df_em, palette=\"Set2\", ci=95)\n",
      "/scratch-local/yhuang.13034533/ipykernel_1269226/2004970743.py:33: FutureWarning: \n",
      "\n",
      "Passing `palette` without assigning `hue` is deprecated and will be removed in v0.14.0. Assign the `x` variable to `hue` and set `legend=False` for the same effect.\n",
      "\n",
      "  sns.barplot(x=\"Subset\", y=\"EM\", data=df_em, palette=\"Set2\", ci=95)\n"
     ]
    }
   ],
   "source": [
    "df_f1 = pd.DataFrame({\n",
    "    \"F1\": FS_f1_list + UND_f1_list,\n",
    "    \"Subset\": [\"Fully specified\"] * len(FS_f1_list) + [\"Underspecified\"] * len(UND_f1_list)\n",
    "})\n",
    "\n",
    "plt.figure(figsize=(6, 4))\n",
    "ax = sns.boxplot(x=\"Subset\", y=\"F1\", data=df_f1, palette=\"Set2\", showfliers=False)\n",
    "\n",
    "# 计算中位数\n",
    "medians = df_f1.groupby(\"Subset\")[\"F1\"].median()\n",
    "\n",
    "# 标注中位数数值\n",
    "for i, (subset, median_val) in enumerate(medians.items()):\n",
    "    ax.text(\n",
    "        i, median_val + 0.03, f\"{median_val:.2f}\",\n",
    "        ha='center', va='bottom', fontsize=11, weight='bold', color='black'\n",
    "    )\n",
    "\n",
    "plt.title(\"Gemini 2.5 Flash F1 Score Distribution by Subset - HotpotQA\")\n",
    "plt.ylim(-0.05, 1.05)\n",
    "plt.ylabel(\"F1 Score\")\n",
    "plt.xlabel(\"\")\n",
    "plt.tight_layout()\n",
    "plt.savefig(\"HotpotQA_f1_boxplot_Gemini.png\", dpi=300)\n",
    "plt.close()\n",
    "\n",
    "df_em = pd.DataFrame({\n",
    "    \"EM\": FS_em_list + UND_em_list,\n",
    "    \"Subset\": [\"Fully specified\"] * len(FS_em_list) + [\"Underspecified\"] * len(UND_em_list)\n",
    "})\n",
    "\n",
    "plt.figure(figsize=(6, 4))\n",
    "sns.barplot(x=\"Subset\", y=\"EM\", data=df_em, palette=\"Set2\", ci=95)\n",
    "plt.title(\"Gemini 2.5 Flash Exact Match Rate by Subset (± CI) - HotpotQA\")\n",
    "plt.tight_layout()\n",
    "plt.savefig(\"HotpotQA_em_barplot_Gemini.png\",dpi=300)\n",
    "plt.close()"
   ]
  },
  {
   "cell_type": "code",
   "execution_count": 21,
   "id": "dFPopvHE7JwA",
   "metadata": {
    "id": "dFPopvHE7JwA"
   },
   "outputs": [
    {
     "data": {
      "image/png": "[encoded data removed]",
      "text/plain": [
       "<IPython.core.display.Image object>"
      ]
     },
     "execution_count": 21,
     "metadata": {},
     "output_type": "execute_result"
    }
   ],
   "source": [
    "from IPython.display import Image\n",
    "Image(\"HotpotQA_f1_boxplot_Gemini.png\")"
   ]
  },
  {
   "cell_type": "code",
   "execution_count": 22,
   "id": "hCnh-QTH7NGH",
   "metadata": {
    "id": "hCnh-QTH7NGH"
   },
   "outputs": [
    {
     "data": {
      "image/png": "[encoded data removed]",
      "text/plain": [
       "<IPython.core.display.Image object>"
      ]
     },
     "execution_count": 22,
     "metadata": {},
     "output_type": "execute_result"
    }
   ],
   "source": [
    "Image(\"HotpotQA_em_barplot_Gemini.png\")"
   ]
  }
 ],
 "metadata": {
  "colab": {
   "provenance": []
  },
  "kernelspec": {
   "display_name": "Python (sglang-venv-2)",
   "language": "python",
   "name": "sglang-venv"
  },
  "language_info": {
   "codemirror_mode": {
    "name": "ipython",
    "version": 3
   },
   "file_extension": ".py",
   "mimetype": "text/x-python",
   "name": "python",
   "nbconvert_exporter": "python",
   "pygments_lexer": "ipython3",
   "version": "3.11.3"
  }
 },
 "nbformat": 4,
 "nbformat_minor": 5
}
