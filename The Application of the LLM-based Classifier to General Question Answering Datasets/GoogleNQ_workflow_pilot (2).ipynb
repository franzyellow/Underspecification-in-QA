{
 "cells": [
  {
   "cell_type": "code",
   "execution_count": null,
   "metadata": {
    "id": "6QW7wXE_KEzL",
    "outputId": "42c33c0b-c8c8-44bb-d9ec-e1e90f067069"
   },
   "outputs": [
    {
     "name": "stdout",
     "output_type": "stream",
     "text": [
      "Sun Jun 15 15:52:06 2025       \n",
      "+-----------------------------------------------------------------------------------------+\n",
      "| NVIDIA-SMI 565.57.01              Driver Version: 565.57.01      CUDA Version: 12.7     |\n",
      "|-----------------------------------------+------------------------+----------------------+\n",
      "| GPU  Name                 Persistence-M | Bus-Id          Disp.A | Volatile Uncorr. ECC |\n",
      "| Fan  Temp   Perf          Pwr:Usage/Cap |           Memory-Usage | GPU-Util  Compute M. |\n",
      "|                                         |                        |               MIG M. |\n",
      "|=========================================+========================+======================|\n",
      "|   0  NVIDIA A100-SXM4-40GB          On  |   00000000:CA:00.0 Off |                    0 |\n",
      "| N/A   30C    P0             49W /  400W |       1MiB /  40960MiB |      0%      Default |\n",
      "|                                         |                        |             Disabled |\n",
      "+-----------------------------------------+------------------------+----------------------+\n",
      "                                                                                         \n",
      "+-----------------------------------------------------------------------------------------+\n",
      "| Processes:                                                                              |\n",
      "|  GPU   GI   CI        PID   Type   Process name                              GPU Memory |\n",
      "|        ID   ID                                                               Usage      |\n",
      "|=========================================================================================|\n",
      "|  No running processes found                                                             |\n",
      "+-----------------------------------------------------------------------------------------+\n"
     ]
    }
   ],
   "source": [
    "!nvidia-smi\n",
    "%matplotlib inline"
   ]
  },
  {
   "cell_type": "code",
   "execution_count": null,
   "metadata": {
    "id": "biwBFU7HW4Wk"
   },
   "outputs": [],
   "source": [
    "!pip install --upgrade datasets fsspec"
   ]
  },
  {
   "cell_type": "code",
   "execution_count": null,
   "metadata": {
    "id": "nUMKlycIlsvW"
   },
   "outputs": [],
   "source": [
    "!pip install dspy"
   ]
  },
  {
   "cell_type": "code",
   "execution_count": 1,
   "metadata": {
    "id": "IVQvDLF6Kdot",
    "outputId": "2dea4a8f-0278-4482-e473-ef636f84f3a4"
   },
   "outputs": [
    {
     "name": "stderr",
     "output_type": "stream",
     "text": [
      "/home/yhuang/sglang-venv-2/lib/python3.11/site-packages/torch/cuda/__init__.py:734: UserWarning: Can't initialize NVML\n",
      "  warnings.warn(\"Can't initialize NVML\")\n"
     ]
    }
   ],
   "source": [
    "import dspy\n",
    "import pandas as pd\n",
    "from sklearn.metrics import classification_report\n",
    "import matplotlib.pyplot as plt\n",
    "from sklearn.metrics import confusion_matrix\n",
    "from sklearn.metrics import ConfusionMatrixDisplay\n",
    "from tqdm import tqdm\n",
    "from typing import List, Literal, List, Dict, Any\n",
    "from dspy.evaluate import Evaluate\n",
    "from dspy import LabeledFewShot\n",
    "from dspy.teleprompt import BootstrapFewShotWithRandomSearch\n",
    "import numpy as np\n",
    "import seaborn as sns\n",
    "\n",
    "from datasets import load_dataset\n",
    "import random\n",
    "import json\n",
    "import re\n",
    "from functools import partial\n",
    "from datasets import Dataset\n",
    "from copy import deepcopy\n",
    "import evaluate\n",
    "import nltk\n",
    "from scipy.stats import ttest_ind\n",
    "import string\n",
    "from collections import Counter"
   ]
  },
  {
   "cell_type": "code",
   "execution_count": null,
   "metadata": {
    "id": "FjVVTogDKnAu"
   },
   "outputs": [],
   "source": [
    "# For Snellius\n",
    "learning_csv = \"./data/in-context_learning_set.csv\""
   ]
  },
  {
   "cell_type": "code",
   "execution_count": null,
   "metadata": {
    "id": "eBUGMoW9KqYU"
   },
   "outputs": [],
   "source": [
    "\"\"\"\n",
    "module load CUDA/12.4.0\n",
    "source ~/sglang-venv-2/bin/activate\n",
    "huggingface-cli login\n",
    "\n",
    "\n",
    "# 创建所有必要的目录\n",
    "mkdir -p /scratch-local/yhuang/sglang_cache\n",
    "mkdir -p /scratch-local/yhuang/huggingface_cache\n",
    "mkdir -p /scratch-local/yhuang/torch_cache\n",
    "mkdir -p /scratch-local/yhuang/cuda_cache\n",
    "mkdir -p /scratch-local/yhuang/xdg_cache\n",
    "mkdir -p /scratch-local/yhuang/tmp\n",
    "mkdir -p /scratch-local/yhuang/logs\n",
    "\n",
    "# 设置所有相关环境变量\n",
    "export SGLANG_CACHE_DIR=/scratch-local/yhuang/sglang_cache\n",
    "export TRANSFORMERS_CACHE=/scratch-local/yhuang/huggingface_cache\n",
    "export HF_HOME=/scratch-local/yhuang/huggingface_cache\n",
    "export HF_DATASETS_CACHE=/scratch-local/yhuang/huggingface_cache/datasets\n",
    "export TORCH_HOME=/scratch-local/yhuang/torch_cache\n",
    "export CUDA_CACHE_PATH=/scratch-local/yhuang/cuda_cache\n",
    "export XDG_CACHE_HOME=/scratch-local/yhuang/xdg_cache\n",
    "export TMPDIR=/scratch-local/yhuang/tmp\n",
    "export TEMP=/scratch-local/yhuang/tmp\n",
    "export TMP=/scratch-local/yhuang/tmp\n",
    "export SGLANG_LOG_DIR=/scratch-local/yhuang/logs\n",
    "\n",
    "# launching\n",
    "python -m sglang.launch_server --port 7501 --model-path Qwen/Qwen3-4B --trust-remote-code\n",
    "CUDA_VISIBLE_DEVICES=0,1 python -m sglang.launch_server --port 7501 --model-path Qwen/Qwen3-32B --trust-remote-code --tp 2\n",
    "\"\"\""
   ]
  },
  {
   "cell_type": "markdown",
   "metadata": {
    "id": "xuHEtpv3o53c"
   },
   "source": [
    "## Pre-processing Google NQ data (dev set for now)"
   ]
  },
  {
   "cell_type": "code",
   "execution_count": null,
   "metadata": {
    "id": "xAbSKjCl7lIs"
   },
   "outputs": [],
   "source": [
    "import os\n",
    "\n",
    "os.environ[\"HF_DATASETS_CACHE\"] = \"/scratch-local/yhuang/huggingface_cache\"\n",
    "# 确保目录存在\n",
    "os.makedirs('/scratch-local/yhuang/huggingface_cache', exist_ok=True)"
   ]
  },
  {
   "cell_type": "code",
   "execution_count": null,
   "metadata": {
    "colab": {
     "base_uri": "https://localhost:8080/",
     "height": 447,
     "referenced_widgets": [
      "abbfff8f86704b5f97e285dd77175aca",
      "0f9001127ce0464c97cd600c4571acbe",
      "76cf27b122294d1e8c1173194cfb3a79",
      "61b3c810670c46c08161b08d30edf096",
      "679e04bb4b4e417c88a9705a85793fdd",
      "332e9a659aa34b3cb29738a84b5975ce",
      "6730499a9713411f90ed06c469a13242",
      "0184f4d8199743fe8e2bf064ef55550b",
      "4865a4c980bf4380ab5a6f6d4d82c6b8",
      "a39cd7f37afe4adfb52f48e1b6dd7669",
      "b5ac3106f1d7490788eeb0bb76d08a39",
      "4a01817c23c64340aa02fb2f515211df",
      "a6cdb9e7bf2148c6a6d290413e0cff9d",
      "9e4f96ebce4c49858d1cbdf6184ee45f",
      "2e6507e8bc454e4cbf818da8ad372278",
      "45ac30a49b5e42b0b21405e7f44a4fc7",
      "69f37265dfc242ba82d2c893793d0801",
      "0fb6e047fdc7455498d8dd1472d226b7",
      "c32bd5ac5a524b26888f984f04987c6a",
      "6c057d347bf04ebf9c46d9ccc1f3f2fb",
      "cd275c015005459f90b9c770c8de94b5",
      "b07288d33d2548f28d968030e112ae3c",
      "5daa5403c8d44ea5bfd1c0a543def40e",
      "b5927b0a68e84e9da8d662381028e2ee",
      "022258dafc5442a09e3f855a7941701d",
      "08ce7fdbd266473b8532392bd07de276",
      "740185da65e3436c9d33012344dccfa9",
      "d0575777da14494b9e31ae59777a8817",
      "86fa4b64050d49b6ba4bcd8b9b73c183",
      "51b4570f898946b08df4c06c6fc5abb9",
      "5901cc7a4baa4abf86317f8720a4144e",
      "e1d47f4120b0482c8eb079e30b64e637",
      "61e17f4cd0fb49d9bf3dfe05482c6cdb",
      "cb1b8d20ba5a4ec291b218dd683f2913",
      "73a61c945d7e482ca2087c47c893521e",
      "709689921d5a46c9a53a1e13cc210f20",
      "b9bc0b493caf493796ae263ad00e99a7",
      "04ab3daac680430594faf3597123a11c",
      "d21c5b7c8bf04bd8b908a9ab5c57aab3",
      "6ddad92fc6de46069c56483488fcb629",
      "879c6299265840a4ba920f4203335205",
      "e7d8b6e4e26645bca66f61fa3dacd86b",
      "1de00b9993074b1988c99d03f5eb0660",
      "628d69c43119427baf24760b37a19d6a",
      "d49235f9c954498884011d9e609c8566",
      "50cb221a793d4d82b1d9208ee79dba0c",
      "98c1791b67f9483c98ddc6cb41bf103c",
      "4228c3b0865c417498f35a5ffdd76ce4",
      "3e363ef5a3d140b4b801d8bde323bf7f",
      "2c24bde4f345431bb00a22df858ca2eb",
      "1f5bc7669fc64f28bbcd71ee99eb0ffe",
      "50c64c36d211484697f6779d68754101",
      "390955a40ff3466a8035ec045ba07b6e",
      "a43aa29475f749e9b6375ecb9cae0fdd",
      "d27c1a9d40c24bb5aba2ee9bcee5c94c",
      "859d7d5b859f486491c43d3db7d6e395",
      "07b80897917549e0a938a114e4f85e70",
      "1cb27e24d7754e678c6a013967a60217",
      "f5b8ad311be044eaa96bc7fa42c9220e",
      "018f231db99d4371ac836070d716cb10",
      "9a548e55f0e347748bd372150d250754",
      "97b94572c1cd4da78eecdd157059854d",
      "56633fcf42d444cd991d45ea6a918dd6",
      "169c6480e22543c998d2a7559425f3d9",
      "c6aee1d7b9454675854f88c4a505636b",
      "ec578af0f8fe4d75b36d62a69ce74bd3",
      "75bfbbbd45d340ba8c02f30b05681fb4",
      "fbfd3a198bef4b66bdd01351d2775893",
      "271df973f83d4f01b3899b604bdb0506",
      "15246198e5f24bcd9502e26f3481f26c",
      "308ba00cb7b64afab192849171cb2057",
      "37a5cb0ce3a449aca402ab53d12c1903",
      "9eacf72c600a410c80f2f403fe99db93",
      "6bc3544d28ce4a38af0d4dd898015c31",
      "59c8f12748be4e9cb442b9e20f66848d",
      "a375c1fb77004fa7bbc84183bd2d6480",
      "4ccbaebefe5548a8aa8b14f1b2db92e5",
      "fb43fea75a6a407287163d161b2bcb07",
      "de15449e80474534bc9a23b8252a4459",
      "051bbc68bfcb4ce982b953e47ebb0a81",
      "56e50478b7b445fd8ae07df557286779",
      "6be3d171de9b49ce8d253d7d6b93df4e",
      "d62dd971e9fb4de581bb622d8796b652",
      "7ac9b4466c2d45959b29b5d6dc279314",
      "6106d750d3d842ff82bf6759f5397700",
      "c7aa060f428d42289b706534d8aaa8df",
      "96f00f7b77904369b6b8ddb550e73d1f",
      "083326adb7724883897f3f967ee37173",
      "624670ca4d9e40be9a8b93f9a6e23101",
      "6d2e47c9c09346a58edbffd6a6bee0be",
      "eb4244e473a04876bae9cfa6baf63832",
      "6db2bcbba1bf487dad3c8d16cb81029d",
      "59ab078edb1e4d8985860368ef236e87",
      "bee1b255c12844e28c0c01f023b4dcb7",
      "290999defe7843ebb15bf9a842a0a8f6",
      "9f4e8b82a6df40879b77130e2c05f480",
      "27e27e57f6554e46bd90c2f24d575f08",
      "213dd7d460cf495ba331f701c5aeb9d7",
      "ccf14eb765484bddb5b7c9d36fd63a3f",
      "75a898fb1b06467393ce842b803d9b1c",
      "b0ed09005ea6476b95cb448c3f70375b",
      "d35fc406e04047cb81ea173564042e4c",
      "1f96ec44394546b58ed9cc79d4385cc1",
      "d63665109d2842458374c84a919e9ead",
      "a65a3a201f5540408d0500f3f2f6b9b7",
      "ecee85cb6f484a819590c9811f2ee77e",
      "a3a1bb788835489da49e0f010450fa92",
      "a574b24c47304d769eac45f8ccd4d91f",
      "5ba384f40b304eac9d5671547da9584d",
      "4f5b9a3843024aa78fc1b1b463f6fcf9",
      "232efcd35c5242c2971fe0499b179c39",
      "8608b9b721a94588a1fac7eafa18642b",
      "86d46d4f80ae4d848c9c9c4dc9b80f16",
      "a7c433c727fe44559acf990db782bbb9",
      "ef4e5e79991644619ae47e337fa7cbbd",
      "29cc456a4d344b8c8c5becb662e6a498",
      "9c4a78d777594111872eaa2b542976fe",
      "7d5367d3cb4e49a9ba267e467eb827e1",
      "0ff3956455704527a94fa8e312480720",
      "0c0e0a90a2ec4afd969c671a71036913",
      "d534b2780d7445aba765831ac7f36c0d"
     ]
    },
    "id": "cawwm3b_1-Bv",
    "outputId": "94cd5138-e75c-40c1-8357-951331dc8a51"
   },
   "outputs": [
    {
     "data": {
      "application/vnd.jupyter.widget-view+json": {
       "model_id": "d534b2780d7445aba765831ac7f36c0d",
       "version_major": 2,
       "version_minor": 0
      },
      "text/plain": [
       "Resolving data files:   0%|          | 0/287 [00:00<?, ?it/s]"
      ]
     },
     "metadata": {},
     "output_type": "display_data"
    }
   ],
   "source": [
    "dataset = load_dataset(\"google-research-datasets/natural_questions\", \"dev\")[\"validation\"]"
   ]
  },
  {
   "cell_type": "code",
   "execution_count": null,
   "metadata": {
    "id": "X4Ll40Fs2QcT"
   },
   "outputs": [],
   "source": [
    "def simplify_nq_example(example):\n",
    "    question = example['question']['text']\n",
    "\n",
    "    # \"Annotation\" is of dict structure, and each entry is a list\n",
    "    annotations = example['annotations']\n",
    "\n",
    "    simplified_example = {\n",
    "        'question': question,\n",
    "        'short_answers': [],\n",
    "        'long_answer': ''\n",
    "    }\n",
    "\n",
    "    # if long_answer entry exists\n",
    "    long_answer_idx = next((idx for idx, la in enumerate(annotations['long_answer']) if la['start_token'] != -1), None)\n",
    "    if long_answer_idx is not None:\n",
    "        la = annotations['long_answer'][long_answer_idx]\n",
    "        start_token, end_token = la['start_token'], la['end_token']\n",
    "        simplified_example['long_answer'] = ' '.join(\n",
    "            example['document']['tokens']['token'][start_token:end_token]\n",
    "        )\n",
    "\n",
    "        # the short answer\n",
    "        short_answer = annotations['short_answers'][long_answer_idx]\n",
    "        simplified_example['short_answers'] = short_answer['text']\n",
    "\n",
    "    return simplified_example\n",
    "\n",
    "def remove_html_tags(text):\n",
    "    clean = re.compile(r\"<.*?>\")\n",
    "    return re.sub(clean, \"\", text)\n",
    "\n",
    "def simplify_nq_example_clean(example):\n",
    "    simplified = simplify_nq_example(example)\n",
    "    simplified[\"long_answer\"] = remove_html_tags(simplified[\"long_answer\"])\n",
    "    return simplified\n",
    "\n",
    "simplified_dataset = dataset.map(simplify_nq_example_clean, remove_columns=dataset.column_names)"
   ]
  },
  {
   "cell_type": "code",
   "execution_count": null,
   "metadata": {
    "colab": {
     "base_uri": "https://localhost:8080/",
     "referenced_widgets": [
      "872903e54362429a82df4173e7bf3f84"
     ]
    },
    "id": "a0ujC2RBoZRd",
    "outputId": "000e5e87-2b1d-4a10-89c8-71b1488c9d70"
   },
   "outputs": [
    {
     "name": "stdout",
     "output_type": "stream",
     "text": [
      "7830\n",
      "3516\n"
     ]
    }
   ],
   "source": [
    "\"\"\"\n",
    "# Filtering out data points where both \"long answer\" and \"short answer\" are empty\n",
    "def has_any_answer(example):\n",
    "    long_ok = example[\"long_answer\"].strip() != \"\"\n",
    "    short_ok = len(example[\"short_answers\"]) > 0\n",
    "    return long_ok or short_ok\n",
    "\n",
    "filtered_dataset = simplified_dataset.filter(has_any_answer)\n",
    "\"\"\"\n",
    "\n",
    "# Only keeping examples with both short and long answers\n",
    "filtered_dataset = simplified_dataset.filter(\n",
    "    lambda x: x[\"long_answer\"].strip() != \"\" and len(x[\"short_answers\"]) > 0\n",
    ")\n",
    "print(len(simplified_dataset))\n",
    "print(len(filtered_dataset))\n",
    "#print(len(filtered_dataset))"
   ]
  },
  {
   "cell_type": "code",
   "execution_count": null,
   "metadata": {
    "id": "GpSwOZrxomx-"
   },
   "outputs": [],
   "source": [
    "sampled_dataset = filtered_dataset.shuffle(seed=42).select(range(1000))"
   ]
  },
  {
   "cell_type": "code",
   "execution_count": null,
   "metadata": {
    "colab": {
     "base_uri": "https://localhost:8080/",
     "height": 35
    },
    "id": "tSaGIZR7ne7G",
    "outputId": "2a633ed4-9c60-4efa-bd6a-4a80af447a7f"
   },
   "outputs": [
    {
     "data": {
      "text/plain": [
       "'when was the first book made into a movie'"
      ]
     },
     "execution_count": 10,
     "metadata": {},
     "output_type": "execute_result"
    }
   ],
   "source": [
    "sampled_dataset[1]['question']"
   ]
  },
  {
   "cell_type": "markdown",
   "metadata": {
    "id": "bl0WhadFqB4E"
   },
   "source": [
    "## Inputting questions into the DSPy Classifier"
   ]
  },
  {
   "cell_type": "markdown",
   "metadata": {
    "id": "eqnuHS6h0125"
   },
   "source": [
    "#### Loading a model"
   ]
  },
  {
   "cell_type": "code",
   "execution_count": null,
   "metadata": {
    "id": "zcrSOnuO03r2"
   },
   "outputs": [],
   "source": [
    "model = dspy.LM(\"openai/Qwen/Qwen3-4B\",\n",
    "                 api_base=\"http://localhost:7501/v1\",\n",
    "                 api_key=\"whatever\", model_type='chat', cache=False)\n",
    "\n",
    "dspy.configure(lm=model)"
   ]
  },
  {
   "cell_type": "markdown",
   "metadata": {
    "id": "9vPKoVGs0nUE"
   },
   "source": [
    "#### Helper functions"
   ]
  },
  {
   "cell_type": "code",
   "execution_count": null,
   "metadata": {
    "id": "kNa4o0uAwt4x"
   },
   "outputs": [],
   "source": [
    "def run_batch(batch, class_to_use):\n",
    "    results = []\n",
    "    for request in batch[\"question\"]:\n",
    "        try:\n",
    "            result = class_to_use(request=request)\n",
    "            results.append({\n",
    "                \"category\": result.category,\n",
    "                \"judgment\": result.judgment,\n",
    "                \"reasoning\": getattr(result, \"reasoning\", \"\")\n",
    "            })\n",
    "        except Exception as e:\n",
    "            results.append({\n",
    "                \"category\": \"error\",\n",
    "                \"judgment\": \"error\",\n",
    "                \"reasoning\": \"error\"\n",
    "            })\n",
    "    return {\n",
    "        \"category\": [r[\"category\"] for r in results],\n",
    "        \"judgment\": [r[\"judgment\"] for r in results],\n",
    "        \"reasoning\": [r[\"reasoning\"] for r in results]\n",
    "    }\n",
    "\n",
    "\n",
    "\n",
    "def collect_thinking(loaded_model):\n",
    "  history_data = loaded_model.history\n",
    "  think_list = []\n",
    "  print(f'The current length of history is {len(history_data)}.')\n",
    "\n",
    "  for record in history_data:\n",
    "      thinking = record['outputs'][0].split(\"[[ ## reasoning ## ]]\")[0]\n",
    "      think_list.append(thinking)\n",
    "\n",
    "  return think_list\n",
    "\n",
    "def collect_thinking_streaming(loaded_model, output_path):\n",
    "    history_data = loaded_model.history\n",
    "    print(f'The current length of history is {len(history_data)}.')\n",
    "\n",
    "    with open(output_path, 'w', encoding='utf-8') as f:\n",
    "        for record in history_data:\n",
    "            thinking = record['outputs'][0].split(\"[[ ## reasoning ## ]]\")[0]\n",
    "            json.dump({\"thinking\": thinking}, f)\n",
    "            f.write('\\n')\n",
    "\n",
    "\n",
    "# In-context learning data loading and preprocessing\n",
    "def load_data(csv_path):\n",
    "    \"\"\"Load CSV data and convert to DSPy examples\"\"\"\n",
    "    df = pd.read_csv(csv_path)\n",
    "\n",
    "    examples = []\n",
    "    for _, row in df.iterrows():\n",
    "        if pd.notna(row['request']) and pd.notna(row['gold_judgment']):\n",
    "            example = dspy.Example(\n",
    "                request=row['request'],\n",
    "                reasoning=row['reasoning'] if pd.notna(row['reasoning']) else '',\n",
    "                category=row['category'] if pd.notna(row['category']) else '',\n",
    "                judgment=row['gold_judgment']\n",
    "            ).with_inputs('request')  # Only request is input\n",
    "            examples.append(example)\n",
    "\n",
    "    return examples\n",
    "\n",
    "def add_columns_to_dataset(dataset, columns_dict, inplace=False):\n",
    "    \"\"\"\n",
    "    Adding multiple columns to a HuggingFace Dataset\n",
    "\n",
    "    params：\n",
    "        dataset (Dataset): The original dataset\n",
    "        columns_dict (dict): The new columns organized in a dict, keys are column names, value lists should be of the same length with Dataset\n",
    "        inplace (bool): whether to change the orignial Dataset or create a new copy\n",
    "\n",
    "    return：\n",
    "        Dataset: The new dataset with new columns added\n",
    "    \"\"\"\n",
    "    if not inplace:\n",
    "        dataset = deepcopy(dataset)\n",
    "\n",
    "    for column_name, values in columns_dict.items():\n",
    "        if len(values) != len(dataset):\n",
    "            raise ValueError(f\"长度不匹配：'{column_name}' 列长度为 {len(values)}，但数据集有 {len(dataset)} 条样本。\")\n",
    "        dataset = dataset.add_column(column_name, values)\n",
    "\n",
    "    return dataset"
   ]
  },
  {
   "cell_type": "markdown",
   "metadata": {
    "id": "2FYysff90qQv"
   },
   "source": [
    "#### The one-hop program from the last experiment"
   ]
  },
  {
   "cell_type": "code",
   "execution_count": null,
   "metadata": {
    "id": "HKwZssOT0eYi",
    "outputId": "6bc5f509-be01-4079-db63-35570fbcf5b2"
   },
   "outputs": [
    {
     "name": "stdout",
     "output_type": "stream",
     "text": [
      "Loaded 150 samples from in-context learning set\n",
      "Prediction(\n",
      "    reasoning='The request is underspecified because the term “president” can refer to multiple parallel political entities (e.g., U.S. president, French president, Chinese president), and the question lacks a necessary component to specify which country or jurisdiction is being referred to. Without this context, the referent remains ambiguous.',\n",
      "    category='Undetermined lexicons or references',\n",
      "    judgment='underspecified'\n",
      ")\n"
     ]
    }
   ],
   "source": [
    "class Classification(dspy.Signature):\n",
    "  request: str = dspy.InputField(desc=\"An input user question/request.\")\n",
    "  category: Literal['Undetermined perspective or granularity', 'Missing necessary components', 'Undetermined lexicons or references', 'Undetermined standard or preference', 'fully specified']=dspy.OutputField(desc=\"Select one or more labels (comma-separated): Undetermined perspective or granularity, Missing necessary components, Undetermined lexicons or references, Undetermined standard or preference. If fully clear, output 'fully specified'\")\n",
    "  judgment: Literal['underspecified', 'fully specified'] = dspy.OutputField(desc=\"Final judgment: 'underspecified' if any undetermined factors exist, 'fully specified' if completely clear.\")\n",
    "\n",
    "# Load your in-context learning set\n",
    "examples = load_data(learning_csv)\n",
    "print(f\"Loaded {len(examples)} samples from in-context learning set\")\n",
    "\n",
    "optimizer = dspy.LabeledFewShot(k=150)\n",
    "\n",
    "# Compiling\n",
    "program = dspy.ChainOfThought(Classification)\n",
    "compiled_program = optimizer.compile(program, trainset=examples)\n",
    "\n",
    "# One-shot Testing\n",
    "result = compiled_program(request=\"Who is the president?\")\n",
    "print(result)\n",
    "\n",
    "# Encapsule the compiled_program into the batch running function\n",
    "wrapped_batch = partial(run_batch, class_to_use=compiled_program)"
   ]
  },
  {
   "cell_type": "code",
   "execution_count": null,
   "metadata": {
    "id": "UX950ipI1orw",
    "outputId": "edeec639-b3ed-4b68-ec40-09535b98a5b5"
   },
   "outputs": [
    {
     "name": "stderr",
     "output_type": "stream",
     "text": [
      "Running DSPy classification:  97%|█████████▋| 97/100 [1:50:05<03:14, 64.77s/it]"
     ]
    }
   ],
   "source": [
    "# batch parameters\n",
    "batch_size = 10\n",
    "num_samples = len(sampled_dataset)\n",
    "batches = [sampled_dataset.select(range(i, min(i + batch_size, num_samples))) for i in range(0, num_samples, batch_size)]\n",
    "\n",
    "# Initialize a dict of outputs with empty lists using designated keys\n",
    "all_outputs = {\"category\": [], \"judgment\": [], \"reasoning\": []}\n",
    "\n",
    "# tqdm progress bar\n",
    "for batch in tqdm(batches, desc=\"Running DSPy classification\"):\n",
    "    out = wrapped_batch(batch)\n",
    "    for key in all_outputs:\n",
    "        all_outputs[key].extend(out[key])"
   ]
  },
  {
   "cell_type": "code",
   "execution_count": null,
   "metadata": {
    "colab": {
     "referenced_widgets": [
      "f0713a634a2f43818ac5113d55c4c325",
      "6faa1c3fdeb7447ab630c212b866e217",
      "6f940a259d8349baa5c3903e0344e914",
      "a8e380ff8b894855a7ac284d3058782e",
      "2f3ce2ca1d9146afb1cd01dd0a42b10a"
     ]
    },
    "id": "3mnKNa_PJmlO",
    "outputId": "8dea4e3c-229b-460e-afc3-3354866cd584"
   },
   "outputs": [
    {
     "data": {
      "application/vnd.jupyter.widget-view+json": {
       "model_id": "f0713a634a2f43818ac5113d55c4c325",
       "version_major": 2,
       "version_minor": 0
      },
      "text/plain": [
       "Filter:   0%|          | 0/100 [00:00<?, ? examples/s]"
      ]
     },
     "metadata": {},
     "output_type": "display_data"
    },
    {
     "data": {
      "application/vnd.jupyter.widget-view+json": {
       "model_id": "6faa1c3fdeb7447ab630c212b866e217",
       "version_major": 2,
       "version_minor": 0
      },
      "text/plain": [
       "Filter:   0%|          | 0/100 [00:00<?, ? examples/s]"
      ]
     },
     "metadata": {},
     "output_type": "display_data"
    },
    {
     "name": "stdout",
     "output_type": "stream",
     "text": [
      "Underspecified samples: 36\n",
      "Fully specified samples: 64\n"
     ]
    },
    {
     "data": {
      "application/vnd.jupyter.widget-view+json": {
       "model_id": "6f940a259d8349baa5c3903e0344e914",
       "version_major": 2,
       "version_minor": 0
      },
      "text/plain": [
       "Creating json from Arrow format:   0%|          | 0/1 [00:00<?, ?ba/s]"
      ]
     },
     "metadata": {},
     "output_type": "display_data"
    },
    {
     "data": {
      "application/vnd.jupyter.widget-view+json": {
       "model_id": "a8e380ff8b894855a7ac284d3058782e",
       "version_major": 2,
       "version_minor": 0
      },
      "text/plain": [
       "Creating json from Arrow format:   0%|          | 0/1 [00:00<?, ?ba/s]"
      ]
     },
     "metadata": {},
     "output_type": "display_data"
    },
    {
     "data": {
      "application/vnd.jupyter.widget-view+json": {
       "model_id": "2f3ce2ca1d9146afb1cd01dd0a42b10a",
       "version_major": 2,
       "version_minor": 0
      },
      "text/plain": [
       "Creating json from Arrow format:   0%|          | 0/1 [00:00<?, ?ba/s]"
      ]
     },
     "metadata": {},
     "output_type": "display_data"
    },
    {
     "data": {
      "text/plain": [
       "75790"
      ]
     },
     "execution_count": 25,
     "metadata": {},
     "output_type": "execute_result"
    }
   ],
   "source": [
    "# 合并回原数据集\n",
    "annotated_dataset = add_columns_to_dataset(sampled_dataset, all_outputs)\n",
    "\n",
    "# 筛选 judgment 为 \"underspecified\" 的子集（忽略大小写与前后空格）\n",
    "underspecified_set = annotated_dataset.filter(\n",
    "    lambda x: x[\"judgment\"].strip().lower() == \"underspecified\"\n",
    ")\n",
    "\n",
    "# 筛选 judgment 为 \"fully specified\" 的子集\n",
    "fully_specified_set = annotated_dataset.filter(\n",
    "    lambda x: x[\"judgment\"].strip().lower() == \"fully specified\"\n",
    ")\n",
    "\n",
    "# 可选：输出每个子集的大小\n",
    "print(f\"Underspecified samples: {len(underspecified_set)}\")\n",
    "print(f\"Fully specified samples: {len(fully_specified_set)}\")\n",
    "\n",
    "annotated_dataset.to_json(\"classified_results_all.jsonl\", orient=\"records\", lines=True)\n",
    "underspecified_set.to_json(\"classified_results_UND.jsonl\", orient=\"records\", lines=True)\n",
    "fully_specified_set.to_json(\"classified_results_FS.jsonl\", orient=\"records\", lines=True)"
   ]
  },
  {
   "cell_type": "code",
   "execution_count": null,
   "metadata": {
    "id": "ZUN6DLaNJmlN",
    "outputId": "ed91b324-ace3-4517-bfa9-d4fd24a25c76"
   },
   "outputs": [
    {
     "data": {
      "text/plain": [
       "{'question': 'where does the modern view of history originate from',\n",
       " 'short_answers': ['approximately in the early 16th century'],\n",
       " 'long_answer': \"  The early modern period began approximately in the early 16th century ; notable historical milestones included the European Renaissance , the Age of Discovery , and the Protestant Reformation .   The late modern period began approximately in the mid-18th century ; notable historical milestones included the French Revolution , the American Revolution , the Industrial Revolution and the Great Divergence . It took all of human history up to 1804 for the world 's population to reach 1 billion ; the next billion came just over a century later , in 1927 .   Contemporary history is the span of historic events from approximately 1945 that are immediately relevant to the present time .  \",\n",
       " 'category': 'Undetermined standard or preference',\n",
       " 'judgment': 'underspecified',\n",
       " 'reasoning': 'The request is underspecified because the phrase “modern view of history” is vague and can refer to multiple interpretations or schools of thought. Without specifying which particular view or perspective is meant, the question remains underspecified.'}"
      ]
     },
     "execution_count": 24,
     "metadata": {},
     "output_type": "execute_result"
    }
   ],
   "source": [
    "annotated_dataset[0]"
   ]
  },
  {
   "cell_type": "code",
   "execution_count": null,
   "metadata": {
    "id": "m_4l9NkG5fCZ",
    "outputId": "c11a95fb-0661-44a8-9355-f66b6882667f"
   },
   "outputs": [
    {
     "name": "stdout",
     "output_type": "stream",
     "text": [
      "The current length of history is 117.\n",
      "The number of thinking pieces is 117.\n",
      "The current length of history is 117.\n"
     ]
    }
   ],
   "source": [
    "# Collect thinking\n",
    "think_list = collect_thinking(model)\n",
    "print(f\"The number of thinking pieces is {len(think_list)}.\")\n",
    "think_df = pd.DataFrame(think_list)\n",
    "think_df.to_csv('think_GoogleNQ_second_test.csv')\n",
    "\n",
    "collect_thinking_streaming(model, \"think_GoogleNQ_second_test.jsonl\")"
   ]
  },
  {
   "cell_type": "code",
   "execution_count": null,
   "metadata": {
    "id": "SrGxlnLCJmlO",
    "outputId": "f141d174-63d8-4bae-a001-461b290b55fc"
   },
   "outputs": [
    {
     "data": {
      "text/html": [
       "<div>\n",
       "<style scoped>\n",
       "    .dataframe tbody tr th:only-of-type {\n",
       "        vertical-align: middle;\n",
       "    }\n",
       "\n",
       "    .dataframe tbody tr th {\n",
       "        vertical-align: top;\n",
       "    }\n",
       "\n",
       "    .dataframe thead th {\n",
       "        text-align: right;\n",
       "    }\n",
       "</style>\n",
       "<table border=\"1\" class=\"dataframe\">\n",
       "  <thead>\n",
       "    <tr style=\"text-align: right;\">\n",
       "      <th></th>\n",
       "      <th>question</th>\n",
       "      <th>short_answers</th>\n",
       "      <th>long_answer</th>\n",
       "      <th>category</th>\n",
       "      <th>judgment</th>\n",
       "      <th>reasoning</th>\n",
       "    </tr>\n",
       "  </thead>\n",
       "  <tbody>\n",
       "    <tr>\n",
       "      <th>0</th>\n",
       "      <td>where does the modern view of history originat...</td>\n",
       "      <td>[approximately in the early 16th century]</td>\n",
       "      <td>The early modern period began approximately ...</td>\n",
       "      <td>Undetermined standard or preference</td>\n",
       "      <td>underspecified</td>\n",
       "      <td>The request is underspecified because the phra...</td>\n",
       "    </tr>\n",
       "    <tr>\n",
       "      <th>1</th>\n",
       "      <td>when was the first book made into a movie</td>\n",
       "      <td>[1924]</td>\n",
       "      <td>In 1924 , Erich von Stroheim attempted a lite...</td>\n",
       "      <td>Undetermined standard or preference</td>\n",
       "      <td>underspecified</td>\n",
       "      <td>The request is underspecified because the term...</td>\n",
       "    </tr>\n",
       "    <tr>\n",
       "      <th>2</th>\n",
       "      <td>when did the study of media effects begin</td>\n",
       "      <td>[1919]</td>\n",
       "      <td>The social impact of mass communication has b...</td>\n",
       "      <td>fully specified</td>\n",
       "      <td>fully specified</td>\n",
       "      <td>This question is fully specified because it as...</td>\n",
       "    </tr>\n",
       "    <tr>\n",
       "      <th>3</th>\n",
       "      <td>where are the giant redwoods located in califo...</td>\n",
       "      <td>[Humboldt County, Del Norte County]</td>\n",
       "      <td>Redwood National and State Parks     IUCN c...</td>\n",
       "      <td>fully specified</td>\n",
       "      <td>fully specified</td>\n",
       "      <td>This question is fully specified because it cl...</td>\n",
       "    </tr>\n",
       "    <tr>\n",
       "      <th>4</th>\n",
       "      <td>when did the first wireless beats come out</td>\n",
       "      <td>[October 2012]</td>\n",
       "      <td>In October 2012 , Beats unveiled its first tw...</td>\n",
       "      <td>Undetermined lexicons or references</td>\n",
       "      <td>underspecified</td>\n",
       "      <td>The request is underspecified because the term...</td>\n",
       "    </tr>\n",
       "    <tr>\n",
       "      <th>...</th>\n",
       "      <td>...</td>\n",
       "      <td>...</td>\n",
       "      <td>...</td>\n",
       "      <td>...</td>\n",
       "      <td>...</td>\n",
       "      <td>...</td>\n",
       "    </tr>\n",
       "    <tr>\n",
       "      <th>995</th>\n",
       "      <td>who is the drummer for guns and roses</td>\n",
       "      <td>[Frank Ferrer]</td>\n",
       "      <td>Image   Name   Years active   Instruments  ...</td>\n",
       "      <td>fully specified</td>\n",
       "      <td>fully specified</td>\n",
       "      <td>This question is fully specified because it re...</td>\n",
       "    </tr>\n",
       "    <tr>\n",
       "      <th>996</th>\n",
       "      <td>where was the movie 500 days of summer filmed</td>\n",
       "      <td>[Los Angeles]</td>\n",
       "      <td>David Ng of the Los Angeles Times describes a...</td>\n",
       "      <td>fully specified</td>\n",
       "      <td>fully specified</td>\n",
       "      <td>This question is fully specified because it cl...</td>\n",
       "    </tr>\n",
       "    <tr>\n",
       "      <th>997</th>\n",
       "      <td>what was the lowest barometric pressure for hu...</td>\n",
       "      <td>[914 mbar (hPa; 27.0 inHg)]</td>\n",
       "      <td>In between Rita and Katrina is Hurricane Alle...</td>\n",
       "      <td>fully specified</td>\n",
       "      <td>fully specified</td>\n",
       "      <td>This question is fully specified because it re...</td>\n",
       "    </tr>\n",
       "    <tr>\n",
       "      <th>998</th>\n",
       "      <td>what is the meaning of auv in cars</td>\n",
       "      <td>[action utility vehicles]</td>\n",
       "      <td>In Australia and New Zealand , the term SUV i...</td>\n",
       "      <td>Undetermined lexicons or references</td>\n",
       "      <td>underspecified</td>\n",
       "      <td>The request is underspecified because the term...</td>\n",
       "    </tr>\n",
       "    <tr>\n",
       "      <th>999</th>\n",
       "      <td>in which country bikram sambhat the official c...</td>\n",
       "      <td>[Nepal]</td>\n",
       "      <td>The Rana rulers of Nepal made Vikram Samvat t...</td>\n",
       "      <td>fully specified</td>\n",
       "      <td>fully specified</td>\n",
       "      <td>This question is fully specified because it re...</td>\n",
       "    </tr>\n",
       "  </tbody>\n",
       "</table>\n",
       "<p>1000 rows × 6 columns</p>\n",
       "</div>"
      ],
      "text/plain": [
       "                                              question  \\\n",
       "0    where does the modern view of history originat...   \n",
       "1            when was the first book made into a movie   \n",
       "2            when did the study of media effects begin   \n",
       "3    where are the giant redwoods located in califo...   \n",
       "4           when did the first wireless beats come out   \n",
       "..                                                 ...   \n",
       "995              who is the drummer for guns and roses   \n",
       "996      where was the movie 500 days of summer filmed   \n",
       "997  what was the lowest barometric pressure for hu...   \n",
       "998                 what is the meaning of auv in cars   \n",
       "999  in which country bikram sambhat the official c...   \n",
       "\n",
       "                                 short_answers  \\\n",
       "0    [approximately in the early 16th century]   \n",
       "1                                       [1924]   \n",
       "2                                       [1919]   \n",
       "3          [Humboldt County, Del Norte County]   \n",
       "4                               [October 2012]   \n",
       "..                                         ...   \n",
       "995                             [Frank Ferrer]   \n",
       "996                              [Los Angeles]   \n",
       "997                [914 mbar (hPa; 27.0 inHg)]   \n",
       "998                  [action utility vehicles]   \n",
       "999                                    [Nepal]   \n",
       "\n",
       "                                           long_answer  \\\n",
       "0      The early modern period began approximately ...   \n",
       "1     In 1924 , Erich von Stroheim attempted a lite...   \n",
       "2     The social impact of mass communication has b...   \n",
       "3       Redwood National and State Parks     IUCN c...   \n",
       "4     In October 2012 , Beats unveiled its first tw...   \n",
       "..                                                 ...   \n",
       "995     Image   Name   Years active   Instruments  ...   \n",
       "996   David Ng of the Los Angeles Times describes a...   \n",
       "997   In between Rita and Katrina is Hurricane Alle...   \n",
       "998   In Australia and New Zealand , the term SUV i...   \n",
       "999   The Rana rulers of Nepal made Vikram Samvat t...   \n",
       "\n",
       "                                category         judgment  \\\n",
       "0    Undetermined standard or preference   underspecified   \n",
       "1    Undetermined standard or preference   underspecified   \n",
       "2                        fully specified  fully specified   \n",
       "3                        fully specified  fully specified   \n",
       "4    Undetermined lexicons or references   underspecified   \n",
       "..                                   ...              ...   \n",
       "995                      fully specified  fully specified   \n",
       "996                      fully specified  fully specified   \n",
       "997                      fully specified  fully specified   \n",
       "998  Undetermined lexicons or references   underspecified   \n",
       "999                      fully specified  fully specified   \n",
       "\n",
       "                                             reasoning  \n",
       "0    The request is underspecified because the phra...  \n",
       "1    The request is underspecified because the term...  \n",
       "2    This question is fully specified because it as...  \n",
       "3    This question is fully specified because it cl...  \n",
       "4    The request is underspecified because the term...  \n",
       "..                                                 ...  \n",
       "995  This question is fully specified because it re...  \n",
       "996  This question is fully specified because it cl...  \n",
       "997  This question is fully specified because it re...  \n",
       "998  The request is underspecified because the term...  \n",
       "999  This question is fully specified because it re...  \n",
       "\n",
       "[1000 rows x 6 columns]"
      ]
     },
     "execution_count": 2,
     "metadata": {},
     "output_type": "execute_result"
    }
   ],
   "source": [
    "df = pd.read_json(\"classified_results_all.jsonl\", lines=True)\n",
    "df.to_csv('Google_NQ_second_test.csv')\n",
    "df"
   ]
  },
  {
   "cell_type": "markdown",
   "metadata": {
    "id": "a-6zrH63JmlO"
   },
   "source": [
    "## QA implementations"
   ]
  },
  {
   "cell_type": "markdown",
   "metadata": {
    "id": "VvhqJq3bzWIq"
   },
   "source": [
    "#### Loading back the classified subsets"
   ]
  },
  {
   "cell_type": "code",
   "execution_count": null,
   "metadata": {
    "colab": {
     "referenced_widgets": [
      "686952f93390478aa9b328511ba17343",
      "12d7eadc28174fbaa717f08db2220977",
      "4eb8c3a221ce4d4a849993ba7a8a72c1",
      "324c7a295f264873943a603078e676c1"
     ]
    },
    "id": "IAXih37nzc3U",
    "outputId": "b5b8e914-e853-4fe2-a608-40c93a3e5ae7"
   },
   "outputs": [
    {
     "data": {
      "application/vnd.jupyter.widget-view+json": {
       "model_id": "4eb8c3a221ce4d4a849993ba7a8a72c1",
       "version_major": 2,
       "version_minor": 0
      },
      "text/plain": [
       "Generating train split: 0 examples [00:00, ? examples/s]"
      ]
     },
     "metadata": {},
     "output_type": "display_data"
    },
    {
     "data": {
      "application/vnd.jupyter.widget-view+json": {
       "model_id": "324c7a295f264873943a603078e676c1",
       "version_major": 2,
       "version_minor": 0
      },
      "text/plain": [
       "Generating train split: 0 examples [00:00, ? examples/s]"
      ]
     },
     "metadata": {},
     "output_type": "display_data"
    }
   ],
   "source": [
    "underspecified_set = load_dataset(\n",
    "    \"json\",\n",
    "    data_files=\"classified_results_UND.jsonl\",\n",
    "    split=\"train\"  # 必须指定 split，否则默认返回 DatasetDict\n",
    ")\n",
    "\n",
    "fully_specified_set = load_dataset(\n",
    "    \"json\",\n",
    "    data_files=\"classified_results_FS.jsonl\",\n",
    "    split=\"train\"\n",
    ")"
   ]
  },
  {
   "cell_type": "markdown",
   "metadata": {
    "id": "nzBRCK33mZV6"
   },
   "source": [
    "#### Loading an LLM for short and long QA programs"
   ]
  },
  {
   "cell_type": "code",
   "execution_count": null,
   "metadata": {
    "id": "RnQLhCRFlogi"
   },
   "outputs": [],
   "source": [
    "lm = dspy.LM('openai/gpt-4o-2024-11-20', api_key='')\n",
    "dspy.configure(lm=lm)"
   ]
  },
  {
   "cell_type": "code",
   "execution_count": null,
   "metadata": {
    "id": "5Bpkcesgq5RD"
   },
   "outputs": [],
   "source": [
    "class ShortListQASignature(dspy.Signature):\n",
    "    \"\"\"Answer the question with concise responses. Return answers as a list of strings. If there's only one answer, return a single-item list. Each answer should be brief and direct.\"\"\"\n",
    "\n",
    "    question: str = dspy.InputField(desc=\"The question to be answered\")\n",
    "    answer: List[str] = dspy.OutputField(desc=\"List of concise answers, even if only one answer exists\")\n",
    "\n",
    "class FlexibleQASignature(dspy.Signature):\n",
    "    \"\"\"Answer the question thoroughly and helpfully. Provide context, explanations, and relevant details from Wikipedia that would help the user understand the topic better.\"\"\"\n",
    "\n",
    "    question: str = dspy.InputField(desc=\"The question to be answered\")\n",
    "    answer: str =  dspy.OutputField(desc=\"A comprehensive answer with explanations and context\")"
   ]
  },
  {
   "cell_type": "code",
   "execution_count": null,
   "metadata": {
    "colab": {
     "base_uri": "https://localhost:8080/"
    },
    "id": "x9qZiH_ArJi3",
    "outputId": "d96d9de1-4a2a-493b-80e5-da7bb583285b"
   },
   "outputs": [
    {
     "data": {
      "text/plain": [
       "'\\nresult1 = short_qa(question=\"What are the primary colors?\")\\nresult2 = long_qa(question=\"What are the primary colors?\")\\nprint(result1.answer)\\nprint(result2.answer)\\n\\n\\nresult3 = short_qa(question=\"What is the capital of France?\")\\nresult4 = long_qa(question=\"What is the capital of France?\")\\nprint(result3.answer)\\nprint(result4.answer)\\n'"
      ]
     },
     "execution_count": 6,
     "metadata": {},
     "output_type": "execute_result"
    }
   ],
   "source": [
    "short_qa = dspy.ChainOfThought(ShortListQASignature)\n",
    "long_qa = dspy.ChainOfThought(FlexibleQASignature)\n",
    "\n",
    "\"\"\"\n",
    "result1 = short_qa(question=\"What are the primary colors?\")\n",
    "result2 = long_qa(question=\"What are the primary colors?\")\n",
    "print(result1.answer)\n",
    "print(result2.answer)\n",
    "\n",
    "\n",
    "result3 = short_qa(question=\"What is the capital of France?\")\n",
    "result4 = long_qa(question=\"What is the capital of France?\")\n",
    "print(result3.answer)\n",
    "print(result4.answer)\n",
    "\"\"\""
   ]
  },
  {
   "cell_type": "markdown",
   "metadata": {
    "id": "YyrxAOr3yzZL"
   },
   "source": [
    "### Helper functions to run QA in batches"
   ]
  },
  {
   "cell_type": "code",
   "execution_count": null,
   "metadata": {
    "id": "Du5Y1JWvt0dm"
   },
   "outputs": [],
   "source": [
    "def run_batch_shortQA(batch, class_to_use):\n",
    "    short_answers = []\n",
    "    for q in batch[\"question\"]:\n",
    "        try:\n",
    "            result = class_to_use(question=q)\n",
    "            short_answers.append(result.answer)  # expect List[str]\n",
    "        except Exception as e:\n",
    "            print(f\"Error: {e}\")\n",
    "            short_answers.append([\"error\"])\n",
    "    return {\"model_short_answer\": short_answers}\n",
    "\n",
    "def run_batch_longQA(batch, class_to_use):\n",
    "    long_answers = []\n",
    "    for q in batch[\"question\"]:\n",
    "        try:\n",
    "            result = class_to_use(question=q)\n",
    "            long_answers.append(result.answer)  # expect str\n",
    "        except Exception as e:\n",
    "            print(f\"Error: {e}\")\n",
    "            long_answers.append(\"error\")\n",
    "    return {\"model_long_answer\": long_answers}\n",
    "\n",
    "def batch_QA_with_progress(\n",
    "    dataset,\n",
    "    batch_fn,\n",
    "    output_key: str,\n",
    "    batch_size: int = 10,\n",
    "    fill_value = \"error\"  # 可设为 \"\", [], None 视字段结构而定\n",
    "):\n",
    "    \"\"\"\n",
    "    批量运行 QA 推理函数，支持 tqdm 进度条和自动字段对齐。\n",
    "\n",
    "    参数：\n",
    "        dataset     : HuggingFace Dataset 对象\n",
    "        batch_fn    : 函数，接受一个 batch（Dataset），返回 {output_key: [...]} 格式\n",
    "        output_key  : 字符串，结果输出的列名\n",
    "        batch_size  : 每个 batch 的样本数（默认 8）\n",
    "        fill_value  : 若 batch_fn 返回空，则使用的默认填充值\n",
    "\n",
    "    返回：\n",
    "        dict[str, list]，可以用于 add_column()\n",
    "    \"\"\"\n",
    "    all_outputs = []\n",
    "\n",
    "    for i in tqdm(range(0, len(dataset), batch_size), desc=f\"Running {output_key}\"):\n",
    "        batch = dataset.select(range(i, min(i + batch_size, len(dataset))))\n",
    "        try:\n",
    "            output = batch_fn(batch)\n",
    "            if output_key not in output:\n",
    "                raise ValueError(f\"Output key '{output_key}' not found in batch_fn result.\")\n",
    "            all_outputs.extend(output[output_key])\n",
    "        except Exception as e:\n",
    "            print(f\"Batch error at index {i}: {e}\")\n",
    "            all_outputs.extend([fill_value] * len(batch))\n",
    "\n",
    "    # 最终长度对不上，也填补\n",
    "    if len(all_outputs) != len(dataset):\n",
    "        print(f\"[Warning] Length mismatch: expected {len(dataset)}, got {len(all_outputs)}. Auto-padding.\")\n",
    "        all_outputs.extend([fill_value] * (len(dataset) - len(all_outputs)))\n",
    "\n",
    "    return {output_key: all_outputs}"
   ]
  },
  {
   "cell_type": "markdown",
   "metadata": {
    "id": "csr5TJOiz0-X"
   },
   "source": [
    "#### Implementation"
   ]
  },
  {
   "cell_type": "code",
   "execution_count": null,
   "metadata": {
    "id": "u3zLhf-5z0ms",
    "outputId": "ae4d5b2b-752c-4b6e-c914-52b7444f8bf3"
   },
   "outputs": [
    {
     "name": "stderr",
     "output_type": "stream",
     "text": [
      "Running model_short_answer: 100%|██████████| 31/31 [05:33<00:00, 10.75s/it]\n"
     ]
    }
   ],
   "source": [
    "short_results_UND = batch_QA_with_progress(\n",
    "    underspecified_set,\n",
    "    batch_fn=partial(run_batch_shortQA, class_to_use=short_qa),\n",
    "    output_key=\"model_short_answer\",\n",
    "    fill_value=[\"error\"]\n",
    ")"
   ]
  },
  {
   "cell_type": "code",
   "execution_count": null,
   "metadata": {
    "id": "XZGvI1NX00Fv",
    "outputId": "af5da18d-6a3b-4938-e0ea-4f742de36ed0"
   },
   "outputs": [
    {
     "name": "stderr",
     "output_type": "stream",
     "text": [
      "Running model_long_answer: 100%|██████████| 31/31 [15:18<00:00, 29.62s/it]\n"
     ]
    }
   ],
   "source": [
    "long_results_UND = batch_QA_with_progress(\n",
    "    underspecified_set,\n",
    "    batch_fn=partial(run_batch_longQA, class_to_use=long_qa),\n",
    "    output_key=\"model_long_answer\",\n",
    "    fill_value=\"error\"\n",
    ")"
   ]
  },
  {
   "cell_type": "code",
   "execution_count": null,
   "metadata": {
    "id": "3atnLakp06xP",
    "outputId": "d48afe65-c726-4f9e-9da7-239bd3e7fc9f"
   },
   "outputs": [
    {
     "name": "stderr",
     "output_type": "stream",
     "text": [
      "Running model_short_answer: 100%|██████████| 70/70 [12:03<00:00, 10.34s/it]\n"
     ]
    }
   ],
   "source": [
    "# batch QA for FS\n",
    "short_results_FS = batch_QA_with_progress(\n",
    "    fully_specified_set,\n",
    "    batch_fn=partial(run_batch_shortQA, class_to_use=short_qa),\n",
    "    output_key=\"model_short_answer\",\n",
    "    fill_value=[\"error\"]\n",
    ")"
   ]
  },
  {
   "cell_type": "code",
   "execution_count": null,
   "metadata": {
    "id": "2lh94i-H1CsV",
    "outputId": "1a247226-672f-4b11-e3a3-a2c42b11c641"
   },
   "outputs": [
    {
     "name": "stderr",
     "output_type": "stream",
     "text": [
      "Running model_long_answer: 100%|██████████| 70/70 [32:39<00:00, 27.99s/it]\n"
     ]
    }
   ],
   "source": [
    "long_results_FS = batch_QA_with_progress(\n",
    "    fully_specified_set,\n",
    "    batch_fn=partial(run_batch_longQA, class_to_use=long_qa),\n",
    "    output_key=\"model_long_answer\",\n",
    "    fill_value=\"error\"\n",
    ")"
   ]
  },
  {
   "cell_type": "code",
   "execution_count": null,
   "metadata": {
    "colab": {
     "referenced_widgets": [
      "88340a40c38647a891da8ec9b7d44938",
      "a0c33a07d074466087c4d6db184e3b39"
     ]
    },
    "id": "Zhoe4xi00RrK",
    "outputId": "9816ff0e-fd44-46d9-b271-f84370a54aef"
   },
   "outputs": [
    {
     "data": {
      "application/vnd.jupyter.widget-view+json": {
       "model_id": "a0c33a07d074466087c4d6db184e3b39",
       "version_major": 2,
       "version_minor": 0
      },
      "text/plain": [
       "Creating json from Arrow format:   0%|          | 0/1 [00:00<?, ?ba/s]"
      ]
     },
     "metadata": {},
     "output_type": "display_data"
    },
    {
     "data": {
      "text/plain": [
       "1066537"
      ]
     },
     "execution_count": 12,
     "metadata": {},
     "output_type": "execute_result"
    }
   ],
   "source": [
    "qa_underspecified = deepcopy(underspecified_set)\n",
    "\n",
    "for key in short_results_UND:\n",
    "    qa_underspecified = qa_underspecified.add_column(key, short_results_UND[key])\n",
    "for key in long_results_UND:\n",
    "    qa_underspecified = qa_underspecified.add_column(key, long_results_UND[key])\n",
    "\n",
    "qa_underspecified.to_json(\"classified_results_UND_qa.jsonl\", orient=\"records\", lines=True)"
   ]
  },
  {
   "cell_type": "code",
   "execution_count": null,
   "metadata": {
    "colab": {
     "referenced_widgets": [
      "d4d27211749c4e2faf0ed780cda5fb2f",
      "8313802cdac340689ab64607fa694740"
     ]
    },
    "id": "T8Qikwx61Wn1",
    "outputId": "3bb40102-8ca2-42c2-abc6-1ffb7f4b4353"
   },
   "outputs": [
    {
     "data": {
      "application/vnd.jupyter.widget-view+json": {
       "model_id": "8313802cdac340689ab64607fa694740",
       "version_major": 2,
       "version_minor": 0
      },
      "text/plain": [
       "Creating json from Arrow format:   0%|          | 0/1 [00:00<?, ?ba/s]"
      ]
     },
     "metadata": {},
     "output_type": "display_data"
    },
    {
     "data": {
      "text/plain": [
       "2019237"
      ]
     },
     "execution_count": 13,
     "metadata": {},
     "output_type": "execute_result"
    }
   ],
   "source": [
    "qa_fully_specified = deepcopy(fully_specified_set)\n",
    "\n",
    "for key in short_results_FS:\n",
    "    qa_fully_specified = qa_fully_specified.add_column(key, short_results_FS[key])\n",
    "for key in long_results_FS:\n",
    "    qa_fully_specified = qa_fully_specified.add_column(key, long_results_FS[key])\n",
    "\n",
    "qa_fully_specified.to_json(\"classified_results_FS_qa.jsonl\", orient=\"records\", lines=True)"
   ]
  },
  {
   "cell_type": "code",
   "execution_count": null,
   "metadata": {
    "id": "k2-j7RlpDEit"
   },
   "outputs": [],
   "source": [
    "df = pd.read_json(\"classified_results_UND_qa.jsonl\", lines=True)\n",
    "df.to_csv('Google_NQ_UND_QA_second_test.csv')\n",
    "\n",
    "df = pd.read_json(\"classified_results_FS_qa.jsonl\", lines=True)\n",
    "df.to_csv('Google_NQ_FS_QA_second_test.csv')"
   ]
  },
  {
   "cell_type": "markdown",
   "metadata": {
    "id": "a5EFArDhSoGT"
   },
   "source": [
    "## Evaluations"
   ]
  },
  {
   "cell_type": "code",
   "execution_count": null,
   "metadata": {
    "colab": {
     "referenced_widgets": [
      "c4114faec31845e486fe03898a6be814",
      "8c2de8a78e184c96b3803c3ad926678a"
     ]
    },
    "id": "KmK78p1AfR_2",
    "outputId": "ef3786fe-dd72-4664-918d-c36fcf4a69ce"
   },
   "outputs": [
    {
     "data": {
      "application/vnd.jupyter.widget-view+json": {
       "model_id": "c4114faec31845e486fe03898a6be814",
       "version_major": 2,
       "version_minor": 0
      },
      "text/plain": [
       "Generating train split: 0 examples [00:00, ? examples/s]"
      ]
     },
     "metadata": {},
     "output_type": "display_data"
    },
    {
     "data": {
      "application/vnd.jupyter.widget-view+json": {
       "model_id": "8c2de8a78e184c96b3803c3ad926678a",
       "version_major": 2,
       "version_minor": 0
      },
      "text/plain": [
       "Generating train split: 0 examples [00:00, ? examples/s]"
      ]
     },
     "metadata": {},
     "output_type": "display_data"
    }
   ],
   "source": [
    "underspecified_set_qa = load_dataset(\n",
    "    \"json\",\n",
    "    data_files=\"classified_results_UND_qa.jsonl\",\n",
    "    split=\"train\"  # 必须指定 split，否则默认返回 DatasetDict\n",
    ")\n",
    "\n",
    "fully_specified_set_qa = load_dataset(\n",
    "    \"json\",\n",
    "    data_files=\"classified_results_FS_qa.jsonl\",\n",
    "    split=\"train\"\n",
    ")"
   ]
  },
  {
   "cell_type": "markdown",
   "metadata": {
    "id": "bc27ySYjSrBV"
   },
   "source": [
    "#### Squad EM + F1"
   ]
  },
  {
   "cell_type": "code",
   "execution_count": null,
   "metadata": {
    "id": "bbJYCbhr5giT",
    "outputId": "673ba7bb-40f8-4b9b-b7d5-358653e459d6"
   },
   "outputs": [
    {
     "name": "stdout",
     "output_type": "stream",
     "text": [
      "Exact Match: 36.12\n",
      "F1 Score: 52.76\n"
     ]
    }
   ],
   "source": [
    "# Official squad script for avg EM and F1, not possible for t-test\n",
    "\n",
    "\n",
    "# Evaluate fully specified subset\n",
    "dataset = load_dataset(\"json\", data_files=\"classified_results_FS_qa.jsonl\", split=\"train\")\n",
    "\n",
    "# 加载 HuggingFace 的 squad 评估器\n",
    "squad_metric = evaluate.load(\"squad\")\n",
    "\n",
    "# 构造 predictions 和 references（标准格式）\n",
    "predictions = [\n",
    "    {\n",
    "        \"id\": str(i),\n",
    "        \"prediction_text\": pred[0] if isinstance(pred, list) and pred else \"\"\n",
    "    }\n",
    "    for i, pred in enumerate(dataset[\"model_short_answer\"])\n",
    "]\n",
    "\n",
    "references = [\n",
    "    {\n",
    "        \"id\": str(i),\n",
    "        \"answers\": {\n",
    "            \"text\": ref if isinstance(ref, list) else [ref],\n",
    "            \"answer_start\": [0] * len(ref if isinstance(ref, list) else [ref])\n",
    "        }\n",
    "    }\n",
    "    for i, ref in enumerate(dataset[\"short_answers\"])\n",
    "]\n",
    "\n",
    "# 计算 SQuAD-style EM 和 F1\n",
    "results = squad_metric.compute(predictions=predictions, references=references)\n",
    "\n",
    "# 打印平均指标\n",
    "print(f\"Exact Match: {results['exact_match']:.2f}\")\n",
    "print(f\"F1 Score: {results['f1']:.2f}\")"
   ]
  },
  {
   "cell_type": "code",
   "execution_count": null,
   "metadata": {
    "id": "zO7Av3fF5giU",
    "outputId": "842a75aa-3b44-411c-9b2f-2f5a621ced2a"
   },
   "outputs": [
    {
     "name": "stdout",
     "output_type": "stream",
     "text": [
      "Exact Match: 23.93\n",
      "F1 Score: 36.29\n"
     ]
    }
   ],
   "source": [
    "# Evaluate underspecified subset\n",
    "dataset = load_dataset(\"json\", data_files=\"classified_results_UND_qa.jsonl\", split=\"train\")\n",
    "\n",
    "# 加载 HuggingFace 的 squad 评估器\n",
    "squad_metric = evaluate.load(\"squad\")\n",
    "\n",
    "# 构造 predictions 和 references（标准格式）\n",
    "predictions = [\n",
    "    {\n",
    "        \"id\": str(i),\n",
    "        \"prediction_text\": pred[0] if isinstance(pred, list) and pred else \"\"\n",
    "    }\n",
    "    for i, pred in enumerate(dataset[\"model_short_answer\"])\n",
    "]\n",
    "\n",
    "references = [\n",
    "    {\n",
    "        \"id\": str(i),\n",
    "        \"answers\": {\n",
    "            \"text\": ref if isinstance(ref, list) else [ref],\n",
    "            \"answer_start\": [0] * len(ref if isinstance(ref, list) else [ref])\n",
    "        }\n",
    "    }\n",
    "    for i, ref in enumerate(dataset[\"short_answers\"])\n",
    "]\n",
    "\n",
    "# 计算 SQuAD-style EM 和 F1\n",
    "results = squad_metric.compute(predictions=predictions, references=references)\n",
    "\n",
    "# 打印平均指标\n",
    "print(f\"Exact Match: {results['exact_match']:.2f}\")\n",
    "print(f\"F1 Score: {results['f1']:.2f}\")"
   ]
  },
  {
   "cell_type": "code",
   "execution_count": null,
   "metadata": {
    "id": "_Y6Iu8K8SqjU"
   },
   "outputs": [],
   "source": [
    "def evaluate_squad_per_sample_multi_ref_pred(dataset, pred_col=\"model_short_answer\", ref_col=\"short_answers\"):\n",
    "    \"\"\"\n",
    "    对每个样本逐一计算 EM 和 F1，支持多个参考答案和多个预测答案（list[str]）。\n",
    "    返回带 \"em\", \"f1\" 列的新 Dataset，以及 f1/em 列表用于统计分析。\n",
    "    Also considering multiple answers in both gold and pred and take the maximum score\n",
    "    \"\"\"\n",
    "\n",
    "    def normalize_answer(s):\n",
    "        def remove_articles(text):\n",
    "            return re.sub(r'\\b(a|an|the)\\b', ' ', text)\n",
    "        def white_space_fix(text):\n",
    "            return ' '.join(text.split())\n",
    "        def remove_punc(text):\n",
    "            return ''.join(ch for ch in text if ch not in string.punctuation)\n",
    "        def lower(text):\n",
    "            return text.lower()\n",
    "        return white_space_fix(remove_articles(remove_punc(lower(s))))\n",
    "\n",
    "    def compute_exact(a_pred, a_gold):\n",
    "    # 如果是 list，转成 set 并 normalize 每个元素\n",
    "        if isinstance(a_pred, list) and isinstance(a_gold, list):\n",
    "          pred_set = set(normalize_answer(a) for a in a_pred)\n",
    "          gold_set = set(normalize_answer(a) for a in a_gold)\n",
    "          return int(pred_set == gold_set)\n",
    "        else:\n",
    "          return int(normalize_answer(a_pred) == normalize_answer(a_gold))\n",
    "\n",
    "    def compute_f1(a_pred, a_gold):\n",
    "        pred_tokens = normalize_answer(a_pred).split()\n",
    "        gold_tokens = normalize_answer(a_gold).split()\n",
    "        common = Counter(pred_tokens) & Counter(gold_tokens)\n",
    "        num_same = sum(common.values())\n",
    "        if num_same == 0:\n",
    "            return 0.0\n",
    "        precision = num_same / len(pred_tokens)\n",
    "        recall = num_same / len(gold_tokens)\n",
    "        return 2 * precision * recall / (precision + recall)\n",
    "\n",
    "    new_data = []\n",
    "    f1_scores = []\n",
    "    em_scores = []\n",
    "\n",
    "    for item in dataset:\n",
    "        preds = item.get(pred_col, [])\n",
    "        golds = item.get(ref_col, [])\n",
    "        # 转为 list\n",
    "        if not isinstance(preds, list):\n",
    "            preds = [preds] if preds else []\n",
    "        if not isinstance(golds, list):\n",
    "            golds = [golds] if golds else []\n",
    "\n",
    "        # 多对多最大匹配\n",
    "        if not preds or not golds:\n",
    "            em = 0.0\n",
    "            f1 = 0.0\n",
    "        else:\n",
    "            em = max(compute_exact(p, g) for p in preds for g in golds)\n",
    "            f1 = max(compute_f1(p, g) for p in preds for g in golds)\n",
    "\n",
    "        new_item = deepcopy(item)\n",
    "        new_item[\"em\"] = em\n",
    "        new_item[\"f1\"] = f1\n",
    "        new_data.append(new_item)\n",
    "        em_scores.append(em)\n",
    "        f1_scores.append(f1)\n",
    "\n",
    "    return Dataset.from_list(new_data), f1_scores, em_scores"
   ]
  },
  {
   "cell_type": "code",
   "execution_count": null,
   "metadata": {
    "colab": {
     "referenced_widgets": [
      "b7f987d4f60b4c9ab08ae2a987673407"
     ]
    },
    "id": "zWq8WMyugKBu",
    "outputId": "9605de49-d262-4b5f-bee6-c80798f0d354"
   },
   "outputs": [
    {
     "data": {
      "application/vnd.jupyter.widget-view+json": {
       "model_id": "b7f987d4f60b4c9ab08ae2a987673407",
       "version_major": 2,
       "version_minor": 0
      },
      "text/plain": [
       "Creating json from Arrow format:   0%|          | 0/1 [00:00<?, ?ba/s]"
      ]
     },
     "metadata": {},
     "output_type": "display_data"
    },
    {
     "data": {
      "text/plain": [
       "1072562"
      ]
     },
     "execution_count": 20,
     "metadata": {},
     "output_type": "execute_result"
    }
   ],
   "source": [
    "squad_scored_UND, UND_f1_list, UND_em_list = evaluate_squad_per_sample_multi_ref_pred(underspecified_set_qa)\n",
    "squad_scored_UND.to_json(\"classified_results_UND_qa_with_squad_scores.jsonl\", orient=\"records\", lines=True)"
   ]
  },
  {
   "cell_type": "code",
   "execution_count": null,
   "metadata": {
    "colab": {
     "referenced_widgets": [
      "357cef3684744a3791784052e958ab4b"
     ]
    },
    "id": "RzMSeX5ffQ0t",
    "outputId": "527cad14-e13d-4491-bd96-4a83e242fa94"
   },
   "outputs": [
    {
     "data": {
      "application/vnd.jupyter.widget-view+json": {
       "model_id": "357cef3684744a3791784052e958ab4b",
       "version_major": 2,
       "version_minor": 0
      },
      "text/plain": [
       "Creating json from Arrow format:   0%|          | 0/1 [00:00<?, ?ba/s]"
      ]
     },
     "metadata": {},
     "output_type": "display_data"
    },
    {
     "data": {
      "text/plain": [
       "2033248"
      ]
     },
     "execution_count": 21,
     "metadata": {},
     "output_type": "execute_result"
    }
   ],
   "source": [
    "squad_scored_FS, FS_f1_list, FS_em_list = evaluate_squad_per_sample_multi_ref_pred(fully_specified_set_qa)\n",
    "squad_scored_FS.to_json(\"classified_results_FS_qa_with_squad_scores.jsonl\", orient=\"records\", lines=True)"
   ]
  },
  {
   "cell_type": "code",
   "execution_count": null,
   "metadata": {
    "id": "VSfEPatS5giV"
   },
   "outputs": [],
   "source": [
    "df = pd.read_json(\"classified_results_UND_qa_with_squad_scores.jsonl\", lines=True)\n",
    "df.to_csv('Google_NQ_UND_QA_SQUAD_second_test.csv')\n",
    "\n",
    "df = pd.read_json(\"classified_results_FS_qa_with_squad_scores.jsonl\", lines=True)\n",
    "df.to_csv('Google_NQ_FS_QA_SQUAD_second_test.csv')"
   ]
  },
  {
   "cell_type": "code",
   "execution_count": null,
   "metadata": {
    "id": "1iJJ1nvk5giV",
    "outputId": "2737b6c6-17f8-4c18-fd81-4264a37a1182"
   },
   "outputs": [
    {
     "name": "stdout",
     "output_type": "stream",
     "text": [
      "UND Exact Match (avg): 25.57\n",
      "UND F1 Score (avg): 39.78\n",
      "FS Exact Match (avg): 37.41\n",
      "FS F1 Score (avg): 55.03\n",
      "F1: t=5.322, p=0.0000\n",
      "EM: t=3.813, p=0.0002\n"
     ]
    }
   ],
   "source": [
    "UND_mean_em = np.mean(UND_em_list)  # em_scores: EM list per sample\n",
    "UND_mean_f1 = np.mean(UND_f1_list)  # f1_scores F1 list per sample\n",
    "print(f\"UND Exact Match (avg): {UND_mean_em * 100:.2f}\")\n",
    "print(f\"UND F1 Score (avg): {UND_mean_f1 * 100:.2f}\")\n",
    "\n",
    "FS_mean_em = np.mean(FS_em_list)  # em_scores: EM list per sample\n",
    "FS_mean_f1 = np.mean(FS_f1_list)  # f1_scores F1 list per sample\n",
    "print(f\"FS Exact Match (avg): {FS_mean_em * 100:.2f}\")\n",
    "print(f\"FS F1 Score (avg): {FS_mean_f1 * 100:.2f}\")\n",
    "\n",
    "f1_tstat, f1_pval = ttest_ind(FS_f1_list, UND_f1_list, equal_var=False)\n",
    "print(f\"F1: t={f1_tstat:.3f}, p={f1_pval:.4f}\")\n",
    "\n",
    "em_tstat, em_pval = ttest_ind(FS_em_list, UND_em_list, equal_var=False)\n",
    "print(f\"EM: t={em_tstat:.3f}, p={em_pval:.4f}\")"
   ]
  },
  {
   "cell_type": "markdown",
   "metadata": {
    "id": "SLmRuWUV5giV"
   },
   "source": [
    "#### Visualization"
   ]
  },
  {
   "cell_type": "code",
   "execution_count": null,
   "metadata": {
    "id": "0Nn7gga-5giV",
    "outputId": "74a4c863-c0bc-4830-cc63-47be04a32ebb"
   },
   "outputs": [
    {
     "name": "stderr",
     "output_type": "stream",
     "text": [
      "/scratch-local/yhuang.12391364/ipykernel_3038232/2533103266.py:7: FutureWarning: \n",
      "\n",
      "Passing `palette` without assigning `hue` is deprecated and will be removed in v0.14.0. Assign the `x` variable to `hue` and set `legend=False` for the same effect.\n",
      "\n",
      "  sns.boxplot(x=\"Subset\", y=\"F1\", data=df_f1, palette=\"Set2\", showfliers=False)\n",
      "/scratch-local/yhuang.12391364/ipykernel_3038232/2533103266.py:19: FutureWarning: \n",
      "\n",
      "The `ci` parameter is deprecated. Use `errorbar=('ci', 95)` for the same effect.\n",
      "\n",
      "  sns.barplot(x=\"Subset\", y=\"EM\", data=df_em, palette=\"Set2\", ci=95)\n",
      "/scratch-local/yhuang.12391364/ipykernel_3038232/2533103266.py:19: FutureWarning: \n",
      "\n",
      "Passing `palette` without assigning `hue` is deprecated and will be removed in v0.14.0. Assign the `x` variable to `hue` and set `legend=False` for the same effect.\n",
      "\n",
      "  sns.barplot(x=\"Subset\", y=\"EM\", data=df_em, palette=\"Set2\", ci=95)\n"
     ]
    }
   ],
   "source": [
    "df_f1 = pd.DataFrame({\n",
    "    \"F1\": FS_f1_list + UND_f1_list,\n",
    "    \"Subset\": [\"Fully specified\"] * len(FS_f1_list) + [\"Underspecified\"] * len(UND_f1_list)\n",
    "})\n",
    "\n",
    "plt.figure(figsize=(6, 4))\n",
    "sns.boxplot(x=\"Subset\", y=\"F1\", data=df_f1, palette=\"Set2\", showfliers=False)\n",
    "plt.title(\"F1 Score Distribution by Subset\")\n",
    "plt.tight_layout()\n",
    "plt.savefig(\"f1_swarm_boxplot_second_test.png\")\n",
    "plt.close()\n",
    "\n",
    "df_em = pd.DataFrame({\n",
    "    \"EM\": FS_em_list + UND_em_list,\n",
    "    \"Subset\": [\"Fully specified\"] * len(FS_em_list) + [\"Underspecified\"] * len(UND_em_list)\n",
    "})\n",
    "\n",
    "plt.figure(figsize=(6, 4))\n",
    "sns.barplot(x=\"Subset\", y=\"EM\", data=df_em, palette=\"Set2\", ci=95)\n",
    "plt.title(\"Exact Match Rate by Subset (± CI)\")\n",
    "plt.tight_layout()\n",
    "plt.savefig(\"em_barplot_second_test.png\")\n",
    "plt.close()"
   ]
  },
  {
   "cell_type": "code",
   "execution_count": null,
   "metadata": {
    "id": "i55NNFoT5giV",
    "outputId": "3038403e-6dee-48d1-8787-42c04fc02488"
   },
   "outputs": [
    {
     "data": {
      "image/png": "[encoded data removed]",
      "text/plain": [
       "<IPython.core.display.Image object>"
      ]
     },
     "execution_count": 28,
     "metadata": {},
     "output_type": "execute_result"
    }
   ],
   "source": [
    "from IPython.display import Image\n",
    "Image(\"f1_swarm_boxplot_second_test.png\")"
   ]
  },
  {
   "cell_type": "code",
   "execution_count": null,
   "metadata": {
    "id": "E0w8XgyJ5giV",
    "outputId": "4be30fd3-4d1d-489a-e25a-3905873aac82"
   },
   "outputs": [
    {
     "data": {
      "image/png": "[encoded data removed]",
      "text/plain": [
       "<IPython.core.display.Image object>"
      ]
     },
     "execution_count": 29,
     "metadata": {},
     "output_type": "execute_result"
    }
   ],
   "source": [
    "Image(\"em_barplot_second_test.png\")"
   ]
  },
  {
   "cell_type": "markdown",
   "metadata": {
    "id": "Pw8kLHxc5giW"
   },
   "source": [
    "#### BLEU, ROUGE, METEOR, BERTScore"
   ]
  },
  {
   "cell_type": "code",
   "execution_count": null,
   "metadata": {
    "id": "OOxhk3UO5giW"
   },
   "outputs": [],
   "source": [
    "UND = load_dataset(\n",
    "    \"json\",\n",
    "    data_files=\"classified_results_UND_qa_with_squad_scores.jsonl\",\n",
    "    split=\"train\"  # 必须指定 split，否则默认返回 DatasetDict\n",
    ")\n",
    "\n",
    "FS = load_dataset(\n",
    "    \"json\",\n",
    "    data_files=\"classified_results_FS_qa_with_squad_scores.jsonl\",\n",
    "    split=\"train\"\n",
    ")"
   ]
  },
  {
   "cell_type": "code",
   "execution_count": null,
   "metadata": {
    "id": "7eBMTBcE5giW"
   },
   "outputs": [],
   "source": [
    "def evaluate_long_answer_all_metrics(\n",
    "    dataset: Dataset,\n",
    "    pred_col: str,\n",
    "    ref_col: str,\n",
    "    metrics: list = [\"bleu\", \"meteor\", \"rouge\", \"bertscore\"]\n",
    ") -> dict:\n",
    "    \"\"\"\n",
    "    对 dataset 中每条样本逐一计算多个文本生成评估指标。\n",
    "    支持 BLEU, METEOR, ROUGE-L, BERTScore。\n",
    "\n",
    "    Args:\n",
    "        dataset: HuggingFace Dataset。\n",
    "        pred_col: 模型预测列名（str）。\n",
    "        ref_col: 参考答案列名（str）。\n",
    "        metrics: 要计算的指标列表，支持 \"bleu\", \"meteor\", \"rouge\", \"bertscore\"。\n",
    "\n",
    "    Returns:\n",
    "        Dict[str, List[float]]: 每个指标对应一个分数列表。\n",
    "    \"\"\"\n",
    "    metric_objects = {m: evaluate.load(m) for m in metrics}\n",
    "    all_scores = {m: [] for m in metrics}\n",
    "\n",
    "    for item in tqdm(dataset, desc=\"Evaluating metrics\"):\n",
    "        pred = item[pred_col]\n",
    "        ref = item[ref_col]\n",
    "\n",
    "        if not pred or not ref:\n",
    "            for m in metrics:\n",
    "                all_scores[m].append(0.0)\n",
    "            continue\n",
    "\n",
    "        for m in metrics:\n",
    "            try:\n",
    "                if m == \"rouge\":\n",
    "                    result = metric_objects[m].compute(predictions=[pred], references=[[ref]])\n",
    "                    all_scores[m].append(result[\"rougeL\"])\n",
    "                elif m == \"bertscore\":\n",
    "                    result = metric_objects[m].compute(predictions=[pred], references=[ref], lang=\"en\")\n",
    "                    all_scores[m].append(result[\"f1\"][0])  # 取 BERTScore F1 分数\n",
    "                else:\n",
    "                    result = metric_objects[m].compute(predictions=[pred], references=[[ref]])\n",
    "                    all_scores[m].append(result[m])\n",
    "            except Exception as e:\n",
    "                print(f\"Error scoring sample with {m}: {e}\")\n",
    "                all_scores[m].append(0.0)\n",
    "\n",
    "    return all_scores\n",
    "\n",
    "def add_scores_to_dataset(dataset, scores_dict):\n",
    "    \"\"\"\n",
    "    将多个指标打分列表合并为 dataset 的新列。\n",
    "\n",
    "    Args:\n",
    "        dataset (Dataset): 原始 HuggingFace Dataset。\n",
    "        scores_dict (dict): 如 {\"bleu\": [...], \"meteor\": [...]}，每个值都是 len=N 的分数列表。\n",
    "\n",
    "    Returns:\n",
    "        Dataset: 增加了评估分数的新数据集。\n",
    "    \"\"\"\n",
    "\n",
    "    # 确保每个指标的分数长度与数据集行数一致\n",
    "    for k, v in scores_dict.items():\n",
    "        assert len(v) == len(dataset), f\"Length mismatch for {k}: {len(v)} != {len(dataset)}\"\n",
    "\n",
    "    # 加入每个指标为新列\n",
    "    new_dataset = dataset\n",
    "    for k, v in scores_dict.items():\n",
    "        new_dataset = new_dataset.add_column(k, v)\n",
    "\n",
    "    return new_dataset\n",
    "def t_test_metrics(scores_1: dict, scores_2: dict, label_1=\"Group 1\", label_2=\"Group 2\"):\n",
    "    \"\"\"\n",
    "    对两个子集的多个指标进行 t-test，并打印结果。\n",
    "\n",
    "    Args:\n",
    "        scores_1 (dict): 子集 1 的评估分数，形式为 {\"metric\": [scores]}。\n",
    "        scores_2 (dict): 子集 2 的评估分数，形式相同。\n",
    "    \"\"\"\n",
    "    common_metrics = set(scores_1.keys()) & set(scores_2.keys())\n",
    "\n",
    "    print(f\"\\nT-test results between {label_1} and {label_2}:\\n\")\n",
    "    for metric in sorted(common_metrics):\n",
    "        x = scores_1[metric]\n",
    "        y = scores_2[metric]\n",
    "\n",
    "        t_stat, p_val = ttest_ind(x, y, equal_var=False)\n",
    "        print(f\"{metric.upper():<10} | t = {t_stat:6.3f} | p = {p_val:.4f} | \"\n",
    "              f\"{'significant' if p_val < 0.05 else 'not significant'}\")\n",
    "\n",
    "def plot_metric_distributions(scores_1, scores_2, label_1=\"Group 1\", label_2=\"Group 2\", filename=\"metric_plot.png\"):\n",
    "    import matplotlib.pyplot as plt\n",
    "    import seaborn as sns\n",
    "    import pandas as pd\n",
    "    from IPython.display import Image\n",
    "\n",
    "    # 构建 DataFrame\n",
    "    rows = []\n",
    "    for metric in scores_1:\n",
    "        if metric in scores_2:\n",
    "            for v in scores_1[metric]:\n",
    "                rows.append({\"score\": v, \"metric\": metric.upper(), \"group\": label_1})\n",
    "            for v in scores_2[metric]:\n",
    "                rows.append({\"score\": v, \"metric\": metric.upper(), \"group\": label_2})\n",
    "    df = pd.DataFrame(rows)\n",
    "\n",
    "    # 绘图设置\n",
    "    sns.set(style=\"whitegrid\", font_scale=1.1)\n",
    "    g = sns.catplot(\n",
    "        data=df, kind=\"box\", x=\"metric\", y=\"score\", hue=\"group\",\n",
    "        height=5, aspect=1.6, palette=\"Set2\", showfliers=True  # Keep outliers，remove swarm\n",
    "    )\n",
    "\n",
    "    g.set_axis_labels(\"Metric\", \"Score\")\n",
    "    g.set_titles(\"Metric Score Distributions\")\n",
    "    g.despine(left=True)\n",
    "    plt.title(\"Long Answer Evaluation Score Distributions by Group\")\n",
    "    plt.tight_layout()\n",
    "    plt.savefig(filename)\n",
    "    plt.close()\n",
    "\n",
    "    return Image(filename)"
   ]
  },
  {
   "cell_type": "code",
   "execution_count": null,
   "metadata": {
    "id": "-8ZKZ1NX5giW",
    "outputId": "824caae9-7be7-42a5-ce1a-1b402978f557"
   },
   "outputs": [
    {
     "name": "stderr",
     "output_type": "stream",
     "text": [
      "[nltk_data] Downloading package wordnet to /home/yhuang/nltk_data...\n",
      "[nltk_data]   Package wordnet is already up-to-date!\n",
      "[nltk_data] Downloading package punkt_tab to /home/yhuang/nltk_data...\n",
      "[nltk_data]   Package punkt_tab is already up-to-date!\n",
      "[nltk_data] Downloading package omw-1.4 to /home/yhuang/nltk_data...\n",
      "[nltk_data]   Package omw-1.4 is already up-to-date!\n",
      "Evaluating metrics:   0%|          | 0/305 [00:00<?, ?it/s]Some weights of RobertaModel were not initialized from the model checkpoint at roberta-large and are newly initialized: ['pooler.dense.bias', 'pooler.dense.weight']\n",
      "You should probably TRAIN this model on a down-stream task to be able to use it for predictions and inference.\n",
      "Evaluating metrics: 100%|██████████| 305/305 [18:23<00:00,  3.62s/it]\n",
      "[nltk_data] Downloading package wordnet to /home/yhuang/nltk_data...\n",
      "[nltk_data]   Package wordnet is already up-to-date!\n",
      "[nltk_data] Downloading package punkt_tab to /home/yhuang/nltk_data...\n",
      "[nltk_data]   Package punkt_tab is already up-to-date!\n",
      "[nltk_data] Downloading package omw-1.4 to /home/yhuang/nltk_data...\n",
      "[nltk_data]   Package omw-1.4 is already up-to-date!\n",
      "Evaluating metrics:   0%|          | 0/695 [00:00<?, ?it/s]Some weights of RobertaModel were not initialized from the model checkpoint at roberta-large and are newly initialized: ['pooler.dense.bias', 'pooler.dense.weight']\n",
      "You should probably TRAIN this model on a down-stream task to be able to use it for predictions and inference.\n",
      "Evaluating metrics: 100%|██████████| 695/695 [36:49<00:00,  3.18s/it]\n"
     ]
    }
   ],
   "source": [
    "scores_UND = evaluate_long_answer_all_metrics(\n",
    "    dataset=UND,\n",
    "    pred_col=\"model_long_answer\",\n",
    "    ref_col=\"long_answer\"\n",
    ")\n",
    "\n",
    "scores_FS = evaluate_long_answer_all_metrics(\n",
    "    dataset=FS,\n",
    "    pred_col=\"model_long_answer\",\n",
    "    ref_col=\"long_answer\"\n",
    ")"
   ]
  },
  {
   "cell_type": "code",
   "execution_count": null,
   "metadata": {
    "colab": {
     "referenced_widgets": [
      "2e25f0dea49340beb7e40115b7ca1655",
      "e42bb2573fe64f97b5d40b9f5328fec8"
     ]
    },
    "id": "9unSZvaV5giW",
    "outputId": "f2b8153b-85b2-4430-f9f2-f1331e3a6ba7"
   },
   "outputs": [
    {
     "data": {
      "application/vnd.jupyter.widget-view+json": {
       "model_id": "2e25f0dea49340beb7e40115b7ca1655",
       "version_major": 2,
       "version_minor": 0
      },
      "text/plain": [
       "Creating json from Arrow format:   0%|          | 0/1 [00:00<?, ?ba/s]"
      ]
     },
     "metadata": {},
     "output_type": "display_data"
    },
    {
     "data": {
      "application/vnd.jupyter.widget-view+json": {
       "model_id": "e42bb2573fe64f97b5d40b9f5328fec8",
       "version_major": 2,
       "version_minor": 0
      },
      "text/plain": [
       "Creating json from Arrow format:   0%|          | 0/1 [00:00<?, ?ba/s]"
      ]
     },
     "metadata": {},
     "output_type": "display_data"
    },
    {
     "data": {
      "text/plain": [
       "2091252"
      ]
     },
     "execution_count": 5,
     "metadata": {},
     "output_type": "execute_result"
    }
   ],
   "source": [
    "# 合并\n",
    "UND_with_most_metrics = add_scores_to_dataset(UND, scores_UND)\n",
    "FS_with_most_metrics = add_scores_to_dataset(FS, scores_FS)\n",
    "\n",
    "# 保存为新 jsonl（可选）\n",
    "UND_with_most_metrics.to_json(\"test_UND_with_most_metrics.jsonl\")\n",
    "FS_with_most_metrics.to_json(\"test_FS_with_most_metrics.jsonl\")"
   ]
  },
  {
   "cell_type": "code",
   "execution_count": null,
   "metadata": {
    "id": "XIIwVgNc5giW",
    "outputId": "b5eeec41-a6f5-4b57-8ff6-a712c5e3685e"
   },
   "outputs": [
    {
     "name": "stdout",
     "output_type": "stream",
     "text": [
      "\n",
      "T-test results between UND and FS:\n",
      "\n",
      "BERTSCORE  | t =  3.295 | p = 0.0010 | significant\n",
      "BLEU       | t =  4.569 | p = 0.0000 | significant\n",
      "METEOR     | t =  2.874 | p = 0.0042 | significant\n",
      "ROUGE      | t =  4.154 | p = 0.0000 | significant\n"
     ]
    }
   ],
   "source": [
    "t_test_metrics(scores_FS, scores_UND, label_1=\"UND\", label_2=\"FS\")"
   ]
  },
  {
   "cell_type": "code",
   "execution_count": null,
   "metadata": {
    "id": "OqbF1K-A5giW",
    "outputId": "43f3de72-798e-4854-c062-fe9cd0de94dc"
   },
   "outputs": [
    {
     "name": "stderr",
     "output_type": "stream",
     "text": [
      "/home/yhuang/sglang-venv-2/lib/python3.11/site-packages/seaborn/axisgrid.py:123: UserWarning: The figure layout has changed to tight\n",
      "  self._figure.tight_layout(*args, **kwargs)\n",
      "/scratch-local/yhuang.12392093/ipykernel_1523604/1604551131.py:117: UserWarning: The figure layout has changed to tight\n",
      "  plt.tight_layout()\n"
     ]
    },
    {
     "data": {
      "image/png": "[encoded data removed]",
      "text/plain": [
       "<IPython.core.display.Image object>"
      ]
     },
     "execution_count": 9,
     "metadata": {},
     "output_type": "execute_result"
    }
   ],
   "source": [
    "plot_metric_distributions(scores_UND, scores_FS, label_1=\"Underspecified\", label_2=\"Fully Specified\")"
   ]
  },
  {
   "cell_type": "code",
   "execution_count": 2,
   "metadata": {
    "id": "Ct0Dz4m796GC"
   },
   "outputs": [],
   "source": [
    "df = pd.read_json(\"test_UND_with_most_metrics.jsonl\", lines=True)\n",
    "df.to_csv('test_UND_with_most_metrics.csv')\n",
    "df = pd.read_json(\"test_FS_with_most_metrics.jsonl\", lines=True)\n",
    "df.to_csv('test_FS_with_most_metrics.csv')"
   ]
  }
 ],
 "metadata": {
  "colab": {
   "provenance": []
  },
  "kernelspec": {
   "display_name": "Python (sglang-venv-2)",
   "language": "python",
   "name": "sglang-venv"
  },
  "language_info": {
   "codemirror_mode": {
    "name": "ipython",
    "version": 3
   },
   "file_extension": ".py",
   "mimetype": "text/x-python",
   "name": "python",
   "nbconvert_exporter": "python",
   "pygments_lexer": "ipython3",
   "version": "3.11.3"
  },
  "widgets": {
   "application/vnd.jupyter.widget-state+json": {
    "0184f4d8199743fe8e2bf064ef55550b": {
     "model_module": "@jupyter-widgets/base",
     "model_module_version": "1.2.0",
     "model_name": "LayoutModel",
     "state": {
      "_model_module": "@jupyter-widgets/base",
      "_model_module_version": "1.2.0",
      "_model_name": "LayoutModel",
      "_view_count": null,
      "_view_module": "@jupyter-widgets/base",
      "_view_module_version": "1.2.0",
      "_view_name": "LayoutView",
      "align_content": null,
      "align_items": null,
      "align_self": null,
      "border": null,
      "bottom": null,
      "display": null,
      "flex": null,
      "flex_flow": null,
      "grid_area": null,
      "grid_auto_columns": null,
      "grid_auto_flow": null,
      "grid_auto_rows": null,
      "grid_column": null,
      "grid_gap": null,
      "grid_row": null,
      "grid_template_areas": null,
      "grid_template_columns": null,
      "grid_template_rows": null,
      "height": null,
      "justify_content": null,
      "justify_items": null,
      "left": null,
      "margin": null,
      "max_height": null,
      "max_width": null,
      "min_height": null,
      "min_width": null,
      "object_fit": null,
      "object_position": null,
      "order": null,
      "overflow": null,
      "overflow_x": null,
      "overflow_y": null,
      "padding": null,
      "right": null,
      "top": null,
      "visibility": null,
      "width": null
     }
    },
    "018f231db99d4371ac836070d716cb10": {
     "model_module": "@jupyter-widgets/base",
     "model_module_version": "1.2.0",
     "model_name": "LayoutModel",
     "state": {
      "_model_module": "@jupyter-widgets/base",
      "_model_module_version": "1.2.0",
      "_model_name": "LayoutModel",
      "_view_count": null,
      "_view_module": "@jupyter-widgets/base",
      "_view_module_version": "1.2.0",
      "_view_name": "LayoutView",
      "align_content": null,
      "align_items": null,
      "align_self": null,
      "border": null,
      "bottom": null,
      "display": null,
      "flex": null,
      "flex_flow": null,
      "grid_area": null,
      "grid_auto_columns": null,
      "grid_auto_flow": null,
      "grid_auto_rows": null,
      "grid_column": null,
      "grid_gap": null,
      "grid_row": null,
      "grid_template_areas": null,
      "grid_template_columns": null,
      "grid_template_rows": null,
      "height": null,
      "justify_content": null,
      "justify_items": null,
      "left": null,
      "margin": null,
      "max_height": null,
      "max_width": null,
      "min_height": null,
      "min_width": null,
      "object_fit": null,
      "object_position": null,
      "order": null,
      "overflow": null,
      "overflow_x": null,
      "overflow_y": null,
      "padding": null,
      "right": null,
      "top": null,
      "visibility": null,
      "width": null
     }
    },
    "022258dafc5442a09e3f855a7941701d": {
     "model_module": "@jupyter-widgets/controls",
     "model_module_version": "1.5.0",
     "model_name": "FloatProgressModel",
     "state": {
      "_dom_classes": [],
      "_model_module": "@jupyter-widgets/controls",
      "_model_module_version": "1.5.0",
      "_model_name": "FloatProgressModel",
      "_view_count": null,
      "_view_module": "@jupyter-widgets/controls",
      "_view_module_version": "1.5.0",
      "_view_name": "ProgressView",
      "bar_style": "success",
      "description": "",
      "description_tooltip": null,
      "layout": "IPY_MODEL_51b4570f898946b08df4c06c6fc5abb9",
      "max": 185560593,
      "min": 0,
      "orientation": "horizontal",
      "style": "IPY_MODEL_5901cc7a4baa4abf86317f8720a4144e",
      "value": 185560593
     }
    },
    "04ab3daac680430594faf3597123a11c": {
     "model_module": "@jupyter-widgets/base",
     "model_module_version": "1.2.0",
     "model_name": "LayoutModel",
     "state": {
      "_model_module": "@jupyter-widgets/base",
      "_model_module_version": "1.2.0",
      "_model_name": "LayoutModel",
      "_view_count": null,
      "_view_module": "@jupyter-widgets/base",
      "_view_module_version": "1.2.0",
      "_view_name": "LayoutView",
      "align_content": null,
      "align_items": null,
      "align_self": null,
      "border": null,
      "bottom": null,
      "display": null,
      "flex": null,
      "flex_flow": null,
      "grid_area": null,
      "grid_auto_columns": null,
      "grid_auto_flow": null,
      "grid_auto_rows": null,
      "grid_column": null,
      "grid_gap": null,
      "grid_row": null,
      "grid_template_areas": null,
      "grid_template_columns": null,
      "grid_template_rows": null,
      "height": null,
      "justify_content": null,
      "justify_items": null,
      "left": null,
      "margin": null,
      "max_height": null,
      "max_width": null,
      "min_height": null,
      "min_width": null,
      "object_fit": null,
      "object_position": null,
      "order": null,
      "overflow": null,
      "overflow_x": null,
      "overflow_y": null,
      "padding": null,
      "right": null,
      "top": null,
      "visibility": null,
      "width": null
     }
    },
    "051bbc68bfcb4ce982b953e47ebb0a81": {
     "model_module": "@jupyter-widgets/controls",
     "model_module_version": "1.5.0",
     "model_name": "FloatProgressModel",
     "state": {
      "_dom_classes": [],
      "_model_module": "@jupyter-widgets/controls",
      "_model_module_version": "1.5.0",
      "_model_name": "FloatProgressModel",
      "_view_count": null,
      "_view_module": "@jupyter-widgets/controls",
      "_view_module_version": "1.5.0",
      "_view_name": "ProgressView",
      "bar_style": "success",
      "description": "",
      "description_tooltip": null,
      "layout": "IPY_MODEL_6106d750d3d842ff82bf6759f5397700",
      "max": 190204549,
      "min": 0,
      "orientation": "horizontal",
      "style": "IPY_MODEL_c7aa060f428d42289b706534d8aaa8df",
      "value": 190204549
     }
    },
    "07b80897917549e0a938a114e4f85e70": {
     "model_module": "@jupyter-widgets/controls",
     "model_module_version": "1.5.0",
     "model_name": "HTMLModel",
     "state": {
      "_dom_classes": [],
      "_model_module": "@jupyter-widgets/controls",
      "_model_module_version": "1.5.0",
      "_model_name": "HTMLModel",
      "_view_count": null,
      "_view_module": "@jupyter-widgets/controls",
      "_view_module_version": "1.5.0",
      "_view_name": "HTMLView",
      "description": "",
      "description_tooltip": null,
      "layout": "IPY_MODEL_9a548e55f0e347748bd372150d250754",
      "placeholder": "​",
      "style": "IPY_MODEL_97b94572c1cd4da78eecdd157059854d",
      "value": "validation-00003-of-00007.parquet: 100%"
     }
    },
    "083326adb7724883897f3f967ee37173": {
     "model_module": "@jupyter-widgets/controls",
     "model_module_version": "1.5.0",
     "model_name": "DescriptionStyleModel",
     "state": {
      "_model_module": "@jupyter-widgets/controls",
      "_model_module_version": "1.5.0",
      "_model_name": "DescriptionStyleModel",
      "_view_count": null,
      "_view_module": "@jupyter-widgets/base",
      "_view_module_version": "1.2.0",
      "_view_name": "StyleView",
      "description_width": ""
     }
    },
    "08ce7fdbd266473b8532392bd07de276": {
     "model_module": "@jupyter-widgets/controls",
     "model_module_version": "1.5.0",
     "model_name": "HTMLModel",
     "state": {
      "_dom_classes": [],
      "_model_module": "@jupyter-widgets/controls",
      "_model_module_version": "1.5.0",
      "_model_name": "HTMLModel",
      "_view_count": null,
      "_view_module": "@jupyter-widgets/controls",
      "_view_module_version": "1.5.0",
      "_view_name": "HTMLView",
      "description": "",
      "description_tooltip": null,
      "layout": "IPY_MODEL_e1d47f4120b0482c8eb079e30b64e637",
      "placeholder": "​",
      "style": "IPY_MODEL_61e17f4cd0fb49d9bf3dfe05482c6cdb",
      "value": " 186M/186M [00:01&lt;00:00, 195MB/s]"
     }
    },
    "0f9001127ce0464c97cd600c4571acbe": {
     "model_module": "@jupyter-widgets/controls",
     "model_module_version": "1.5.0",
     "model_name": "HTMLModel",
     "state": {
      "_dom_classes": [],
      "_model_module": "@jupyter-widgets/controls",
      "_model_module_version": "1.5.0",
      "_model_name": "HTMLModel",
      "_view_count": null,
      "_view_module": "@jupyter-widgets/controls",
      "_view_module_version": "1.5.0",
      "_view_name": "HTMLView",
      "description": "",
      "description_tooltip": null,
      "layout": "IPY_MODEL_332e9a659aa34b3cb29738a84b5975ce",
      "placeholder": "​",
      "style": "IPY_MODEL_6730499a9713411f90ed06c469a13242",
      "value": "README.md: 100%"
     }
    },
    "0fb6e047fdc7455498d8dd1472d226b7": {
     "model_module": "@jupyter-widgets/controls",
     "model_module_version": "1.5.0",
     "model_name": "DescriptionStyleModel",
     "state": {
      "_model_module": "@jupyter-widgets/controls",
      "_model_module_version": "1.5.0",
      "_model_name": "DescriptionStyleModel",
      "_view_count": null,
      "_view_module": "@jupyter-widgets/base",
      "_view_module_version": "1.2.0",
      "_view_name": "StyleView",
      "description_width": ""
     }
    },
    "15246198e5f24bcd9502e26f3481f26c": {
     "model_module": "@jupyter-widgets/controls",
     "model_module_version": "1.5.0",
     "model_name": "HTMLModel",
     "state": {
      "_dom_classes": [],
      "_model_module": "@jupyter-widgets/controls",
      "_model_module_version": "1.5.0",
      "_model_name": "HTMLModel",
      "_view_count": null,
      "_view_module": "@jupyter-widgets/controls",
      "_view_module_version": "1.5.0",
      "_view_name": "HTMLView",
      "description": "",
      "description_tooltip": null,
      "layout": "IPY_MODEL_a375c1fb77004fa7bbc84183bd2d6480",
      "placeholder": "​",
      "style": "IPY_MODEL_4ccbaebefe5548a8aa8b14f1b2db92e5",
      "value": " 193M/193M [00:03&lt;00:00, 116MB/s]"
     }
    },
    "169c6480e22543c998d2a7559425f3d9": {
     "model_module": "@jupyter-widgets/controls",
     "model_module_version": "1.5.0",
     "model_name": "ProgressStyleModel",
     "state": {
      "_model_module": "@jupyter-widgets/controls",
      "_model_module_version": "1.5.0",
      "_model_name": "ProgressStyleModel",
      "_view_count": null,
      "_view_module": "@jupyter-widgets/base",
      "_view_module_version": "1.2.0",
      "_view_name": "StyleView",
      "bar_color": null,
      "description_width": ""
     }
    },
    "1cb27e24d7754e678c6a013967a60217": {
     "model_module": "@jupyter-widgets/controls",
     "model_module_version": "1.5.0",
     "model_name": "FloatProgressModel",
     "state": {
      "_dom_classes": [],
      "_model_module": "@jupyter-widgets/controls",
      "_model_module_version": "1.5.0",
      "_model_name": "FloatProgressModel",
      "_view_count": null,
      "_view_module": "@jupyter-widgets/controls",
      "_view_module_version": "1.5.0",
      "_view_name": "ProgressView",
      "bar_style": "success",
      "description": "",
      "description_tooltip": null,
      "layout": "IPY_MODEL_56633fcf42d444cd991d45ea6a918dd6",
      "max": 191104999,
      "min": 0,
      "orientation": "horizontal",
      "style": "IPY_MODEL_169c6480e22543c998d2a7559425f3d9",
      "value": 191104999
     }
    },
    "1de00b9993074b1988c99d03f5eb0660": {
     "model_module": "@jupyter-widgets/base",
     "model_module_version": "1.2.0",
     "model_name": "LayoutModel",
     "state": {
      "_model_module": "@jupyter-widgets/base",
      "_model_module_version": "1.2.0",
      "_model_name": "LayoutModel",
      "_view_count": null,
      "_view_module": "@jupyter-widgets/base",
      "_view_module_version": "1.2.0",
      "_view_name": "LayoutView",
      "align_content": null,
      "align_items": null,
      "align_self": null,
      "border": null,
      "bottom": null,
      "display": null,
      "flex": null,
      "flex_flow": null,
      "grid_area": null,
      "grid_auto_columns": null,
      "grid_auto_flow": null,
      "grid_auto_rows": null,
      "grid_column": null,
      "grid_gap": null,
      "grid_row": null,
      "grid_template_areas": null,
      "grid_template_columns": null,
      "grid_template_rows": null,
      "height": null,
      "justify_content": null,
      "justify_items": null,
      "left": null,
      "margin": null,
      "max_height": null,
      "max_width": null,
      "min_height": null,
      "min_width": null,
      "object_fit": null,
      "object_position": null,
      "order": null,
      "overflow": null,
      "overflow_x": null,
      "overflow_y": null,
      "padding": null,
      "right": null,
      "top": null,
      "visibility": null,
      "width": null
     }
    },
    "1f5bc7669fc64f28bbcd71ee99eb0ffe": {
     "model_module": "@jupyter-widgets/controls",
     "model_module_version": "1.5.0",
     "model_name": "DescriptionStyleModel",
     "state": {
      "_model_module": "@jupyter-widgets/controls",
      "_model_module_version": "1.5.0",
      "_model_name": "DescriptionStyleModel",
      "_view_count": null,
      "_view_module": "@jupyter-widgets/base",
      "_view_module_version": "1.2.0",
      "_view_name": "StyleView",
      "description_width": ""
     }
    },
    "1f96ec44394546b58ed9cc79d4385cc1": {
     "model_module": "@jupyter-widgets/controls",
     "model_module_version": "1.5.0",
     "model_name": "HTMLModel",
     "state": {
      "_dom_classes": [],
      "_model_module": "@jupyter-widgets/controls",
      "_model_module_version": "1.5.0",
      "_model_name": "HTMLModel",
      "_view_count": null,
      "_view_module": "@jupyter-widgets/controls",
      "_view_module_version": "1.5.0",
      "_view_name": "HTMLView",
      "description": "",
      "description_tooltip": null,
      "layout": "IPY_MODEL_5ba384f40b304eac9d5671547da9584d",
      "placeholder": "​",
      "style": "IPY_MODEL_4f5b9a3843024aa78fc1b1b463f6fcf9",
      "value": " 7830/7830 [00:33&lt;00:00, 244.39 examples/s]"
     }
    },
    "213dd7d460cf495ba331f701c5aeb9d7": {
     "model_module": "@jupyter-widgets/base",
     "model_module_version": "1.2.0",
     "model_name": "LayoutModel",
     "state": {
      "_model_module": "@jupyter-widgets/base",
      "_model_module_version": "1.2.0",
      "_model_name": "LayoutModel",
      "_view_count": null,
      "_view_module": "@jupyter-widgets/base",
      "_view_module_version": "1.2.0",
      "_view_name": "LayoutView",
      "align_content": null,
      "align_items": null,
      "align_self": null,
      "border": null,
      "bottom": null,
      "display": null,
      "flex": null,
      "flex_flow": null,
      "grid_area": null,
      "grid_auto_columns": null,
      "grid_auto_flow": null,
      "grid_auto_rows": null,
      "grid_column": null,
      "grid_gap": null,
      "grid_row": null,
      "grid_template_areas": null,
      "grid_template_columns": null,
      "grid_template_rows": null,
      "height": null,
      "justify_content": null,
      "justify_items": null,
      "left": null,
      "margin": null,
      "max_height": null,
      "max_width": null,
      "min_height": null,
      "min_width": null,
      "object_fit": null,
      "object_position": null,
      "order": null,
      "overflow": null,
      "overflow_x": null,
      "overflow_y": null,
      "padding": null,
      "right": null,
      "top": null,
      "visibility": null,
      "width": null
     }
    },
    "271df973f83d4f01b3899b604bdb0506": {
     "model_module": "@jupyter-widgets/controls",
     "model_module_version": "1.5.0",
     "model_name": "FloatProgressModel",
     "state": {
      "_dom_classes": [],
      "_model_module": "@jupyter-widgets/controls",
      "_model_module_version": "1.5.0",
      "_model_name": "FloatProgressModel",
      "_view_count": null,
      "_view_module": "@jupyter-widgets/controls",
      "_view_module_version": "1.5.0",
      "_view_name": "ProgressView",
      "bar_style": "success",
      "description": "",
      "description_tooltip": null,
      "layout": "IPY_MODEL_6bc3544d28ce4a38af0d4dd898015c31",
      "max": 192525840,
      "min": 0,
      "orientation": "horizontal",
      "style": "IPY_MODEL_59c8f12748be4e9cb442b9e20f66848d",
      "value": 192525840
     }
    },
    "27e27e57f6554e46bd90c2f24d575f08": {
     "model_module": "@jupyter-widgets/controls",
     "model_module_version": "1.5.0",
     "model_name": "ProgressStyleModel",
     "state": {
      "_model_module": "@jupyter-widgets/controls",
      "_model_module_version": "1.5.0",
      "_model_name": "ProgressStyleModel",
      "_view_count": null,
      "_view_module": "@jupyter-widgets/base",
      "_view_module_version": "1.2.0",
      "_view_name": "StyleView",
      "bar_color": null,
      "description_width": ""
     }
    },
    "290999defe7843ebb15bf9a842a0a8f6": {
     "model_module": "@jupyter-widgets/controls",
     "model_module_version": "1.5.0",
     "model_name": "DescriptionStyleModel",
     "state": {
      "_model_module": "@jupyter-widgets/controls",
      "_model_module_version": "1.5.0",
      "_model_name": "DescriptionStyleModel",
      "_view_count": null,
      "_view_module": "@jupyter-widgets/base",
      "_view_module_version": "1.2.0",
      "_view_name": "StyleView",
      "description_width": ""
     }
    },
    "2c24bde4f345431bb00a22df858ca2eb": {
     "model_module": "@jupyter-widgets/base",
     "model_module_version": "1.2.0",
     "model_name": "LayoutModel",
     "state": {
      "_model_module": "@jupyter-widgets/base",
      "_model_module_version": "1.2.0",
      "_model_name": "LayoutModel",
      "_view_count": null,
      "_view_module": "@jupyter-widgets/base",
      "_view_module_version": "1.2.0",
      "_view_name": "LayoutView",
      "align_content": null,
      "align_items": null,
      "align_self": null,
      "border": null,
      "bottom": null,
      "display": null,
      "flex": null,
      "flex_flow": null,
      "grid_area": null,
      "grid_auto_columns": null,
      "grid_auto_flow": null,
      "grid_auto_rows": null,
      "grid_column": null,
      "grid_gap": null,
      "grid_row": null,
      "grid_template_areas": null,
      "grid_template_columns": null,
      "grid_template_rows": null,
      "height": null,
      "justify_content": null,
      "justify_items": null,
      "left": null,
      "margin": null,
      "max_height": null,
      "max_width": null,
      "min_height": null,
      "min_width": null,
      "object_fit": null,
      "object_position": null,
      "order": null,
      "overflow": null,
      "overflow_x": null,
      "overflow_y": null,
      "padding": null,
      "right": null,
      "top": null,
      "visibility": null,
      "width": null
     }
    },
    "2e6507e8bc454e4cbf818da8ad372278": {
     "model_module": "@jupyter-widgets/controls",
     "model_module_version": "1.5.0",
     "model_name": "HTMLModel",
     "state": {
      "_dom_classes": [],
      "_model_module": "@jupyter-widgets/controls",
      "_model_module_version": "1.5.0",
      "_model_name": "HTMLModel",
      "_view_count": null,
      "_view_module": "@jupyter-widgets/controls",
      "_view_module_version": "1.5.0",
      "_view_name": "HTMLView",
      "description": "",
      "description_tooltip": null,
      "layout": "IPY_MODEL_cd275c015005459f90b9c770c8de94b5",
      "placeholder": "​",
      "style": "IPY_MODEL_b07288d33d2548f28d968030e112ae3c",
      "value": " 287/287 [00:00&lt;00:00, 86.68it/s]"
     }
    },
    "308ba00cb7b64afab192849171cb2057": {
     "model_module": "@jupyter-widgets/base",
     "model_module_version": "1.2.0",
     "model_name": "LayoutModel",
     "state": {
      "_model_module": "@jupyter-widgets/base",
      "_model_module_version": "1.2.0",
      "_model_name": "LayoutModel",
      "_view_count": null,
      "_view_module": "@jupyter-widgets/base",
      "_view_module_version": "1.2.0",
      "_view_name": "LayoutView",
      "align_content": null,
      "align_items": null,
      "align_self": null,
      "border": null,
      "bottom": null,
      "display": null,
      "flex": null,
      "flex_flow": null,
      "grid_area": null,
      "grid_auto_columns": null,
      "grid_auto_flow": null,
      "grid_auto_rows": null,
      "grid_column": null,
      "grid_gap": null,
      "grid_row": null,
      "grid_template_areas": null,
      "grid_template_columns": null,
      "grid_template_rows": null,
      "height": null,
      "justify_content": null,
      "justify_items": null,
      "left": null,
      "margin": null,
      "max_height": null,
      "max_width": null,
      "min_height": null,
      "min_width": null,
      "object_fit": null,
      "object_position": null,
      "order": null,
      "overflow": null,
      "overflow_x": null,
      "overflow_y": null,
      "padding": null,
      "right": null,
      "top": null,
      "visibility": null,
      "width": null
     }
    },
    "332e9a659aa34b3cb29738a84b5975ce": {
     "model_module": "@jupyter-widgets/base",
     "model_module_version": "1.2.0",
     "model_name": "LayoutModel",
     "state": {
      "_model_module": "@jupyter-widgets/base",
      "_model_module_version": "1.2.0",
      "_model_name": "LayoutModel",
      "_view_count": null,
      "_view_module": "@jupyter-widgets/base",
      "_view_module_version": "1.2.0",
      "_view_name": "LayoutView",
      "align_content": null,
      "align_items": null,
      "align_self": null,
      "border": null,
      "bottom": null,
      "display": null,
      "flex": null,
      "flex_flow": null,
      "grid_area": null,
      "grid_auto_columns": null,
      "grid_auto_flow": null,
      "grid_auto_rows": null,
      "grid_column": null,
      "grid_gap": null,
      "grid_row": null,
      "grid_template_areas": null,
      "grid_template_columns": null,
      "grid_template_rows": null,
      "height": null,
      "justify_content": null,
      "justify_items": null,
      "left": null,
      "margin": null,
      "max_height": null,
      "max_width": null,
      "min_height": null,
      "min_width": null,
      "object_fit": null,
      "object_position": null,
      "order": null,
      "overflow": null,
      "overflow_x": null,
      "overflow_y": null,
      "padding": null,
      "right": null,
      "top": null,
      "visibility": null,
      "width": null
     }
    },
    "37a5cb0ce3a449aca402ab53d12c1903": {
     "model_module": "@jupyter-widgets/base",
     "model_module_version": "1.2.0",
     "model_name": "LayoutModel",
     "state": {
      "_model_module": "@jupyter-widgets/base",
      "_model_module_version": "1.2.0",
      "_model_name": "LayoutModel",
      "_view_count": null,
      "_view_module": "@jupyter-widgets/base",
      "_view_module_version": "1.2.0",
      "_view_name": "LayoutView",
      "align_content": null,
      "align_items": null,
      "align_self": null,
      "border": null,
      "bottom": null,
      "display": null,
      "flex": null,
      "flex_flow": null,
      "grid_area": null,
      "grid_auto_columns": null,
      "grid_auto_flow": null,
      "grid_auto_rows": null,
      "grid_column": null,
      "grid_gap": null,
      "grid_row": null,
      "grid_template_areas": null,
      "grid_template_columns": null,
      "grid_template_rows": null,
      "height": null,
      "justify_content": null,
      "justify_items": null,
      "left": null,
      "margin": null,
      "max_height": null,
      "max_width": null,
      "min_height": null,
      "min_width": null,
      "object_fit": null,
      "object_position": null,
      "order": null,
      "overflow": null,
      "overflow_x": null,
      "overflow_y": null,
      "padding": null,
      "right": null,
      "top": null,
      "visibility": null,
      "width": null
     }
    },
    "390955a40ff3466a8035ec045ba07b6e": {
     "model_module": "@jupyter-widgets/controls",
     "model_module_version": "1.5.0",
     "model_name": "ProgressStyleModel",
     "state": {
      "_model_module": "@jupyter-widgets/controls",
      "_model_module_version": "1.5.0",
      "_model_name": "ProgressStyleModel",
      "_view_count": null,
      "_view_module": "@jupyter-widgets/base",
      "_view_module_version": "1.2.0",
      "_view_name": "StyleView",
      "bar_color": null,
      "description_width": ""
     }
    },
    "3e363ef5a3d140b4b801d8bde323bf7f": {
     "model_module": "@jupyter-widgets/base",
     "model_module_version": "1.2.0",
     "model_name": "LayoutModel",
     "state": {
      "_model_module": "@jupyter-widgets/base",
      "_model_module_version": "1.2.0",
      "_model_name": "LayoutModel",
      "_view_count": null,
      "_view_module": "@jupyter-widgets/base",
      "_view_module_version": "1.2.0",
      "_view_name": "LayoutView",
      "align_content": null,
      "align_items": null,
      "align_self": null,
      "border": null,
      "bottom": null,
      "display": null,
      "flex": null,
      "flex_flow": null,
      "grid_area": null,
      "grid_auto_columns": null,
      "grid_auto_flow": null,
      "grid_auto_rows": null,
      "grid_column": null,
      "grid_gap": null,
      "grid_row": null,
      "grid_template_areas": null,
      "grid_template_columns": null,
      "grid_template_rows": null,
      "height": null,
      "justify_content": null,
      "justify_items": null,
      "left": null,
      "margin": null,
      "max_height": null,
      "max_width": null,
      "min_height": null,
      "min_width": null,
      "object_fit": null,
      "object_position": null,
      "order": null,
      "overflow": null,
      "overflow_x": null,
      "overflow_y": null,
      "padding": null,
      "right": null,
      "top": null,
      "visibility": null,
      "width": null
     }
    },
    "4228c3b0865c417498f35a5ffdd76ce4": {
     "model_module": "@jupyter-widgets/controls",
     "model_module_version": "1.5.0",
     "model_name": "HTMLModel",
     "state": {
      "_dom_classes": [],
      "_model_module": "@jupyter-widgets/controls",
      "_model_module_version": "1.5.0",
      "_model_name": "HTMLModel",
      "_view_count": null,
      "_view_module": "@jupyter-widgets/controls",
      "_view_module_version": "1.5.0",
      "_view_name": "HTMLView",
      "description": "",
      "description_tooltip": null,
      "layout": "IPY_MODEL_a43aa29475f749e9b6375ecb9cae0fdd",
      "placeholder": "​",
      "style": "IPY_MODEL_d27c1a9d40c24bb5aba2ee9bcee5c94c",
      "value": " 191M/191M [00:00&lt;00:00, 207MB/s]"
     }
    },
    "45ac30a49b5e42b0b21405e7f44a4fc7": {
     "model_module": "@jupyter-widgets/base",
     "model_module_version": "1.2.0",
     "model_name": "LayoutModel",
     "state": {
      "_model_module": "@jupyter-widgets/base",
      "_model_module_version": "1.2.0",
      "_model_name": "LayoutModel",
      "_view_count": null,
      "_view_module": "@jupyter-widgets/base",
      "_view_module_version": "1.2.0",
      "_view_name": "LayoutView",
      "align_content": null,
      "align_items": null,
      "align_self": null,
      "border": null,
      "bottom": null,
      "display": null,
      "flex": null,
      "flex_flow": null,
      "grid_area": null,
      "grid_auto_columns": null,
      "grid_auto_flow": null,
      "grid_auto_rows": null,
      "grid_column": null,
      "grid_gap": null,
      "grid_row": null,
      "grid_template_areas": null,
      "grid_template_columns": null,
      "grid_template_rows": null,
      "height": null,
      "justify_content": null,
      "justify_items": null,
      "left": null,
      "margin": null,
      "max_height": null,
      "max_width": null,
      "min_height": null,
      "min_width": null,
      "object_fit": null,
      "object_position": null,
      "order": null,
      "overflow": null,
      "overflow_x": null,
      "overflow_y": null,
      "padding": null,
      "right": null,
      "top": null,
      "visibility": null,
      "width": null
     }
    },
    "4865a4c980bf4380ab5a6f6d4d82c6b8": {
     "model_module": "@jupyter-widgets/controls",
     "model_module_version": "1.5.0",
     "model_name": "ProgressStyleModel",
     "state": {
      "_model_module": "@jupyter-widgets/controls",
      "_model_module_version": "1.5.0",
      "_model_name": "ProgressStyleModel",
      "_view_count": null,
      "_view_module": "@jupyter-widgets/base",
      "_view_module_version": "1.2.0",
      "_view_name": "StyleView",
      "bar_color": null,
      "description_width": ""
     }
    },
    "4a01817c23c64340aa02fb2f515211df": {
     "model_module": "@jupyter-widgets/controls",
     "model_module_version": "1.5.0",
     "model_name": "HBoxModel",
     "state": {
      "_dom_classes": [],
      "_model_module": "@jupyter-widgets/controls",
      "_model_module_version": "1.5.0",
      "_model_name": "HBoxModel",
      "_view_count": null,
      "_view_module": "@jupyter-widgets/controls",
      "_view_module_version": "1.5.0",
      "_view_name": "HBoxView",
      "box_style": "",
      "children": [
       "IPY_MODEL_a6cdb9e7bf2148c6a6d290413e0cff9d",
       "IPY_MODEL_9e4f96ebce4c49858d1cbdf6184ee45f",
       "IPY_MODEL_2e6507e8bc454e4cbf818da8ad372278"
      ],
      "layout": "IPY_MODEL_45ac30a49b5e42b0b21405e7f44a4fc7"
     }
    },
    "4ccbaebefe5548a8aa8b14f1b2db92e5": {
     "model_module": "@jupyter-widgets/controls",
     "model_module_version": "1.5.0",
     "model_name": "DescriptionStyleModel",
     "state": {
      "_model_module": "@jupyter-widgets/controls",
      "_model_module_version": "1.5.0",
      "_model_name": "DescriptionStyleModel",
      "_view_count": null,
      "_view_module": "@jupyter-widgets/base",
      "_view_module_version": "1.2.0",
      "_view_name": "StyleView",
      "description_width": ""
     }
    },
    "4f5b9a3843024aa78fc1b1b463f6fcf9": {
     "model_module": "@jupyter-widgets/controls",
     "model_module_version": "1.5.0",
     "model_name": "DescriptionStyleModel",
     "state": {
      "_model_module": "@jupyter-widgets/controls",
      "_model_module_version": "1.5.0",
      "_model_name": "DescriptionStyleModel",
      "_view_count": null,
      "_view_module": "@jupyter-widgets/base",
      "_view_module_version": "1.2.0",
      "_view_name": "StyleView",
      "description_width": ""
     }
    },
    "50c64c36d211484697f6779d68754101": {
     "model_module": "@jupyter-widgets/base",
     "model_module_version": "1.2.0",
     "model_name": "LayoutModel",
     "state": {
      "_model_module": "@jupyter-widgets/base",
      "_model_module_version": "1.2.0",
      "_model_name": "LayoutModel",
      "_view_count": null,
      "_view_module": "@jupyter-widgets/base",
      "_view_module_version": "1.2.0",
      "_view_name": "LayoutView",
      "align_content": null,
      "align_items": null,
      "align_self": null,
      "border": null,
      "bottom": null,
      "display": null,
      "flex": null,
      "flex_flow": null,
      "grid_area": null,
      "grid_auto_columns": null,
      "grid_auto_flow": null,
      "grid_auto_rows": null,
      "grid_column": null,
      "grid_gap": null,
      "grid_row": null,
      "grid_template_areas": null,
      "grid_template_columns": null,
      "grid_template_rows": null,
      "height": null,
      "justify_content": null,
      "justify_items": null,
      "left": null,
      "margin": null,
      "max_height": null,
      "max_width": null,
      "min_height": null,
      "min_width": null,
      "object_fit": null,
      "object_position": null,
      "order": null,
      "overflow": null,
      "overflow_x": null,
      "overflow_y": null,
      "padding": null,
      "right": null,
      "top": null,
      "visibility": null,
      "width": null
     }
    },
    "50cb221a793d4d82b1d9208ee79dba0c": {
     "model_module": "@jupyter-widgets/controls",
     "model_module_version": "1.5.0",
     "model_name": "HTMLModel",
     "state": {
      "_dom_classes": [],
      "_model_module": "@jupyter-widgets/controls",
      "_model_module_version": "1.5.0",
      "_model_name": "HTMLModel",
      "_view_count": null,
      "_view_module": "@jupyter-widgets/controls",
      "_view_module_version": "1.5.0",
      "_view_name": "HTMLView",
      "description": "",
      "description_tooltip": null,
      "layout": "IPY_MODEL_2c24bde4f345431bb00a22df858ca2eb",
      "placeholder": "​",
      "style": "IPY_MODEL_1f5bc7669fc64f28bbcd71ee99eb0ffe",
      "value": "validation-00002-of-00007.parquet: 100%"
     }
    },
    "51b4570f898946b08df4c06c6fc5abb9": {
     "model_module": "@jupyter-widgets/base",
     "model_module_version": "1.2.0",
     "model_name": "LayoutModel",
     "state": {
      "_model_module": "@jupyter-widgets/base",
      "_model_module_version": "1.2.0",
      "_model_name": "LayoutModel",
      "_view_count": null,
      "_view_module": "@jupyter-widgets/base",
      "_view_module_version": "1.2.0",
      "_view_name": "LayoutView",
      "align_content": null,
      "align_items": null,
      "align_self": null,
      "border": null,
      "bottom": null,
      "display": null,
      "flex": null,
      "flex_flow": null,
      "grid_area": null,
      "grid_auto_columns": null,
      "grid_auto_flow": null,
      "grid_auto_rows": null,
      "grid_column": null,
      "grid_gap": null,
      "grid_row": null,
      "grid_template_areas": null,
      "grid_template_columns": null,
      "grid_template_rows": null,
      "height": null,
      "justify_content": null,
      "justify_items": null,
      "left": null,
      "margin": null,
      "max_height": null,
      "max_width": null,
      "min_height": null,
      "min_width": null,
      "object_fit": null,
      "object_position": null,
      "order": null,
      "overflow": null,
      "overflow_x": null,
      "overflow_y": null,
      "padding": null,
      "right": null,
      "top": null,
      "visibility": null,
      "width": null
     }
    },
    "56633fcf42d444cd991d45ea6a918dd6": {
     "model_module": "@jupyter-widgets/base",
     "model_module_version": "1.2.0",
     "model_name": "LayoutModel",
     "state": {
      "_model_module": "@jupyter-widgets/base",
      "_model_module_version": "1.2.0",
      "_model_name": "LayoutModel",
      "_view_count": null,
      "_view_module": "@jupyter-widgets/base",
      "_view_module_version": "1.2.0",
      "_view_name": "LayoutView",
      "align_content": null,
      "align_items": null,
      "align_self": null,
      "border": null,
      "bottom": null,
      "display": null,
      "flex": null,
      "flex_flow": null,
      "grid_area": null,
      "grid_auto_columns": null,
      "grid_auto_flow": null,
      "grid_auto_rows": null,
      "grid_column": null,
      "grid_gap": null,
      "grid_row": null,
      "grid_template_areas": null,
      "grid_template_columns": null,
      "grid_template_rows": null,
      "height": null,
      "justify_content": null,
      "justify_items": null,
      "left": null,
      "margin": null,
      "max_height": null,
      "max_width": null,
      "min_height": null,
      "min_width": null,
      "object_fit": null,
      "object_position": null,
      "order": null,
      "overflow": null,
      "overflow_x": null,
      "overflow_y": null,
      "padding": null,
      "right": null,
      "top": null,
      "visibility": null,
      "width": null
     }
    },
    "56e50478b7b445fd8ae07df557286779": {
     "model_module": "@jupyter-widgets/controls",
     "model_module_version": "1.5.0",
     "model_name": "HTMLModel",
     "state": {
      "_dom_classes": [],
      "_model_module": "@jupyter-widgets/controls",
      "_model_module_version": "1.5.0",
      "_model_name": "HTMLModel",
      "_view_count": null,
      "_view_module": "@jupyter-widgets/controls",
      "_view_module_version": "1.5.0",
      "_view_name": "HTMLView",
      "description": "",
      "description_tooltip": null,
      "layout": "IPY_MODEL_96f00f7b77904369b6b8ddb550e73d1f",
      "placeholder": "​",
      "style": "IPY_MODEL_083326adb7724883897f3f967ee37173",
      "value": " 190M/190M [00:00&lt;00:00, 211MB/s]"
     }
    },
    "5901cc7a4baa4abf86317f8720a4144e": {
     "model_module": "@jupyter-widgets/controls",
     "model_module_version": "1.5.0",
     "model_name": "ProgressStyleModel",
     "state": {
      "_model_module": "@jupyter-widgets/controls",
      "_model_module_version": "1.5.0",
      "_model_name": "ProgressStyleModel",
      "_view_count": null,
      "_view_module": "@jupyter-widgets/base",
      "_view_module_version": "1.2.0",
      "_view_name": "StyleView",
      "bar_color": null,
      "description_width": ""
     }
    },
    "59ab078edb1e4d8985860368ef236e87": {
     "model_module": "@jupyter-widgets/base",
     "model_module_version": "1.2.0",
     "model_name": "LayoutModel",
     "state": {
      "_model_module": "@jupyter-widgets/base",
      "_model_module_version": "1.2.0",
      "_model_name": "LayoutModel",
      "_view_count": null,
      "_view_module": "@jupyter-widgets/base",
      "_view_module_version": "1.2.0",
      "_view_name": "LayoutView",
      "align_content": null,
      "align_items": null,
      "align_self": null,
      "border": null,
      "bottom": null,
      "display": null,
      "flex": null,
      "flex_flow": null,
      "grid_area": null,
      "grid_auto_columns": null,
      "grid_auto_flow": null,
      "grid_auto_rows": null,
      "grid_column": null,
      "grid_gap": null,
      "grid_row": null,
      "grid_template_areas": null,
      "grid_template_columns": null,
      "grid_template_rows": null,
      "height": null,
      "justify_content": null,
      "justify_items": null,
      "left": null,
      "margin": null,
      "max_height": null,
      "max_width": null,
      "min_height": null,
      "min_width": null,
      "object_fit": null,
      "object_position": null,
      "order": null,
      "overflow": null,
      "overflow_x": null,
      "overflow_y": null,
      "padding": null,
      "right": null,
      "top": null,
      "visibility": null,
      "width": null
     }
    },
    "59c8f12748be4e9cb442b9e20f66848d": {
     "model_module": "@jupyter-widgets/controls",
     "model_module_version": "1.5.0",
     "model_name": "ProgressStyleModel",
     "state": {
      "_model_module": "@jupyter-widgets/controls",
      "_model_module_version": "1.5.0",
      "_model_name": "ProgressStyleModel",
      "_view_count": null,
      "_view_module": "@jupyter-widgets/base",
      "_view_module_version": "1.2.0",
      "_view_name": "StyleView",
      "bar_color": null,
      "description_width": ""
     }
    },
    "5ba384f40b304eac9d5671547da9584d": {
     "model_module": "@jupyter-widgets/base",
     "model_module_version": "1.2.0",
     "model_name": "LayoutModel",
     "state": {
      "_model_module": "@jupyter-widgets/base",
      "_model_module_version": "1.2.0",
      "_model_name": "LayoutModel",
      "_view_count": null,
      "_view_module": "@jupyter-widgets/base",
      "_view_module_version": "1.2.0",
      "_view_name": "LayoutView",
      "align_content": null,
      "align_items": null,
      "align_self": null,
      "border": null,
      "bottom": null,
      "display": null,
      "flex": null,
      "flex_flow": null,
      "grid_area": null,
      "grid_auto_columns": null,
      "grid_auto_flow": null,
      "grid_auto_rows": null,
      "grid_column": null,
      "grid_gap": null,
      "grid_row": null,
      "grid_template_areas": null,
      "grid_template_columns": null,
      "grid_template_rows": null,
      "height": null,
      "justify_content": null,
      "justify_items": null,
      "left": null,
      "margin": null,
      "max_height": null,
      "max_width": null,
      "min_height": null,
      "min_width": null,
      "object_fit": null,
      "object_position": null,
      "order": null,
      "overflow": null,
      "overflow_x": null,
      "overflow_y": null,
      "padding": null,
      "right": null,
      "top": null,
      "visibility": null,
      "width": null
     }
    },
    "5daa5403c8d44ea5bfd1c0a543def40e": {
     "model_module": "@jupyter-widgets/controls",
     "model_module_version": "1.5.0",
     "model_name": "HBoxModel",
     "state": {
      "_dom_classes": [],
      "_model_module": "@jupyter-widgets/controls",
      "_model_module_version": "1.5.0",
      "_model_name": "HBoxModel",
      "_view_count": null,
      "_view_module": "@jupyter-widgets/controls",
      "_view_module_version": "1.5.0",
      "_view_name": "HBoxView",
      "box_style": "",
      "children": [
       "IPY_MODEL_b5927b0a68e84e9da8d662381028e2ee",
       "IPY_MODEL_022258dafc5442a09e3f855a7941701d",
       "IPY_MODEL_08ce7fdbd266473b8532392bd07de276"
      ],
      "layout": "IPY_MODEL_740185da65e3436c9d33012344dccfa9"
     }
    },
    "6106d750d3d842ff82bf6759f5397700": {
     "model_module": "@jupyter-widgets/base",
     "model_module_version": "1.2.0",
     "model_name": "LayoutModel",
     "state": {
      "_model_module": "@jupyter-widgets/base",
      "_model_module_version": "1.2.0",
      "_model_name": "LayoutModel",
      "_view_count": null,
      "_view_module": "@jupyter-widgets/base",
      "_view_module_version": "1.2.0",
      "_view_name": "LayoutView",
      "align_content": null,
      "align_items": null,
      "align_self": null,
      "border": null,
      "bottom": null,
      "display": null,
      "flex": null,
      "flex_flow": null,
      "grid_area": null,
      "grid_auto_columns": null,
      "grid_auto_flow": null,
      "grid_auto_rows": null,
      "grid_column": null,
      "grid_gap": null,
      "grid_row": null,
      "grid_template_areas": null,
      "grid_template_columns": null,
      "grid_template_rows": null,
      "height": null,
      "justify_content": null,
      "justify_items": null,
      "left": null,
      "margin": null,
      "max_height": null,
      "max_width": null,
      "min_height": null,
      "min_width": null,
      "object_fit": null,
      "object_position": null,
      "order": null,
      "overflow": null,
      "overflow_x": null,
      "overflow_y": null,
      "padding": null,
      "right": null,
      "top": null,
      "visibility": null,
      "width": null
     }
    },
    "61b3c810670c46c08161b08d30edf096": {
     "model_module": "@jupyter-widgets/controls",
     "model_module_version": "1.5.0",
     "model_name": "HTMLModel",
     "state": {
      "_dom_classes": [],
      "_model_module": "@jupyter-widgets/controls",
      "_model_module_version": "1.5.0",
      "_model_name": "HTMLModel",
      "_view_count": null,
      "_view_module": "@jupyter-widgets/controls",
      "_view_module_version": "1.5.0",
      "_view_name": "HTMLView",
      "description": "",
      "description_tooltip": null,
      "layout": "IPY_MODEL_a39cd7f37afe4adfb52f48e1b6dd7669",
      "placeholder": "​",
      "style": "IPY_MODEL_b5ac3106f1d7490788eeb0bb76d08a39",
      "value": " 13.7k/13.7k [00:00&lt;00:00, 1.09MB/s]"
     }
    },
    "61e17f4cd0fb49d9bf3dfe05482c6cdb": {
     "model_module": "@jupyter-widgets/controls",
     "model_module_version": "1.5.0",
     "model_name": "DescriptionStyleModel",
     "state": {
      "_model_module": "@jupyter-widgets/controls",
      "_model_module_version": "1.5.0",
      "_model_name": "DescriptionStyleModel",
      "_view_count": null,
      "_view_module": "@jupyter-widgets/base",
      "_view_module_version": "1.2.0",
      "_view_name": "StyleView",
      "description_width": ""
     }
    },
    "624670ca4d9e40be9a8b93f9a6e23101": {
     "model_module": "@jupyter-widgets/controls",
     "model_module_version": "1.5.0",
     "model_name": "HBoxModel",
     "state": {
      "_dom_classes": [],
      "_model_module": "@jupyter-widgets/controls",
      "_model_module_version": "1.5.0",
      "_model_name": "HBoxModel",
      "_view_count": null,
      "_view_module": "@jupyter-widgets/controls",
      "_view_module_version": "1.5.0",
      "_view_name": "HBoxView",
      "box_style": "",
      "children": [
       "IPY_MODEL_6d2e47c9c09346a58edbffd6a6bee0be",
       "IPY_MODEL_eb4244e473a04876bae9cfa6baf63832",
       "IPY_MODEL_6db2bcbba1bf487dad3c8d16cb81029d"
      ],
      "layout": "IPY_MODEL_59ab078edb1e4d8985860368ef236e87"
     }
    },
    "628d69c43119427baf24760b37a19d6a": {
     "model_module": "@jupyter-widgets/controls",
     "model_module_version": "1.5.0",
     "model_name": "DescriptionStyleModel",
     "state": {
      "_model_module": "@jupyter-widgets/controls",
      "_model_module_version": "1.5.0",
      "_model_name": "DescriptionStyleModel",
      "_view_count": null,
      "_view_module": "@jupyter-widgets/base",
      "_view_module_version": "1.2.0",
      "_view_name": "StyleView",
      "description_width": ""
     }
    },
    "6730499a9713411f90ed06c469a13242": {
     "model_module": "@jupyter-widgets/controls",
     "model_module_version": "1.5.0",
     "model_name": "DescriptionStyleModel",
     "state": {
      "_model_module": "@jupyter-widgets/controls",
      "_model_module_version": "1.5.0",
      "_model_name": "DescriptionStyleModel",
      "_view_count": null,
      "_view_module": "@jupyter-widgets/base",
      "_view_module_version": "1.2.0",
      "_view_name": "StyleView",
      "description_width": ""
     }
    },
    "679e04bb4b4e417c88a9705a85793fdd": {
     "model_module": "@jupyter-widgets/base",
     "model_module_version": "1.2.0",
     "model_name": "LayoutModel",
     "state": {
      "_model_module": "@jupyter-widgets/base",
      "_model_module_version": "1.2.0",
      "_model_name": "LayoutModel",
      "_view_count": null,
      "_view_module": "@jupyter-widgets/base",
      "_view_module_version": "1.2.0",
      "_view_name": "LayoutView",
      "align_content": null,
      "align_items": null,
      "align_self": null,
      "border": null,
      "bottom": null,
      "display": null,
      "flex": null,
      "flex_flow": null,
      "grid_area": null,
      "grid_auto_columns": null,
      "grid_auto_flow": null,
      "grid_auto_rows": null,
      "grid_column": null,
      "grid_gap": null,
      "grid_row": null,
      "grid_template_areas": null,
      "grid_template_columns": null,
      "grid_template_rows": null,
      "height": null,
      "justify_content": null,
      "justify_items": null,
      "left": null,
      "margin": null,
      "max_height": null,
      "max_width": null,
      "min_height": null,
      "min_width": null,
      "object_fit": null,
      "object_position": null,
      "order": null,
      "overflow": null,
      "overflow_x": null,
      "overflow_y": null,
      "padding": null,
      "right": null,
      "top": null,
      "visibility": null,
      "width": null
     }
    },
    "69f37265dfc242ba82d2c893793d0801": {
     "model_module": "@jupyter-widgets/base",
     "model_module_version": "1.2.0",
     "model_name": "LayoutModel",
     "state": {
      "_model_module": "@jupyter-widgets/base",
      "_model_module_version": "1.2.0",
      "_model_name": "LayoutModel",
      "_view_count": null,
      "_view_module": "@jupyter-widgets/base",
      "_view_module_version": "1.2.0",
      "_view_name": "LayoutView",
      "align_content": null,
      "align_items": null,
      "align_self": null,
      "border": null,
      "bottom": null,
      "display": null,
      "flex": null,
      "flex_flow": null,
      "grid_area": null,
      "grid_auto_columns": null,
      "grid_auto_flow": null,
      "grid_auto_rows": null,
      "grid_column": null,
      "grid_gap": null,
      "grid_row": null,
      "grid_template_areas": null,
      "grid_template_columns": null,
      "grid_template_rows": null,
      "height": null,
      "justify_content": null,
      "justify_items": null,
      "left": null,
      "margin": null,
      "max_height": null,
      "max_width": null,
      "min_height": null,
      "min_width": null,
      "object_fit": null,
      "object_position": null,
      "order": null,
      "overflow": null,
      "overflow_x": null,
      "overflow_y": null,
      "padding": null,
      "right": null,
      "top": null,
      "visibility": null,
      "width": null
     }
    },
    "6bc3544d28ce4a38af0d4dd898015c31": {
     "model_module": "@jupyter-widgets/base",
     "model_module_version": "1.2.0",
     "model_name": "LayoutModel",
     "state": {
      "_model_module": "@jupyter-widgets/base",
      "_model_module_version": "1.2.0",
      "_model_name": "LayoutModel",
      "_view_count": null,
      "_view_module": "@jupyter-widgets/base",
      "_view_module_version": "1.2.0",
      "_view_name": "LayoutView",
      "align_content": null,
      "align_items": null,
      "align_self": null,
      "border": null,
      "bottom": null,
      "display": null,
      "flex": null,
      "flex_flow": null,
      "grid_area": null,
      "grid_auto_columns": null,
      "grid_auto_flow": null,
      "grid_auto_rows": null,
      "grid_column": null,
      "grid_gap": null,
      "grid_row": null,
      "grid_template_areas": null,
      "grid_template_columns": null,
      "grid_template_rows": null,
      "height": null,
      "justify_content": null,
      "justify_items": null,
      "left": null,
      "margin": null,
      "max_height": null,
      "max_width": null,
      "min_height": null,
      "min_width": null,
      "object_fit": null,
      "object_position": null,
      "order": null,
      "overflow": null,
      "overflow_x": null,
      "overflow_y": null,
      "padding": null,
      "right": null,
      "top": null,
      "visibility": null,
      "width": null
     }
    },
    "6be3d171de9b49ce8d253d7d6b93df4e": {
     "model_module": "@jupyter-widgets/base",
     "model_module_version": "1.2.0",
     "model_name": "LayoutModel",
     "state": {
      "_model_module": "@jupyter-widgets/base",
      "_model_module_version": "1.2.0",
      "_model_name": "LayoutModel",
      "_view_count": null,
      "_view_module": "@jupyter-widgets/base",
      "_view_module_version": "1.2.0",
      "_view_name": "LayoutView",
      "align_content": null,
      "align_items": null,
      "align_self": null,
      "border": null,
      "bottom": null,
      "display": null,
      "flex": null,
      "flex_flow": null,
      "grid_area": null,
      "grid_auto_columns": null,
      "grid_auto_flow": null,
      "grid_auto_rows": null,
      "grid_column": null,
      "grid_gap": null,
      "grid_row": null,
      "grid_template_areas": null,
      "grid_template_columns": null,
      "grid_template_rows": null,
      "height": null,
      "justify_content": null,
      "justify_items": null,
      "left": null,
      "margin": null,
      "max_height": null,
      "max_width": null,
      "min_height": null,
      "min_width": null,
      "object_fit": null,
      "object_position": null,
      "order": null,
      "overflow": null,
      "overflow_x": null,
      "overflow_y": null,
      "padding": null,
      "right": null,
      "top": null,
      "visibility": null,
      "width": null
     }
    },
    "6c057d347bf04ebf9c46d9ccc1f3f2fb": {
     "model_module": "@jupyter-widgets/controls",
     "model_module_version": "1.5.0",
     "model_name": "ProgressStyleModel",
     "state": {
      "_model_module": "@jupyter-widgets/controls",
      "_model_module_version": "1.5.0",
      "_model_name": "ProgressStyleModel",
      "_view_count": null,
      "_view_module": "@jupyter-widgets/base",
      "_view_module_version": "1.2.0",
      "_view_name": "StyleView",
      "bar_color": null,
      "description_width": ""
     }
    },
    "6d2e47c9c09346a58edbffd6a6bee0be": {
     "model_module": "@jupyter-widgets/controls",
     "model_module_version": "1.5.0",
     "model_name": "HTMLModel",
     "state": {
      "_dom_classes": [],
      "_model_module": "@jupyter-widgets/controls",
      "_model_module_version": "1.5.0",
      "_model_name": "HTMLModel",
      "_view_count": null,
      "_view_module": "@jupyter-widgets/controls",
      "_view_module_version": "1.5.0",
      "_view_name": "HTMLView",
      "description": "",
      "description_tooltip": null,
      "layout": "IPY_MODEL_bee1b255c12844e28c0c01f023b4dcb7",
      "placeholder": "​",
      "style": "IPY_MODEL_290999defe7843ebb15bf9a842a0a8f6",
      "value": "validation-00006-of-00007.parquet: 100%"
     }
    },
    "6db2bcbba1bf487dad3c8d16cb81029d": {
     "model_module": "@jupyter-widgets/controls",
     "model_module_version": "1.5.0",
     "model_name": "HTMLModel",
     "state": {
      "_dom_classes": [],
      "_model_module": "@jupyter-widgets/controls",
      "_model_module_version": "1.5.0",
      "_model_name": "HTMLModel",
      "_view_count": null,
      "_view_module": "@jupyter-widgets/controls",
      "_view_module_version": "1.5.0",
      "_view_name": "HTMLView",
      "description": "",
      "description_tooltip": null,
      "layout": "IPY_MODEL_213dd7d460cf495ba331f701c5aeb9d7",
      "placeholder": "​",
      "style": "IPY_MODEL_ccf14eb765484bddb5b7c9d36fd63a3f",
      "value": " 190M/190M [00:00&lt;00:00, 213MB/s]"
     }
    },
    "6ddad92fc6de46069c56483488fcb629": {
     "model_module": "@jupyter-widgets/controls",
     "model_module_version": "1.5.0",
     "model_name": "DescriptionStyleModel",
     "state": {
      "_model_module": "@jupyter-widgets/controls",
      "_model_module_version": "1.5.0",
      "_model_name": "DescriptionStyleModel",
      "_view_count": null,
      "_view_module": "@jupyter-widgets/base",
      "_view_module_version": "1.2.0",
      "_view_name": "StyleView",
      "description_width": ""
     }
    },
    "709689921d5a46c9a53a1e13cc210f20": {
     "model_module": "@jupyter-widgets/controls",
     "model_module_version": "1.5.0",
     "model_name": "FloatProgressModel",
     "state": {
      "_dom_classes": [],
      "_model_module": "@jupyter-widgets/controls",
      "_model_module_version": "1.5.0",
      "_model_name": "FloatProgressModel",
      "_view_count": null,
      "_view_module": "@jupyter-widgets/controls",
      "_view_module_version": "1.5.0",
      "_view_name": "ProgressView",
      "bar_style": "success",
      "description": "",
      "description_tooltip": null,
      "layout": "IPY_MODEL_879c6299265840a4ba920f4203335205",
      "max": 197099510,
      "min": 0,
      "orientation": "horizontal",
      "style": "IPY_MODEL_e7d8b6e4e26645bca66f61fa3dacd86b",
      "value": 197099510
     }
    },
    "73a61c945d7e482ca2087c47c893521e": {
     "model_module": "@jupyter-widgets/controls",
     "model_module_version": "1.5.0",
     "model_name": "HTMLModel",
     "state": {
      "_dom_classes": [],
      "_model_module": "@jupyter-widgets/controls",
      "_model_module_version": "1.5.0",
      "_model_name": "HTMLModel",
      "_view_count": null,
      "_view_module": "@jupyter-widgets/controls",
      "_view_module_version": "1.5.0",
      "_view_name": "HTMLView",
      "description": "",
      "description_tooltip": null,
      "layout": "IPY_MODEL_d21c5b7c8bf04bd8b908a9ab5c57aab3",
      "placeholder": "​",
      "style": "IPY_MODEL_6ddad92fc6de46069c56483488fcb629",
      "value": "validation-00001-of-00007.parquet: 100%"
     }
    },
    "740185da65e3436c9d33012344dccfa9": {
     "model_module": "@jupyter-widgets/base",
     "model_module_version": "1.2.0",
     "model_name": "LayoutModel",
     "state": {
      "_model_module": "@jupyter-widgets/base",
      "_model_module_version": "1.2.0",
      "_model_name": "LayoutModel",
      "_view_count": null,
      "_view_module": "@jupyter-widgets/base",
      "_view_module_version": "1.2.0",
      "_view_name": "LayoutView",
      "align_content": null,
      "align_items": null,
      "align_self": null,
      "border": null,
      "bottom": null,
      "display": null,
      "flex": null,
      "flex_flow": null,
      "grid_area": null,
      "grid_auto_columns": null,
      "grid_auto_flow": null,
      "grid_auto_rows": null,
      "grid_column": null,
      "grid_gap": null,
      "grid_row": null,
      "grid_template_areas": null,
      "grid_template_columns": null,
      "grid_template_rows": null,
      "height": null,
      "justify_content": null,
      "justify_items": null,
      "left": null,
      "margin": null,
      "max_height": null,
      "max_width": null,
      "min_height": null,
      "min_width": null,
      "object_fit": null,
      "object_position": null,
      "order": null,
      "overflow": null,
      "overflow_x": null,
      "overflow_y": null,
      "padding": null,
      "right": null,
      "top": null,
      "visibility": null,
      "width": null
     }
    },
    "75a898fb1b06467393ce842b803d9b1c": {
     "model_module": "@jupyter-widgets/controls",
     "model_module_version": "1.5.0",
     "model_name": "HBoxModel",
     "state": {
      "_dom_classes": [],
      "_model_module": "@jupyter-widgets/controls",
      "_model_module_version": "1.5.0",
      "_model_name": "HBoxModel",
      "_view_count": null,
      "_view_module": "@jupyter-widgets/controls",
      "_view_module_version": "1.5.0",
      "_view_name": "HBoxView",
      "box_style": "",
      "children": [
       "IPY_MODEL_b0ed09005ea6476b95cb448c3f70375b",
       "IPY_MODEL_d35fc406e04047cb81ea173564042e4c",
       "IPY_MODEL_1f96ec44394546b58ed9cc79d4385cc1"
      ],
      "layout": "IPY_MODEL_d63665109d2842458374c84a919e9ead"
     }
    },
    "75bfbbbd45d340ba8c02f30b05681fb4": {
     "model_module": "@jupyter-widgets/controls",
     "model_module_version": "1.5.0",
     "model_name": "HBoxModel",
     "state": {
      "_dom_classes": [],
      "_model_module": "@jupyter-widgets/controls",
      "_model_module_version": "1.5.0",
      "_model_name": "HBoxModel",
      "_view_count": null,
      "_view_module": "@jupyter-widgets/controls",
      "_view_module_version": "1.5.0",
      "_view_name": "HBoxView",
      "box_style": "",
      "children": [
       "IPY_MODEL_fbfd3a198bef4b66bdd01351d2775893",
       "IPY_MODEL_271df973f83d4f01b3899b604bdb0506",
       "IPY_MODEL_15246198e5f24bcd9502e26f3481f26c"
      ],
      "layout": "IPY_MODEL_308ba00cb7b64afab192849171cb2057"
     }
    },
    "76cf27b122294d1e8c1173194cfb3a79": {
     "model_module": "@jupyter-widgets/controls",
     "model_module_version": "1.5.0",
     "model_name": "FloatProgressModel",
     "state": {
      "_dom_classes": [],
      "_model_module": "@jupyter-widgets/controls",
      "_model_module_version": "1.5.0",
      "_model_name": "FloatProgressModel",
      "_view_count": null,
      "_view_module": "@jupyter-widgets/controls",
      "_view_module_version": "1.5.0",
      "_view_name": "ProgressView",
      "bar_style": "success",
      "description": "",
      "description_tooltip": null,
      "layout": "IPY_MODEL_0184f4d8199743fe8e2bf064ef55550b",
      "max": 13681,
      "min": 0,
      "orientation": "horizontal",
      "style": "IPY_MODEL_4865a4c980bf4380ab5a6f6d4d82c6b8",
      "value": 13681
     }
    },
    "7ac9b4466c2d45959b29b5d6dc279314": {
     "model_module": "@jupyter-widgets/controls",
     "model_module_version": "1.5.0",
     "model_name": "DescriptionStyleModel",
     "state": {
      "_model_module": "@jupyter-widgets/controls",
      "_model_module_version": "1.5.0",
      "_model_name": "DescriptionStyleModel",
      "_view_count": null,
      "_view_module": "@jupyter-widgets/base",
      "_view_module_version": "1.2.0",
      "_view_name": "StyleView",
      "description_width": ""
     }
    },
    "859d7d5b859f486491c43d3db7d6e395": {
     "model_module": "@jupyter-widgets/controls",
     "model_module_version": "1.5.0",
     "model_name": "HBoxModel",
     "state": {
      "_dom_classes": [],
      "_model_module": "@jupyter-widgets/controls",
      "_model_module_version": "1.5.0",
      "_model_name": "HBoxModel",
      "_view_count": null,
      "_view_module": "@jupyter-widgets/controls",
      "_view_module_version": "1.5.0",
      "_view_name": "HBoxView",
      "box_style": "",
      "children": [
       "IPY_MODEL_07b80897917549e0a938a114e4f85e70",
       "IPY_MODEL_1cb27e24d7754e678c6a013967a60217",
       "IPY_MODEL_f5b8ad311be044eaa96bc7fa42c9220e"
      ],
      "layout": "IPY_MODEL_018f231db99d4371ac836070d716cb10"
     }
    },
    "86fa4b64050d49b6ba4bcd8b9b73c183": {
     "model_module": "@jupyter-widgets/controls",
     "model_module_version": "1.5.0",
     "model_name": "DescriptionStyleModel",
     "state": {
      "_model_module": "@jupyter-widgets/controls",
      "_model_module_version": "1.5.0",
      "_model_name": "DescriptionStyleModel",
      "_view_count": null,
      "_view_module": "@jupyter-widgets/base",
      "_view_module_version": "1.2.0",
      "_view_name": "StyleView",
      "description_width": ""
     }
    },
    "879c6299265840a4ba920f4203335205": {
     "model_module": "@jupyter-widgets/base",
     "model_module_version": "1.2.0",
     "model_name": "LayoutModel",
     "state": {
      "_model_module": "@jupyter-widgets/base",
      "_model_module_version": "1.2.0",
      "_model_name": "LayoutModel",
      "_view_count": null,
      "_view_module": "@jupyter-widgets/base",
      "_view_module_version": "1.2.0",
      "_view_name": "LayoutView",
      "align_content": null,
      "align_items": null,
      "align_self": null,
      "border": null,
      "bottom": null,
      "display": null,
      "flex": null,
      "flex_flow": null,
      "grid_area": null,
      "grid_auto_columns": null,
      "grid_auto_flow": null,
      "grid_auto_rows": null,
      "grid_column": null,
      "grid_gap": null,
      "grid_row": null,
      "grid_template_areas": null,
      "grid_template_columns": null,
      "grid_template_rows": null,
      "height": null,
      "justify_content": null,
      "justify_items": null,
      "left": null,
      "margin": null,
      "max_height": null,
      "max_width": null,
      "min_height": null,
      "min_width": null,
      "object_fit": null,
      "object_position": null,
      "order": null,
      "overflow": null,
      "overflow_x": null,
      "overflow_y": null,
      "padding": null,
      "right": null,
      "top": null,
      "visibility": null,
      "width": null
     }
    },
    "96f00f7b77904369b6b8ddb550e73d1f": {
     "model_module": "@jupyter-widgets/base",
     "model_module_version": "1.2.0",
     "model_name": "LayoutModel",
     "state": {
      "_model_module": "@jupyter-widgets/base",
      "_model_module_version": "1.2.0",
      "_model_name": "LayoutModel",
      "_view_count": null,
      "_view_module": "@jupyter-widgets/base",
      "_view_module_version": "1.2.0",
      "_view_name": "LayoutView",
      "align_content": null,
      "align_items": null,
      "align_self": null,
      "border": null,
      "bottom": null,
      "display": null,
      "flex": null,
      "flex_flow": null,
      "grid_area": null,
      "grid_auto_columns": null,
      "grid_auto_flow": null,
      "grid_auto_rows": null,
      "grid_column": null,
      "grid_gap": null,
      "grid_row": null,
      "grid_template_areas": null,
      "grid_template_columns": null,
      "grid_template_rows": null,
      "height": null,
      "justify_content": null,
      "justify_items": null,
      "left": null,
      "margin": null,
      "max_height": null,
      "max_width": null,
      "min_height": null,
      "min_width": null,
      "object_fit": null,
      "object_position": null,
      "order": null,
      "overflow": null,
      "overflow_x": null,
      "overflow_y": null,
      "padding": null,
      "right": null,
      "top": null,
      "visibility": null,
      "width": null
     }
    },
    "97b94572c1cd4da78eecdd157059854d": {
     "model_module": "@jupyter-widgets/controls",
     "model_module_version": "1.5.0",
     "model_name": "DescriptionStyleModel",
     "state": {
      "_model_module": "@jupyter-widgets/controls",
      "_model_module_version": "1.5.0",
      "_model_name": "DescriptionStyleModel",
      "_view_count": null,
      "_view_module": "@jupyter-widgets/base",
      "_view_module_version": "1.2.0",
      "_view_name": "StyleView",
      "description_width": ""
     }
    },
    "98c1791b67f9483c98ddc6cb41bf103c": {
     "model_module": "@jupyter-widgets/controls",
     "model_module_version": "1.5.0",
     "model_name": "FloatProgressModel",
     "state": {
      "_dom_classes": [],
      "_model_module": "@jupyter-widgets/controls",
      "_model_module_version": "1.5.0",
      "_model_name": "FloatProgressModel",
      "_view_count": null,
      "_view_module": "@jupyter-widgets/controls",
      "_view_module_version": "1.5.0",
      "_view_name": "ProgressView",
      "bar_style": "success",
      "description": "",
      "description_tooltip": null,
      "layout": "IPY_MODEL_50c64c36d211484697f6779d68754101",
      "max": 190921063,
      "min": 0,
      "orientation": "horizontal",
      "style": "IPY_MODEL_390955a40ff3466a8035ec045ba07b6e",
      "value": 190921063
     }
    },
    "9a548e55f0e347748bd372150d250754": {
     "model_module": "@jupyter-widgets/base",
     "model_module_version": "1.2.0",
     "model_name": "LayoutModel",
     "state": {
      "_model_module": "@jupyter-widgets/base",
      "_model_module_version": "1.2.0",
      "_model_name": "LayoutModel",
      "_view_count": null,
      "_view_module": "@jupyter-widgets/base",
      "_view_module_version": "1.2.0",
      "_view_name": "LayoutView",
      "align_content": null,
      "align_items": null,
      "align_self": null,
      "border": null,
      "bottom": null,
      "display": null,
      "flex": null,
      "flex_flow": null,
      "grid_area": null,
      "grid_auto_columns": null,
      "grid_auto_flow": null,
      "grid_auto_rows": null,
      "grid_column": null,
      "grid_gap": null,
      "grid_row": null,
      "grid_template_areas": null,
      "grid_template_columns": null,
      "grid_template_rows": null,
      "height": null,
      "justify_content": null,
      "justify_items": null,
      "left": null,
      "margin": null,
      "max_height": null,
      "max_width": null,
      "min_height": null,
      "min_width": null,
      "object_fit": null,
      "object_position": null,
      "order": null,
      "overflow": null,
      "overflow_x": null,
      "overflow_y": null,
      "padding": null,
      "right": null,
      "top": null,
      "visibility": null,
      "width": null
     }
    },
    "9e4f96ebce4c49858d1cbdf6184ee45f": {
     "model_module": "@jupyter-widgets/controls",
     "model_module_version": "1.5.0",
     "model_name": "FloatProgressModel",
     "state": {
      "_dom_classes": [],
      "_model_module": "@jupyter-widgets/controls",
      "_model_module_version": "1.5.0",
      "_model_name": "FloatProgressModel",
      "_view_count": null,
      "_view_module": "@jupyter-widgets/controls",
      "_view_module_version": "1.5.0",
      "_view_name": "ProgressView",
      "bar_style": "success",
      "description": "",
      "description_tooltip": null,
      "layout": "IPY_MODEL_c32bd5ac5a524b26888f984f04987c6a",
      "max": 287,
      "min": 0,
      "orientation": "horizontal",
      "style": "IPY_MODEL_6c057d347bf04ebf9c46d9ccc1f3f2fb",
      "value": 287
     }
    },
    "9eacf72c600a410c80f2f403fe99db93": {
     "model_module": "@jupyter-widgets/controls",
     "model_module_version": "1.5.0",
     "model_name": "DescriptionStyleModel",
     "state": {
      "_model_module": "@jupyter-widgets/controls",
      "_model_module_version": "1.5.0",
      "_model_name": "DescriptionStyleModel",
      "_view_count": null,
      "_view_module": "@jupyter-widgets/base",
      "_view_module_version": "1.2.0",
      "_view_name": "StyleView",
      "description_width": ""
     }
    },
    "9f4e8b82a6df40879b77130e2c05f480": {
     "model_module": "@jupyter-widgets/base",
     "model_module_version": "1.2.0",
     "model_name": "LayoutModel",
     "state": {
      "_model_module": "@jupyter-widgets/base",
      "_model_module_version": "1.2.0",
      "_model_name": "LayoutModel",
      "_view_count": null,
      "_view_module": "@jupyter-widgets/base",
      "_view_module_version": "1.2.0",
      "_view_name": "LayoutView",
      "align_content": null,
      "align_items": null,
      "align_self": null,
      "border": null,
      "bottom": null,
      "display": null,
      "flex": null,
      "flex_flow": null,
      "grid_area": null,
      "grid_auto_columns": null,
      "grid_auto_flow": null,
      "grid_auto_rows": null,
      "grid_column": null,
      "grid_gap": null,
      "grid_row": null,
      "grid_template_areas": null,
      "grid_template_columns": null,
      "grid_template_rows": null,
      "height": null,
      "justify_content": null,
      "justify_items": null,
      "left": null,
      "margin": null,
      "max_height": null,
      "max_width": null,
      "min_height": null,
      "min_width": null,
      "object_fit": null,
      "object_position": null,
      "order": null,
      "overflow": null,
      "overflow_x": null,
      "overflow_y": null,
      "padding": null,
      "right": null,
      "top": null,
      "visibility": null,
      "width": null
     }
    },
    "a375c1fb77004fa7bbc84183bd2d6480": {
     "model_module": "@jupyter-widgets/base",
     "model_module_version": "1.2.0",
     "model_name": "LayoutModel",
     "state": {
      "_model_module": "@jupyter-widgets/base",
      "_model_module_version": "1.2.0",
      "_model_name": "LayoutModel",
      "_view_count": null,
      "_view_module": "@jupyter-widgets/base",
      "_view_module_version": "1.2.0",
      "_view_name": "LayoutView",
      "align_content": null,
      "align_items": null,
      "align_self": null,
      "border": null,
      "bottom": null,
      "display": null,
      "flex": null,
      "flex_flow": null,
      "grid_area": null,
      "grid_auto_columns": null,
      "grid_auto_flow": null,
      "grid_auto_rows": null,
      "grid_column": null,
      "grid_gap": null,
      "grid_row": null,
      "grid_template_areas": null,
      "grid_template_columns": null,
      "grid_template_rows": null,
      "height": null,
      "justify_content": null,
      "justify_items": null,
      "left": null,
      "margin": null,
      "max_height": null,
      "max_width": null,
      "min_height": null,
      "min_width": null,
      "object_fit": null,
      "object_position": null,
      "order": null,
      "overflow": null,
      "overflow_x": null,
      "overflow_y": null,
      "padding": null,
      "right": null,
      "top": null,
      "visibility": null,
      "width": null
     }
    },
    "a39cd7f37afe4adfb52f48e1b6dd7669": {
     "model_module": "@jupyter-widgets/base",
     "model_module_version": "1.2.0",
     "model_name": "LayoutModel",
     "state": {
      "_model_module": "@jupyter-widgets/base",
      "_model_module_version": "1.2.0",
      "_model_name": "LayoutModel",
      "_view_count": null,
      "_view_module": "@jupyter-widgets/base",
      "_view_module_version": "1.2.0",
      "_view_name": "LayoutView",
      "align_content": null,
      "align_items": null,
      "align_self": null,
      "border": null,
      "bottom": null,
      "display": null,
      "flex": null,
      "flex_flow": null,
      "grid_area": null,
      "grid_auto_columns": null,
      "grid_auto_flow": null,
      "grid_auto_rows": null,
      "grid_column": null,
      "grid_gap": null,
      "grid_row": null,
      "grid_template_areas": null,
      "grid_template_columns": null,
      "grid_template_rows": null,
      "height": null,
      "justify_content": null,
      "justify_items": null,
      "left": null,
      "margin": null,
      "max_height": null,
      "max_width": null,
      "min_height": null,
      "min_width": null,
      "object_fit": null,
      "object_position": null,
      "order": null,
      "overflow": null,
      "overflow_x": null,
      "overflow_y": null,
      "padding": null,
      "right": null,
      "top": null,
      "visibility": null,
      "width": null
     }
    },
    "a3a1bb788835489da49e0f010450fa92": {
     "model_module": "@jupyter-widgets/base",
     "model_module_version": "1.2.0",
     "model_name": "LayoutModel",
     "state": {
      "_model_module": "@jupyter-widgets/base",
      "_model_module_version": "1.2.0",
      "_model_name": "LayoutModel",
      "_view_count": null,
      "_view_module": "@jupyter-widgets/base",
      "_view_module_version": "1.2.0",
      "_view_name": "LayoutView",
      "align_content": null,
      "align_items": null,
      "align_self": null,
      "border": null,
      "bottom": null,
      "display": null,
      "flex": null,
      "flex_flow": null,
      "grid_area": null,
      "grid_auto_columns": null,
      "grid_auto_flow": null,
      "grid_auto_rows": null,
      "grid_column": null,
      "grid_gap": null,
      "grid_row": null,
      "grid_template_areas": null,
      "grid_template_columns": null,
      "grid_template_rows": null,
      "height": null,
      "justify_content": null,
      "justify_items": null,
      "left": null,
      "margin": null,
      "max_height": null,
      "max_width": null,
      "min_height": null,
      "min_width": null,
      "object_fit": null,
      "object_position": null,
      "order": null,
      "overflow": null,
      "overflow_x": null,
      "overflow_y": null,
      "padding": null,
      "right": null,
      "top": null,
      "visibility": null,
      "width": null
     }
    },
    "a43aa29475f749e9b6375ecb9cae0fdd": {
     "model_module": "@jupyter-widgets/base",
     "model_module_version": "1.2.0",
     "model_name": "LayoutModel",
     "state": {
      "_model_module": "@jupyter-widgets/base",
      "_model_module_version": "1.2.0",
      "_model_name": "LayoutModel",
      "_view_count": null,
      "_view_module": "@jupyter-widgets/base",
      "_view_module_version": "1.2.0",
      "_view_name": "LayoutView",
      "align_content": null,
      "align_items": null,
      "align_self": null,
      "border": null,
      "bottom": null,
      "display": null,
      "flex": null,
      "flex_flow": null,
      "grid_area": null,
      "grid_auto_columns": null,
      "grid_auto_flow": null,
      "grid_auto_rows": null,
      "grid_column": null,
      "grid_gap": null,
      "grid_row": null,
      "grid_template_areas": null,
      "grid_template_columns": null,
      "grid_template_rows": null,
      "height": null,
      "justify_content": null,
      "justify_items": null,
      "left": null,
      "margin": null,
      "max_height": null,
      "max_width": null,
      "min_height": null,
      "min_width": null,
      "object_fit": null,
      "object_position": null,
      "order": null,
      "overflow": null,
      "overflow_x": null,
      "overflow_y": null,
      "padding": null,
      "right": null,
      "top": null,
      "visibility": null,
      "width": null
     }
    },
    "a574b24c47304d769eac45f8ccd4d91f": {
     "model_module": "@jupyter-widgets/controls",
     "model_module_version": "1.5.0",
     "model_name": "ProgressStyleModel",
     "state": {
      "_model_module": "@jupyter-widgets/controls",
      "_model_module_version": "1.5.0",
      "_model_name": "ProgressStyleModel",
      "_view_count": null,
      "_view_module": "@jupyter-widgets/base",
      "_view_module_version": "1.2.0",
      "_view_name": "StyleView",
      "bar_color": null,
      "description_width": ""
     }
    },
    "a65a3a201f5540408d0500f3f2f6b9b7": {
     "model_module": "@jupyter-widgets/base",
     "model_module_version": "1.2.0",
     "model_name": "LayoutModel",
     "state": {
      "_model_module": "@jupyter-widgets/base",
      "_model_module_version": "1.2.0",
      "_model_name": "LayoutModel",
      "_view_count": null,
      "_view_module": "@jupyter-widgets/base",
      "_view_module_version": "1.2.0",
      "_view_name": "LayoutView",
      "align_content": null,
      "align_items": null,
      "align_self": null,
      "border": null,
      "bottom": null,
      "display": null,
      "flex": null,
      "flex_flow": null,
      "grid_area": null,
      "grid_auto_columns": null,
      "grid_auto_flow": null,
      "grid_auto_rows": null,
      "grid_column": null,
      "grid_gap": null,
      "grid_row": null,
      "grid_template_areas": null,
      "grid_template_columns": null,
      "grid_template_rows": null,
      "height": null,
      "justify_content": null,
      "justify_items": null,
      "left": null,
      "margin": null,
      "max_height": null,
      "max_width": null,
      "min_height": null,
      "min_width": null,
      "object_fit": null,
      "object_position": null,
      "order": null,
      "overflow": null,
      "overflow_x": null,
      "overflow_y": null,
      "padding": null,
      "right": null,
      "top": null,
      "visibility": null,
      "width": null
     }
    },
    "a6cdb9e7bf2148c6a6d290413e0cff9d": {
     "model_module": "@jupyter-widgets/controls",
     "model_module_version": "1.5.0",
     "model_name": "HTMLModel",
     "state": {
      "_dom_classes": [],
      "_model_module": "@jupyter-widgets/controls",
      "_model_module_version": "1.5.0",
      "_model_name": "HTMLModel",
      "_view_count": null,
      "_view_module": "@jupyter-widgets/controls",
      "_view_module_version": "1.5.0",
      "_view_name": "HTMLView",
      "description": "",
      "description_tooltip": null,
      "layout": "IPY_MODEL_69f37265dfc242ba82d2c893793d0801",
      "placeholder": "​",
      "style": "IPY_MODEL_0fb6e047fdc7455498d8dd1472d226b7",
      "value": "Resolving data files: 100%"
     }
    },
    "abbfff8f86704b5f97e285dd77175aca": {
     "model_module": "@jupyter-widgets/controls",
     "model_module_version": "1.5.0",
     "model_name": "HBoxModel",
     "state": {
      "_dom_classes": [],
      "_model_module": "@jupyter-widgets/controls",
      "_model_module_version": "1.5.0",
      "_model_name": "HBoxModel",
      "_view_count": null,
      "_view_module": "@jupyter-widgets/controls",
      "_view_module_version": "1.5.0",
      "_view_name": "HBoxView",
      "box_style": "",
      "children": [
       "IPY_MODEL_0f9001127ce0464c97cd600c4571acbe",
       "IPY_MODEL_76cf27b122294d1e8c1173194cfb3a79",
       "IPY_MODEL_61b3c810670c46c08161b08d30edf096"
      ],
      "layout": "IPY_MODEL_679e04bb4b4e417c88a9705a85793fdd"
     }
    },
    "b07288d33d2548f28d968030e112ae3c": {
     "model_module": "@jupyter-widgets/controls",
     "model_module_version": "1.5.0",
     "model_name": "DescriptionStyleModel",
     "state": {
      "_model_module": "@jupyter-widgets/controls",
      "_model_module_version": "1.5.0",
      "_model_name": "DescriptionStyleModel",
      "_view_count": null,
      "_view_module": "@jupyter-widgets/base",
      "_view_module_version": "1.2.0",
      "_view_name": "StyleView",
      "description_width": ""
     }
    },
    "b0ed09005ea6476b95cb448c3f70375b": {
     "model_module": "@jupyter-widgets/controls",
     "model_module_version": "1.5.0",
     "model_name": "HTMLModel",
     "state": {
      "_dom_classes": [],
      "_model_module": "@jupyter-widgets/controls",
      "_model_module_version": "1.5.0",
      "_model_name": "HTMLModel",
      "_view_count": null,
      "_view_module": "@jupyter-widgets/controls",
      "_view_module_version": "1.5.0",
      "_view_name": "HTMLView",
      "description": "",
      "description_tooltip": null,
      "layout": "IPY_MODEL_a65a3a201f5540408d0500f3f2f6b9b7",
      "placeholder": "​",
      "style": "IPY_MODEL_ecee85cb6f484a819590c9811f2ee77e",
      "value": "Generating validation split: 100%"
     }
    },
    "b5927b0a68e84e9da8d662381028e2ee": {
     "model_module": "@jupyter-widgets/controls",
     "model_module_version": "1.5.0",
     "model_name": "HTMLModel",
     "state": {
      "_dom_classes": [],
      "_model_module": "@jupyter-widgets/controls",
      "_model_module_version": "1.5.0",
      "_model_name": "HTMLModel",
      "_view_count": null,
      "_view_module": "@jupyter-widgets/controls",
      "_view_module_version": "1.5.0",
      "_view_name": "HTMLView",
      "description": "",
      "description_tooltip": null,
      "layout": "IPY_MODEL_d0575777da14494b9e31ae59777a8817",
      "placeholder": "​",
      "style": "IPY_MODEL_86fa4b64050d49b6ba4bcd8b9b73c183",
      "value": "validation-00000-of-00007.parquet: 100%"
     }
    },
    "b5ac3106f1d7490788eeb0bb76d08a39": {
     "model_module": "@jupyter-widgets/controls",
     "model_module_version": "1.5.0",
     "model_name": "DescriptionStyleModel",
     "state": {
      "_model_module": "@jupyter-widgets/controls",
      "_model_module_version": "1.5.0",
      "_model_name": "DescriptionStyleModel",
      "_view_count": null,
      "_view_module": "@jupyter-widgets/base",
      "_view_module_version": "1.2.0",
      "_view_name": "StyleView",
      "description_width": ""
     }
    },
    "b9bc0b493caf493796ae263ad00e99a7": {
     "model_module": "@jupyter-widgets/controls",
     "model_module_version": "1.5.0",
     "model_name": "HTMLModel",
     "state": {
      "_dom_classes": [],
      "_model_module": "@jupyter-widgets/controls",
      "_model_module_version": "1.5.0",
      "_model_name": "HTMLModel",
      "_view_count": null,
      "_view_module": "@jupyter-widgets/controls",
      "_view_module_version": "1.5.0",
      "_view_name": "HTMLView",
      "description": "",
      "description_tooltip": null,
      "layout": "IPY_MODEL_1de00b9993074b1988c99d03f5eb0660",
      "placeholder": "​",
      "style": "IPY_MODEL_628d69c43119427baf24760b37a19d6a",
      "value": " 197M/197M [00:00&lt;00:00, 233MB/s]"
     }
    },
    "bee1b255c12844e28c0c01f023b4dcb7": {
     "model_module": "@jupyter-widgets/base",
     "model_module_version": "1.2.0",
     "model_name": "LayoutModel",
     "state": {
      "_model_module": "@jupyter-widgets/base",
      "_model_module_version": "1.2.0",
      "_model_name": "LayoutModel",
      "_view_count": null,
      "_view_module": "@jupyter-widgets/base",
      "_view_module_version": "1.2.0",
      "_view_name": "LayoutView",
      "align_content": null,
      "align_items": null,
      "align_self": null,
      "border": null,
      "bottom": null,
      "display": null,
      "flex": null,
      "flex_flow": null,
      "grid_area": null,
      "grid_auto_columns": null,
      "grid_auto_flow": null,
      "grid_auto_rows": null,
      "grid_column": null,
      "grid_gap": null,
      "grid_row": null,
      "grid_template_areas": null,
      "grid_template_columns": null,
      "grid_template_rows": null,
      "height": null,
      "justify_content": null,
      "justify_items": null,
      "left": null,
      "margin": null,
      "max_height": null,
      "max_width": null,
      "min_height": null,
      "min_width": null,
      "object_fit": null,
      "object_position": null,
      "order": null,
      "overflow": null,
      "overflow_x": null,
      "overflow_y": null,
      "padding": null,
      "right": null,
      "top": null,
      "visibility": null,
      "width": null
     }
    },
    "c32bd5ac5a524b26888f984f04987c6a": {
     "model_module": "@jupyter-widgets/base",
     "model_module_version": "1.2.0",
     "model_name": "LayoutModel",
     "state": {
      "_model_module": "@jupyter-widgets/base",
      "_model_module_version": "1.2.0",
      "_model_name": "LayoutModel",
      "_view_count": null,
      "_view_module": "@jupyter-widgets/base",
      "_view_module_version": "1.2.0",
      "_view_name": "LayoutView",
      "align_content": null,
      "align_items": null,
      "align_self": null,
      "border": null,
      "bottom": null,
      "display": null,
      "flex": null,
      "flex_flow": null,
      "grid_area": null,
      "grid_auto_columns": null,
      "grid_auto_flow": null,
      "grid_auto_rows": null,
      "grid_column": null,
      "grid_gap": null,
      "grid_row": null,
      "grid_template_areas": null,
      "grid_template_columns": null,
      "grid_template_rows": null,
      "height": null,
      "justify_content": null,
      "justify_items": null,
      "left": null,
      "margin": null,
      "max_height": null,
      "max_width": null,
      "min_height": null,
      "min_width": null,
      "object_fit": null,
      "object_position": null,
      "order": null,
      "overflow": null,
      "overflow_x": null,
      "overflow_y": null,
      "padding": null,
      "right": null,
      "top": null,
      "visibility": null,
      "width": null
     }
    },
    "c6aee1d7b9454675854f88c4a505636b": {
     "model_module": "@jupyter-widgets/base",
     "model_module_version": "1.2.0",
     "model_name": "LayoutModel",
     "state": {
      "_model_module": "@jupyter-widgets/base",
      "_model_module_version": "1.2.0",
      "_model_name": "LayoutModel",
      "_view_count": null,
      "_view_module": "@jupyter-widgets/base",
      "_view_module_version": "1.2.0",
      "_view_name": "LayoutView",
      "align_content": null,
      "align_items": null,
      "align_self": null,
      "border": null,
      "bottom": null,
      "display": null,
      "flex": null,
      "flex_flow": null,
      "grid_area": null,
      "grid_auto_columns": null,
      "grid_auto_flow": null,
      "grid_auto_rows": null,
      "grid_column": null,
      "grid_gap": null,
      "grid_row": null,
      "grid_template_areas": null,
      "grid_template_columns": null,
      "grid_template_rows": null,
      "height": null,
      "justify_content": null,
      "justify_items": null,
      "left": null,
      "margin": null,
      "max_height": null,
      "max_width": null,
      "min_height": null,
      "min_width": null,
      "object_fit": null,
      "object_position": null,
      "order": null,
      "overflow": null,
      "overflow_x": null,
      "overflow_y": null,
      "padding": null,
      "right": null,
      "top": null,
      "visibility": null,
      "width": null
     }
    },
    "c7aa060f428d42289b706534d8aaa8df": {
     "model_module": "@jupyter-widgets/controls",
     "model_module_version": "1.5.0",
     "model_name": "ProgressStyleModel",
     "state": {
      "_model_module": "@jupyter-widgets/controls",
      "_model_module_version": "1.5.0",
      "_model_name": "ProgressStyleModel",
      "_view_count": null,
      "_view_module": "@jupyter-widgets/base",
      "_view_module_version": "1.2.0",
      "_view_name": "StyleView",
      "bar_color": null,
      "description_width": ""
     }
    },
    "cb1b8d20ba5a4ec291b218dd683f2913": {
     "model_module": "@jupyter-widgets/controls",
     "model_module_version": "1.5.0",
     "model_name": "HBoxModel",
     "state": {
      "_dom_classes": [],
      "_model_module": "@jupyter-widgets/controls",
      "_model_module_version": "1.5.0",
      "_model_name": "HBoxModel",
      "_view_count": null,
      "_view_module": "@jupyter-widgets/controls",
      "_view_module_version": "1.5.0",
      "_view_name": "HBoxView",
      "box_style": "",
      "children": [
       "IPY_MODEL_73a61c945d7e482ca2087c47c893521e",
       "IPY_MODEL_709689921d5a46c9a53a1e13cc210f20",
       "IPY_MODEL_b9bc0b493caf493796ae263ad00e99a7"
      ],
      "layout": "IPY_MODEL_04ab3daac680430594faf3597123a11c"
     }
    },
    "ccf14eb765484bddb5b7c9d36fd63a3f": {
     "model_module": "@jupyter-widgets/controls",
     "model_module_version": "1.5.0",
     "model_name": "DescriptionStyleModel",
     "state": {
      "_model_module": "@jupyter-widgets/controls",
      "_model_module_version": "1.5.0",
      "_model_name": "DescriptionStyleModel",
      "_view_count": null,
      "_view_module": "@jupyter-widgets/base",
      "_view_module_version": "1.2.0",
      "_view_name": "StyleView",
      "description_width": ""
     }
    },
    "cd275c015005459f90b9c770c8de94b5": {
     "model_module": "@jupyter-widgets/base",
     "model_module_version": "1.2.0",
     "model_name": "LayoutModel",
     "state": {
      "_model_module": "@jupyter-widgets/base",
      "_model_module_version": "1.2.0",
      "_model_name": "LayoutModel",
      "_view_count": null,
      "_view_module": "@jupyter-widgets/base",
      "_view_module_version": "1.2.0",
      "_view_name": "LayoutView",
      "align_content": null,
      "align_items": null,
      "align_self": null,
      "border": null,
      "bottom": null,
      "display": null,
      "flex": null,
      "flex_flow": null,
      "grid_area": null,
      "grid_auto_columns": null,
      "grid_auto_flow": null,
      "grid_auto_rows": null,
      "grid_column": null,
      "grid_gap": null,
      "grid_row": null,
      "grid_template_areas": null,
      "grid_template_columns": null,
      "grid_template_rows": null,
      "height": null,
      "justify_content": null,
      "justify_items": null,
      "left": null,
      "margin": null,
      "max_height": null,
      "max_width": null,
      "min_height": null,
      "min_width": null,
      "object_fit": null,
      "object_position": null,
      "order": null,
      "overflow": null,
      "overflow_x": null,
      "overflow_y": null,
      "padding": null,
      "right": null,
      "top": null,
      "visibility": null,
      "width": null
     }
    },
    "d0575777da14494b9e31ae59777a8817": {
     "model_module": "@jupyter-widgets/base",
     "model_module_version": "1.2.0",
     "model_name": "LayoutModel",
     "state": {
      "_model_module": "@jupyter-widgets/base",
      "_model_module_version": "1.2.0",
      "_model_name": "LayoutModel",
      "_view_count": null,
      "_view_module": "@jupyter-widgets/base",
      "_view_module_version": "1.2.0",
      "_view_name": "LayoutView",
      "align_content": null,
      "align_items": null,
      "align_self": null,
      "border": null,
      "bottom": null,
      "display": null,
      "flex": null,
      "flex_flow": null,
      "grid_area": null,
      "grid_auto_columns": null,
      "grid_auto_flow": null,
      "grid_auto_rows": null,
      "grid_column": null,
      "grid_gap": null,
      "grid_row": null,
      "grid_template_areas": null,
      "grid_template_columns": null,
      "grid_template_rows": null,
      "height": null,
      "justify_content": null,
      "justify_items": null,
      "left": null,
      "margin": null,
      "max_height": null,
      "max_width": null,
      "min_height": null,
      "min_width": null,
      "object_fit": null,
      "object_position": null,
      "order": null,
      "overflow": null,
      "overflow_x": null,
      "overflow_y": null,
      "padding": null,
      "right": null,
      "top": null,
      "visibility": null,
      "width": null
     }
    },
    "d21c5b7c8bf04bd8b908a9ab5c57aab3": {
     "model_module": "@jupyter-widgets/base",
     "model_module_version": "1.2.0",
     "model_name": "LayoutModel",
     "state": {
      "_model_module": "@jupyter-widgets/base",
      "_model_module_version": "1.2.0",
      "_model_name": "LayoutModel",
      "_view_count": null,
      "_view_module": "@jupyter-widgets/base",
      "_view_module_version": "1.2.0",
      "_view_name": "LayoutView",
      "align_content": null,
      "align_items": null,
      "align_self": null,
      "border": null,
      "bottom": null,
      "display": null,
      "flex": null,
      "flex_flow": null,
      "grid_area": null,
      "grid_auto_columns": null,
      "grid_auto_flow": null,
      "grid_auto_rows": null,
      "grid_column": null,
      "grid_gap": null,
      "grid_row": null,
      "grid_template_areas": null,
      "grid_template_columns": null,
      "grid_template_rows": null,
      "height": null,
      "justify_content": null,
      "justify_items": null,
      "left": null,
      "margin": null,
      "max_height": null,
      "max_width": null,
      "min_height": null,
      "min_width": null,
      "object_fit": null,
      "object_position": null,
      "order": null,
      "overflow": null,
      "overflow_x": null,
      "overflow_y": null,
      "padding": null,
      "right": null,
      "top": null,
      "visibility": null,
      "width": null
     }
    },
    "d27c1a9d40c24bb5aba2ee9bcee5c94c": {
     "model_module": "@jupyter-widgets/controls",
     "model_module_version": "1.5.0",
     "model_name": "DescriptionStyleModel",
     "state": {
      "_model_module": "@jupyter-widgets/controls",
      "_model_module_version": "1.5.0",
      "_model_name": "DescriptionStyleModel",
      "_view_count": null,
      "_view_module": "@jupyter-widgets/base",
      "_view_module_version": "1.2.0",
      "_view_name": "StyleView",
      "description_width": ""
     }
    },
    "d35fc406e04047cb81ea173564042e4c": {
     "model_module": "@jupyter-widgets/controls",
     "model_module_version": "1.5.0",
     "model_name": "FloatProgressModel",
     "state": {
      "_dom_classes": [],
      "_model_module": "@jupyter-widgets/controls",
      "_model_module_version": "1.5.0",
      "_model_name": "FloatProgressModel",
      "_view_count": null,
      "_view_module": "@jupyter-widgets/controls",
      "_view_module_version": "1.5.0",
      "_view_name": "ProgressView",
      "bar_style": "success",
      "description": "",
      "description_tooltip": null,
      "layout": "IPY_MODEL_a3a1bb788835489da49e0f010450fa92",
      "max": 7830,
      "min": 0,
      "orientation": "horizontal",
      "style": "IPY_MODEL_a574b24c47304d769eac45f8ccd4d91f",
      "value": 7830
     }
    },
    "d49235f9c954498884011d9e609c8566": {
     "model_module": "@jupyter-widgets/controls",
     "model_module_version": "1.5.0",
     "model_name": "HBoxModel",
     "state": {
      "_dom_classes": [],
      "_model_module": "@jupyter-widgets/controls",
      "_model_module_version": "1.5.0",
      "_model_name": "HBoxModel",
      "_view_count": null,
      "_view_module": "@jupyter-widgets/controls",
      "_view_module_version": "1.5.0",
      "_view_name": "HBoxView",
      "box_style": "",
      "children": [
       "IPY_MODEL_50cb221a793d4d82b1d9208ee79dba0c",
       "IPY_MODEL_98c1791b67f9483c98ddc6cb41bf103c",
       "IPY_MODEL_4228c3b0865c417498f35a5ffdd76ce4"
      ],
      "layout": "IPY_MODEL_3e363ef5a3d140b4b801d8bde323bf7f"
     }
    },
    "d62dd971e9fb4de581bb622d8796b652": {
     "model_module": "@jupyter-widgets/base",
     "model_module_version": "1.2.0",
     "model_name": "LayoutModel",
     "state": {
      "_model_module": "@jupyter-widgets/base",
      "_model_module_version": "1.2.0",
      "_model_name": "LayoutModel",
      "_view_count": null,
      "_view_module": "@jupyter-widgets/base",
      "_view_module_version": "1.2.0",
      "_view_name": "LayoutView",
      "align_content": null,
      "align_items": null,
      "align_self": null,
      "border": null,
      "bottom": null,
      "display": null,
      "flex": null,
      "flex_flow": null,
      "grid_area": null,
      "grid_auto_columns": null,
      "grid_auto_flow": null,
      "grid_auto_rows": null,
      "grid_column": null,
      "grid_gap": null,
      "grid_row": null,
      "grid_template_areas": null,
      "grid_template_columns": null,
      "grid_template_rows": null,
      "height": null,
      "justify_content": null,
      "justify_items": null,
      "left": null,
      "margin": null,
      "max_height": null,
      "max_width": null,
      "min_height": null,
      "min_width": null,
      "object_fit": null,
      "object_position": null,
      "order": null,
      "overflow": null,
      "overflow_x": null,
      "overflow_y": null,
      "padding": null,
      "right": null,
      "top": null,
      "visibility": null,
      "width": null
     }
    },
    "d63665109d2842458374c84a919e9ead": {
     "model_module": "@jupyter-widgets/base",
     "model_module_version": "1.2.0",
     "model_name": "LayoutModel",
     "state": {
      "_model_module": "@jupyter-widgets/base",
      "_model_module_version": "1.2.0",
      "_model_name": "LayoutModel",
      "_view_count": null,
      "_view_module": "@jupyter-widgets/base",
      "_view_module_version": "1.2.0",
      "_view_name": "LayoutView",
      "align_content": null,
      "align_items": null,
      "align_self": null,
      "border": null,
      "bottom": null,
      "display": null,
      "flex": null,
      "flex_flow": null,
      "grid_area": null,
      "grid_auto_columns": null,
      "grid_auto_flow": null,
      "grid_auto_rows": null,
      "grid_column": null,
      "grid_gap": null,
      "grid_row": null,
      "grid_template_areas": null,
      "grid_template_columns": null,
      "grid_template_rows": null,
      "height": null,
      "justify_content": null,
      "justify_items": null,
      "left": null,
      "margin": null,
      "max_height": null,
      "max_width": null,
      "min_height": null,
      "min_width": null,
      "object_fit": null,
      "object_position": null,
      "order": null,
      "overflow": null,
      "overflow_x": null,
      "overflow_y": null,
      "padding": null,
      "right": null,
      "top": null,
      "visibility": null,
      "width": null
     }
    },
    "de15449e80474534bc9a23b8252a4459": {
     "model_module": "@jupyter-widgets/controls",
     "model_module_version": "1.5.0",
     "model_name": "HTMLModel",
     "state": {
      "_dom_classes": [],
      "_model_module": "@jupyter-widgets/controls",
      "_model_module_version": "1.5.0",
      "_model_name": "HTMLModel",
      "_view_count": null,
      "_view_module": "@jupyter-widgets/controls",
      "_view_module_version": "1.5.0",
      "_view_name": "HTMLView",
      "description": "",
      "description_tooltip": null,
      "layout": "IPY_MODEL_d62dd971e9fb4de581bb622d8796b652",
      "placeholder": "​",
      "style": "IPY_MODEL_7ac9b4466c2d45959b29b5d6dc279314",
      "value": "validation-00005-of-00007.parquet: 100%"
     }
    },
    "e1d47f4120b0482c8eb079e30b64e637": {
     "model_module": "@jupyter-widgets/base",
     "model_module_version": "1.2.0",
     "model_name": "LayoutModel",
     "state": {
      "_model_module": "@jupyter-widgets/base",
      "_model_module_version": "1.2.0",
      "_model_name": "LayoutModel",
      "_view_count": null,
      "_view_module": "@jupyter-widgets/base",
      "_view_module_version": "1.2.0",
      "_view_name": "LayoutView",
      "align_content": null,
      "align_items": null,
      "align_self": null,
      "border": null,
      "bottom": null,
      "display": null,
      "flex": null,
      "flex_flow": null,
      "grid_area": null,
      "grid_auto_columns": null,
      "grid_auto_flow": null,
      "grid_auto_rows": null,
      "grid_column": null,
      "grid_gap": null,
      "grid_row": null,
      "grid_template_areas": null,
      "grid_template_columns": null,
      "grid_template_rows": null,
      "height": null,
      "justify_content": null,
      "justify_items": null,
      "left": null,
      "margin": null,
      "max_height": null,
      "max_width": null,
      "min_height": null,
      "min_width": null,
      "object_fit": null,
      "object_position": null,
      "order": null,
      "overflow": null,
      "overflow_x": null,
      "overflow_y": null,
      "padding": null,
      "right": null,
      "top": null,
      "visibility": null,
      "width": null
     }
    },
    "e7d8b6e4e26645bca66f61fa3dacd86b": {
     "model_module": "@jupyter-widgets/controls",
     "model_module_version": "1.5.0",
     "model_name": "ProgressStyleModel",
     "state": {
      "_model_module": "@jupyter-widgets/controls",
      "_model_module_version": "1.5.0",
      "_model_name": "ProgressStyleModel",
      "_view_count": null,
      "_view_module": "@jupyter-widgets/base",
      "_view_module_version": "1.2.0",
      "_view_name": "StyleView",
      "bar_color": null,
      "description_width": ""
     }
    },
    "eb4244e473a04876bae9cfa6baf63832": {
     "model_module": "@jupyter-widgets/controls",
     "model_module_version": "1.5.0",
     "model_name": "FloatProgressModel",
     "state": {
      "_dom_classes": [],
      "_model_module": "@jupyter-widgets/controls",
      "_model_module_version": "1.5.0",
      "_model_name": "FloatProgressModel",
      "_view_count": null,
      "_view_module": "@jupyter-widgets/controls",
      "_view_module_version": "1.5.0",
      "_view_name": "ProgressView",
      "bar_style": "success",
      "description": "",
      "description_tooltip": null,
      "layout": "IPY_MODEL_9f4e8b82a6df40879b77130e2c05f480",
      "max": 189709804,
      "min": 0,
      "orientation": "horizontal",
      "style": "IPY_MODEL_27e27e57f6554e46bd90c2f24d575f08",
      "value": 189709804
     }
    },
    "ec578af0f8fe4d75b36d62a69ce74bd3": {
     "model_module": "@jupyter-widgets/controls",
     "model_module_version": "1.5.0",
     "model_name": "DescriptionStyleModel",
     "state": {
      "_model_module": "@jupyter-widgets/controls",
      "_model_module_version": "1.5.0",
      "_model_name": "DescriptionStyleModel",
      "_view_count": null,
      "_view_module": "@jupyter-widgets/base",
      "_view_module_version": "1.2.0",
      "_view_name": "StyleView",
      "description_width": ""
     }
    },
    "ecee85cb6f484a819590c9811f2ee77e": {
     "model_module": "@jupyter-widgets/controls",
     "model_module_version": "1.5.0",
     "model_name": "DescriptionStyleModel",
     "state": {
      "_model_module": "@jupyter-widgets/controls",
      "_model_module_version": "1.5.0",
      "_model_name": "DescriptionStyleModel",
      "_view_count": null,
      "_view_module": "@jupyter-widgets/base",
      "_view_module_version": "1.2.0",
      "_view_name": "StyleView",
      "description_width": ""
     }
    },
    "f5b8ad311be044eaa96bc7fa42c9220e": {
     "model_module": "@jupyter-widgets/controls",
     "model_module_version": "1.5.0",
     "model_name": "HTMLModel",
     "state": {
      "_dom_classes": [],
      "_model_module": "@jupyter-widgets/controls",
      "_model_module_version": "1.5.0",
      "_model_name": "HTMLModel",
      "_view_count": null,
      "_view_module": "@jupyter-widgets/controls",
      "_view_module_version": "1.5.0",
      "_view_name": "HTMLView",
      "description": "",
      "description_tooltip": null,
      "layout": "IPY_MODEL_c6aee1d7b9454675854f88c4a505636b",
      "placeholder": "​",
      "style": "IPY_MODEL_ec578af0f8fe4d75b36d62a69ce74bd3",
      "value": " 191M/191M [00:01&lt;00:00, 190MB/s]"
     }
    },
    "fb43fea75a6a407287163d161b2bcb07": {
     "model_module": "@jupyter-widgets/controls",
     "model_module_version": "1.5.0",
     "model_name": "HBoxModel",
     "state": {
      "_dom_classes": [],
      "_model_module": "@jupyter-widgets/controls",
      "_model_module_version": "1.5.0",
      "_model_name": "HBoxModel",
      "_view_count": null,
      "_view_module": "@jupyter-widgets/controls",
      "_view_module_version": "1.5.0",
      "_view_name": "HBoxView",
      "box_style": "",
      "children": [
       "IPY_MODEL_de15449e80474534bc9a23b8252a4459",
       "IPY_MODEL_051bbc68bfcb4ce982b953e47ebb0a81",
       "IPY_MODEL_56e50478b7b445fd8ae07df557286779"
      ],
      "layout": "IPY_MODEL_6be3d171de9b49ce8d253d7d6b93df4e"
     }
    },
    "fbfd3a198bef4b66bdd01351d2775893": {
     "model_module": "@jupyter-widgets/controls",
     "model_module_version": "1.5.0",
     "model_name": "HTMLModel",
     "state": {
      "_dom_classes": [],
      "_model_module": "@jupyter-widgets/controls",
      "_model_module_version": "1.5.0",
      "_model_name": "HTMLModel",
      "_view_count": null,
      "_view_module": "@jupyter-widgets/controls",
      "_view_module_version": "1.5.0",
      "_view_name": "HTMLView",
      "description": "",
      "description_tooltip": null,
      "layout": "IPY_MODEL_37a5cb0ce3a449aca402ab53d12c1903",
      "placeholder": "​",
      "style": "IPY_MODEL_9eacf72c600a410c80f2f403fe99db93",
      "value": "validation-00004-of-00007.parquet: 100%"
     }
    }
   }
  }
 },
 "nbformat": 4,
 "nbformat_minor": 4
}
