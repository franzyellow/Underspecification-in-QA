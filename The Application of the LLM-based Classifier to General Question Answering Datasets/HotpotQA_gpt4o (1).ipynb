{
 "cells": [
  {
   "cell_type": "code",
   "execution_count": 1,
   "id": "db2581eb-dd0f-48e5-b15f-e3ddd8608cbe",
   "metadata": {},
   "outputs": [
    {
     "name": "stdout",
     "output_type": "stream",
     "text": [
      "Mon Jul  7 12:34:12 2025       \n",
      "+-----------------------------------------------------------------------------------------+\n",
      "| NVIDIA-SMI 565.57.01              Driver Version: 565.57.01      CUDA Version: 12.7     |\n",
      "|-----------------------------------------+------------------------+----------------------+\n",
      "| GPU  Name                 Persistence-M | Bus-Id          Disp.A | Volatile Uncorr. ECC |\n",
      "| Fan  Temp   Perf          Pwr:Usage/Cap |           Memory-Usage | GPU-Util  Compute M. |\n",
      "|                                         |                        |               MIG M. |\n",
      "|=========================================+========================+======================|\n",
      "|   0  NVIDIA A100-SXM4-40GB          On  |   00000000:CA:00.0 Off |                    0 |\n",
      "| N/A   30C    P0             49W /  400W |       1MiB /  40960MiB |      0%      Default |\n",
      "|                                         |                        |             Disabled |\n",
      "+-----------------------------------------+------------------------+----------------------+\n",
      "                                                                                         \n",
      "+-----------------------------------------------------------------------------------------+\n",
      "| Processes:                                                                              |\n",
      "|  GPU   GI   CI        PID   Type   Process name                              GPU Memory |\n",
      "|        ID   ID                                                               Usage      |\n",
      "|=========================================================================================|\n",
      "|  No running processes found                                                             |\n",
      "+-----------------------------------------------------------------------------------------+\n"
     ]
    }
   ],
   "source": [
    "!nvidia-smi\n",
    "%matplotlib inline"
   ]
  },
  {
   "cell_type": "code",
   "execution_count": 1,
   "id": "45262588-1de8-41d9-ae38-25488a28160f",
   "metadata": {},
   "outputs": [
    {
     "name": "stderr",
     "output_type": "stream",
     "text": [
      "/home/yhuang/sglang-venv-2/lib/python3.11/site-packages/torch/cuda/__init__.py:734: UserWarning: Can't initialize NVML\n",
      "  warnings.warn(\"Can't initialize NVML\")\n"
     ]
    }
   ],
   "source": [
    "import os\n",
    "import dspy\n",
    "import pandas as pd\n",
    "from sklearn.metrics import classification_report\n",
    "import matplotlib.pyplot as plt\n",
    "from sklearn.metrics import confusion_matrix\n",
    "from sklearn.metrics import ConfusionMatrixDisplay\n",
    "from tqdm import tqdm\n",
    "from typing import List, Literal, List, Dict, Any\n",
    "from dspy.evaluate import Evaluate\n",
    "from dspy import LabeledFewShot\n",
    "from dspy.teleprompt import BootstrapFewShotWithRandomSearch\n",
    "import numpy as np\n",
    "import seaborn as sns\n",
    "\n",
    "from datasets import load_dataset\n",
    "import random\n",
    "import json\n",
    "import re\n",
    "from functools import partial\n",
    "from datasets import Dataset\n",
    "from copy import deepcopy\n",
    "import evaluate\n",
    "import nltk\n",
    "from scipy.stats import ttest_ind\n",
    "import string\n",
    "from collections import Counter\n",
    "\n",
    "import openai\n",
    "import os\n",
    "import time\n",
    "import pandas as pd"
   ]
  },
  {
   "cell_type": "code",
   "execution_count": null,
   "id": "9cf4a27e-2eae-4dc4-840c-cad8ef05e1a7",
   "metadata": {
    "id": "9cf4a27e-2eae-4dc4-840c-cad8ef05e1a7",
    "outputId": "d6106cf6-3c33-4912-fd6b-ec1a455d3e3b"
   },
   "outputs": [
    {
     "name": "stdout",
     "output_type": "stream",
     "text": [
      "train 集下载成功 ✅\n",
      "dev 集下载成功 ✅\n"
     ]
    }
   ],
   "source": [
    "import requests\n",
    "\n",
    "# HotpotQA 正确的官方数据地址（来自 CMU）\n",
    "urls = {\n",
    "    \"train\": \"http://curtis.ml.cmu.edu/datasets/hotpot/hotpot_train_v1.1.json\",\n",
    "    \"dev\": \"http://curtis.ml.cmu.edu/datasets/hotpot/hotpot_dev_distractor_v1.json\"\n",
    "}\n",
    "\n",
    "for split, url in urls.items():\n",
    "    response = requests.get(url)\n",
    "    if response.status_code == 200:\n",
    "        with open(f\"hotpot_data/hotpot_{split}.json\", \"w\", encoding=\"utf-8\") as f:\n",
    "            f.write(response.text)\n",
    "        print(f\"{split} 集下载成功 ✅\")\n",
    "    else:\n",
    "        print(f\"{split} 集下载失败 ❌，状态码: {response.status_code}\")"
   ]
  },
  {
   "cell_type": "code",
   "execution_count": 1,
   "id": "7ada12b3-7de3-48a7-869b-8e9c3db385bd",
   "metadata": {
    "id": "7ada12b3-7de3-48a7-869b-8e9c3db385bd"
   },
   "outputs": [],
   "source": [
    "import json\n",
    "from datasets import Dataset\n",
    "\n",
    "\n",
    "with open(\"hotpot_data/hotpot_train.json\", \"r\", encoding=\"utf-8\") as t:\n",
    "    train_data = json.load(t)\n",
    "with open(\"hotpot_data/hotpot_dev.json\", \"r\", encoding=\"utf-8\") as d:\n",
    "    dev_data = json.load(d)"
   ]
  },
  {
   "cell_type": "code",
   "execution_count": 2,
   "id": "5f356bc4-9e9d-4bc2-a312-53a1fe38e6fc",
   "metadata": {
    "id": "5f356bc4-9e9d-4bc2-a312-53a1fe38e6fc",
    "outputId": "228bbdf0-3da3-460b-fdb3-ffec41e0396d"
   },
   "outputs": [
    {
     "name": "stdout",
     "output_type": "stream",
     "text": [
      "90447\n",
      "7405\n"
     ]
    }
   ],
   "source": [
    "print(len(train_data))\n",
    "print(len(dev_data))"
   ]
  },
  {
   "cell_type": "code",
   "execution_count": 6,
   "id": "cef4dca2-07d6-4f94-a728-234407855ec9",
   "metadata": {},
   "outputs": [
    {
     "data": {
      "text/plain": [
       "{'_id': '5a8c7595554299585d9e36b6',\n",
       " 'answer': 'Chief of Protocol',\n",
       " 'question': 'What government position was held by the woman who portrayed Corliss Archer in the film Kiss and Tell?',\n",
       " 'supporting_facts': [['Kiss and Tell (1945 film)', 0],\n",
       "  ['Shirley Temple', 0],\n",
       "  ['Shirley Temple', 1]],\n",
       " 'context': [['Meet Corliss Archer',\n",
       "   [\"Meet Corliss Archer, a program from radio's Golden Age, ran from January 7, 1943 to September 30, 1956.\",\n",
       "    ' Although it was CBS\\'s answer to NBC\\'s popular \"A Date with Judy\", it was also broadcast by NBC in 1948 as a summer replacement for \"The Bob Hope Show\".',\n",
       "    ' From October 3, 1952 to June 26, 1953, it aired on ABC, finally returning to CBS.',\n",
       "    \" Despite the program's long run, fewer than 24 episodes are known to exist.\"]],\n",
       "  ['Shirley Temple',\n",
       "   [\"Shirley Temple Black (April 23, 1928 – February 10, 2014) was an American actress, singer, dancer, businesswoman, and diplomat who was Hollywood's number one box-office draw as a child actress from 1935 to 1938.\",\n",
       "    ' As an adult, she was named United States ambassador to Ghana and to Czechoslovakia and also served as Chief of Protocol of the United States.']],\n",
       "  ['Janet Waldo',\n",
       "   ['Janet Marie Waldo (February 4, 1920 – June 12, 2016) was an American radio and voice actress.',\n",
       "    ' She is best known in animation for voicing Judy Jetson, Nancy in \"Shazzan\", Penelope Pitstop, and Josie in \"Josie and the Pussycats\", and on radio as the title character in \"Meet Corliss Archer\".']],\n",
       "  ['Meet Corliss Archer (TV series)',\n",
       "   ['Meet Corliss Archer is an American television sitcom that aired on CBS (July 13, 1951 - August 10, 1951) and in syndication via the Ziv Company from April to December 1954.',\n",
       "    ' The program was an adaptation of the radio series of the same name, which was based on a series of short stories by F. Hugh Herbert.']],\n",
       "  ['Lord High Treasurer',\n",
       "   ['The post of Lord High Treasurer or Lord Treasurer was an English government position and has been a British government position since the Acts of Union of 1707.',\n",
       "    ' A holder of the post would be the third-highest-ranked Great Officer of State, below the Lord High Steward and the Lord High Chancellor.']],\n",
       "  ['A Kiss for Corliss',\n",
       "   ['A Kiss for Corliss is a 1949 American comedy film directed by Richard Wallace and written by Howard Dimsdale.',\n",
       "    ' It stars Shirley Temple in her final starring role as well as her final film appearance.',\n",
       "    ' It is a sequel to the 1945 film \"Kiss and Tell\".',\n",
       "    ' \"A Kiss for Corliss\" was retitled \"Almost a Bride\" before release and this title appears in the title sequence.',\n",
       "    ' The film was released on November 25, 1949, by United Artists.']],\n",
       "  ['Kiss and Tell (1945 film)',\n",
       "   ['Kiss and Tell is a 1945 American comedy film starring then 17-year-old Shirley Temple as Corliss Archer.',\n",
       "    ' In the film, two teenage girls cause their respective parents much concern when they start to become interested in boys.',\n",
       "    \" The parents' bickering about which girl is the worse influence causes more problems than it solves.\"]],\n",
       "  ['Secretary of State for Constitutional Affairs',\n",
       "   ['The office of Secretary of State for Constitutional Affairs was a British Government position, created in 2003.',\n",
       "    \" Certain functions of the Lord Chancellor which related to the Lord Chancellor's Department were transferred to the Secretary of State.\",\n",
       "    ' At a later date further functions were also transferred to the Secretary of State for Constitutional Affairs from the First Secretary of State, a position within the government held by the Deputy Prime Minister.']],\n",
       "  ['Village accountant',\n",
       "   ['The Village Accountant (variously known as \"Patwari\", \"Talati\", \"Patel\", \"Karnam\", \"Adhikari\", \"Shanbogaru\",\"Patnaik\" etc.) is an administrative government position found in rural parts of the Indian sub-continent.',\n",
       "    ' The office and the officeholder are called the \"patwari\" in Telangana, Bengal, North India and in Pakistan while in Sindh it is called \"tapedar\".',\n",
       "    ' The position is known as the \"karnam\" in Andhra Pradesh, \"patnaik\" in Orissa or \"adhikari\" in Tamil Nadu, while it is commonly known as the \"talati\" in Karnataka, Gujarat and Maharashtra.',\n",
       "    ' The position was known as the \"kulkarni\" in Northern Karnataka and Maharashtra.',\n",
       "    ' The position was known as the \"shanbogaru\" in South Karnataka.']],\n",
       "  ['Charles Craft',\n",
       "   ['Charles Craft (May 9, 1902 – September 19, 1968) was an English-born American film and television editor.',\n",
       "    ' Born in the county of Hampshire in England on May 9, 1902, Craft would enter the film industry in Hollywood in 1927.',\n",
       "    ' The first film he edited was the Universal Pictures silent film, \"Painting the Town\".',\n",
       "    ' Over the next 25 years, Craft would edit 90 feature-length films.',\n",
       "    ' In the early 1950s he would switch his focus to the small screen, his first show being \"Racket Squad\", from 1951–53, for which he was the main editor, editing 93 of the 98 episodes.',\n",
       "    ' He would work on several other series during the 1950s, including \"Meet Corliss Archer\" (1954), \"Science Fiction Theatre\" (1955–56), and \"Highway Patrol\" (1955–57).',\n",
       "    ' In the late 1950s and early 1960s he was one of the main editors on \"Sea Hunt\", starring Lloyd Bridges, editing over half of the episodes.',\n",
       "    ' His final film work would be editing \"Flipper\\'s New Adventure\" (1964, the sequel to 1963\\'s \"Flipper\".',\n",
       "    ' When the film was made into a television series, Craft would begin the editing duties on that show, editing the first 28 episodes before he retired in 1966.',\n",
       "    ' Craft died on September 19, 1968 in Los Angeles, California.']]],\n",
       " 'type': 'bridge',\n",
       " 'level': 'hard'}"
      ]
     },
     "execution_count": 6,
     "metadata": {},
     "output_type": "execute_result"
    }
   ],
   "source": [
    "dev_data[1]"
   ]
  },
  {
   "cell_type": "code",
   "execution_count": 5,
   "id": "82764d0c-73da-4f37-bed1-72a53b126e85",
   "metadata": {
    "id": "82764d0c-73da-4f37-bed1-72a53b126e85"
   },
   "outputs": [],
   "source": [
    "task_relevant_data = [{\"id\": item[\"_id\"], \"question\": item[\"question\"], \"answer\": [item[\"answer\"]]} for item in dev_data]\n",
    "task_relevant_data_hf = Dataset.from_list(task_relevant_data)"
   ]
  },
  {
   "cell_type": "code",
   "execution_count": 6,
   "id": "3c28ffac-2945-4b76-9dd7-3f925c78c9f4",
   "metadata": {
    "id": "3c28ffac-2945-4b76-9dd7-3f925c78c9f4"
   },
   "outputs": [],
   "source": [
    "hotpot_sample = task_relevant_data_hf.shuffle(seed=42).select(range(1000))"
   ]
  },
  {
   "cell_type": "code",
   "execution_count": 7,
   "id": "e447686e-8a29-44ba-8a23-009b95fbf09b",
   "metadata": {
    "id": "e447686e-8a29-44ba-8a23-009b95fbf09b",
    "outputId": "3bc1f8cd-aeaa-4bc7-fde5-f2deb81162d9"
   },
   "outputs": [
    {
     "data": {
      "text/plain": [
       "{'id': '5add1d575542992c1e3a2540',\n",
       " 'question': \"What nationality was Oliver Reed's character in the film Royal Flash?\",\n",
       " 'answer': ['Prussian']}"
      ]
     },
     "execution_count": 7,
     "metadata": {},
     "output_type": "execute_result"
    }
   ],
   "source": [
    "hotpot_sample[0]"
   ]
  },
  {
   "cell_type": "code",
   "execution_count": 8,
   "id": "3e9e3dfe-b2a3-48d1-bad0-2ee9d2b1d8a9",
   "metadata": {
    "colab": {
     "referenced_widgets": [
      "4819a4ca72ea480eaa8e6713d616965f"
     ]
    },
    "id": "3e9e3dfe-b2a3-48d1-bad0-2ee9d2b1d8a9",
    "outputId": "ceec878d-d839-474b-cb50-7e3488c27203"
   },
   "outputs": [
    {
     "data": {
      "application/vnd.jupyter.widget-view+json": {
       "model_id": "2864351217c2471890669e57bc9b8174",
       "version_major": 2,
       "version_minor": 0
      },
      "text/plain": [
       "Creating json from Arrow format:   0%|          | 0/1 [00:00<?, ?ba/s]"
      ]
     },
     "metadata": {},
     "output_type": "display_data"
    },
    {
     "data": {
      "text/plain": [
       "170940"
      ]
     },
     "execution_count": 8,
     "metadata": {},
     "output_type": "execute_result"
    }
   ],
   "source": [
    "hotpot_sample.to_json(\"hotpot_sample_raw.jsonl\", orient=\"records\", lines=True)"
   ]
  },
  {
   "cell_type": "code",
   "execution_count": null,
   "id": "87b1edf3-8dda-4ea8-9439-bf0f624526e5",
   "metadata": {},
   "outputs": [],
   "source": [
    "\"\"\"\n",
    "module load CUDA/12.4.0\n",
    "source ~/sglang-venv-2/bin/activate\n",
    "huggingface-cli login\n",
    "\n",
    "\n",
    "# 创建所有必要的目录\n",
    "mkdir -p /scratch-local/yhuang/sglang_cache\n",
    "mkdir -p /scratch-local/yhuang/huggingface_cache\n",
    "mkdir -p /scratch-local/yhuang/torch_cache\n",
    "mkdir -p /scratch-local/yhuang/cuda_cache\n",
    "mkdir -p /scratch-local/yhuang/xdg_cache\n",
    "mkdir -p /scratch-local/yhuang/tmp\n",
    "mkdir -p /scratch-local/yhuang/logs\n",
    "\n",
    "# 设置所有相关环境变量\n",
    "export SGLANG_CACHE_DIR=/scratch-local/yhuang/sglang_cache\n",
    "export TRANSFORMERS_CACHE=/scratch-local/yhuang/huggingface_cache\n",
    "export HF_HOME=/scratch-local/yhuang/huggingface_cache\n",
    "export HF_DATASETS_CACHE=/scratch-local/yhuang/huggingface_cache/datasets\n",
    "export TORCH_HOME=/scratch-local/yhuang/torch_cache\n",
    "export CUDA_CACHE_PATH=/scratch-local/yhuang/cuda_cache\n",
    "export XDG_CACHE_HOME=/scratch-local/yhuang/xdg_cache\n",
    "export TMPDIR=/scratch-local/yhuang/tmp\n",
    "export TEMP=/scratch-local/yhuang/tmp\n",
    "export TMP=/scratch-local/yhuang/tmp\n",
    "export SGLANG_LOG_DIR=/scratch-local/yhuang/logs\n",
    "\n",
    "# launching\n",
    "python -m sglang.launch_server --port 7501 --model-path Qwen/Qwen3-4B --trust-remote-code\n",
    "CUDA_VISIBLE_DEVICES=0,1 python -m sglang.launch_server --port 7501 --model-path Qwen/Qwen3-32B --trust-remote-code --tp 2\n",
    "\"\"\""
   ]
  },
  {
   "cell_type": "markdown",
   "id": "hYao-kS6wkFv",
   "metadata": {
    "id": "hYao-kS6wkFv"
   },
   "source": [
    "# Classifying questions using the DSPy program"
   ]
  },
  {
   "cell_type": "markdown",
   "id": "gtF5XkdgwpJc",
   "metadata": {
    "id": "gtF5XkdgwpJc"
   },
   "source": [
    "## Loading the model"
   ]
  },
  {
   "cell_type": "code",
   "execution_count": 9,
   "id": "dF9115fRwnO2",
   "metadata": {
    "id": "dF9115fRwnO2"
   },
   "outputs": [],
   "source": [
    "model = dspy.LM(\"openai/Qwen/Qwen3-4B\",\n",
    "         api_base=\"http://localhost:7501/v1\",\n",
    "         api_key=\"whatever\", model_type='chat',\n",
    "         cache=False,\n",
    "         temperature=0.0,\n",
    "         max_tokens=5000)\n",
    "dspy.configure(lm=model)"
   ]
  },
  {
   "cell_type": "markdown",
   "id": "GvhJL80GwybN",
   "metadata": {
    "id": "GvhJL80GwybN"
   },
   "source": [
    "## Helper functions"
   ]
  },
  {
   "cell_type": "code",
   "execution_count": 10,
   "id": "a4T_hq_7wxjj",
   "metadata": {
    "id": "a4T_hq_7wxjj"
   },
   "outputs": [],
   "source": [
    "def run_batch(batch, class_to_use):\n",
    "    results = []\n",
    "    for request in batch[\"question\"]:\n",
    "        try:\n",
    "            result = class_to_use(request=request)\n",
    "            results.append({\n",
    "                \"category\": result.category,\n",
    "                \"judgment\": result.judgment,\n",
    "                \"reasoning\": getattr(result, \"reasoning\", \"\")\n",
    "            })\n",
    "        except Exception as e:\n",
    "            results.append({\n",
    "                \"category\": \"error\",\n",
    "                \"judgment\": \"error\",\n",
    "                \"reasoning\": \"error\"\n",
    "            })\n",
    "    return {\n",
    "        \"category\": [r[\"category\"] for r in results],\n",
    "        \"judgment\": [r[\"judgment\"] for r in results],\n",
    "        \"reasoning\": [r[\"reasoning\"] for r in results]\n",
    "    }\n",
    "\n",
    "\n",
    "\n",
    "def collect_thinking(loaded_model):\n",
    "  history_data = loaded_model.history\n",
    "  think_list = []\n",
    "  print(f'The current length of history is {len(history_data)}.')\n",
    "\n",
    "  for record in history_data:\n",
    "      thinking = record['outputs'][0].split(\"[[ ## reasoning ## ]]\")[0]\n",
    "      think_list.append(thinking)\n",
    "\n",
    "  return think_list\n",
    "\n",
    "def collect_thinking_streaming(loaded_model, output_path):\n",
    "    history_data = loaded_model.history\n",
    "    print(f'The current length of history is {len(history_data)}.')\n",
    "\n",
    "    with open(output_path, 'w', encoding='utf-8') as f:\n",
    "        for record in history_data:\n",
    "            thinking = record['outputs'][0].split(\"[[ ## reasoning ## ]]\")[0]\n",
    "            json.dump({\"thinking\": thinking}, f)\n",
    "            f.write('\\n')\n",
    "\n",
    "\n",
    "def add_columns_to_dataset(dataset, columns_dict, inplace=False):\n",
    "    \"\"\"\n",
    "    Adding multiple columns to a HuggingFace Dataset\n",
    "\n",
    "    params：\n",
    "        dataset (Dataset): The original dataset\n",
    "        columns_dict (dict): The new columns organized in a dict, keys are column names, value lists should be of the same length with Dataset\n",
    "        inplace (bool): whether to change the orignial Dataset or create a new copy\n",
    "\n",
    "    return：\n",
    "        Dataset: The new dataset with new columns added\n",
    "    \"\"\"\n",
    "    if not inplace:\n",
    "        dataset = deepcopy(dataset)\n",
    "\n",
    "    for column_name, values in columns_dict.items():\n",
    "        if len(values) != len(dataset):\n",
    "            raise ValueError(f\"Length mismatch：'{column_name}' The column length is {len(values)}, but the dataset has {len(dataset)} samples.\")\n",
    "        dataset = dataset.add_column(column_name, values)\n",
    "\n",
    "    return dataset"
   ]
  },
  {
   "cell_type": "markdown",
   "id": "kYLcYgB5w7Yg",
   "metadata": {
    "id": "kYLcYgB5w7Yg"
   },
   "source": [
    "## Loading the DSPy program from Exp 2"
   ]
  },
  {
   "cell_type": "code",
   "execution_count": 11,
   "id": "cfX3fNQUw1ho",
   "metadata": {
    "id": "cfX3fNQUw1ho"
   },
   "outputs": [],
   "source": [
    "loaded_dspy_program = dspy.load(\"../Reproductivity/dspy_program/\")\n",
    "# Encapsule the loaded program into the batch running function\n",
    "wrapped_batch = partial(run_batch, class_to_use=loaded_dspy_program)"
   ]
  },
  {
   "cell_type": "code",
   "execution_count": 12,
   "id": "4UOlEqCgxBzJ",
   "metadata": {
    "id": "4UOlEqCgxBzJ"
   },
   "outputs": [
    {
     "name": "stderr",
     "output_type": "stream",
     "text": [
      "Running DSPy classification: 100%|██████████| 200/200 [2:25:46<00:00, 43.73s/it]  \n"
     ]
    }
   ],
   "source": [
    "# batch parameters\n",
    "batch_size = 5\n",
    "num_samples = len(hotpot_sample)\n",
    "batches = [hotpot_sample.select(range(i, min(i + batch_size, num_samples))) for i in range(0, num_samples, batch_size)]\n",
    "\n",
    "# Initialize a dict of outputs with empty lists using designated keys\n",
    "all_outputs = {\"category\": [], \"judgment\": [], \"reasoning\": []}\n",
    "\n",
    "# tqdm progress bar\n",
    "for batch in tqdm(batches, desc=\"Running DSPy classification\"):\n",
    "    out = wrapped_batch(batch)\n",
    "    for key in all_outputs:\n",
    "        all_outputs[key].extend(out[key])"
   ]
  },
  {
   "cell_type": "code",
   "execution_count": 13,
   "id": "_6lPI-86xDkd",
   "metadata": {
    "id": "_6lPI-86xDkd"
   },
   "outputs": [
    {
     "data": {
      "application/vnd.jupyter.widget-view+json": {
       "model_id": "8f70b8145662422793fff4d9753bf200",
       "version_major": 2,
       "version_minor": 0
      },
      "text/plain": [
       "Flattening the indices:   0%|          | 0/1000 [00:00<?, ? examples/s]"
      ]
     },
     "metadata": {},
     "output_type": "display_data"
    },
    {
     "data": {
      "application/vnd.jupyter.widget-view+json": {
       "model_id": "fa832db483454553bb219880332c9eb0",
       "version_major": 2,
       "version_minor": 0
      },
      "text/plain": [
       "Filter:   0%|          | 0/1000 [00:00<?, ? examples/s]"
      ]
     },
     "metadata": {},
     "output_type": "display_data"
    },
    {
     "data": {
      "application/vnd.jupyter.widget-view+json": {
       "model_id": "2106f2b0f5784675bd6ffb78fc63d6e5",
       "version_major": 2,
       "version_minor": 0
      },
      "text/plain": [
       "Filter:   0%|          | 0/1000 [00:00<?, ? examples/s]"
      ]
     },
     "metadata": {},
     "output_type": "display_data"
    },
    {
     "name": "stdout",
     "output_type": "stream",
     "text": [
      "Underspecified samples: 394\n",
      "Fully specified samples: 606\n"
     ]
    },
    {
     "data": {
      "application/vnd.jupyter.widget-view+json": {
       "model_id": "18c4b585b7324459b9a57235e62e2a4f",
       "version_major": 2,
       "version_minor": 0
      },
      "text/plain": [
       "Creating json from Arrow format:   0%|          | 0/1 [00:00<?, ?ba/s]"
      ]
     },
     "metadata": {},
     "output_type": "display_data"
    },
    {
     "data": {
      "application/vnd.jupyter.widget-view+json": {
       "model_id": "06c20eb99d034a2ba7f7524cce0d60c4",
       "version_major": 2,
       "version_minor": 0
      },
      "text/plain": [
       "Creating json from Arrow format:   0%|          | 0/1 [00:00<?, ?ba/s]"
      ]
     },
     "metadata": {},
     "output_type": "display_data"
    },
    {
     "data": {
      "application/vnd.jupyter.widget-view+json": {
       "model_id": "2b08122a72e647468bda54eba0dc42ef",
       "version_major": 2,
       "version_minor": 0
      },
      "text/plain": [
       "Creating json from Arrow format:   0%|          | 0/1 [00:00<?, ?ba/s]"
      ]
     },
     "metadata": {},
     "output_type": "display_data"
    },
    {
     "data": {
      "text/plain": [
       "372933"
      ]
     },
     "execution_count": 13,
     "metadata": {},
     "output_type": "execute_result"
    }
   ],
   "source": [
    "# Integrate outputs into the original dataset (copy)\n",
    "annotated_dataset = add_columns_to_dataset(hotpot_sample, all_outputs)\n",
    "\n",
    "# Create the UND subset\n",
    "underspecified_set = annotated_dataset.filter(\n",
    "    lambda x: x[\"judgment\"].strip().lower() == \"underspecified\"\n",
    ")\n",
    "\n",
    "# Create the FS subset\n",
    "fully_specified_set = annotated_dataset.filter(\n",
    "    lambda x: x[\"judgment\"].strip().lower() == \"fully specified\"\n",
    ")\n",
    "\n",
    "# The size of subsets\n",
    "print(f\"Underspecified samples: {len(underspecified_set)}\")\n",
    "print(f\"Fully specified samples: {len(fully_specified_set)}\")\n",
    "\n",
    "annotated_dataset.to_json(\"classified_HotpotQA_sample_all.jsonl\", orient=\"records\", lines=True)\n",
    "underspecified_set.to_json(\"classified_HotpotQA_sample_UND.jsonl\", orient=\"records\", lines=True)\n",
    "fully_specified_set.to_json(\"classified_HotpotQA_sample_FS.jsonl\", orient=\"records\", lines=True)"
   ]
  },
  {
   "cell_type": "code",
   "execution_count": 14,
   "id": "_QxmWTcRxNez",
   "metadata": {
    "id": "_QxmWTcRxNez"
   },
   "outputs": [
    {
     "data": {
      "text/plain": [
       "{'id': '5add1d575542992c1e3a2540',\n",
       " 'question': \"What nationality was Oliver Reed's character in the film Royal Flash?\",\n",
       " 'answer': ['Prussian'],\n",
       " 'category': 'fully specified',\n",
       " 'judgment': 'fully specified',\n",
       " 'reasoning': 'This question is fully specified because it refers to a specific film (\"Royal Flash\") and a well-known actor (Oliver Reed), asking for the nationality of his character. The referent is unambiguous, the scope is factual, and no missing components or subjective criteria are involved.'}"
      ]
     },
     "execution_count": 14,
     "metadata": {},
     "output_type": "execute_result"
    }
   ],
   "source": [
    "annotated_dataset[0]"
   ]
  },
  {
   "cell_type": "code",
   "execution_count": 15,
   "id": "GGRwCmELxSuz",
   "metadata": {
    "id": "GGRwCmELxSuz"
   },
   "outputs": [
    {
     "name": "stdout",
     "output_type": "stream",
     "text": [
      "The current length of history is 1161.\n",
      "The number of thinking pieces is 1161.\n",
      "The current length of history is 1161.\n"
     ]
    }
   ],
   "source": [
    "# Collect thinking\n",
    "think_list = collect_thinking(model)\n",
    "print(f\"The number of thinking pieces is {len(think_list)}.\")\n",
    "think_df = pd.DataFrame(think_list)\n",
    "think_df.to_csv('think_HotpotQA_sample.csv')\n",
    "\n",
    "collect_thinking_streaming(model, \"think_HotpotQA_sample.jsonl\")"
   ]
  },
  {
   "cell_type": "code",
   "execution_count": 16,
   "id": "KFaz9RuUxZOI",
   "metadata": {
    "id": "KFaz9RuUxZOI"
   },
   "outputs": [
    {
     "data": {
      "text/html": [
       "<div>\n",
       "<style scoped>\n",
       "    .dataframe tbody tr th:only-of-type {\n",
       "        vertical-align: middle;\n",
       "    }\n",
       "\n",
       "    .dataframe tbody tr th {\n",
       "        vertical-align: top;\n",
       "    }\n",
       "\n",
       "    .dataframe thead th {\n",
       "        text-align: right;\n",
       "    }\n",
       "</style>\n",
       "<table border=\"1\" class=\"dataframe\">\n",
       "  <thead>\n",
       "    <tr style=\"text-align: right;\">\n",
       "      <th></th>\n",
       "      <th>id</th>\n",
       "      <th>question</th>\n",
       "      <th>answer</th>\n",
       "      <th>category</th>\n",
       "      <th>judgment</th>\n",
       "      <th>reasoning</th>\n",
       "    </tr>\n",
       "  </thead>\n",
       "  <tbody>\n",
       "    <tr>\n",
       "      <th>0</th>\n",
       "      <td>5add1d575542992c1e3a2540</td>\n",
       "      <td>What nationality was Oliver Reed's character i...</td>\n",
       "      <td>[Prussian]</td>\n",
       "      <td>fully specified</td>\n",
       "      <td>fully specified</td>\n",
       "      <td>This question is fully specified because it re...</td>\n",
       "    </tr>\n",
       "    <tr>\n",
       "      <th>1</th>\n",
       "      <td>5ac55ea55542993e66e82377</td>\n",
       "      <td>Pacific Mozart Ensemble performed which German...</td>\n",
       "      <td>[Kurt Julian Weill]</td>\n",
       "      <td>fully specified</td>\n",
       "      <td>fully specified</td>\n",
       "      <td>This question is fully specified because it re...</td>\n",
       "    </tr>\n",
       "    <tr>\n",
       "      <th>2</th>\n",
       "      <td>5ac3a76e554299741d48a2be</td>\n",
       "      <td>Who released the song \"With or Without You\" fi...</td>\n",
       "      <td>[U2]</td>\n",
       "      <td>Undetermined lexicons or references</td>\n",
       "      <td>underspecified</td>\n",
       "      <td>The request is underspecified because the refe...</td>\n",
       "    </tr>\n",
       "    <tr>\n",
       "      <th>3</th>\n",
       "      <td>5a7133565542994082a3e65c</td>\n",
       "      <td>What Kentucky county has a population of 60,31...</td>\n",
       "      <td>[Oldham County]</td>\n",
       "      <td>Undetermined lexicons or references</td>\n",
       "      <td>underspecified</td>\n",
       "      <td>The request is underspecified because the term...</td>\n",
       "    </tr>\n",
       "    <tr>\n",
       "      <th>4</th>\n",
       "      <td>5ac1a4745542991316484b82</td>\n",
       "      <td>Para Hills West, South Australia lies within a...</td>\n",
       "      <td>[138,535]</td>\n",
       "      <td>fully specified</td>\n",
       "      <td>fully specified</td>\n",
       "      <td>This question is fully specified because it re...</td>\n",
       "    </tr>\n",
       "    <tr>\n",
       "      <th>...</th>\n",
       "      <td>...</td>\n",
       "      <td>...</td>\n",
       "      <td>...</td>\n",
       "      <td>...</td>\n",
       "      <td>...</td>\n",
       "      <td>...</td>\n",
       "    </tr>\n",
       "    <tr>\n",
       "      <th>995</th>\n",
       "      <td>5a8b46925542995d1e6f133c</td>\n",
       "      <td>When was the singer of Miss Emily's Picture born?</td>\n",
       "      <td>[August 11, 1946]</td>\n",
       "      <td>Undetermined lexicons or references</td>\n",
       "      <td>underspecified</td>\n",
       "      <td>The request is underspecified because the refe...</td>\n",
       "    </tr>\n",
       "    <tr>\n",
       "      <th>996</th>\n",
       "      <td>5a808cbd5542996402f6a54b</td>\n",
       "      <td>What is the profession of Ansel Elgort's chara...</td>\n",
       "      <td>[getaway driver]</td>\n",
       "      <td>fully specified</td>\n",
       "      <td>fully specified</td>\n",
       "      <td>This question is fully specified because it re...</td>\n",
       "    </tr>\n",
       "    <tr>\n",
       "      <th>997</th>\n",
       "      <td>5ab1e7685542993be8fa9877</td>\n",
       "      <td>On what street was the hotel located where the...</td>\n",
       "      <td>[Peachtree Street]</td>\n",
       "      <td>Undetermined lexicons or references</td>\n",
       "      <td>underspecified</td>\n",
       "      <td>The request is underspecified because the refe...</td>\n",
       "    </tr>\n",
       "    <tr>\n",
       "      <th>998</th>\n",
       "      <td>5a865d11554299211dda2b0d</td>\n",
       "      <td>What is the original name of the place where T...</td>\n",
       "      <td>[Fort Saint Anthony]</td>\n",
       "      <td>Undetermined lexicons or references</td>\n",
       "      <td>underspecified</td>\n",
       "      <td>The request is underspecified because the term...</td>\n",
       "    </tr>\n",
       "    <tr>\n",
       "      <th>999</th>\n",
       "      <td>5a77ace855429967ab105223</td>\n",
       "      <td>What entity with the capital city of Ciudad Vi...</td>\n",
       "      <td>[Tamaulipas]</td>\n",
       "      <td>fully specified</td>\n",
       "      <td>fully specified</td>\n",
       "      <td>This question is fully specified because it re...</td>\n",
       "    </tr>\n",
       "  </tbody>\n",
       "</table>\n",
       "<p>1000 rows × 6 columns</p>\n",
       "</div>"
      ],
      "text/plain": [
       "                           id  \\\n",
       "0    5add1d575542992c1e3a2540   \n",
       "1    5ac55ea55542993e66e82377   \n",
       "2    5ac3a76e554299741d48a2be   \n",
       "3    5a7133565542994082a3e65c   \n",
       "4    5ac1a4745542991316484b82   \n",
       "..                        ...   \n",
       "995  5a8b46925542995d1e6f133c   \n",
       "996  5a808cbd5542996402f6a54b   \n",
       "997  5ab1e7685542993be8fa9877   \n",
       "998  5a865d11554299211dda2b0d   \n",
       "999  5a77ace855429967ab105223   \n",
       "\n",
       "                                              question                answer  \\\n",
       "0    What nationality was Oliver Reed's character i...            [Prussian]   \n",
       "1    Pacific Mozart Ensemble performed which German...   [Kurt Julian Weill]   \n",
       "2    Who released the song \"With or Without You\" fi...                  [U2]   \n",
       "3    What Kentucky county has a population of 60,31...       [Oldham County]   \n",
       "4    Para Hills West, South Australia lies within a...             [138,535]   \n",
       "..                                                 ...                   ...   \n",
       "995  When was the singer of Miss Emily's Picture born?     [August 11, 1946]   \n",
       "996  What is the profession of Ansel Elgort's chara...      [getaway driver]   \n",
       "997  On what street was the hotel located where the...    [Peachtree Street]   \n",
       "998  What is the original name of the place where T...  [Fort Saint Anthony]   \n",
       "999  What entity with the capital city of Ciudad Vi...          [Tamaulipas]   \n",
       "\n",
       "                                category         judgment  \\\n",
       "0                        fully specified  fully specified   \n",
       "1                        fully specified  fully specified   \n",
       "2    Undetermined lexicons or references   underspecified   \n",
       "3    Undetermined lexicons or references   underspecified   \n",
       "4                        fully specified  fully specified   \n",
       "..                                   ...              ...   \n",
       "995  Undetermined lexicons or references   underspecified   \n",
       "996                      fully specified  fully specified   \n",
       "997  Undetermined lexicons or references   underspecified   \n",
       "998  Undetermined lexicons or references   underspecified   \n",
       "999                      fully specified  fully specified   \n",
       "\n",
       "                                             reasoning  \n",
       "0    This question is fully specified because it re...  \n",
       "1    This question is fully specified because it re...  \n",
       "2    The request is underspecified because the refe...  \n",
       "3    The request is underspecified because the term...  \n",
       "4    This question is fully specified because it re...  \n",
       "..                                                 ...  \n",
       "995  The request is underspecified because the refe...  \n",
       "996  This question is fully specified because it re...  \n",
       "997  The request is underspecified because the refe...  \n",
       "998  The request is underspecified because the term...  \n",
       "999  This question is fully specified because it re...  \n",
       "\n",
       "[1000 rows x 6 columns]"
      ]
     },
     "execution_count": 16,
     "metadata": {},
     "output_type": "execute_result"
    }
   ],
   "source": [
    "df = pd.read_json(\"classified_HotpotQA_sample_all.jsonl\", lines=True)\n",
    "df.to_csv('classified_HotpotQA_sample_all.csv')\n",
    "df"
   ]
  },
  {
   "cell_type": "markdown",
   "id": "uoAbWr_bxoJ6",
   "metadata": {
    "id": "uoAbWr_bxoJ6"
   },
   "source": [
    "# QA implementations"
   ]
  },
  {
   "cell_type": "code",
   "execution_count": 2,
   "id": "UUaXuf71xqlb",
   "metadata": {
    "id": "UUaXuf71xqlb"
   },
   "outputs": [],
   "source": [
    "underspecified_set = load_dataset(\n",
    "    \"json\",\n",
    "    data_files=\"classified_HotpotQA_sample_UND.jsonl\",\n",
    "    split=\"train\"  # 必须指定 split，否则默认返回 DatasetDict\n",
    ")\n",
    "\n",
    "fully_specified_set = load_dataset(\n",
    "    \"json\",\n",
    "    data_files=\"classified_HotpotQA_sample_FS.jsonl\",\n",
    "    split=\"train\"\n",
    ")"
   ]
  },
  {
   "cell_type": "markdown",
   "id": "3880w7oIxxR6",
   "metadata": {
    "id": "3880w7oIxxR6"
   },
   "source": [
    "## Loading GPT for short QA"
   ]
  },
  {
   "cell_type": "code",
   "execution_count": 3,
   "id": "ifThtguIxsvQ",
   "metadata": {
    "id": "ifThtguIxsvQ"
   },
   "outputs": [],
   "source": [
    "from openai import OpenAI\n",
    "\n",
    "client = OpenAI(\n",
    "    api_key=\"\",\n",
    "    base_url=\"https://api.openai.com/v1\"\n",
    ") # Delete when sharing"
   ]
  },
  {
   "cell_type": "code",
   "execution_count": 4,
   "id": "hOpJXZpNy1wI",
   "metadata": {
    "id": "hOpJXZpNy1wI"
   },
   "outputs": [],
   "source": [
    "def ask_short_answer(question, client, model=\"gpt-4o-2024-11-20\", temperature=0, max_retries=5, sleep_time=2.0):\n",
    "    system_prompt = (\n",
    "        \"Answer the question with concise responses. \"\n",
    "        \"Return answers as a list of strings. If there's only one answer, return a single-item list. \"\n",
    "        \"Each answer should be brief and direct.\"\n",
    "    )\n",
    "    retries = 0\n",
    "    while retries < max_retries:\n",
    "        try:\n",
    "            response = client.chat.completions.create(\n",
    "                model=model,\n",
    "                messages=[\n",
    "                    {\"role\": \"system\", \"content\": system_prompt},\n",
    "                    {\"role\": \"user\", \"content\": question}\n",
    "                ],\n",
    "                temperature=temperature\n",
    "            )\n",
    "            content = response.choices[0].message.content\n",
    "            if content.startswith(\"[\"):\n",
    "                return eval(content)\n",
    "            else:\n",
    "                return [content.strip()]\n",
    "        except Exception as e:\n",
    "            retries += 1\n",
    "            time.sleep(sleep_time * retries)\n",
    "    return [\"[Error]: Max retries exceeded\"]"
   ]
  },
  {
   "cell_type": "code",
   "execution_count": 5,
   "id": "Wk3_XPN1_Rie",
   "metadata": {
    "id": "Wk3_XPN1_Rie"
   },
   "outputs": [],
   "source": [
    "def run_batch_shortQA_api(batch, client, **kwargs):\n",
    "    short_answers = []\n",
    "    for q in batch[\"question\"]:\n",
    "        try:\n",
    "            answer = ask_short_answer(q, client=client, **kwargs)\n",
    "            short_answers.append(answer)\n",
    "        except Exception as e:\n",
    "            print(f\"Error: {e}\")\n",
    "            short_answers.append([\"error\"])\n",
    "    return {\"model_short_answer\": short_answers}"
   ]
  },
  {
   "cell_type": "code",
   "execution_count": 6,
   "id": "GJWuyCDQ_THB",
   "metadata": {
    "id": "GJWuyCDQ_THB"
   },
   "outputs": [],
   "source": [
    "def batch_QA_with_progress(dataset, batch_fn, output_key, batch_size=5, fill_value=\"error\", **batch_fn_kwargs):\n",
    "    all_outputs = []\n",
    "    for i in tqdm(range(0, len(dataset), batch_size), desc=f\"Running {output_key}\"):\n",
    "        batch = dataset.select(range(i, min(i + batch_size, len(dataset))))\n",
    "        try:\n",
    "            output = batch_fn(batch, **batch_fn_kwargs)\n",
    "            if output_key not in output:\n",
    "                raise ValueError(f\"Missing key '{output_key}' in batch result\")\n",
    "            all_outputs.extend(output[output_key])\n",
    "        except Exception as e:\n",
    "            print(f\"Batch error at {i}: {e}\")\n",
    "            all_outputs.extend([fill_value] * len(batch))\n",
    "\n",
    "    if len(all_outputs) != len(dataset):\n",
    "        print(f\"[Warning] Output length mismatch, auto-filling\")\n",
    "        all_outputs.extend([fill_value] * (len(dataset) - len(all_outputs)))\n",
    "\n",
    "    return {output_key: all_outputs}"
   ]
  },
  {
   "cell_type": "markdown",
   "id": "1OcCHxcE_WUt",
   "metadata": {
    "id": "1OcCHxcE_WUt"
   },
   "source": [
    "## Implementations"
   ]
  },
  {
   "cell_type": "code",
   "execution_count": 7,
   "id": "1FhNGJz1_VkE",
   "metadata": {
    "id": "1FhNGJz1_VkE"
   },
   "outputs": [
    {
     "name": "stderr",
     "output_type": "stream",
     "text": [
      "Running model_short_answer: 100%|██████████| 79/79 [03:52<00:00,  2.94s/it]\n"
     ]
    }
   ],
   "source": [
    "short_results_UND = batch_QA_with_progress(\n",
    "    underspecified_set,\n",
    "    batch_fn=run_batch_shortQA_api,\n",
    "    output_key=\"model_short_answer\",\n",
    "    fill_value=[\"error\"],\n",
    "    client=client,\n",
    "    model=\"gpt-4o-2024-11-20\",\n",
    "    temperature=0.0\n",
    ")"
   ]
  },
  {
   "cell_type": "code",
   "execution_count": 8,
   "id": "1ZWw6mDN_aIp",
   "metadata": {
    "id": "1ZWw6mDN_aIp"
   },
   "outputs": [
    {
     "name": "stderr",
     "output_type": "stream",
     "text": [
      "Running model_short_answer: 100%|██████████| 122/122 [05:27<00:00,  2.69s/it]\n"
     ]
    }
   ],
   "source": [
    "# batch QA for FS\n",
    "short_results_FS = batch_QA_with_progress(\n",
    "    fully_specified_set,\n",
    "    batch_fn=run_batch_shortQA_api,\n",
    "    output_key=\"model_short_answer\",\n",
    "    fill_value=[\"error\"],\n",
    "    client=client,\n",
    "    model=\"gpt-4o-2024-11-20\",\n",
    "    temperature=0.0\n",
    ")"
   ]
  },
  {
   "cell_type": "code",
   "execution_count": 10,
   "id": "0u4mNHin_fN3",
   "metadata": {
    "id": "0u4mNHin_fN3"
   },
   "outputs": [
    {
     "data": {
      "application/vnd.jupyter.widget-view+json": {
       "model_id": "f48a9fc106a0445bbef4b6513a516923",
       "version_major": 2,
       "version_minor": 0
      },
      "text/plain": [
       "Creating json from Arrow format:   0%|          | 0/1 [00:00<?, ?ba/s]"
      ]
     },
     "metadata": {},
     "output_type": "display_data"
    },
    {
     "data": {
      "text/plain": [
       "279750"
      ]
     },
     "execution_count": 10,
     "metadata": {},
     "output_type": "execute_result"
    }
   ],
   "source": [
    "qa_underspecified = deepcopy(underspecified_set)\n",
    "\n",
    "for key in short_results_UND:\n",
    "    qa_underspecified = qa_underspecified.add_column(key, short_results_UND[key])\n",
    "\n",
    "qa_underspecified.to_json(\"HotpotQA_UND_qa_gpt.jsonl\", orient=\"records\", lines=True)"
   ]
  },
  {
   "cell_type": "code",
   "execution_count": 11,
   "id": "025OPrRz_kKo",
   "metadata": {
    "id": "025OPrRz_kKo"
   },
   "outputs": [
    {
     "data": {
      "application/vnd.jupyter.widget-view+json": {
       "model_id": "c73703104b074ea08fced2a4c531d340",
       "version_major": 2,
       "version_minor": 0
      },
      "text/plain": [
       "Creating json from Arrow format:   0%|          | 0/1 [00:00<?, ?ba/s]"
      ]
     },
     "metadata": {},
     "output_type": "display_data"
    },
    {
     "data": {
      "text/plain": [
       "402483"
      ]
     },
     "execution_count": 11,
     "metadata": {},
     "output_type": "execute_result"
    }
   ],
   "source": [
    "qa_fully_specified = deepcopy(fully_specified_set)\n",
    "\n",
    "for key in short_results_FS:\n",
    "    qa_fully_specified = qa_fully_specified.add_column(key, short_results_FS[key])\n",
    "    \n",
    "qa_fully_specified.to_json(\"HotpotQA_FS_qa_gpt.jsonl\", orient=\"records\", lines=True)"
   ]
  },
  {
   "cell_type": "code",
   "execution_count": 12,
   "id": "sQXa-d3i_oiP",
   "metadata": {
    "id": "sQXa-d3i_oiP"
   },
   "outputs": [],
   "source": [
    "df = pd.read_json(\"HotpotQA_UND_qa_gpt.jsonl\", lines=True)\n",
    "df.to_csv('HotpotQA_UND_qa_gpt.csv')\n",
    "\n",
    "df = pd.read_json(\"HotpotQA_FS_qa_gpt.jsonl\", lines=True)\n",
    "df.to_csv('HotpotQA_FS_qa_gpt.csv')"
   ]
  },
  {
   "cell_type": "markdown",
   "id": "b-y-zAKl_zgV",
   "metadata": {
    "id": "b-y-zAKl_zgV"
   },
   "source": [
    "# Evaluations"
   ]
  },
  {
   "cell_type": "code",
   "execution_count": 2,
   "id": "FSl7HKut_014",
   "metadata": {
    "id": "FSl7HKut_014"
   },
   "outputs": [],
   "source": [
    "underspecified_set_qa = load_dataset(\n",
    "    \"json\",\n",
    "    data_files=\"HotpotQA_UND_qa_gpt.jsonl\",\n",
    "    split=\"train\"  # 必须指定 split，否则默认返回 DatasetDict\n",
    ")\n",
    "\n",
    "fully_specified_set_qa = load_dataset(\n",
    "    \"json\",\n",
    "    data_files=\"HotpotQA_FS_qa_gpt.jsonl\",\n",
    "    split=\"train\"\n",
    ")"
   ]
  },
  {
   "cell_type": "markdown",
   "id": "t5xCXLGJ_6PP",
   "metadata": {
    "id": "t5xCXLGJ_6PP"
   },
   "source": [
    "## Squad EM + F1"
   ]
  },
  {
   "cell_type": "code",
   "execution_count": 3,
   "id": "c6Hffeen_8ec",
   "metadata": {
    "id": "c6Hffeen_8ec"
   },
   "outputs": [
    {
     "name": "stdout",
     "output_type": "stream",
     "text": [
      "Exact Match: 38.61\n",
      "F1 Score: 51.89\n"
     ]
    }
   ],
   "source": [
    "# Official squad script for avg EM and F1, not possible for t-test\n",
    "\n",
    "\n",
    "# Evaluate fully specified subset\n",
    "dataset = load_dataset(\"json\", data_files=\"HotpotQA_FS_qa_gpt.jsonl\", split=\"train\")\n",
    "\n",
    "# 加载 HuggingFace 的 squad 评估器\n",
    "squad_metric = evaluate.load(\"squad\")\n",
    "\n",
    "# 构造 predictions 和 references（标准格式）\n",
    "predictions = [\n",
    "    {\n",
    "        \"id\": str(i),\n",
    "        \"prediction_text\": pred[0] if isinstance(pred, list) and pred else \"\"\n",
    "    }\n",
    "    for i, pred in enumerate(dataset[\"model_short_answer\"])\n",
    "]\n",
    "\n",
    "references = [\n",
    "    {\n",
    "        \"id\": str(i),\n",
    "        \"answers\": {\n",
    "            \"text\": ref if isinstance(ref, list) else [ref],\n",
    "            \"answer_start\": [0] * len(ref if isinstance(ref, list) else [ref])\n",
    "        }\n",
    "    }\n",
    "    for i, ref in enumerate(dataset[\"answer\"])\n",
    "]\n",
    "\n",
    "# 计算 SQuAD-style EM 和 F1\n",
    "results = squad_metric.compute(predictions=predictions, references=references)\n",
    "\n",
    "# 打印平均指标\n",
    "print(f\"Exact Match: {results['exact_match']:.2f}\")\n",
    "print(f\"F1 Score: {results['f1']:.2f}\")"
   ]
  },
  {
   "cell_type": "code",
   "execution_count": 4,
   "id": "XuC5wJBwBFmx",
   "metadata": {
    "id": "XuC5wJBwBFmx"
   },
   "outputs": [
    {
     "name": "stdout",
     "output_type": "stream",
     "text": [
      "Exact Match: 21.83\n",
      "F1 Score: 35.40\n"
     ]
    }
   ],
   "source": [
    "# Evaluate underspecified subset\n",
    "dataset = load_dataset(\"json\", data_files=\"HotpotQA_UND_qa_gpt.jsonl\", split=\"train\")\n",
    "\n",
    "# 加载 HuggingFace 的 squad 评估器\n",
    "squad_metric = evaluate.load(\"squad\")\n",
    "\n",
    "# 构造 predictions 和 references（标准格式）\n",
    "predictions = [\n",
    "    {\n",
    "        \"id\": str(i),\n",
    "        \"prediction_text\": pred[0] if isinstance(pred, list) and pred else \"\"\n",
    "    }\n",
    "    for i, pred in enumerate(dataset[\"model_short_answer\"])\n",
    "]\n",
    "\n",
    "references = [\n",
    "    {\n",
    "        \"id\": str(i),\n",
    "        \"answers\": {\n",
    "            \"text\": ref if isinstance(ref, list) else [ref],\n",
    "            \"answer_start\": [0] * len(ref if isinstance(ref, list) else [ref])\n",
    "        }\n",
    "    }\n",
    "    for i, ref in enumerate(dataset[\"answer\"])\n",
    "]\n",
    "\n",
    "# 计算 SQuAD-style EM 和 F1\n",
    "results = squad_metric.compute(predictions=predictions, references=references)\n",
    "\n",
    "# 打印平均指标\n",
    "print(f\"Exact Match: {results['exact_match']:.2f}\")\n",
    "print(f\"F1 Score: {results['f1']:.2f}\")"
   ]
  },
  {
   "cell_type": "code",
   "execution_count": 5,
   "id": "tCBAvQK7DIbD",
   "metadata": {
    "id": "tCBAvQK7DIbD"
   },
   "outputs": [],
   "source": [
    "def evaluate_squad_per_sample_multi_ref_pred(dataset, pred_col=\"model_short_answer\", ref_col=\"answer\"):\n",
    "    \"\"\"\n",
    "    对每个样本逐一计算 EM 和 F1，支持多个参考答案和多个预测答案（list[str]）。\n",
    "    返回带 \"em\", \"f1\" 列的新 Dataset，以及 f1/em 列表用于统计分析。\n",
    "    Also considering multiple answers in both gold and pred and take the maximum score\n",
    "    \"\"\"\n",
    "\n",
    "    def normalize_answer(s):\n",
    "        def remove_articles(text):\n",
    "            return re.sub(r'\\b(a|an|the)\\b', ' ', text)\n",
    "        def white_space_fix(text):\n",
    "            return ' '.join(text.split())\n",
    "        def remove_punc(text):\n",
    "            return ''.join(ch for ch in text if ch not in string.punctuation)\n",
    "        def lower(text):\n",
    "            return text.lower()\n",
    "        return white_space_fix(remove_articles(remove_punc(lower(s))))\n",
    "\n",
    "    def compute_exact(a_pred, a_gold):\n",
    "    # 如果是 list，转成 set 并 normalize 每个元素\n",
    "        if isinstance(a_pred, list) and isinstance(a_gold, list):\n",
    "          pred_set = set(normalize_answer(a) for a in a_pred)\n",
    "          gold_set = set(normalize_answer(a) for a in a_gold)\n",
    "          return int(pred_set == gold_set)\n",
    "        else:\n",
    "          return int(normalize_answer(a_pred) == normalize_answer(a_gold))\n",
    "\n",
    "    def compute_f1(a_pred, a_gold):\n",
    "        pred_tokens = normalize_answer(a_pred).split()\n",
    "        gold_tokens = normalize_answer(a_gold).split()\n",
    "        common = Counter(pred_tokens) & Counter(gold_tokens)\n",
    "        num_same = sum(common.values())\n",
    "        if num_same == 0:\n",
    "            return 0.0\n",
    "        precision = num_same / len(pred_tokens)\n",
    "        recall = num_same / len(gold_tokens)\n",
    "        return 2 * precision * recall / (precision + recall)\n",
    "\n",
    "    new_data = []\n",
    "    f1_scores = []\n",
    "    em_scores = []\n",
    "\n",
    "    for item in dataset:\n",
    "        preds = item.get(pred_col, [])\n",
    "        golds = item.get(ref_col, [])\n",
    "        # 转为 list\n",
    "        if not isinstance(preds, list):\n",
    "            preds = [preds] if preds else []\n",
    "        if not isinstance(golds, list):\n",
    "            golds = [golds] if golds else []\n",
    "\n",
    "        # 多对多最大匹配\n",
    "        if not preds or not golds:\n",
    "            em = 0.0\n",
    "            f1 = 0.0\n",
    "        else:\n",
    "            em = max(compute_exact(p, g) for p in preds for g in golds)\n",
    "            f1 = max(compute_f1(p, g) for p in preds for g in golds)\n",
    "\n",
    "        new_item = deepcopy(item)\n",
    "        new_item[\"em\"] = em\n",
    "        new_item[\"f1\"] = f1\n",
    "        new_data.append(new_item)\n",
    "        em_scores.append(em)\n",
    "        f1_scores.append(f1)\n",
    "\n",
    "    return Dataset.from_list(new_data), f1_scores, em_scores"
   ]
  },
  {
   "cell_type": "code",
   "execution_count": 6,
   "id": "5oL_Tt_bDMFZ",
   "metadata": {
    "id": "5oL_Tt_bDMFZ"
   },
   "outputs": [
    {
     "data": {
      "application/vnd.jupyter.widget-view+json": {
       "model_id": "6791859cfd444746b814cd1f6c917208",
       "version_major": 2,
       "version_minor": 0
      },
      "text/plain": [
       "Creating json from Arrow format:   0%|          | 0/1 [00:00<?, ?ba/s]"
      ]
     },
     "metadata": {},
     "output_type": "display_data"
    },
    {
     "data": {
      "text/plain": [
       "286664"
      ]
     },
     "execution_count": 6,
     "metadata": {},
     "output_type": "execute_result"
    }
   ],
   "source": [
    "squad_scored_UND, UND_f1_list, UND_em_list = evaluate_squad_per_sample_multi_ref_pred(underspecified_set_qa)\n",
    "squad_scored_UND.to_json(\"HotpotQA_UND_qa_gpt_with_squad_scores.jsonl\", orient=\"records\", lines=True)"
   ]
  },
  {
   "cell_type": "code",
   "execution_count": 7,
   "id": "46b7ESGGDN-B",
   "metadata": {
    "id": "46b7ESGGDN-B"
   },
   "outputs": [
    {
     "data": {
      "application/vnd.jupyter.widget-view+json": {
       "model_id": "5e8fd4518d874697824cfb95616e3d2e",
       "version_major": 2,
       "version_minor": 0
      },
      "text/plain": [
       "Creating json from Arrow format:   0%|          | 0/1 [00:00<?, ?ba/s]"
      ]
     },
     "metadata": {},
     "output_type": "display_data"
    },
    {
     "data": {
      "text/plain": [
       "413079"
      ]
     },
     "execution_count": 7,
     "metadata": {},
     "output_type": "execute_result"
    }
   ],
   "source": [
    "squad_scored_FS, FS_f1_list, FS_em_list = evaluate_squad_per_sample_multi_ref_pred(fully_specified_set_qa)\n",
    "squad_scored_FS.to_json(\"HotpotQA_FS_qa_gpt_with_squad_scores.jsonl\", orient=\"records\", lines=True)"
   ]
  },
  {
   "cell_type": "code",
   "execution_count": 8,
   "id": "yVOus4fRDqpr",
   "metadata": {
    "id": "yVOus4fRDqpr"
   },
   "outputs": [
    {
     "name": "stdout",
     "output_type": "stream",
     "text": [
      "UND Exact Match (avg): 22.08\n",
      "UND F1 Score (avg): 35.72\n",
      "FS Exact Match (avg): 38.94\n",
      "FS F1 Score (avg): 52.49\n",
      "F1: t=6.170, p=0.0000\n",
      "EM: t=5.850, p=0.0000\n"
     ]
    }
   ],
   "source": [
    "UND_mean_em = np.mean(UND_em_list)  # em_scores: EM list per sample\n",
    "UND_mean_f1 = np.mean(UND_f1_list)  # f1_scores F1 list per sample\n",
    "print(f\"UND Exact Match (avg): {UND_mean_em * 100:.2f}\")\n",
    "print(f\"UND F1 Score (avg): {UND_mean_f1 * 100:.2f}\")\n",
    "\n",
    "FS_mean_em = np.mean(FS_em_list)  # em_scores: EM list per sample\n",
    "FS_mean_f1 = np.mean(FS_f1_list)  # f1_scores F1 list per sample\n",
    "print(f\"FS Exact Match (avg): {FS_mean_em * 100:.2f}\")\n",
    "print(f\"FS F1 Score (avg): {FS_mean_f1 * 100:.2f}\")\n",
    "\n",
    "f1_tstat, f1_pval = ttest_ind(FS_f1_list, UND_f1_list, equal_var=False)\n",
    "print(f\"F1: t={f1_tstat:.3f}, p={f1_pval:.4f}\")\n",
    "\n",
    "em_tstat, em_pval = ttest_ind(FS_em_list, UND_em_list, equal_var=False)\n",
    "print(f\"EM: t={em_tstat:.3f}, p={em_pval:.4f}\")"
   ]
  },
  {
   "cell_type": "code",
   "execution_count": 3,
   "id": "2a7904af-f35a-46ce-913a-cd7d89f5cdbe",
   "metadata": {},
   "outputs": [],
   "source": [
    "UND_full = load_dataset(\n",
    "    \"json\",\n",
    "    data_files=\"HotpotQA_UND_qa_gpt_with_squad_scores.jsonl\",\n",
    "    split=\"train\"  # 必须指定 split，否则默认返回 DatasetDict\n",
    ")\n",
    "\n",
    "FS_full = load_dataset(\n",
    "    \"json\",\n",
    "    data_files=\"HotpotQA_FS_qa_gpt_with_squad_scores.jsonl\",\n",
    "    split=\"train\"\n",
    ")"
   ]
  },
  {
   "cell_type": "code",
   "execution_count": 2,
   "id": "fd7effb5-01a1-4688-8239-f5496440d922",
   "metadata": {},
   "outputs": [],
   "source": [
    "df = pd.read_json(\"HotpotQA_UND_qa_gpt_with_squad_scores.jsonl\", lines=True)\n",
    "df.to_csv('HotpotQA_UND_qa_gpt_with_squad_scores.csv')\n",
    "\n",
    "df = pd.read_json(\"HotpotQA_FS_qa_gpt_with_squad_scores.jsonl\", lines=True)\n",
    "df.to_csv('HotpotQA_FS_qa_gpt_with_squad_scores.csv')"
   ]
  },
  {
   "cell_type": "code",
   "execution_count": 3,
   "id": "c028dadd-2631-40e9-a3a2-26a232882e61",
   "metadata": {},
   "outputs": [
    {
     "name": "stdout",
     "output_type": "stream",
     "text": [
      "gpt_4o HotpotQA NQ UND qa EM SD: 0.4147941208530088\n",
      "gpt_4o HotpotQA NQ FS qa EM SD: 0.48762306433639085\n",
      "gpt_4o HotpotQA NQ UND qa F1 SD: 0.4079821779434008\n",
      "gpt_4o HotpotQA NQ FS qa F1 SD: 0.43666341470616715\n"
     ]
    }
   ],
   "source": [
    "print(f'gpt_4o HotpotQA NQ UND qa EM SD: {np.std(UND_full[\"em\"])}')\n",
    "print(f'gpt_4o HotpotQA NQ FS qa EM SD: {np.std(FS_full[\"em\"])}')\n",
    "print(f'gpt_4o HotpotQA NQ UND qa F1 SD: {np.std(UND_full[\"f1\"])}')\n",
    "print(f'gpt_4o HotpotQA NQ FS qa F1 SD: {np.std(FS_full[\"f1\"])}')"
   ]
  },
  {
   "cell_type": "code",
   "execution_count": 4,
   "id": "625c75c4-0322-4426-a5ff-bf6e90de79c2",
   "metadata": {},
   "outputs": [],
   "source": [
    "def welch_df(n1, sd1, n2, sd2):\n",
    "    var1 = sd1**2\n",
    "    var2 = sd2**2\n",
    "    numerator = (var1/n1 + var2/n2)**2\n",
    "    denominator = ((var1/n1)**2)/(n1 - 1) + ((var2/n2)**2)/(n2 - 1)\n",
    "    return numerator / denominator"
   ]
  },
  {
   "cell_type": "code",
   "execution_count": 5,
   "id": "2e867e05-fb55-4a54-9354-82159f432acb",
   "metadata": {},
   "outputs": [
    {
     "data": {
      "text/plain": [
       "929.2090378182792"
      ]
     },
     "execution_count": 5,
     "metadata": {},
     "output_type": "execute_result"
    }
   ],
   "source": [
    "welch_df(394, np.std(UND_full[\"em\"]), 606, np.std(FS_full[\"em\"]))"
   ]
  },
  {
   "cell_type": "code",
   "execution_count": 6,
   "id": "3aef8483-bca5-43cc-8500-3eb86372105d",
   "metadata": {},
   "outputs": [
    {
     "data": {
      "text/plain": [
       "879.495758403792"
      ]
     },
     "execution_count": 6,
     "metadata": {},
     "output_type": "execute_result"
    }
   ],
   "source": [
    "welch_df(394, np.std(UND_full[\"f1\"]), 606, np.std(FS_full[\"f1\"]))"
   ]
  },
  {
   "cell_type": "markdown",
   "id": "1byMx599DuOd",
   "metadata": {
    "id": "1byMx599DuOd"
   },
   "source": [
    "## Visualization"
   ]
  },
  {
   "cell_type": "code",
   "execution_count": 9,
   "id": "iJjiklGgDwTM",
   "metadata": {
    "id": "iJjiklGgDwTM"
   },
   "outputs": [
    {
     "name": "stderr",
     "output_type": "stream",
     "text": [
      "/scratch-local/yhuang.13034533/ipykernel_1301376/1665096230.py:7: FutureWarning: \n",
      "\n",
      "Passing `palette` without assigning `hue` is deprecated and will be removed in v0.14.0. Assign the `x` variable to `hue` and set `legend=False` for the same effect.\n",
      "\n",
      "  ax = sns.boxplot(x=\"Subset\", y=\"F1\", data=df_f1, palette=\"Set2\", showfliers=False)\n",
      "/scratch-local/yhuang.13034533/ipykernel_1301376/1665096230.py:33: FutureWarning: \n",
      "\n",
      "The `ci` parameter is deprecated. Use `errorbar=('ci', 95)` for the same effect.\n",
      "\n",
      "  sns.barplot(x=\"Subset\", y=\"EM\", data=df_em, palette=\"Set2\", ci=95)\n",
      "/scratch-local/yhuang.13034533/ipykernel_1301376/1665096230.py:33: FutureWarning: \n",
      "\n",
      "Passing `palette` without assigning `hue` is deprecated and will be removed in v0.14.0. Assign the `x` variable to `hue` and set `legend=False` for the same effect.\n",
      "\n",
      "  sns.barplot(x=\"Subset\", y=\"EM\", data=df_em, palette=\"Set2\", ci=95)\n"
     ]
    }
   ],
   "source": [
    "df_f1 = pd.DataFrame({\n",
    "    \"F1\": FS_f1_list + UND_f1_list,\n",
    "    \"Subset\": [\"Fully specified\"] * len(FS_f1_list) + [\"Underspecified\"] * len(UND_f1_list)\n",
    "})\n",
    "\n",
    "plt.figure(figsize=(6, 4))\n",
    "ax = sns.boxplot(x=\"Subset\", y=\"F1\", data=df_f1, palette=\"Set2\", showfliers=False)\n",
    "\n",
    "# 计算中位数\n",
    "medians = df_f1.groupby(\"Subset\")[\"F1\"].median()\n",
    "\n",
    "# 标注中位数数值\n",
    "for i, (subset, median_val) in enumerate(medians.items()):\n",
    "    ax.text(\n",
    "        i, median_val + 0.03, f\"{median_val:.2f}\",\n",
    "        ha='center', va='bottom', fontsize=11, weight='bold', color='black'\n",
    "    )\n",
    "\n",
    "plt.title(\"gpt-4o-2024-11-20 F1 Score Distribution by Subset - HotpotQA\")\n",
    "plt.ylim(-0.05, 1.05)\n",
    "plt.ylabel(\"F1 Score\")\n",
    "plt.xlabel(\"\")\n",
    "plt.tight_layout()\n",
    "plt.savefig(\"HotpotQA_f1_boxplot_gpt.png\", dpi=300)\n",
    "plt.close()\n",
    "\n",
    "df_em = pd.DataFrame({\n",
    "    \"EM\": FS_em_list + UND_em_list,\n",
    "    \"Subset\": [\"Fully specified\"] * len(FS_em_list) + [\"Underspecified\"] * len(UND_em_list)\n",
    "})\n",
    "\n",
    "plt.figure(figsize=(6, 4))\n",
    "sns.barplot(x=\"Subset\", y=\"EM\", data=df_em, palette=\"Set2\", ci=95)\n",
    "plt.title(\"gpt-4o-2024-11-20 Exact Match Rate by Subset (± CI) - HotpotQA\")\n",
    "plt.tight_layout()\n",
    "plt.savefig(\"HotpotQA_em_barplot_gpt.png\",dpi=300)\n",
    "plt.close()"
   ]
  },
  {
   "cell_type": "code",
   "execution_count": 10,
   "id": "dFPopvHE7JwA",
   "metadata": {
    "id": "dFPopvHE7JwA"
   },
   "outputs": [
    {
     "data": {
      "image/png": "[encoded data removed]",
      "text/plain": [
       "<IPython.core.display.Image object>"
      ]
     },
     "execution_count": 10,
     "metadata": {},
     "output_type": "execute_result"
    }
   ],
   "source": [
    "from IPython.display import Image\n",
    "Image(\"HotpotQA_f1_boxplot_gpt.png\")"
   ]
  },
  {
   "cell_type": "code",
   "execution_count": 11,
   "id": "hCnh-QTH7NGH",
   "metadata": {
    "id": "hCnh-QTH7NGH"
   },
   "outputs": [
    {
     "data": {
      "image/png": "[encoded data removed]",
      "text/plain": [
       "<IPython.core.display.Image object>"
      ]
     },
     "execution_count": 11,
     "metadata": {},
     "output_type": "execute_result"
    }
   ],
   "source": [
    "Image(\"HotpotQA_em_barplot_gpt.png\")"
   ]
  }
 ],
 "metadata": {
  "colab": {
   "provenance": []
  },
  "kernelspec": {
   "display_name": "Python (sglang-venv-2)",
   "language": "python",
   "name": "sglang-venv"
  },
  "language_info": {
   "codemirror_mode": {
    "name": "ipython",
    "version": 3
   },
   "file_extension": ".py",
   "mimetype": "text/x-python",
   "name": "python",
   "nbconvert_exporter": "python",
   "pygments_lexer": "ipython3",
   "version": "3.11.3"
  }
 },
 "nbformat": 4,
 "nbformat_minor": 5
}
