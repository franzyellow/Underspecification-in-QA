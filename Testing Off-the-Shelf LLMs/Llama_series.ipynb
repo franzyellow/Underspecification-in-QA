{
 "cells": [
  {
   "cell_type": "code",
   "execution_count": 1,
   "metadata": {
    "id": "yDhMnoWwmMrV"
   },
   "outputs": [
    {
     "name": "stdout",
     "output_type": "stream",
     "text": [
      "Fri Jun 27 00:31:08 2025       \n",
      "+-----------------------------------------------------------------------------------------+\n",
      "| NVIDIA-SMI 565.57.01              Driver Version: 565.57.01      CUDA Version: 12.7     |\n",
      "|-----------------------------------------+------------------------+----------------------+\n",
      "| GPU  Name                 Persistence-M | Bus-Id          Disp.A | Volatile Uncorr. ECC |\n",
      "| Fan  Temp   Perf          Pwr:Usage/Cap |           Memory-Usage | GPU-Util  Compute M. |\n",
      "|                                         |                        |               MIG M. |\n",
      "|=========================================+========================+======================|\n",
      "|   0  NVIDIA H100                    On  |   00000000:06:00.0 Off |                    0 |\n",
      "| N/A   35C    P0            115W /  700W |   88833MiB /  95830MiB |      0%      Default |\n",
      "|                                         |                        |             Disabled |\n",
      "+-----------------------------------------+------------------------+----------------------+\n",
      "|   1  NVIDIA H100                    On  |   00000000:26:00.0 Off |                   12 |\n",
      "| N/A   36C    P0            117W /  700W |   89145MiB /  95830MiB |      0%      Default |\n",
      "|                                         |                        |             Disabled |\n",
      "+-----------------------------------------+------------------------+----------------------+\n",
      "|   2  NVIDIA H100                    On  |   00000000:A6:00.0 Off |                    0 |\n",
      "| N/A   35C    P0            118W /  700W |   89145MiB /  95830MiB |      0%      Default |\n",
      "|                                         |                        |             Disabled |\n",
      "+-----------------------------------------+------------------------+----------------------+\n",
      "|   3  NVIDIA H100                    On  |   00000000:C6:00.0 Off |                    0 |\n",
      "| N/A   35C    P0            116W /  700W |   88833MiB /  95830MiB |      0%      Default |\n",
      "|                                         |                        |             Disabled |\n",
      "+-----------------------------------------+------------------------+----------------------+\n",
      "                                                                                         \n",
      "+-----------------------------------------------------------------------------------------+\n",
      "| Processes:                                                                              |\n",
      "|  GPU   GI   CI        PID   Type   Process name                              GPU Memory |\n",
      "|        ID   ID                                                               Usage      |\n",
      "|=========================================================================================|\n",
      "|    0   N/A  N/A    296898      C   sglang::scheduler_TP0                       88822MiB |\n",
      "|    1   N/A  N/A    296899      C   sglang::scheduler_TP1                       89134MiB |\n",
      "|    2   N/A  N/A    296900      C   sglang::scheduler_TP2                       89134MiB |\n",
      "|    3   N/A  N/A    296901      C   sglang::scheduler_TP3                       88822MiB |\n",
      "+-----------------------------------------------------------------------------------------+\n"
     ]
    }
   ],
   "source": [
    "!nvidia-smi\n",
    "%matplotlib inline"
   ]
  },
  {
   "cell_type": "code",
   "execution_count": 1,
   "metadata": {
    "id": "DMko20dkpN9h"
   },
   "outputs": [],
   "source": [
    "import pandas as pd\n",
    "import json\n",
    "import re\n",
    "import numpy as np\n",
    "from typing import List, Optional, Dict, Any\n",
    "from sklearn.metrics import classification_report\n",
    "import matplotlib.pyplot as plt\n",
    "from sklearn.metrics import confusion_matrix\n",
    "from sklearn.metrics import ConfusionMatrixDisplay\n",
    "from tqdm import tqdm\n",
    "import torch\n",
    "\n",
    "%matplotlib inline"
   ]
  },
  {
   "cell_type": "code",
   "execution_count": 2,
   "metadata": {},
   "outputs": [],
   "source": [
    "def obtain_results_without(input_csv, filter_set):\n",
    "    result_df = pd.read_csv(input_csv)\n",
    "    result_df = result_df[result_df['direct_source']!=filter_set]\n",
    "    print(classification_report(result_df[\"gold_judgment\"], result_df['model_pred']))\n",
    "    \n",
    "    judgment_gold = result_df['gold_judgment'].tolist()\n",
    "    judgment_model = result_df[\"model_pred\"].tolist()\n",
    "    binary_labels = ['underspecified', 'fully specified']\n",
    "\n",
    "    cm = confusion_matrix(judgment_gold, judgment_model, labels=binary_labels)\n",
    "    disp = ConfusionMatrixDisplay(confusion_matrix=cm, display_labels=binary_labels)\n",
    "\n",
    "    disp.plot(cmap='Blues')  # 可以调整 colormap"
   ]
  },
  {
   "cell_type": "markdown",
   "metadata": {
    "id": "ZBpNDZMJpfwd"
   },
   "source": [
    "# Loading files"
   ]
  },
  {
   "cell_type": "code",
   "execution_count": 3,
   "metadata": {
    "id": "z783FdiDpdSw"
   },
   "outputs": [],
   "source": [
    "# For Snellius\n",
    "input_csv = \"../data/few_shots.csv\"\n",
    "df_few_shots = pd.read_csv(input_csv)\n",
    "real_csv = \"../data/Test_1155.csv\"\n",
    "df_test_1155 = pd.read_csv(real_csv)\n",
    "learning_csv = \"../data/in-context_learning_set.csv\"\n",
    "df_in_context_learning = pd.read_csv(learning_csv)"
   ]
  },
  {
   "cell_type": "markdown",
   "metadata": {
    "id": "2tLTI45cplGV"
   },
   "source": [
    "# Prompt Setting"
   ]
  },
  {
   "cell_type": "code",
   "execution_count": 4,
   "metadata": {
    "id": "rg4xnFDvppI3"
   },
   "outputs": [],
   "source": [
    "system_prompt = \"\"\"\n",
    "You are an expert analyst. Your task is to analyze and determine whether an input user query is \"fully specified\" or \"underspecified\".\n",
    "\n",
    "\"\"\"\n",
    "\n",
    "task_FS_UND = \"\"\"\n",
    "Analyze the following input user query:\n",
    "\n",
    "{\"query\": \"TARGET\"}\n",
    "\n",
    "Please provide your analysis in the following JSON format:\n",
    "\n",
    "{\"query\": \"TARGET\", \"reasoning\": \"[YOUR_DETAILED_REASONING]\", \"judgment\": \"[fully specified/underspecified]\"}\n",
    "\"\"\""
   ]
  },
  {
   "cell_type": "markdown",
   "metadata": {
    "id": "qMSNwcLOpxOQ"
   },
   "source": [
    "# Llama 3.2 3B"
   ]
  },
  {
   "cell_type": "markdown",
   "metadata": {
    "id": "G3ik_37huDuY"
   },
   "source": [
    "## Loading the model"
   ]
  },
  {
   "cell_type": "code",
   "execution_count": 5,
   "metadata": {
    "id": "xFbPZMgJuO5I"
   },
   "outputs": [
    {
     "data": {
      "application/vnd.jupyter.widget-view+json": {
       "model_id": "c89592ee058e4868bea53985b17d9e98",
       "version_major": 2,
       "version_minor": 0
      },
      "text/plain": [
       "VBox(children=(HTML(value='<center> <img\\nsrc=https://huggingface.co/front/assets/huggingface_logo-noborder.sv…"
      ]
     },
     "metadata": {},
     "output_type": "display_data"
    }
   ],
   "source": [
    "from huggingface_hub import login\n",
    "login()"
   ]
  },
  {
   "cell_type": "code",
   "execution_count": 6,
   "metadata": {
    "id": "FHPd4tqMuk3w"
   },
   "outputs": [],
   "source": [
    "llama_3_2_3B = \"meta-llama/Llama-3.2-3B-Instruct\"\n",
    "llama_3_3_70B = \"meta-llama/Llama-3.3-70B-Instruct\""
   ]
  },
  {
   "cell_type": "code",
   "execution_count": 7,
   "metadata": {
    "id": "88ogiZHNuFp5"
   },
   "outputs": [
    {
     "name": "stderr",
     "output_type": "stream",
     "text": [
      "/home/yhuang/sglang-venv-2/lib/python3.11/site-packages/transformers/utils/hub.py:105: FutureWarning: Using `TRANSFORMERS_CACHE` is deprecated and will be removed in v5 of Transformers. Use `HF_HOME` instead.\n",
      "  warnings.warn(\n"
     ]
    },
    {
     "data": {
      "application/vnd.jupyter.widget-view+json": {
       "model_id": "892aeb6bd565401aa45003dc70e2e016",
       "version_major": 2,
       "version_minor": 0
      },
      "text/plain": [
       "tokenizer_config.json:   0%|          | 0.00/54.5k [00:00<?, ?B/s]"
      ]
     },
     "metadata": {},
     "output_type": "display_data"
    },
    {
     "data": {
      "application/vnd.jupyter.widget-view+json": {
       "model_id": "e5799a77ef3c4276b0613fcb4694258d",
       "version_major": 2,
       "version_minor": 0
      },
      "text/plain": [
       "tokenizer.json:   0%|          | 0.00/9.09M [00:00<?, ?B/s]"
      ]
     },
     "metadata": {},
     "output_type": "display_data"
    },
    {
     "data": {
      "application/vnd.jupyter.widget-view+json": {
       "model_id": "23cc8e7fcf074861a57348363f7959db",
       "version_major": 2,
       "version_minor": 0
      },
      "text/plain": [
       "special_tokens_map.json:   0%|          | 0.00/296 [00:00<?, ?B/s]"
      ]
     },
     "metadata": {},
     "output_type": "display_data"
    },
    {
     "data": {
      "application/vnd.jupyter.widget-view+json": {
       "model_id": "0fa2676e1968483fa59f66cdc335c2e6",
       "version_major": 2,
       "version_minor": 0
      },
      "text/plain": [
       "config.json:   0%|          | 0.00/878 [00:00<?, ?B/s]"
      ]
     },
     "metadata": {},
     "output_type": "display_data"
    },
    {
     "data": {
      "application/vnd.jupyter.widget-view+json": {
       "model_id": "14644db8617d4b7fb38ec710aa3d0e6d",
       "version_major": 2,
       "version_minor": 0
      },
      "text/plain": [
       "model.safetensors.index.json:   0%|          | 0.00/20.9k [00:00<?, ?B/s]"
      ]
     },
     "metadata": {},
     "output_type": "display_data"
    },
    {
     "data": {
      "application/vnd.jupyter.widget-view+json": {
       "model_id": "cbe7ac57678841799d4a20c9b72753b3",
       "version_major": 2,
       "version_minor": 0
      },
      "text/plain": [
       "Fetching 2 files:   0%|          | 0/2 [00:00<?, ?it/s]"
      ]
     },
     "metadata": {},
     "output_type": "display_data"
    },
    {
     "data": {
      "application/vnd.jupyter.widget-view+json": {
       "model_id": "062a0dc20dbe4642899425c3a891b779",
       "version_major": 2,
       "version_minor": 0
      },
      "text/plain": [
       "model-00002-of-00002.safetensors:   0%|          | 0.00/1.46G [00:00<?, ?B/s]"
      ]
     },
     "metadata": {},
     "output_type": "display_data"
    },
    {
     "data": {
      "application/vnd.jupyter.widget-view+json": {
       "model_id": "d304119def534c9cb81d256f3bbdd3e8",
       "version_major": 2,
       "version_minor": 0
      },
      "text/plain": [
       "model-00001-of-00002.safetensors:   0%|          | 0.00/4.97G [00:00<?, ?B/s]"
      ]
     },
     "metadata": {},
     "output_type": "display_data"
    },
    {
     "data": {
      "application/vnd.jupyter.widget-view+json": {
       "model_id": "2cd2bd58c5c74df5bd055c3db7da9f3c",
       "version_major": 2,
       "version_minor": 0
      },
      "text/plain": [
       "Loading checkpoint shards:   0%|          | 0/2 [00:00<?, ?it/s]"
      ]
     },
     "metadata": {},
     "output_type": "display_data"
    },
    {
     "data": {
      "application/vnd.jupyter.widget-view+json": {
       "model_id": "acdbaa622de44a89a8acc62b84726bcb",
       "version_major": 2,
       "version_minor": 0
      },
      "text/plain": [
       "generation_config.json:   0%|          | 0.00/189 [00:00<?, ?B/s]"
      ]
     },
     "metadata": {},
     "output_type": "display_data"
    },
    {
     "name": "stdout",
     "output_type": "stream",
     "text": [
      "cuda\n"
     ]
    }
   ],
   "source": [
    "import os\n",
    "os.environ['TRANSFORMERS_CACHE'] = '/scratch-local/yhuang/huggingface_cache'\n",
    "# 确保目录存在\n",
    "os.makedirs('/scratch-local/yhuang/huggingface_cache', exist_ok=True)\n",
    "\n",
    "# Load model directly\n",
    "from transformers import AutoTokenizer, AutoModelForCausalLM\n",
    "\n",
    "tokenizer = AutoTokenizer.from_pretrained(llama_3_2_3B, padding_side='left')\n",
    "model = AutoModelForCausalLM.from_pretrained(llama_3_2_3B)\n",
    "\n",
    "# 将模型移到可用设备\n",
    "device = torch.device(\"cuda\" if torch.cuda.is_available() else \"cpu\")\n",
    "print(device)\n",
    "model = model.to(device)"
   ]
  },
  {
   "cell_type": "markdown",
   "metadata": {
    "id": "56P_xzqNrBKY"
   },
   "source": [
    "## Helper functions"
   ]
  },
  {
   "cell_type": "code",
   "execution_count": 8,
   "metadata": {
    "id": "5ffiGWFIrDHc"
   },
   "outputs": [],
   "source": [
    "def batch_generate_responses_llama(prompts, system_prompt=system_prompt,\n",
    "                                  temperature=0.7, max_new_tokens=32768, batch_size=5):\n",
    "    \"\"\"\n",
    "    批量生成Llama模型的回复\n",
    "\n",
    "    参数:\n",
    "        prompts: 字符串列表，每个字符串是一个提示词\n",
    "        system_prompt: 系统提示词\n",
    "        max_new_tokens: 生成的最大token数，默认为512\n",
    "        batch_size: 每批处理的提示词数量，默认为4\n",
    "\n",
    "    返回:\n",
    "        生成的回复列表，与prompts列表对应\n",
    "    \"\"\"\n",
    "    # 设置padding token\n",
    "    tokenizer.pad_token = tokenizer.eos_token\n",
    "\n",
    "    responses = []\n",
    "\n",
    "    # 按批次处理\n",
    "    for i in tqdm(range(0, len(prompts), batch_size)):\n",
    "        batch_prompts = prompts[i:i+batch_size]\n",
    "        batch_texts = []\n",
    "\n",
    "        # 为每个提示词准备输入文本\n",
    "        for prompt in batch_prompts:\n",
    "            messages = [\n",
    "                {\"role\": \"system\", \"content\": system_prompt},\n",
    "                {\"role\": \"user\", \"content\": prompt}\n",
    "            ]\n",
    "            # Llama模型使用apply_chat_template自动应用正确的模板\n",
    "            text = tokenizer.apply_chat_template(\n",
    "                messages,\n",
    "                tokenize=False,\n",
    "                add_generation_prompt=True\n",
    "            )\n",
    "            batch_texts.append(text)\n",
    "\n",
    "        # 批量编码输入\n",
    "        model_inputs = tokenizer(batch_texts, return_tensors=\"pt\", padding=True, truncation=True).to(model.device)\n",
    "\n",
    "        # 生成回复\n",
    "        with torch.no_grad():\n",
    "            generated_ids = model.generate(\n",
    "                **model_inputs,\n",
    "                max_new_tokens=max_new_tokens,\n",
    "                do_sample=True,\n",
    "                temperature=temperature,\n",
    "                top_p=0.9,\n",
    "                repetition_penalty=1.2\n",
    "            )\n",
    "\n",
    "        # 分离输入和输出的tokens\n",
    "        batch_responses = []\n",
    "        for input_ids, output_ids in zip(model_inputs.input_ids, generated_ids):\n",
    "            response_ids = output_ids[len(input_ids):]\n",
    "            response = tokenizer.decode(response_ids, skip_special_tokens=True)\n",
    "            batch_responses.append(response)\n",
    "\n",
    "        responses.extend(batch_responses)\n",
    "\n",
    "    return responses\n",
    "\n",
    "def get_judgments_from_responses(responses: List[str]) -> List[Optional[str]]:\n",
    "    \"\"\"\n",
    "    推荐的解析函数，结合了多种方法的优点\n",
    "    \"\"\"\n",
    "    judgments = []\n",
    "\n",
    "    for i, response in enumerate(responses):\n",
    "        judgment = None\n",
    "\n",
    "        try:\n",
    "            # 方法1: 尝试直接解析JSON\n",
    "            clean_response = response.strip()\n",
    "            if clean_response.startswith('{') and clean_response.endswith('}'):\n",
    "                data = json.loads(clean_response)\n",
    "                judgment = data.get('judgment')\n",
    "            else:\n",
    "                # 方法2: 寻找JSON部分\n",
    "                start_idx = clean_response.find('{')\n",
    "                end_idx = clean_response.rfind('}')\n",
    "                if start_idx != -1 and end_idx != -1:\n",
    "                    json_part = clean_response[start_idx:end_idx+1]\n",
    "                    data = json.loads(json_part)\n",
    "                    judgment = data.get('judgment')\n",
    "\n",
    "        except json.JSONDecodeError:\n",
    "            # 方法3: 使用正则表达式作为后备\n",
    "            pattern = r'\"judgment\"\\s*:\\s*\"([^\"]*)\"'\n",
    "            match = re.search(pattern, response)\n",
    "            if match:\n",
    "                judgment = match.group(1)\n",
    "\n",
    "        if judgment is None:\n",
    "            print(f\"Warning: response {i} cannot retrieve judgment\")\n",
    "            print(f\"Respond content: {response[:200]}...\")\n",
    "            judgment = \"error\"\n",
    "\n",
    "        judgments.append(judgment)\n",
    "\n",
    "    return judgments\n",
    "\n",
    "\n",
    "\n",
    "def run_experiment(input_prompts, test_df):\n",
    "  output = batch_generate_responses_llama(input_prompts)\n",
    "  df = test_df.copy()\n",
    "  df['model_response'] = output\n",
    "  processed_judgments = get_judgments_from_responses(output)\n",
    "  df['model_pred'] = processed_judgments\n",
    "\n",
    "  return df\n",
    "\n",
    "def retrieve_results(result_df, output_name):\n",
    "  processed_judgments = result_df['model_pred'].tolist()\n",
    "\n",
    "  if \"error\" in processed_judgments:\n",
    "    print(\"There are unrecognized labels.\")\n",
    "    result_df.to_csv(f'{output_name}_error.csv')\n",
    "  else:\n",
    "    print(\"No error found, directly process the data.\")\n",
    "    print(classification_report(result_df[\"gold_judgment\"], result_df['model_pred']))\n",
    "    result_df.to_csv(f'{output_name}.csv')\n",
    "\n",
    "    judgment_gold = result_df['gold_judgment'].tolist()\n",
    "    judgment_model = result_df[\"model_pred\"].tolist()\n",
    "\n",
    "    binary_labels = ['underspecified', 'fully specified']\n",
    "\n",
    "    cm = confusion_matrix(judgment_gold, judgment_model, labels=binary_labels)\n",
    "    disp = ConfusionMatrixDisplay(confusion_matrix=cm, display_labels=binary_labels)\n",
    "\n",
    "    disp.plot(cmap='Blues')  # 可以调整 colormap\n",
    "\n",
    "def prepare_test_prompts(test_df, task_text, learning_df=None, instruction_text=None, theory=False):\n",
    "  print(\"Start preparing prompts...\")\n",
    "  if learning_df is not None and instruction_text is not None:\n",
    "    print(f\"# learning samples: {len(learning_df)}\")\n",
    "    examples = []\n",
    "    if theory:\n",
    "      for _, row in learning_df.iterrows():\n",
    "        example = {\n",
    "                \"query\": row['request'],\n",
    "                \"reasoning\": row['reasoning'],\n",
    "                \"category\": row['category'],\n",
    "                \"judgment\": row['gold_judgment']\n",
    "              }\n",
    "        examples.append(json.dumps(example, ensure_ascii=False))\n",
    "\n",
    "      examples_text = '\\n\\n'.join(examples)\n",
    "      base_prompt = instruction_text + examples_text + task_text\n",
    "    else:\n",
    "      for _, row in learning_df.iterrows():\n",
    "        example = {\n",
    "                \"query\": row['request'],\n",
    "                \"judgment\": row['gold_judgment']\n",
    "              }\n",
    "        examples.append(json.dumps(example, ensure_ascii=False))\n",
    "\n",
    "      examples_text = '\\n\\n'.join(examples)\n",
    "      base_prompt = instruction_text + examples_text + task_text\n",
    "\n",
    "  else:\n",
    "    base_prompt = task_text\n",
    "\n",
    "  print(f\"# Testing data points: {len(test_df)}\")\n",
    "  test_prompts = []\n",
    "  for _, row in test_df.iterrows():\n",
    "    query = row['request']\n",
    "    complete_prompt = base_prompt.replace(\"TARGET\", query)\n",
    "    test_prompts.append(complete_prompt)\n",
    "\n",
    "  print(f\"Generation complete: {len(test_prompts)} prompts\")\n",
    "\n",
    "  avg_length = sum(len(p) for p in test_prompts) // len(test_prompts)\n",
    "  print(f\"Average prompt length: {avg_length:,} bytes (~{avg_length//4:,} tokens)\")\n",
    "\n",
    "  return test_prompts"
   ]
  },
  {
   "cell_type": "markdown",
   "metadata": {
    "id": "Hj2mT_K-t8Rb"
   },
   "source": [
    "## pilot"
   ]
  },
  {
   "cell_type": "code",
   "execution_count": 9,
   "metadata": {
    "id": "PY3Mq2qApwBH"
   },
   "outputs": [
    {
     "name": "stdout",
     "output_type": "stream",
     "text": [
      "Start preparing prompts...\n",
      "# Testing data points: 12\n",
      "Generation complete: 12 prompts\n",
      "Average prompt length: 349 bytes (~87 tokens)\n",
      "\n",
      "Analyze the following input user query:\n",
      "\n",
      "{\"query\": \"When did the nuclear accident happen?\"}\n",
      "\n",
      "Please provide your analysis in the following JSON format:\n",
      "\n",
      "{\"query\": \"When did the nuclear accident happen?\", \"reasoning\": \"[YOUR_DETAILED_REASONING]\", \"judgment\": \"[fully specified/underspecified]\"}\n",
      "\n"
     ]
    }
   ],
   "source": [
    "test_prompts = prepare_test_prompts(df_few_shots, task_FS_UND)\n",
    "print(test_prompts[0])"
   ]
  },
  {
   "cell_type": "code",
   "execution_count": 10,
   "metadata": {
    "id": "13iIgngap8e2"
   },
   "outputs": [
    {
     "name": "stderr",
     "output_type": "stream",
     "text": [
      "  0%|          | 0/3 [00:00<?, ?it/s]Setting `pad_token_id` to `eos_token_id`:128001 for open-end generation.\n",
      " 33%|███▎      | 1/3 [00:03<00:07,  3.90s/it]Setting `pad_token_id` to `eos_token_id`:128001 for open-end generation.\n",
      " 67%|██████▋   | 2/3 [00:08<00:04,  4.39s/it]Setting `pad_token_id` to `eos_token_id`:128001 for open-end generation.\n",
      "100%|██████████| 3/3 [00:15<00:00,  5.08s/it]\n"
     ]
    },
    {
     "data": {
      "text/html": [
       "<div>\n",
       "<style scoped>\n",
       "    .dataframe tbody tr th:only-of-type {\n",
       "        vertical-align: middle;\n",
       "    }\n",
       "\n",
       "    .dataframe tbody tr th {\n",
       "        vertical-align: top;\n",
       "    }\n",
       "\n",
       "    .dataframe thead th {\n",
       "        text-align: right;\n",
       "    }\n",
       "</style>\n",
       "<table border=\"1\" class=\"dataframe\">\n",
       "  <thead>\n",
       "    <tr style=\"text-align: right;\">\n",
       "      <th></th>\n",
       "      <th>request</th>\n",
       "      <th>gold_analysis</th>\n",
       "      <th>gold_thought</th>\n",
       "      <th>gold_category</th>\n",
       "      <th>gold_judgment</th>\n",
       "      <th>direct_source</th>\n",
       "      <th>model_response</th>\n",
       "      <th>model_pred</th>\n",
       "    </tr>\n",
       "  </thead>\n",
       "  <tbody>\n",
       "    <tr>\n",
       "      <th>0</th>\n",
       "      <td>When did the nuclear accident happen?</td>\n",
       "      <td>{\"predicate\": \"happen\", \"argument_time\": \"when...</td>\n",
       "      <td>The predicate \"happen\" is specified; its argum...</td>\n",
       "      <td>underspecified referential/indexical argument</td>\n",
       "      <td>underspecified</td>\n",
       "      <td>CoCoNot</td>\n",
       "      <td>{\"query\": \"When did the nuclear accident happe...</td>\n",
       "      <td>underspecified</td>\n",
       "    </tr>\n",
       "    <tr>\n",
       "      <th>1</th>\n",
       "      <td>I need help picking out a professional wardrob...</td>\n",
       "      <td>{\"predicate\": \"provide\", \"argument_agent\": \"yo...</td>\n",
       "      <td>The predicate \"provide\" is specified; its argu...</td>\n",
       "      <td>underspecified quantified argument</td>\n",
       "      <td>underspecified</td>\n",
       "      <td>IN3</td>\n",
       "      <td>{\"query\": \"I need help picking out a professio...</td>\n",
       "      <td>underspecified</td>\n",
       "    </tr>\n",
       "    <tr>\n",
       "      <th>2</th>\n",
       "      <td>When did the apple tv 4k come out?</td>\n",
       "      <td>{\"predicate\": \"come out\", \"argument_time\": \"wh...</td>\n",
       "      <td>The predicate \"come out\" is underspecified bec...</td>\n",
       "      <td>underspecified predicate</td>\n",
       "      <td>underspecified</td>\n",
       "      <td>AmbigQA</td>\n",
       "      <td>{\"query\": \"When did the apple tv 4k come out?\"...</td>\n",
       "      <td>underspecified</td>\n",
       "    </tr>\n",
       "    <tr>\n",
       "      <th>3</th>\n",
       "      <td>Who sings i love rock 'n' roll?               ...</td>\n",
       "      <td>{\"predicate\": \"sings\", \"argument_agent\": \"who\"...</td>\n",
       "      <td>The predicate \"sings\" is specified; its argume...</td>\n",
       "      <td>underspecified argument concept</td>\n",
       "      <td>underspecified</td>\n",
       "      <td>AmbigQA</td>\n",
       "      <td>{\"query\": \"Who sings i love rock 'n' roll?\", \\...</td>\n",
       "      <td>underspecified</td>\n",
       "    </tr>\n",
       "    <tr>\n",
       "      <th>4</th>\n",
       "      <td>Where does the new fallout game take place?</td>\n",
       "      <td>{\"predicate\": \"take place\", \"argument_location...</td>\n",
       "      <td>The predicate \"take place\" is underspecified b...</td>\n",
       "      <td>multi-sourced underspecification</td>\n",
       "      <td>underspecified</td>\n",
       "      <td>AmbigQA</td>\n",
       "      <td>{\\n  \"query\": \"Where does the new fallout game...</td>\n",
       "      <td>underspecified</td>\n",
       "    </tr>\n",
       "    <tr>\n",
       "      <th>5</th>\n",
       "      <td>Who is the existing prime minister?</td>\n",
       "      <td>{\"predicate\": \"existing prime minister\", \"argu...</td>\n",
       "      <td>The predicate \"existing prime minister\" is spe...</td>\n",
       "      <td>missing argument</td>\n",
       "      <td>underspecified</td>\n",
       "      <td>CoCoNot</td>\n",
       "      <td>{\"query\": \"Who is the existing prime minister?...</td>\n",
       "      <td>underspecified</td>\n",
       "    </tr>\n",
       "    <tr>\n",
       "      <th>6</th>\n",
       "      <td>Who played the king in game of thrones season 1?</td>\n",
       "      <td>{\"predicate\": \"played\", \"argument_agent\": \"who...</td>\n",
       "      <td>The predicate \"played\" is specified; its argum...</td>\n",
       "      <td>fully specified request</td>\n",
       "      <td>fully specified</td>\n",
       "      <td>AmbigQA</td>\n",
       "      <td>{\"query\": \"Who played the king in game of thro...</td>\n",
       "      <td>underspecified</td>\n",
       "    </tr>\n",
       "    <tr>\n",
       "      <th>7</th>\n",
       "      <td>Who plays henry tudor in the white princess?</td>\n",
       "      <td>{\"predicate\": \"plays\", \"argument_agent\": \"who\"...</td>\n",
       "      <td>The predicate \"plays\" is specified; its argume...</td>\n",
       "      <td>fully specified request</td>\n",
       "      <td>fully specified</td>\n",
       "      <td>AmbigQA</td>\n",
       "      <td>{\"query\": \"Who plays henry tudor in the white ...</td>\n",
       "      <td>underspecified</td>\n",
       "    </tr>\n",
       "    <tr>\n",
       "      <th>8</th>\n",
       "      <td>Who won the contest to design the capitol buil...</td>\n",
       "      <td>{\"predicate\": \"won\", \"argument_agent\": \"who\", ...</td>\n",
       "      <td>The predicate \"won\" is specified; its argument...</td>\n",
       "      <td>fully specified request</td>\n",
       "      <td>fully specified</td>\n",
       "      <td>AmbigQA</td>\n",
       "      <td>{\"query\": \"Who won the contest to design the c...</td>\n",
       "      <td>underspecified</td>\n",
       "    </tr>\n",
       "    <tr>\n",
       "      <th>9</th>\n",
       "      <td>How many daughters do George Washington have?</td>\n",
       "      <td>{\"predicate: \"have\", \"argument_theme\": \"how ma...</td>\n",
       "      <td>The predicate \"have\" is specified; its argumen...</td>\n",
       "      <td>fully specified request</td>\n",
       "      <td>fully specified</td>\n",
       "      <td>IN3</td>\n",
       "      <td>{\"query\": \"How many daughters do George Washin...</td>\n",
       "      <td>underspecified</td>\n",
       "    </tr>\n",
       "    <tr>\n",
       "      <th>10</th>\n",
       "      <td>Identify the most common types of cyber attack...</td>\n",
       "      <td>{\"predicate\": \"identify\", \"argument_theme\": \"t...</td>\n",
       "      <td>The predicate \"identify\" is specified; its arg...</td>\n",
       "      <td>fully specified request</td>\n",
       "      <td>fully specified</td>\n",
       "      <td>IN3</td>\n",
       "      <td>{\"query\": \"Identify the most common types of c...</td>\n",
       "      <td>underspecified</td>\n",
       "    </tr>\n",
       "    <tr>\n",
       "      <th>11</th>\n",
       "      <td>Find the top five best selling video games of ...</td>\n",
       "      <td>{\"predicate\": find\", \"argument_theme\": \"the to...</td>\n",
       "      <td>The predicate \"find\" is specified; its argumen...</td>\n",
       "      <td>fully specified request</td>\n",
       "      <td>fully specified</td>\n",
       "      <td>IN3</td>\n",
       "      <td>{\"query\": \"Find the top five best selling vide...</td>\n",
       "      <td>underspecified</td>\n",
       "    </tr>\n",
       "  </tbody>\n",
       "</table>\n",
       "</div>"
      ],
      "text/plain": [
       "                                              request  \\\n",
       "0               When did the nuclear accident happen?   \n",
       "1   I need help picking out a professional wardrob...   \n",
       "2                  When did the apple tv 4k come out?   \n",
       "3   Who sings i love rock 'n' roll?               ...   \n",
       "4         Where does the new fallout game take place?   \n",
       "5                 Who is the existing prime minister?   \n",
       "6    Who played the king in game of thrones season 1?   \n",
       "7        Who plays henry tudor in the white princess?   \n",
       "8   Who won the contest to design the capitol buil...   \n",
       "9       How many daughters do George Washington have?   \n",
       "10  Identify the most common types of cyber attack...   \n",
       "11  Find the top five best selling video games of ...   \n",
       "\n",
       "                                        gold_analysis  \\\n",
       "0   {\"predicate\": \"happen\", \"argument_time\": \"when...   \n",
       "1   {\"predicate\": \"provide\", \"argument_agent\": \"yo...   \n",
       "2   {\"predicate\": \"come out\", \"argument_time\": \"wh...   \n",
       "3   {\"predicate\": \"sings\", \"argument_agent\": \"who\"...   \n",
       "4   {\"predicate\": \"take place\", \"argument_location...   \n",
       "5   {\"predicate\": \"existing prime minister\", \"argu...   \n",
       "6   {\"predicate\": \"played\", \"argument_agent\": \"who...   \n",
       "7   {\"predicate\": \"plays\", \"argument_agent\": \"who\"...   \n",
       "8   {\"predicate\": \"won\", \"argument_agent\": \"who\", ...   \n",
       "9   {\"predicate: \"have\", \"argument_theme\": \"how ma...   \n",
       "10  {\"predicate\": \"identify\", \"argument_theme\": \"t...   \n",
       "11  {\"predicate\": find\", \"argument_theme\": \"the to...   \n",
       "\n",
       "                                         gold_thought  \\\n",
       "0   The predicate \"happen\" is specified; its argum...   \n",
       "1   The predicate \"provide\" is specified; its argu...   \n",
       "2   The predicate \"come out\" is underspecified bec...   \n",
       "3   The predicate \"sings\" is specified; its argume...   \n",
       "4   The predicate \"take place\" is underspecified b...   \n",
       "5   The predicate \"existing prime minister\" is spe...   \n",
       "6   The predicate \"played\" is specified; its argum...   \n",
       "7   The predicate \"plays\" is specified; its argume...   \n",
       "8   The predicate \"won\" is specified; its argument...   \n",
       "9   The predicate \"have\" is specified; its argumen...   \n",
       "10  The predicate \"identify\" is specified; its arg...   \n",
       "11  The predicate \"find\" is specified; its argumen...   \n",
       "\n",
       "                                    gold_category    gold_judgment  \\\n",
       "0   underspecified referential/indexical argument   underspecified   \n",
       "1              underspecified quantified argument   underspecified   \n",
       "2                        underspecified predicate   underspecified   \n",
       "3                 underspecified argument concept   underspecified   \n",
       "4                multi-sourced underspecification   underspecified   \n",
       "5                                missing argument   underspecified   \n",
       "6                         fully specified request  fully specified   \n",
       "7                         fully specified request  fully specified   \n",
       "8                         fully specified request  fully specified   \n",
       "9                         fully specified request  fully specified   \n",
       "10                        fully specified request  fully specified   \n",
       "11                        fully specified request  fully specified   \n",
       "\n",
       "   direct_source                                     model_response  \\\n",
       "0        CoCoNot  {\"query\": \"When did the nuclear accident happe...   \n",
       "1            IN3  {\"query\": \"I need help picking out a professio...   \n",
       "2        AmbigQA  {\"query\": \"When did the apple tv 4k come out?\"...   \n",
       "3        AmbigQA  {\"query\": \"Who sings i love rock 'n' roll?\", \\...   \n",
       "4        AmbigQA  {\\n  \"query\": \"Where does the new fallout game...   \n",
       "5        CoCoNot  {\"query\": \"Who is the existing prime minister?...   \n",
       "6        AmbigQA  {\"query\": \"Who played the king in game of thro...   \n",
       "7        AmbigQA  {\"query\": \"Who plays henry tudor in the white ...   \n",
       "8        AmbigQA  {\"query\": \"Who won the contest to design the c...   \n",
       "9            IN3  {\"query\": \"How many daughters do George Washin...   \n",
       "10           IN3  {\"query\": \"Identify the most common types of c...   \n",
       "11           IN3  {\"query\": \"Find the top five best selling vide...   \n",
       "\n",
       "        model_pred  \n",
       "0   underspecified  \n",
       "1   underspecified  \n",
       "2   underspecified  \n",
       "3   underspecified  \n",
       "4   underspecified  \n",
       "5   underspecified  \n",
       "6   underspecified  \n",
       "7   underspecified  \n",
       "8   underspecified  \n",
       "9   underspecified  \n",
       "10  underspecified  \n",
       "11  underspecified  "
      ]
     },
     "execution_count": 10,
     "metadata": {},
     "output_type": "execute_result"
    }
   ],
   "source": [
    "test_df = run_experiment(test_prompts, df_few_shots)\n",
    "test_df"
   ]
  },
  {
   "cell_type": "code",
   "execution_count": 11,
   "metadata": {
    "id": "Fs0sBzviyS8M"
   },
   "outputs": [
    {
     "name": "stdout",
     "output_type": "stream",
     "text": [
      "No error found, directly process the data.\n",
      "                 precision    recall  f1-score   support\n",
      "\n",
      "fully specified       0.00      0.00      0.00         6\n",
      " underspecified       0.50      1.00      0.67         6\n",
      "\n",
      "       accuracy                           0.50        12\n",
      "      macro avg       0.25      0.50      0.33        12\n",
      "   weighted avg       0.25      0.50      0.33        12\n",
      "\n"
     ]
    },
    {
     "name": "stderr",
     "output_type": "stream",
     "text": [
      "/home/yhuang/sglang-venv-2/lib/python3.11/site-packages/sklearn/metrics/_classification.py:1565: UndefinedMetricWarning: Precision is ill-defined and being set to 0.0 in labels with no predicted samples. Use `zero_division` parameter to control this behavior.\n",
      "  _warn_prf(average, modifier, f\"{metric.capitalize()} is\", len(result))\n",
      "/home/yhuang/sglang-venv-2/lib/python3.11/site-packages/sklearn/metrics/_classification.py:1565: UndefinedMetricWarning: Precision is ill-defined and being set to 0.0 in labels with no predicted samples. Use `zero_division` parameter to control this behavior.\n",
      "  _warn_prf(average, modifier, f\"{metric.capitalize()} is\", len(result))\n",
      "/home/yhuang/sglang-venv-2/lib/python3.11/site-packages/sklearn/metrics/_classification.py:1565: UndefinedMetricWarning: Precision is ill-defined and being set to 0.0 in labels with no predicted samples. Use `zero_division` parameter to control this behavior.\n",
      "  _warn_prf(average, modifier, f\"{metric.capitalize()} is\", len(result))\n"
     ]
    },
    {
     "data": {
      "image/png": "[encoded data removed]",
      "text/plain": [
       "<Figure size 640x480 with 2 Axes>"
      ]
     },
     "metadata": {},
     "output_type": "display_data"
    }
   ],
   "source": [
    "retrieve_results(test_df, \"llama_3_2_3B_FS_UND_pilot\")"
   ]
  },
  {
   "cell_type": "markdown",
   "metadata": {
    "id": "98ckzOklyeDw"
   },
   "source": [
    "## implementation"
   ]
  },
  {
   "cell_type": "code",
   "execution_count": 12,
   "metadata": {
    "id": "E_LYkNqwygAH"
   },
   "outputs": [
    {
     "name": "stdout",
     "output_type": "stream",
     "text": [
      "Start preparing prompts...\n",
      "# Testing data points: 1155\n",
      "Generation complete: 1155 prompts\n",
      "Average prompt length: 341 bytes (~85 tokens)\n",
      "\n",
      "Analyze the following input user query:\n",
      "\n",
      "{\"query\": \"The idea that the united states was destined to extend westward across the continent?\"}\n",
      "\n",
      "Please provide your analysis in the following JSON format:\n",
      "\n",
      "{\"query\": \"The idea that the united states was destined to extend westward across the continent?\", \"reasoning\": \"[YOUR_DETAILED_REASONING]\", \"judgment\": \"[fully specified/underspecified]\"}\n",
      "\n"
     ]
    }
   ],
   "source": [
    "test_prompts = prepare_test_prompts(df_test_1155, task_FS_UND)\n",
    "print(test_prompts[0])"
   ]
  },
  {
   "cell_type": "code",
   "execution_count": 13,
   "metadata": {
    "id": "cC5bH8q8yjYM",
    "scrolled": true
   },
   "outputs": [
    {
     "name": "stderr",
     "output_type": "stream",
     "text": [
      "  0%|          | 0/231 [00:00<?, ?it/s]Setting `pad_token_id` to `eos_token_id`:128001 for open-end generation.\n",
      "  0%|          | 1/231 [00:08<34:12,  8.93s/it]Setting `pad_token_id` to `eos_token_id`:128001 for open-end generation.\n",
      "  1%|          | 2/231 [00:14<27:05,  7.10s/it]Setting `pad_token_id` to `eos_token_id`:128001 for open-end generation.\n",
      "  1%|▏         | 3/231 [00:26<35:36,  9.37s/it]Setting `pad_token_id` to `eos_token_id`:128001 for open-end generation.\n",
      "  2%|▏         | 4/231 [00:31<28:35,  7.56s/it]Setting `pad_token_id` to `eos_token_id`:128001 for open-end generation.\n",
      "  2%|▏         | 5/231 [00:43<34:47,  9.24s/it]Setting `pad_token_id` to `eos_token_id`:128001 for open-end generation.\n",
      "  3%|▎         | 6/231 [00:51<32:54,  8.77s/it]Setting `pad_token_id` to `eos_token_id`:128001 for open-end generation.\n",
      "  3%|▎         | 7/231 [00:58<30:48,  8.25s/it]Setting `pad_token_id` to `eos_token_id`:128001 for open-end generation.\n",
      "  3%|▎         | 8/231 [01:05<29:18,  7.89s/it]Setting `pad_token_id` to `eos_token_id`:128001 for open-end generation.\n",
      "  4%|▍         | 9/231 [01:11<26:28,  7.16s/it]Setting `pad_token_id` to `eos_token_id`:128001 for open-end generation.\n",
      "  4%|▍         | 10/231 [01:18<26:06,  7.09s/it]Setting `pad_token_id` to `eos_token_id`:128001 for open-end generation.\n",
      "  5%|▍         | 11/231 [01:27<28:06,  7.67s/it]Setting `pad_token_id` to `eos_token_id`:128001 for open-end generation.\n",
      "  5%|▌         | 12/231 [01:32<24:57,  6.84s/it]Setting `pad_token_id` to `eos_token_id`:128001 for open-end generation.\n",
      "  6%|▌         | 13/231 [01:37<23:13,  6.39s/it]Setting `pad_token_id` to `eos_token_id`:128001 for open-end generation.\n",
      "  6%|▌         | 14/231 [01:44<23:12,  6.42s/it]Setting `pad_token_id` to `eos_token_id`:128001 for open-end generation.\n",
      "  6%|▋         | 15/231 [01:50<23:10,  6.44s/it]Setting `pad_token_id` to `eos_token_id`:128001 for open-end generation.\n",
      "  7%|▋         | 16/231 [01:55<21:02,  5.87s/it]Setting `pad_token_id` to `eos_token_id`:128001 for open-end generation.\n",
      "  7%|▋         | 17/231 [01:59<19:04,  5.35s/it]Setting `pad_token_id` to `eos_token_id`:128001 for open-end generation.\n",
      "  8%|▊         | 18/231 [02:05<19:28,  5.49s/it]Setting `pad_token_id` to `eos_token_id`:128001 for open-end generation.\n",
      "  8%|▊         | 19/231 [02:10<18:41,  5.29s/it]Setting `pad_token_id` to `eos_token_id`:128001 for open-end generation.\n",
      "  9%|▊         | 20/231 [02:16<19:57,  5.68s/it]Setting `pad_token_id` to `eos_token_id`:128001 for open-end generation.\n",
      "  9%|▉         | 21/231 [02:23<20:50,  5.95s/it]Setting `pad_token_id` to `eos_token_id`:128001 for open-end generation.\n",
      " 10%|▉         | 22/231 [02:29<21:28,  6.16s/it]Setting `pad_token_id` to `eos_token_id`:128001 for open-end generation.\n",
      " 10%|▉         | 23/231 [02:35<20:39,  5.96s/it]Setting `pad_token_id` to `eos_token_id`:128001 for open-end generation.\n",
      " 10%|█         | 24/231 [02:44<23:23,  6.78s/it]Setting `pad_token_id` to `eos_token_id`:128001 for open-end generation.\n",
      " 11%|█         | 25/231 [02:51<24:27,  7.12s/it]Setting `pad_token_id` to `eos_token_id`:128001 for open-end generation.\n",
      " 11%|█▏        | 26/231 [02:57<23:03,  6.75s/it]Setting `pad_token_id` to `eos_token_id`:128001 for open-end generation.\n",
      " 12%|█▏        | 27/231 [03:05<24:18,  7.15s/it]Setting `pad_token_id` to `eos_token_id`:128001 for open-end generation.\n",
      " 12%|█▏        | 28/231 [03:10<21:56,  6.48s/it]Setting `pad_token_id` to `eos_token_id`:128001 for open-end generation.\n",
      " 13%|█▎        | 29/231 [03:18<23:01,  6.84s/it]Setting `pad_token_id` to `eos_token_id`:128001 for open-end generation.\n",
      " 13%|█▎        | 30/231 [03:23<21:08,  6.31s/it]Setting `pad_token_id` to `eos_token_id`:128001 for open-end generation.\n",
      " 13%|█▎        | 31/231 [03:34<25:13,  7.57s/it]Setting `pad_token_id` to `eos_token_id`:128001 for open-end generation.\n",
      " 14%|█▍        | 32/231 [03:40<23:36,  7.12s/it]Setting `pad_token_id` to `eos_token_id`:128001 for open-end generation.\n",
      " 14%|█▍        | 33/231 [03:47<23:14,  7.05s/it]Setting `pad_token_id` to `eos_token_id`:128001 for open-end generation.\n",
      " 15%|█▍        | 34/231 [03:52<21:07,  6.44s/it]Setting `pad_token_id` to `eos_token_id`:128001 for open-end generation.\n",
      " 15%|█▌        | 35/231 [03:56<19:05,  5.85s/it]Setting `pad_token_id` to `eos_token_id`:128001 for open-end generation.\n",
      " 16%|█▌        | 36/231 [04:02<18:45,  5.77s/it]Setting `pad_token_id` to `eos_token_id`:128001 for open-end generation.\n",
      " 16%|█▌        | 37/231 [04:08<19:40,  6.08s/it]Setting `pad_token_id` to `eos_token_id`:128001 for open-end generation.\n",
      " 16%|█▋        | 38/231 [04:17<21:51,  6.80s/it]Setting `pad_token_id` to `eos_token_id`:128001 for open-end generation.\n",
      " 17%|█▋        | 39/231 [04:23<21:01,  6.57s/it]Setting `pad_token_id` to `eos_token_id`:128001 for open-end generation.\n",
      " 17%|█▋        | 40/231 [04:27<18:29,  5.81s/it]Setting `pad_token_id` to `eos_token_id`:128001 for open-end generation.\n",
      " 18%|█▊        | 41/231 [04:32<17:17,  5.46s/it]Setting `pad_token_id` to `eos_token_id`:128001 for open-end generation.\n",
      " 18%|█▊        | 42/231 [04:39<19:12,  6.10s/it]Setting `pad_token_id` to `eos_token_id`:128001 for open-end generation.\n",
      " 19%|█▊        | 43/231 [04:48<21:17,  6.79s/it]Setting `pad_token_id` to `eos_token_id`:128001 for open-end generation.\n",
      " 19%|█▉        | 44/231 [04:54<20:39,  6.63s/it]Setting `pad_token_id` to `eos_token_id`:128001 for open-end generation.\n",
      " 19%|█▉        | 45/231 [04:59<19:28,  6.28s/it]Setting `pad_token_id` to `eos_token_id`:128001 for open-end generation.\n",
      " 20%|█▉        | 46/231 [05:08<21:28,  6.96s/it]Setting `pad_token_id` to `eos_token_id`:128001 for open-end generation.\n",
      " 20%|██        | 47/231 [05:16<22:30,  7.34s/it]Setting `pad_token_id` to `eos_token_id`:128001 for open-end generation.\n",
      " 21%|██        | 48/231 [05:23<21:54,  7.18s/it]Setting `pad_token_id` to `eos_token_id`:128001 for open-end generation.\n",
      " 21%|██        | 49/231 [05:28<19:51,  6.55s/it]Setting `pad_token_id` to `eos_token_id`:128001 for open-end generation.\n",
      " 22%|██▏       | 50/231 [05:33<18:41,  6.20s/it]Setting `pad_token_id` to `eos_token_id`:128001 for open-end generation.\n",
      " 22%|██▏       | 51/231 [05:42<20:27,  6.82s/it]Setting `pad_token_id` to `eos_token_id`:128001 for open-end generation.\n",
      " 23%|██▎       | 52/231 [05:46<18:05,  6.06s/it]Setting `pad_token_id` to `eos_token_id`:128001 for open-end generation.\n",
      " 23%|██▎       | 53/231 [05:51<17:16,  5.83s/it]Setting `pad_token_id` to `eos_token_id`:128001 for open-end generation.\n",
      " 23%|██▎       | 54/231 [05:58<17:48,  6.03s/it]Setting `pad_token_id` to `eos_token_id`:128001 for open-end generation.\n",
      " 24%|██▍       | 55/231 [06:05<18:20,  6.25s/it]Setting `pad_token_id` to `eos_token_id`:128001 for open-end generation.\n",
      " 24%|██▍       | 56/231 [06:12<19:15,  6.60s/it]Setting `pad_token_id` to `eos_token_id`:128001 for open-end generation.\n",
      " 25%|██▍       | 57/231 [06:18<19:01,  6.56s/it]Setting `pad_token_id` to `eos_token_id`:128001 for open-end generation.\n",
      " 25%|██▌       | 58/231 [06:25<18:36,  6.45s/it]Setting `pad_token_id` to `eos_token_id`:128001 for open-end generation.\n",
      " 26%|██▌       | 59/231 [06:32<19:34,  6.83s/it]Setting `pad_token_id` to `eos_token_id`:128001 for open-end generation.\n",
      " 26%|██▌       | 60/231 [06:39<19:07,  6.71s/it]Setting `pad_token_id` to `eos_token_id`:128001 for open-end generation.\n",
      " 26%|██▋       | 61/231 [06:44<17:36,  6.22s/it]Setting `pad_token_id` to `eos_token_id`:128001 for open-end generation.\n",
      " 27%|██▋       | 62/231 [06:49<16:52,  5.99s/it]Setting `pad_token_id` to `eos_token_id`:128001 for open-end generation.\n",
      " 27%|██▋       | 63/231 [06:57<18:34,  6.63s/it]Setting `pad_token_id` to `eos_token_id`:128001 for open-end generation.\n",
      " 28%|██▊       | 64/231 [07:06<19:42,  7.08s/it]Setting `pad_token_id` to `eos_token_id`:128001 for open-end generation.\n",
      " 28%|██▊       | 65/231 [07:10<17:37,  6.37s/it]Setting `pad_token_id` to `eos_token_id`:128001 for open-end generation.\n",
      " 29%|██▊       | 66/231 [07:19<19:53,  7.23s/it]Setting `pad_token_id` to `eos_token_id`:128001 for open-end generation.\n",
      " 29%|██▉       | 67/231 [07:31<23:36,  8.64s/it]Setting `pad_token_id` to `eos_token_id`:128001 for open-end generation.\n",
      " 29%|██▉       | 68/231 [07:39<22:16,  8.20s/it]Setting `pad_token_id` to `eos_token_id`:128001 for open-end generation.\n",
      " 30%|██▉       | 69/231 [08:02<34:48, 12.89s/it]Setting `pad_token_id` to `eos_token_id`:128001 for open-end generation.\n",
      " 30%|███       | 70/231 [08:10<30:43, 11.45s/it]Setting `pad_token_id` to `eos_token_id`:128001 for open-end generation.\n",
      " 31%|███       | 71/231 [08:17<26:34,  9.96s/it]Setting `pad_token_id` to `eos_token_id`:128001 for open-end generation.\n",
      " 31%|███       | 72/231 [08:32<30:39, 11.57s/it]Setting `pad_token_id` to `eos_token_id`:128001 for open-end generation.\n",
      " 32%|███▏      | 73/231 [08:45<31:07, 11.82s/it]Setting `pad_token_id` to `eos_token_id`:128001 for open-end generation.\n",
      " 32%|███▏      | 74/231 [08:50<25:51,  9.88s/it]Setting `pad_token_id` to `eos_token_id`:128001 for open-end generation.\n",
      " 32%|███▏      | 75/231 [08:56<22:36,  8.69s/it]Setting `pad_token_id` to `eos_token_id`:128001 for open-end generation.\n",
      " 33%|███▎      | 76/231 [09:03<20:53,  8.09s/it]Setting `pad_token_id` to `eos_token_id`:128001 for open-end generation.\n",
      " 33%|███▎      | 77/231 [09:09<19:08,  7.46s/it]Setting `pad_token_id` to `eos_token_id`:128001 for open-end generation.\n",
      " 34%|███▍      | 78/231 [09:23<24:34,  9.64s/it]Setting `pad_token_id` to `eos_token_id`:128001 for open-end generation.\n",
      " 34%|███▍      | 79/231 [09:39<28:52, 11.40s/it]Setting `pad_token_id` to `eos_token_id`:128001 for open-end generation.\n",
      " 35%|███▍      | 80/231 [09:44<24:01,  9.55s/it]Setting `pad_token_id` to `eos_token_id`:128001 for open-end generation.\n",
      " 35%|███▌      | 81/231 [09:49<20:43,  8.29s/it]Setting `pad_token_id` to `eos_token_id`:128001 for open-end generation.\n",
      " 35%|███▌      | 82/231 [09:54<17:54,  7.21s/it]Setting `pad_token_id` to `eos_token_id`:128001 for open-end generation.\n",
      " 36%|███▌      | 83/231 [10:02<18:27,  7.48s/it]Setting `pad_token_id` to `eos_token_id`:128001 for open-end generation.\n",
      " 36%|███▋      | 84/231 [10:08<17:05,  6.98s/it]Setting `pad_token_id` to `eos_token_id`:128001 for open-end generation.\n",
      " 37%|███▋      | 85/231 [10:13<15:33,  6.39s/it]Setting `pad_token_id` to `eos_token_id`:128001 for open-end generation.\n",
      " 37%|███▋      | 86/231 [10:23<17:56,  7.42s/it]Setting `pad_token_id` to `eos_token_id`:128001 for open-end generation.\n",
      " 38%|███▊      | 87/231 [10:27<15:45,  6.56s/it]Setting `pad_token_id` to `eos_token_id`:128001 for open-end generation.\n",
      " 38%|███▊      | 88/231 [10:32<14:17,  5.99s/it]Setting `pad_token_id` to `eos_token_id`:128001 for open-end generation.\n",
      " 39%|███▊      | 89/231 [10:40<15:39,  6.61s/it]Setting `pad_token_id` to `eos_token_id`:128001 for open-end generation.\n",
      " 39%|███▉      | 90/231 [10:46<14:52,  6.33s/it]Setting `pad_token_id` to `eos_token_id`:128001 for open-end generation.\n",
      " 39%|███▉      | 91/231 [10:50<13:28,  5.78s/it]Setting `pad_token_id` to `eos_token_id`:128001 for open-end generation.\n",
      " 40%|███▉      | 92/231 [10:58<15:01,  6.48s/it]Setting `pad_token_id` to `eos_token_id`:128001 for open-end generation.\n",
      " 40%|████      | 93/231 [11:04<14:13,  6.18s/it]Setting `pad_token_id` to `eos_token_id`:128001 for open-end generation.\n",
      " 41%|████      | 94/231 [11:10<14:03,  6.16s/it]Setting `pad_token_id` to `eos_token_id`:128001 for open-end generation.\n",
      " 41%|████      | 95/231 [11:15<12:48,  5.65s/it]Setting `pad_token_id` to `eos_token_id`:128001 for open-end generation.\n",
      " 42%|████▏     | 96/231 [11:21<13:17,  5.91s/it]Setting `pad_token_id` to `eos_token_id`:128001 for open-end generation.\n",
      " 42%|████▏     | 97/231 [11:28<13:42,  6.14s/it]Setting `pad_token_id` to `eos_token_id`:128001 for open-end generation.\n",
      " 42%|████▏     | 98/231 [11:38<16:24,  7.40s/it]Setting `pad_token_id` to `eos_token_id`:128001 for open-end generation.\n",
      " 43%|████▎     | 99/231 [11:44<15:08,  6.88s/it]Setting `pad_token_id` to `eos_token_id`:128001 for open-end generation.\n",
      " 43%|████▎     | 100/231 [11:53<16:19,  7.47s/it]Setting `pad_token_id` to `eos_token_id`:128001 for open-end generation.\n",
      " 44%|████▎     | 101/231 [12:01<17:03,  7.88s/it]Setting `pad_token_id` to `eos_token_id`:128001 for open-end generation.\n",
      " 44%|████▍     | 102/231 [12:10<17:21,  8.08s/it]Setting `pad_token_id` to `eos_token_id`:128001 for open-end generation.\n",
      " 45%|████▍     | 103/231 [12:16<15:49,  7.42s/it]Setting `pad_token_id` to `eos_token_id`:128001 for open-end generation.\n",
      " 45%|████▌     | 104/231 [12:23<15:38,  7.39s/it]Setting `pad_token_id` to `eos_token_id`:128001 for open-end generation.\n",
      " 45%|████▌     | 105/231 [12:29<14:26,  6.88s/it]Setting `pad_token_id` to `eos_token_id`:128001 for open-end generation.\n",
      " 46%|████▌     | 106/231 [12:35<13:42,  6.58s/it]Setting `pad_token_id` to `eos_token_id`:128001 for open-end generation.\n",
      " 46%|████▋     | 107/231 [12:41<13:29,  6.53s/it]Setting `pad_token_id` to `eos_token_id`:128001 for open-end generation.\n",
      " 47%|████▋     | 108/231 [12:48<13:48,  6.73s/it]Setting `pad_token_id` to `eos_token_id`:128001 for open-end generation.\n",
      " 47%|████▋     | 109/231 [12:54<13:11,  6.49s/it]Setting `pad_token_id` to `eos_token_id`:128001 for open-end generation.\n",
      " 48%|████▊     | 110/231 [12:59<12:00,  5.96s/it]Setting `pad_token_id` to `eos_token_id`:128001 for open-end generation.\n",
      " 48%|████▊     | 111/231 [13:08<13:32,  6.77s/it]Setting `pad_token_id` to `eos_token_id`:128001 for open-end generation.\n",
      " 48%|████▊     | 112/231 [13:13<12:35,  6.35s/it]Setting `pad_token_id` to `eos_token_id`:128001 for open-end generation.\n",
      " 49%|████▉     | 113/231 [13:25<15:42,  7.98s/it]Setting `pad_token_id` to `eos_token_id`:128001 for open-end generation.\n",
      " 49%|████▉     | 114/231 [13:30<13:56,  7.15s/it]Setting `pad_token_id` to `eos_token_id`:128001 for open-end generation.\n",
      " 50%|████▉     | 115/231 [13:36<13:01,  6.74s/it]Setting `pad_token_id` to `eos_token_id`:128001 for open-end generation.\n",
      " 50%|█████     | 116/231 [13:43<13:09,  6.87s/it]Setting `pad_token_id` to `eos_token_id`:128001 for open-end generation.\n",
      " 51%|█████     | 117/231 [13:50<13:18,  7.00s/it]Setting `pad_token_id` to `eos_token_id`:128001 for open-end generation.\n",
      " 51%|█████     | 118/231 [13:59<14:03,  7.46s/it]Setting `pad_token_id` to `eos_token_id`:128001 for open-end generation.\n",
      " 52%|█████▏    | 119/231 [14:28<26:03, 13.96s/it]Setting `pad_token_id` to `eos_token_id`:128001 for open-end generation.\n",
      " 52%|█████▏    | 120/231 [14:32<20:12, 10.92s/it]Setting `pad_token_id` to `eos_token_id`:128001 for open-end generation.\n",
      " 52%|█████▏    | 121/231 [14:38<17:09,  9.36s/it]Setting `pad_token_id` to `eos_token_id`:128001 for open-end generation.\n",
      " 53%|█████▎    | 122/231 [14:43<14:39,  8.07s/it]Setting `pad_token_id` to `eos_token_id`:128001 for open-end generation.\n",
      " 53%|█████▎    | 123/231 [14:46<12:14,  6.80s/it]Setting `pad_token_id` to `eos_token_id`:128001 for open-end generation.\n",
      " 54%|█████▎    | 124/231 [14:52<11:36,  6.51s/it]Setting `pad_token_id` to `eos_token_id`:128001 for open-end generation.\n",
      " 54%|█████▍    | 125/231 [14:58<11:04,  6.27s/it]Setting `pad_token_id` to `eos_token_id`:128001 for open-end generation.\n",
      " 55%|█████▍    | 126/231 [15:03<10:16,  5.88s/it]Setting `pad_token_id` to `eos_token_id`:128001 for open-end generation.\n",
      " 55%|█████▍    | 127/231 [15:07<09:12,  5.32s/it]Setting `pad_token_id` to `eos_token_id`:128001 for open-end generation.\n",
      " 55%|█████▌    | 128/231 [15:12<09:00,  5.25s/it]Setting `pad_token_id` to `eos_token_id`:128001 for open-end generation.\n",
      " 56%|█████▌    | 129/231 [15:16<08:16,  4.87s/it]Setting `pad_token_id` to `eos_token_id`:128001 for open-end generation.\n",
      " 56%|█████▋    | 130/231 [15:20<07:47,  4.63s/it]Setting `pad_token_id` to `eos_token_id`:128001 for open-end generation.\n",
      " 57%|█████▋    | 131/231 [15:25<07:44,  4.65s/it]Setting `pad_token_id` to `eos_token_id`:128001 for open-end generation.\n",
      " 57%|█████▋    | 132/231 [15:28<07:10,  4.35s/it]Setting `pad_token_id` to `eos_token_id`:128001 for open-end generation.\n",
      " 58%|█████▊    | 133/231 [15:34<07:56,  4.86s/it]Setting `pad_token_id` to `eos_token_id`:128001 for open-end generation.\n",
      " 58%|█████▊    | 134/231 [15:39<07:33,  4.67s/it]Setting `pad_token_id` to `eos_token_id`:128001 for open-end generation.\n",
      " 58%|█████▊    | 135/231 [15:44<07:41,  4.81s/it]Setting `pad_token_id` to `eos_token_id`:128001 for open-end generation.\n",
      " 59%|█████▉    | 136/231 [15:51<08:31,  5.38s/it]Setting `pad_token_id` to `eos_token_id`:128001 for open-end generation.\n",
      " 59%|█████▉    | 137/231 [15:55<07:46,  4.97s/it]Setting `pad_token_id` to `eos_token_id`:128001 for open-end generation.\n",
      " 60%|█████▉    | 138/231 [15:59<07:27,  4.81s/it]Setting `pad_token_id` to `eos_token_id`:128001 for open-end generation.\n",
      " 60%|██████    | 139/231 [16:04<07:28,  4.88s/it]Setting `pad_token_id` to `eos_token_id`:128001 for open-end generation.\n",
      " 61%|██████    | 140/231 [16:09<07:31,  4.96s/it]Setting `pad_token_id` to `eos_token_id`:128001 for open-end generation.\n",
      " 61%|██████    | 141/231 [16:14<07:21,  4.91s/it]Setting `pad_token_id` to `eos_token_id`:128001 for open-end generation.\n",
      " 61%|██████▏   | 142/231 [16:19<07:10,  4.84s/it]Setting `pad_token_id` to `eos_token_id`:128001 for open-end generation.\n",
      " 62%|██████▏   | 143/231 [16:25<07:49,  5.34s/it]Setting `pad_token_id` to `eos_token_id`:128001 for open-end generation.\n",
      " 62%|██████▏   | 144/231 [16:30<07:23,  5.10s/it]Setting `pad_token_id` to `eos_token_id`:128001 for open-end generation.\n",
      " 63%|██████▎   | 145/231 [16:36<07:59,  5.57s/it]Setting `pad_token_id` to `eos_token_id`:128001 for open-end generation.\n",
      " 63%|██████▎   | 146/231 [16:42<07:54,  5.59s/it]Setting `pad_token_id` to `eos_token_id`:128001 for open-end generation.\n",
      " 64%|██████▎   | 147/231 [16:48<08:09,  5.83s/it]Setting `pad_token_id` to `eos_token_id`:128001 for open-end generation.\n",
      " 64%|██████▍   | 148/231 [16:56<08:53,  6.43s/it]Setting `pad_token_id` to `eos_token_id`:128001 for open-end generation.\n",
      " 65%|██████▍   | 149/231 [17:06<10:01,  7.34s/it]Setting `pad_token_id` to `eos_token_id`:128001 for open-end generation.\n",
      " 65%|██████▍   | 150/231 [17:16<11:02,  8.18s/it]Setting `pad_token_id` to `eos_token_id`:128001 for open-end generation.\n",
      " 65%|██████▌   | 151/231 [17:22<10:01,  7.52s/it]Setting `pad_token_id` to `eos_token_id`:128001 for open-end generation.\n",
      " 66%|██████▌   | 152/231 [17:31<10:24,  7.91s/it]Setting `pad_token_id` to `eos_token_id`:128001 for open-end generation.\n",
      " 66%|██████▌   | 153/231 [17:49<14:15, 10.97s/it]Setting `pad_token_id` to `eos_token_id`:128001 for open-end generation.\n",
      " 67%|██████▋   | 154/231 [17:57<13:05, 10.20s/it]Setting `pad_token_id` to `eos_token_id`:128001 for open-end generation.\n",
      " 67%|██████▋   | 155/231 [18:03<11:10,  8.82s/it]Setting `pad_token_id` to `eos_token_id`:128001 for open-end generation.\n",
      " 68%|██████▊   | 156/231 [18:11<10:48,  8.65s/it]Setting `pad_token_id` to `eos_token_id`:128001 for open-end generation.\n",
      " 68%|██████▊   | 157/231 [18:28<13:41, 11.10s/it]Setting `pad_token_id` to `eos_token_id`:128001 for open-end generation.\n",
      " 68%|██████▊   | 158/231 [18:34<11:39,  9.59s/it]Setting `pad_token_id` to `eos_token_id`:128001 for open-end generation.\n",
      " 69%|██████▉   | 159/231 [18:45<11:58,  9.98s/it]Setting `pad_token_id` to `eos_token_id`:128001 for open-end generation.\n",
      " 69%|██████▉   | 160/231 [18:57<12:31, 10.58s/it]Setting `pad_token_id` to `eos_token_id`:128001 for open-end generation.\n",
      " 70%|██████▉   | 161/231 [19:03<10:51,  9.30s/it]Setting `pad_token_id` to `eos_token_id`:128001 for open-end generation.\n",
      " 70%|███████   | 162/231 [19:16<11:57, 10.40s/it]Setting `pad_token_id` to `eos_token_id`:128001 for open-end generation.\n",
      " 71%|███████   | 163/231 [19:30<13:05, 11.55s/it]Setting `pad_token_id` to `eos_token_id`:128001 for open-end generation.\n",
      " 71%|███████   | 164/231 [19:34<10:20,  9.26s/it]Setting `pad_token_id` to `eos_token_id`:128001 for open-end generation.\n",
      " 71%|███████▏  | 165/231 [19:41<09:16,  8.44s/it]Setting `pad_token_id` to `eos_token_id`:128001 for open-end generation.\n",
      " 72%|███████▏  | 166/231 [19:48<08:48,  8.13s/it]Setting `pad_token_id` to `eos_token_id`:128001 for open-end generation.\n",
      " 72%|███████▏  | 167/231 [19:59<09:39,  9.06s/it]Setting `pad_token_id` to `eos_token_id`:128001 for open-end generation.\n",
      " 73%|███████▎  | 168/231 [20:04<08:03,  7.67s/it]Setting `pad_token_id` to `eos_token_id`:128001 for open-end generation.\n",
      " 73%|███████▎  | 169/231 [20:10<07:32,  7.30s/it]Setting `pad_token_id` to `eos_token_id`:128001 for open-end generation.\n",
      " 74%|███████▎  | 170/231 [20:18<07:26,  7.31s/it]Setting `pad_token_id` to `eos_token_id`:128001 for open-end generation.\n",
      " 74%|███████▍  | 171/231 [20:37<10:56, 10.94s/it]Setting `pad_token_id` to `eos_token_id`:128001 for open-end generation.\n",
      " 74%|███████▍  | 172/231 [20:44<09:43,  9.88s/it]Setting `pad_token_id` to `eos_token_id`:128001 for open-end generation.\n",
      " 75%|███████▍  | 173/231 [20:53<09:07,  9.44s/it]Setting `pad_token_id` to `eos_token_id`:128001 for open-end generation.\n",
      " 75%|███████▌  | 174/231 [20:58<07:55,  8.34s/it]Setting `pad_token_id` to `eos_token_id`:128001 for open-end generation.\n",
      " 76%|███████▌  | 175/231 [21:21<11:50, 12.68s/it]Setting `pad_token_id` to `eos_token_id`:128001 for open-end generation.\n",
      " 76%|███████▌  | 176/231 [21:26<09:19, 10.18s/it]Setting `pad_token_id` to `eos_token_id`:128001 for open-end generation.\n",
      " 77%|███████▋  | 177/231 [21:34<08:34,  9.53s/it]Setting `pad_token_id` to `eos_token_id`:128001 for open-end generation.\n",
      " 77%|███████▋  | 178/231 [21:39<07:22,  8.35s/it]Setting `pad_token_id` to `eos_token_id`:128001 for open-end generation.\n",
      " 77%|███████▋  | 179/231 [21:45<06:40,  7.70s/it]Setting `pad_token_id` to `eos_token_id`:128001 for open-end generation.\n",
      " 78%|███████▊  | 180/231 [21:58<07:42,  9.06s/it]Setting `pad_token_id` to `eos_token_id`:128001 for open-end generation.\n",
      " 78%|███████▊  | 181/231 [22:05<07:02,  8.45s/it]Setting `pad_token_id` to `eos_token_id`:128001 for open-end generation.\n",
      " 79%|███████▉  | 182/231 [22:13<06:55,  8.48s/it]Setting `pad_token_id` to `eos_token_id`:128001 for open-end generation.\n",
      " 79%|███████▉  | 183/231 [22:25<07:34,  9.47s/it]Setting `pad_token_id` to `eos_token_id`:128001 for open-end generation.\n",
      " 80%|███████▉  | 184/231 [22:30<06:14,  7.97s/it]Setting `pad_token_id` to `eos_token_id`:128001 for open-end generation.\n",
      " 80%|████████  | 185/231 [22:44<07:35,  9.89s/it]Setting `pad_token_id` to `eos_token_id`:128001 for open-end generation.\n",
      " 81%|████████  | 186/231 [22:49<06:22,  8.50s/it]Setting `pad_token_id` to `eos_token_id`:128001 for open-end generation.\n",
      " 81%|████████  | 187/231 [22:53<05:13,  7.13s/it]Setting `pad_token_id` to `eos_token_id`:128001 for open-end generation.\n",
      " 81%|████████▏ | 188/231 [22:59<04:52,  6.81s/it]Setting `pad_token_id` to `eos_token_id`:128001 for open-end generation.\n",
      " 82%|████████▏ | 189/231 [23:03<04:06,  5.86s/it]Setting `pad_token_id` to `eos_token_id`:128001 for open-end generation.\n",
      " 82%|████████▏ | 190/231 [23:10<04:22,  6.40s/it]Setting `pad_token_id` to `eos_token_id`:128001 for open-end generation.\n",
      " 83%|████████▎ | 191/231 [23:17<04:22,  6.57s/it]Setting `pad_token_id` to `eos_token_id`:128001 for open-end generation.\n",
      " 83%|████████▎ | 192/231 [23:24<04:12,  6.48s/it]Setting `pad_token_id` to `eos_token_id`:128001 for open-end generation.\n",
      " 84%|████████▎ | 193/231 [23:30<03:58,  6.28s/it]Setting `pad_token_id` to `eos_token_id`:128001 for open-end generation.\n",
      " 84%|████████▍ | 194/231 [23:36<03:54,  6.33s/it]Setting `pad_token_id` to `eos_token_id`:128001 for open-end generation.\n",
      " 84%|████████▍ | 195/231 [23:43<03:57,  6.61s/it]Setting `pad_token_id` to `eos_token_id`:128001 for open-end generation.\n",
      " 85%|████████▍ | 196/231 [23:51<04:05,  7.02s/it]Setting `pad_token_id` to `eos_token_id`:128001 for open-end generation.\n",
      " 85%|████████▌ | 197/231 [24:04<05:00,  8.85s/it]Setting `pad_token_id` to `eos_token_id`:128001 for open-end generation.\n",
      " 86%|████████▌ | 198/231 [24:10<04:17,  7.79s/it]Setting `pad_token_id` to `eos_token_id`:128001 for open-end generation.\n",
      " 86%|████████▌ | 199/231 [24:15<03:48,  7.14s/it]Setting `pad_token_id` to `eos_token_id`:128001 for open-end generation.\n",
      " 87%|████████▋ | 200/231 [24:21<03:25,  6.62s/it]Setting `pad_token_id` to `eos_token_id`:128001 for open-end generation.\n",
      " 87%|████████▋ | 201/231 [24:30<03:40,  7.35s/it]Setting `pad_token_id` to `eos_token_id`:128001 for open-end generation.\n",
      " 87%|████████▋ | 202/231 [24:39<03:48,  7.88s/it]Setting `pad_token_id` to `eos_token_id`:128001 for open-end generation.\n",
      " 88%|████████▊ | 203/231 [24:45<03:22,  7.25s/it]Setting `pad_token_id` to `eos_token_id`:128001 for open-end generation.\n",
      " 88%|████████▊ | 204/231 [24:53<03:27,  7.69s/it]Setting `pad_token_id` to `eos_token_id`:128001 for open-end generation.\n",
      " 89%|████████▊ | 205/231 [24:58<02:59,  6.89s/it]Setting `pad_token_id` to `eos_token_id`:128001 for open-end generation.\n",
      " 89%|████████▉ | 206/231 [25:05<02:47,  6.70s/it]Setting `pad_token_id` to `eos_token_id`:128001 for open-end generation.\n",
      " 90%|████████▉ | 207/231 [25:14<02:57,  7.40s/it]Setting `pad_token_id` to `eos_token_id`:128001 for open-end generation.\n",
      " 90%|█████████ | 208/231 [25:20<02:41,  7.04s/it]Setting `pad_token_id` to `eos_token_id`:128001 for open-end generation.\n",
      " 90%|█████████ | 209/231 [25:27<02:33,  6.97s/it]Setting `pad_token_id` to `eos_token_id`:128001 for open-end generation.\n",
      " 91%|█████████ | 210/231 [25:35<02:32,  7.28s/it]Setting `pad_token_id` to `eos_token_id`:128001 for open-end generation.\n",
      " 91%|█████████▏| 211/231 [25:41<02:21,  7.07s/it]Setting `pad_token_id` to `eos_token_id`:128001 for open-end generation.\n",
      " 92%|█████████▏| 212/231 [25:47<02:07,  6.70s/it]Setting `pad_token_id` to `eos_token_id`:128001 for open-end generation.\n",
      " 92%|█████████▏| 213/231 [25:54<02:04,  6.90s/it]Setting `pad_token_id` to `eos_token_id`:128001 for open-end generation.\n",
      " 93%|█████████▎| 214/231 [26:00<01:52,  6.64s/it]Setting `pad_token_id` to `eos_token_id`:128001 for open-end generation.\n",
      " 93%|█████████▎| 215/231 [26:07<01:45,  6.60s/it]Setting `pad_token_id` to `eos_token_id`:128001 for open-end generation.\n",
      " 94%|█████████▎| 216/231 [26:18<01:58,  7.92s/it]Setting `pad_token_id` to `eos_token_id`:128001 for open-end generation.\n",
      " 94%|█████████▍| 217/231 [26:27<01:53,  8.12s/it]Setting `pad_token_id` to `eos_token_id`:128001 for open-end generation.\n",
      " 94%|█████████▍| 218/231 [26:32<01:36,  7.40s/it]Setting `pad_token_id` to `eos_token_id`:128001 for open-end generation.\n",
      " 95%|█████████▍| 219/231 [26:38<01:23,  6.96s/it]Setting `pad_token_id` to `eos_token_id`:128001 for open-end generation.\n",
      " 95%|█████████▌| 220/231 [26:46<01:19,  7.23s/it]Setting `pad_token_id` to `eos_token_id`:128001 for open-end generation.\n",
      " 96%|█████████▌| 221/231 [26:52<01:08,  6.87s/it]Setting `pad_token_id` to `eos_token_id`:128001 for open-end generation.\n",
      " 96%|█████████▌| 222/231 [27:00<01:03,  7.05s/it]Setting `pad_token_id` to `eos_token_id`:128001 for open-end generation.\n",
      " 97%|█████████▋| 223/231 [27:12<01:08,  8.52s/it]Setting `pad_token_id` to `eos_token_id`:128001 for open-end generation.\n",
      " 97%|█████████▋| 224/231 [27:18<00:56,  8.04s/it]Setting `pad_token_id` to `eos_token_id`:128001 for open-end generation.\n",
      " 97%|█████████▋| 225/231 [27:29<00:53,  8.89s/it]Setting `pad_token_id` to `eos_token_id`:128001 for open-end generation.\n",
      " 98%|█████████▊| 226/231 [27:38<00:44,  8.96s/it]Setting `pad_token_id` to `eos_token_id`:128001 for open-end generation.\n",
      " 98%|█████████▊| 227/231 [27:50<00:38,  9.62s/it]Setting `pad_token_id` to `eos_token_id`:128001 for open-end generation.\n",
      " 99%|█████████▊| 228/231 [27:58<00:27,  9.22s/it]Setting `pad_token_id` to `eos_token_id`:128001 for open-end generation.\n",
      " 99%|█████████▉| 229/231 [28:05<00:17,  8.61s/it]Setting `pad_token_id` to `eos_token_id`:128001 for open-end generation.\n",
      "100%|█████████▉| 230/231 [28:15<00:09,  9.08s/it]Setting `pad_token_id` to `eos_token_id`:128001 for open-end generation.\n",
      "100%|██████████| 231/231 [28:28<00:00,  7.40s/it]"
     ]
    },
    {
     "name": "stdout",
     "output_type": "stream",
     "text": [
      "Warning: response 22 cannot retrieve judgment\n",
      "Respond content: {\"query\": \"When does braxton family values season 5 start?\", \"reasoning\": [\"The query asks for a specific date, but it lacks information about the year or any other relevant details.\", \"It only mentio...\n",
      "Warning: response 26 cannot retrieve judgment\n",
      "Respond content: {\"query\": \"Who did the singing for bart in the movie i can only imagine?\", \"reasoning\": [\n",
      "\"The user has provided a specific song title, 'I Can Only Imagine', which suggests that they have a clear idea...\n",
      "Warning: response 219 cannot retrieve judgment\n",
      "Respond content: {\"query\": \"What episode of law and order was ludacris on?\", \"reasoning\": [\n",
      "\"The query contains a specific TV show name 'Law & Order', but it lacks information about Ludacris' role, season, or any othe...\n",
      "Warning: response 221 cannot retrieve judgment\n",
      "Respond content: {\"query\": \"Who played grandpa joe in charlie and the chocolate factory?\", \n",
      "\"reasoning\": [\n",
      "\"The query asks for specific information about a character named 'grandpa joe' from a movie titled 'charlie an...\n",
      "Warning: response 278 cannot retrieve judgment\n",
      "Respond content: {\"query\": \"In the dream of the rood what is the rood eventually drenched in?\", \"reasoning\": [\n",
      "\"The given query appears to be a play on words, using 'rood' as a homograph for both 'root' and 'rude'. Th...\n",
      "Warning: response 317 cannot retrieve judgment\n",
      "Respond content: {\"query\": \"Find the most impactful education theorists of the 20th century and summarize their key contributions.\", \"reasoning\": [\n",
      "\"This query appears fully specified because it clearly states a speci...\n",
      "Warning: response 343 cannot retrieve judgment\n",
      "Respond content: {\"query\": \"Find the winning team of the latest Football World Cup.\", \"reasoning\": [\"The given query lacks specific details about the year, decade, or tournament edition of the Football World Cup it re...\n",
      "Warning: response 415 cannot retrieve judgment\n",
      "Respond content: {\"query\": \"I\", \"result\": {\"query\": \"I\", \"reasoning\": \"\", \"judgment\": \"underspecified\"}}...\n",
      "Warning: response 477 cannot retrieve judgment\n",
      "Respond content: {\"query\": \"I\", }...\n",
      "Warning: response 503 cannot retrieve judgment\n",
      "Respond content: {\"query\": \"Find a tutorial on how to build a website using HTML and CSS\", \"reasoning\": [\n",
      "\"This query specifies two tools (HTML and CSS) that need to be used, but does not specify what type of website ...\n",
      "Warning: response 527 cannot retrieve judgment\n",
      "Respond content: {\"query\": \"Automate a daily backup script in the ShellEnv System.\", \"reasoning\": [\n",
      "\"The query provides specific details about what needs to be automated (a daily backup) and where it should occur (the...\n",
      "Warning: response 562 cannot retrieve judgment\n",
      "Respond content: {\"query\": \"Explain how VPNs work and recommend the best VPN services for privacy and streaming\", \"reasoning\": [\n",
      "\"A key aspect of this query that makes it underspecified is its lack of specificity rega...\n",
      "Warning: response 567 cannot retrieve judgment\n",
      "Respond content: {\"query\": \"I\",}\"query\": \"I\",}...\n",
      "Warning: response 570 cannot retrieve judgment\n",
      "Respond content: {\"query\": \"Scrap the most downloaded e-books from Project Gutenberg.\", \"reasoning\": [\n",
      "\"This query provides a clear goal of scraping data, but lacks specific details about what constitutes'most downloa...\n",
      "Warning: response 720 cannot retrieve judgment\n",
      "Respond content: {\"query\": \"when was the last election held in nigeria\", \"reasoning\": [\n",
      "\"This query provides a clear question about a specific event (the last election) happening in a specific location (Nigeria). Howe...\n",
      "Warning: response 783 cannot retrieve judgment\n",
      "Respond content: {\"query\": \"Think of a number of different ways you can get around Sydney.\", \"reasoning\": [\"The given query lacks specific details about location, mode of transportation, time constraints, budget, etc....\n",
      "Warning: response 792 cannot retrieve judgment\n",
      "Respond content: {\"query\": \"Tell me whether these are mammals or amphibians: rats, cats, dogs,  frogs, toads, salamanders, newts, caecilians, deer, monkeys, apes, bats, whales, dolphins, and humans.\", \"reasoning\": [\n",
      "\"...\n",
      "Warning: response 852 cannot retrieve judgment\n",
      "Respond content: {\"query\": \"What is the movie the imitation game about?\", \"reasoning\": [\"The query lacks specific details about the context, genre, time period, or any notable characters of the movie.\", \"It does not m...\n",
      "Warning: response 873 cannot retrieve judgment\n",
      "Respond content: Here's the detailed reasoning for each sentence:\n",
      "\n",
      "```json\n",
      "{\n",
      "    \"query\": \"Classify the sentences below based on the sentiment - neutral, positive, negative, or angry\",\n",
      "    \"sentences\": [\n",
      "        {\n",
      "   ...\n",
      "Warning: response 1007 cannot retrieve judgment\n",
      "Respond content: {\"query\": \"Pay for star on Hollywood Walk of Fame?\", \n",
      "\"reasoning\": [\n",
      "\"Although the user has provided a general question about paying for something related to the Hollywood Walk of Fame, they have not ...\n",
      "Warning: response 1020 cannot retrieve judgment\n",
      "Respond content: {\"query\": \"Who wrote the songs in the greatest showman?\", \"reasoning\": [\"The query asks for specific information about a movie, but it lacks details such as the title of the song(s) or any other relev...\n",
      "Warning: response 1082 cannot retrieve judgment\n",
      "Respond content: {\"query\": \"What is the dry mass of a seed of Daph mac laureola?\", \"reasoning\": [\n",
      "\"This question asks for specific information about a particular species (Daph mac laureola), specifically its dry mass,...\n",
      "Warning: response 1127 cannot retrieve judgment\n",
      "Respond content: {\"query\": \"Is Rosema demorsa multicellular?\", \"reasoning\": [\"The term 'Rosema demorsa' appears to be a specific species of moth, but without further context, it's unclear what properties or characteri...\n"
     ]
    },
    {
     "name": "stderr",
     "output_type": "stream",
     "text": [
      "\n"
     ]
    },
    {
     "data": {
      "text/html": [
       "<div>\n",
       "<style scoped>\n",
       "    .dataframe tbody tr th:only-of-type {\n",
       "        vertical-align: middle;\n",
       "    }\n",
       "\n",
       "    .dataframe tbody tr th {\n",
       "        vertical-align: top;\n",
       "    }\n",
       "\n",
       "    .dataframe thead th {\n",
       "        text-align: right;\n",
       "    }\n",
       "</style>\n",
       "<table border=\"1\" class=\"dataframe\">\n",
       "  <thead>\n",
       "    <tr style=\"text-align: right;\">\n",
       "      <th></th>\n",
       "      <th>Unnamed: 0</th>\n",
       "      <th>request</th>\n",
       "      <th>gold_judgment</th>\n",
       "      <th>direct_source</th>\n",
       "      <th>model_response</th>\n",
       "      <th>model_pred</th>\n",
       "    </tr>\n",
       "  </thead>\n",
       "  <tbody>\n",
       "    <tr>\n",
       "      <th>0</th>\n",
       "      <td>1787</td>\n",
       "      <td>The idea that the united states was destined t...</td>\n",
       "      <td>fully specified</td>\n",
       "      <td>AmbigQA</td>\n",
       "      <td>{\"query\": \"The idea that the united states was...</td>\n",
       "      <td>underspecified</td>\n",
       "    </tr>\n",
       "    <tr>\n",
       "      <th>1</th>\n",
       "      <td>161</td>\n",
       "      <td>How many times french won the world cup?</td>\n",
       "      <td>fully specified</td>\n",
       "      <td>AmbigQA</td>\n",
       "      <td>{\"query\": \"How many times french won the world...</td>\n",
       "      <td>underspecified</td>\n",
       "    </tr>\n",
       "    <tr>\n",
       "      <th>2</th>\n",
       "      <td>1383</td>\n",
       "      <td>When was pink floyd's dark side of the moon re...</td>\n",
       "      <td>fully specified</td>\n",
       "      <td>AmbigQA</td>\n",
       "      <td>{\"query\": \"When was pink floyd's dark side of ...</td>\n",
       "      <td>underspecified</td>\n",
       "    </tr>\n",
       "    <tr>\n",
       "      <th>3</th>\n",
       "      <td>1111</td>\n",
       "      <td>When did leonardo da vinci finish painting the...</td>\n",
       "      <td>fully specified</td>\n",
       "      <td>AmbigQA</td>\n",
       "      <td>{\"query\": \"When did leonardo da vinci finish p...</td>\n",
       "      <td>underspecified</td>\n",
       "    </tr>\n",
       "    <tr>\n",
       "      <th>4</th>\n",
       "      <td>1542</td>\n",
       "      <td>Who is the first speaker of national assembly ...</td>\n",
       "      <td>fully specified</td>\n",
       "      <td>AmbigQA</td>\n",
       "      <td>{\"query\": \"Who is the first speaker of nationa...</td>\n",
       "      <td>underspecified</td>\n",
       "    </tr>\n",
       "    <tr>\n",
       "      <th>...</th>\n",
       "      <td>...</td>\n",
       "      <td>...</td>\n",
       "      <td>...</td>\n",
       "      <td>...</td>\n",
       "      <td>...</td>\n",
       "      <td>...</td>\n",
       "    </tr>\n",
       "    <tr>\n",
       "      <th>1150</th>\n",
       "      <td>335</td>\n",
       "      <td>Is Pensacola sylvestris a multicellular organi...</td>\n",
       "      <td>fully specified</td>\n",
       "      <td>CLAMBER</td>\n",
       "      <td>{\"query\": \"Is Pensacola sylvestris a multicell...</td>\n",
       "      <td>underspecified</td>\n",
       "    </tr>\n",
       "    <tr>\n",
       "      <th>1151</th>\n",
       "      <td>337</td>\n",
       "      <td>What's the leaf mass per area of Larrea divari...</td>\n",
       "      <td>fully specified</td>\n",
       "      <td>CLAMBER</td>\n",
       "      <td>{\"query\": \"What's the leaf mass per area of La...</td>\n",
       "      <td>underspecified</td>\n",
       "    </tr>\n",
       "    <tr>\n",
       "      <th>1152</th>\n",
       "      <td>364</td>\n",
       "      <td>When did Patsyella make its last appearance in...</td>\n",
       "      <td>fully specified</td>\n",
       "      <td>CLAMBER</td>\n",
       "      <td>{\"query\": \"When did Patsyella make its last ap...</td>\n",
       "      <td>underspecified</td>\n",
       "    </tr>\n",
       "    <tr>\n",
       "      <th>1153</th>\n",
       "      <td>276</td>\n",
       "      <td>What's the body mass of Salamandra salamandra?</td>\n",
       "      <td>fully specified</td>\n",
       "      <td>CLAMBER</td>\n",
       "      <td>{\"query\": \"What's the body mass of Salamandra ...</td>\n",
       "      <td>underspecified</td>\n",
       "    </tr>\n",
       "    <tr>\n",
       "      <th>1154</th>\n",
       "      <td>279</td>\n",
       "      <td>Is Caesalpinia intermedia a photoautotroph tro...</td>\n",
       "      <td>fully specified</td>\n",
       "      <td>CLAMBER</td>\n",
       "      <td>{\"query\": \"Is Caesalpinia intermedia a photoau...</td>\n",
       "      <td>underspecified</td>\n",
       "    </tr>\n",
       "  </tbody>\n",
       "</table>\n",
       "<p>1155 rows × 6 columns</p>\n",
       "</div>"
      ],
      "text/plain": [
       "      Unnamed: 0                                            request  \\\n",
       "0           1787  The idea that the united states was destined t...   \n",
       "1            161           How many times french won the world cup?   \n",
       "2           1383  When was pink floyd's dark side of the moon re...   \n",
       "3           1111  When did leonardo da vinci finish painting the...   \n",
       "4           1542  Who is the first speaker of national assembly ...   \n",
       "...          ...                                                ...   \n",
       "1150         335  Is Pensacola sylvestris a multicellular organi...   \n",
       "1151         337  What's the leaf mass per area of Larrea divari...   \n",
       "1152         364  When did Patsyella make its last appearance in...   \n",
       "1153         276     What's the body mass of Salamandra salamandra?   \n",
       "1154         279  Is Caesalpinia intermedia a photoautotroph tro...   \n",
       "\n",
       "        gold_judgment direct_source  \\\n",
       "0     fully specified       AmbigQA   \n",
       "1     fully specified       AmbigQA   \n",
       "2     fully specified       AmbigQA   \n",
       "3     fully specified       AmbigQA   \n",
       "4     fully specified       AmbigQA   \n",
       "...               ...           ...   \n",
       "1150  fully specified       CLAMBER   \n",
       "1151  fully specified       CLAMBER   \n",
       "1152  fully specified       CLAMBER   \n",
       "1153  fully specified       CLAMBER   \n",
       "1154  fully specified       CLAMBER   \n",
       "\n",
       "                                         model_response      model_pred  \n",
       "0     {\"query\": \"The idea that the united states was...  underspecified  \n",
       "1     {\"query\": \"How many times french won the world...  underspecified  \n",
       "2     {\"query\": \"When was pink floyd's dark side of ...  underspecified  \n",
       "3     {\"query\": \"When did leonardo da vinci finish p...  underspecified  \n",
       "4     {\"query\": \"Who is the first speaker of nationa...  underspecified  \n",
       "...                                                 ...             ...  \n",
       "1150  {\"query\": \"Is Pensacola sylvestris a multicell...  underspecified  \n",
       "1151  {\"query\": \"What's the leaf mass per area of La...  underspecified  \n",
       "1152  {\"query\": \"When did Patsyella make its last ap...  underspecified  \n",
       "1153  {\"query\": \"What's the body mass of Salamandra ...  underspecified  \n",
       "1154  {\"query\": \"Is Caesalpinia intermedia a photoau...  underspecified  \n",
       "\n",
       "[1155 rows x 6 columns]"
      ]
     },
     "execution_count": 13,
     "metadata": {},
     "output_type": "execute_result"
    }
   ],
   "source": [
    "test_df = run_experiment(test_prompts, df_test_1155)\n",
    "test_df"
   ]
  },
  {
   "cell_type": "code",
   "execution_count": 14,
   "metadata": {
    "id": "m2hA1LExylG3"
   },
   "outputs": [
    {
     "name": "stdout",
     "output_type": "stream",
     "text": [
      "There are unrecognized labels.\n"
     ]
    }
   ],
   "source": [
    "retrieve_results(test_df, \"llama_3_2_3B_FS_UND\")"
   ]
  },
  {
   "cell_type": "code",
   "execution_count": 9,
   "metadata": {},
   "outputs": [
    {
     "data": {
      "text/plain": [
       "['\\nAnalyze the following input user query:\\n\\n{\"query\": \"I\\'m in the market for a used car. How can I assess the value of a used car and what are some reliable online marketplaces?\"}\\n\\nPlease provide your analysis in the following JSON format:\\n\\n{\"query\": \"I\\'m in the market for a used car. How can I assess the value of a used car and what are some reliable online marketplaces?\", \"reasoning\": \"[YOUR_DETAILED_REASONING]\", \"judgment\": \"[fully specified/underspecified]\"}\\n',\n",
       " '\\nAnalyze the following input user query:\\n\\n{\"query\": \"I\\'m interested in classic literature. Could you create a list of must-read books from different literary periods?\"}\\n\\nPlease provide your analysis in the following JSON format:\\n\\n{\"query\": \"I\\'m interested in classic literature. Could you create a list of must-read books from different literary periods?\", \"reasoning\": \"[YOUR_DETAILED_REASONING]\", \"judgment\": \"[fully specified/underspecified]\"}\\n']"
      ]
     },
     "execution_count": 9,
     "metadata": {},
     "output_type": "execute_result"
    }
   ],
   "source": [
    "# Testing some missed queries\n",
    "\n",
    "missed_queries = [\"I'm in the market for a used car. How can I assess the value of a used car and what are some reliable online marketplaces?\",\n",
    "                  \"I'm interested in classic literature. Could you create a list of must-read books from different literary periods?\"]\n",
    "\n",
    "def prepare_prompts_from_list(input_list, task_text):\n",
    "    base_prompt = task_text\n",
    "    complete_prompt_list = []\n",
    "\n",
    "    for query in input_list:\n",
    "        complete_prompt = base_prompt.replace(\"TARGET\", query)\n",
    "        complete_prompt_list.append(complete_prompt)\n",
    "\n",
    "    return complete_prompt_list\n",
    "\n",
    "miss_prompts = prepare_prompts_from_list(missed_queries, task_FS_UND)"
   ]
  },
  {
   "cell_type": "code",
   "execution_count": 11,
   "metadata": {},
   "outputs": [
    {
     "name": "stderr",
     "output_type": "stream",
     "text": [
      "  0%|          | 0/1 [00:00<?, ?it/s]Setting `pad_token_id` to `eos_token_id`:128001 for open-end generation.\n",
      "100%|██████████| 1/1 [00:06<00:00,  6.05s/it]\n"
     ]
    },
    {
     "data": {
      "text/plain": [
       "['{\"query\": \"I\\\\u2019m in the market for a used car. How can I assess the value of a used car and what are some reliable online marketplaces?\", \\n\"reasoning\": [\\n{\\n    \"@type\": \"Question\",\\n    \"text\": \"What are some steps to assess the value of a used car?\"\\n},\\n{\\n    \"@type\": \"Question\",\\n    \"text\": \"Where are some reliable online marketplaces to buy/sell used cars?\"\\n}, {\\n\"@type\":\"Underspecification\",\"description\":\"\\nThe query lacks specificity regarding \\\\u00b7 The type of vehicle being sought (e.g., sedan, truck, SUV)\\n\\\\u00b7 Specific location (city/state/country) for searching vehicles\\n\\\\u00c2\"A specific budget range for purchasing or selling\\nThis makes it challenging to provide detailed guidance on assessing the value of a used car and recommending reliable online marketplaces.\\n\",}]}',\n",
       " '{\"query\": \"I\", \\n    \"reasoning\": [\\n      {\\n        \"text\": \"The query mentions specific topics (classic literature) but lacks clear specificity regarding time period, genre, style, or other defining characteristics that would enable me to pinpoint exact works.\",\\n        \"type\": \"lack_of_specificity\"\\n      },\\n      {\\n        \"text\": \"It asks for a list of\\'must-read\\' books without specifying any particular criteria for what constitutes a\\'must-read\\'.\",\\n        \"type\": \"unclear_objectives\"\\n      }\\n    ],    \\n    \"judgment\": \"underspecified\"}\\n     }']"
      ]
     },
     "execution_count": 11,
     "metadata": {},
     "output_type": "execute_result"
    }
   ],
   "source": [
    "miss_responses = batch_generate_responses_llama(miss_prompts)\n"
   ]
  },
  {
   "cell_type": "code",
   "execution_count": 12,
   "metadata": {},
   "outputs": [
    {
     "name": "stdout",
     "output_type": "stream",
     "text": [
      "{\"query\": \"I\\u2019m in the market for a used car. How can I assess the value of a used car and what are some reliable online marketplaces?\", \n",
      "\"reasoning\": [\n",
      "{\n",
      "    \"@type\": \"Question\",\n",
      "    \"text\": \"What are some steps to assess the value of a used car?\"\n",
      "},\n",
      "{\n",
      "    \"@type\": \"Question\",\n",
      "    \"text\": \"Where are some reliable online marketplaces to buy/sell used cars?\"\n",
      "}, {\n",
      "\"@type\":\"Underspecification\",\"description\":\"\n",
      "The query lacks specificity regarding \\u00b7 The type of vehicle being sought (e.g., sedan, truck, SUV)\n",
      "\\u00b7 Specific location (city/state/country) for searching vehicles\n",
      "\\u00c2\"A specific budget range for purchasing or selling\n",
      "This makes it challenging to provide detailed guidance on assessing the value of a used car and recommending reliable online marketplaces.\n",
      "\",}]}\n",
      "{\"query\": \"I\", \n",
      "    \"reasoning\": [\n",
      "      {\n",
      "        \"text\": \"The query mentions specific topics (classic literature) but lacks clear specificity regarding time period, genre, style, or other defining characteristics that would enable me to pinpoint exact works.\",\n",
      "        \"type\": \"lack_of_specificity\"\n",
      "      },\n",
      "      {\n",
      "        \"text\": \"It asks for a list of'must-read' books without specifying any particular criteria for what constitutes a'must-read'.\",\n",
      "        \"type\": \"unclear_objectives\"\n",
      "      }\n",
      "    ],    \n",
      "    \"judgment\": \"underspecified\"}\n",
      "     }\n"
     ]
    }
   ],
   "source": [
    "print(miss_responses[0])\n",
    "print(miss_responses[1])"
   ]
  },
  {
   "cell_type": "code",
   "execution_count": 13,
   "metadata": {
    "id": "CmcNfkYKyr5v"
   },
   "outputs": [
    {
     "name": "stdout",
     "output_type": "stream",
     "text": [
      "                 precision    recall  f1-score   support\n",
      "\n",
      "fully specified       0.74      0.05      0.10       598\n",
      " underspecified       0.49      0.98      0.65       557\n",
      "\n",
      "       accuracy                           0.50      1155\n",
      "      macro avg       0.62      0.52      0.38      1155\n",
      "   weighted avg       0.62      0.50      0.37      1155\n",
      "\n"
     ]
    },
    {
     "data": {
      "text/plain": [
       "<sklearn.metrics._plot.confusion_matrix.ConfusionMatrixDisplay at 0x14d156d227d0>"
      ]
     },
     "execution_count": 13,
     "metadata": {},
     "output_type": "execute_result"
    },
    {
     "data": {
      "image/png": "[encoded data removed]",
      "text/plain": [
       "<Figure size 640x480 with 2 Axes>"
      ]
     },
     "metadata": {},
     "output_type": "display_data"
    }
   ],
   "source": [
    "# If there are errors\n",
    "\n",
    "result_df = pd.read_csv(\"llama_3_2_3B_FS_UND_corrected.csv\")\n",
    "\n",
    "print(classification_report(result_df[\"gold_judgment\"], result_df['model_pred']))\n",
    "\n",
    "\n",
    "judgment_gold = result_df['gold_judgment'].tolist()\n",
    "judgment_model = result_df[\"model_pred\"].tolist()\n",
    "\n",
    "binary_labels = ['underspecified', 'fully specified']\n",
    "\n",
    "cm = confusion_matrix(judgment_gold, judgment_model, labels=binary_labels)\n",
    "disp = ConfusionMatrixDisplay(confusion_matrix=cm, display_labels=binary_labels)\n",
    "\n",
    "disp.plot(cmap='Blues')  # 可以调整 colormap"
   ]
  },
  {
   "cell_type": "code",
   "execution_count": 3,
   "metadata": {},
   "outputs": [
    {
     "name": "stdout",
     "output_type": "stream",
     "text": [
      "                 precision    recall  f1-score   support\n",
      "\n",
      "fully specified       0.74      0.05      0.09       431\n",
      " underspecified       0.50      0.98      0.67       424\n",
      "\n",
      "       accuracy                           0.51       855\n",
      "      macro avg       0.62      0.51      0.38       855\n",
      "   weighted avg       0.62      0.51      0.37       855\n",
      "\n"
     ]
    },
    {
     "data": {
      "image/png": "[encoded data removed]",
      "text/plain": [
       "<Figure size 640x480 with 2 Axes>"
      ]
     },
     "metadata": {},
     "output_type": "display_data"
    }
   ],
   "source": [
    "obtain_results_without(\"llama_3_2_3B_FS_UND_corrected.csv\", 'AmbigQA')"
   ]
  },
  {
   "cell_type": "markdown",
   "metadata": {
    "id": "p2yHn1AuyzAU"
   },
   "source": [
    "# Llama 3.3 70B"
   ]
  },
  {
   "cell_type": "markdown",
   "metadata": {
    "id": "0U0JU2NNzNSO"
   },
   "source": [
    "## Loading the model"
   ]
  },
  {
   "cell_type": "code",
   "execution_count": null,
   "metadata": {
    "id": "GDBK7aDHy2CU"
   },
   "outputs": [],
   "source": [
    "\"\"\"\n",
    "module load CUDA/12.4.0\n",
    "source ~/sglang-venv-2/bin/activate\n",
    "huggingface-cli login\n",
    "\n",
    "\n",
    "# 创建所有必要的目录\n",
    "mkdir -p /scratch-local/yhuang/sglang_cache\n",
    "mkdir -p /scratch-local/yhuang/huggingface_cache\n",
    "mkdir -p /scratch-local/yhuang/torch_cache\n",
    "mkdir -p /scratch-local/yhuang/cuda_cache\n",
    "mkdir -p /scratch-local/yhuang/xdg_cache\n",
    "mkdir -p /scratch-local/yhuang/tmp\n",
    "mkdir -p /scratch-local/yhuang/logs\n",
    "\n",
    "# 设置所有相关环境变量\n",
    "export SGLANG_CACHE_DIR=/scratch-local/yhuang/sglang_cache\n",
    "export TRANSFORMERS_CACHE=/scratch-local/yhuang/huggingface_cache\n",
    "export HF_HOME=/scratch-local/yhuang/huggingface_cache\n",
    "export HF_DATASETS_CACHE=/scratch-local/yhuang/huggingface_cache/datasets\n",
    "export TORCH_HOME=/scratch-local/yhuang/torch_cache\n",
    "export CUDA_CACHE_PATH=/scratch-local/yhuang/cuda_cache\n",
    "export XDG_CACHE_HOME=/scratch-local/yhuang/xdg_cache\n",
    "export TMPDIR=/scratch-local/yhuang/tmp\n",
    "export TEMP=/scratch-local/yhuang/tmp\n",
    "export TMP=/scratch-local/yhuang/tmp\n",
    "export SGLANG_LOG_DIR=/scratch-local/yhuang/logs\n",
    "\n",
    "# launching\n",
    "huggingface-cli login\n",
    "CUDA_VISIBLE_DEVICES=0,1,2,3 python -m sglang.launch_server --port 7501 --model-path meta-llama/Llama-3.3-70B-Instruct --tensor-parallel-size 4\n",
    "\n",
    "\"\"\""
   ]
  },
  {
   "cell_type": "markdown",
   "metadata": {
    "id": "OgVQXWED0H1x"
   },
   "source": [
    "## Helper functions for responses in batch"
   ]
  },
  {
   "cell_type": "code",
   "execution_count": 5,
   "metadata": {
    "id": "8hFNX0U90HpJ"
   },
   "outputs": [],
   "source": [
    "import os\n",
    "import time\n",
    "from tqdm import tqdm\n",
    "from openai import OpenAI\n",
    "from concurrent.futures import ThreadPoolExecutor\n",
    "\n",
    "def batch_generate_responses_llama(prompts, system_prompt=system_prompt,\n",
    "                  temperature=0.7, max_tokens=32768, batch_size=5,\n",
    "                  server_url=\"http://localhost:7501/v1\",\n",
    "                  model_name=\"meta-llama/Llama-3.3-70B-Instruct\"):\n",
    "    \"\"\"\n",
    "    批量生成使用sglang运行的Llama 3.3 70B模型的回复，使用OpenAI API风格\n",
    "\n",
    "    参数:\n",
    "        prompts: 字符串列表，每个字符串是一个提示词\n",
    "        system_prompt: 系统提示词\n",
    "        temperature: 温度参数，控制随机性，默认为0.7\n",
    "        max_tokens: 生成的最大token数，默认为512\n",
    "        batch_size: 并行处理的提示词数量，默认为4\n",
    "        server_url: SGLang服务器URL，默认为http://localhost:30000/v1\n",
    "        model_name: 模型名称，默认为meta-llama/Llama-3.3-70B-Instruct\n",
    "    返回:\n",
    "        生成的回复列表，与prompts列表对应\n",
    "    \"\"\"\n",
    "    # 初始化OpenAI客户端\n",
    "    client = OpenAI(\n",
    "        base_url=server_url,\n",
    "        api_key=\"None\"  # SGLang不需要API key\n",
    "    )\n",
    "\n",
    "    responses = []\n",
    "\n",
    "    # 辅助函数：处理单个提示词\n",
    "    def process_prompt(prompt):\n",
    "        try:\n",
    "            # 创建消息格式\n",
    "            messages = [\n",
    "                {\"role\": \"system\", \"content\": system_prompt},\n",
    "                {\"role\": \"user\", \"content\": prompt}\n",
    "            ]\n",
    "\n",
    "            # 发送请求到SGLang服务器\n",
    "            response = client.chat.completions.create(\n",
    "                model=model_name,\n",
    "                messages=messages,\n",
    "                temperature=temperature,\n",
    "                max_tokens=max_tokens,\n",
    "            )\n",
    "\n",
    "            # 提取回复文本\n",
    "            return response.choices[0].message.content\n",
    "        except Exception as e:\n",
    "            print(f\"处理提示词时出错: {e}\")\n",
    "            return f\"错误: {str(e)}\"\n",
    "\n",
    "    # 按批次处理\n",
    "    for i in tqdm(range(0, len(prompts), batch_size)):\n",
    "        batch_prompts = prompts[i:i+batch_size]\n",
    "\n",
    "        # 使用线程池并行处理批次\n",
    "        with ThreadPoolExecutor(max_workers=batch_size) as executor:\n",
    "            batch_responses = list(executor.map(process_prompt, batch_prompts))\n",
    "\n",
    "        responses.extend(batch_responses)\n",
    "\n",
    "        # 添加短暂延迟，避免可能的速率限制\n",
    "        time.sleep(0.1)\n",
    "\n",
    "    return responses\n",
    "\n",
    "def get_judgments_from_responses(responses: List[str]) -> List[Optional[str]]:\n",
    "    \"\"\"\n",
    "    推荐的解析函数，结合了多种方法的优点\n",
    "    \"\"\"\n",
    "    judgments = []\n",
    "\n",
    "    for i, response in enumerate(responses):\n",
    "        judgment = None\n",
    "\n",
    "        try:\n",
    "            # 方法1: 尝试直接解析JSON\n",
    "            clean_response = response.strip()\n",
    "            if clean_response.startswith('{') and clean_response.endswith('}'):\n",
    "                data = json.loads(clean_response)\n",
    "                judgment = data.get('judgment')\n",
    "            else:\n",
    "                # 方法2: 寻找JSON部分\n",
    "                start_idx = clean_response.find('{')\n",
    "                end_idx = clean_response.rfind('}')\n",
    "                if start_idx != -1 and end_idx != -1:\n",
    "                    json_part = clean_response[start_idx:end_idx+1]\n",
    "                    data = json.loads(json_part)\n",
    "                    judgment = data.get('judgment')\n",
    "\n",
    "        except json.JSONDecodeError:\n",
    "            # 方法3: 使用正则表达式作为后备\n",
    "            pattern = r'\"judgment\"\\s*:\\s*\"([^\"]*)\"'\n",
    "            match = re.search(pattern, response)\n",
    "            if match:\n",
    "                judgment = match.group(1)\n",
    "\n",
    "        if judgment is None:\n",
    "            print(f\"Warning: response {i} cannot retrieve judgment\")\n",
    "            print(f\"Respond content: {response[:200]}...\")\n",
    "            judgment = \"error\"\n",
    "\n",
    "        judgments.append(judgment)\n",
    "\n",
    "    return judgments\n",
    "\n",
    "\n",
    "\n",
    "def run_experiment(input_prompts, test_df):\n",
    "  output = batch_generate_responses_llama(input_prompts)\n",
    "  df = test_df.copy()\n",
    "  df['model_response'] = output\n",
    "  processed_judgments = get_judgments_from_responses(output)\n",
    "  df['model_pred'] = processed_judgments\n",
    "\n",
    "  return df\n",
    "\n",
    "def retrieve_results(result_df, output_name):\n",
    "  processed_judgments = result_df['model_pred'].tolist()\n",
    "\n",
    "  if \"error\" in processed_judgments:\n",
    "    print(\"There are unrecognized labels.\")\n",
    "    result_df.to_csv(f'{output_name}_error.csv')\n",
    "  else:\n",
    "    print(\"No error found, directly process the data.\")\n",
    "    print(classification_report(result_df[\"gold_judgment\"], result_df['model_pred']))\n",
    "    result_df.to_csv(f'{output_name}.csv')\n",
    "\n",
    "    judgment_gold = result_df['gold_judgment'].tolist()\n",
    "    judgment_model = result_df[\"model_pred\"].tolist()\n",
    "\n",
    "    binary_labels = ['underspecified', 'fully specified']\n",
    "\n",
    "    cm = confusion_matrix(judgment_gold, judgment_model, labels=binary_labels)\n",
    "    disp = ConfusionMatrixDisplay(confusion_matrix=cm, display_labels=binary_labels)\n",
    "\n",
    "    disp.plot(cmap='Blues')  # 可以调整 colormap\n",
    "\n",
    "def prepare_test_prompts(test_df, task_text, learning_df=None, instruction_text=None, theory=False):\n",
    "  print(\"Start preparing prompts...\")\n",
    "  if learning_df is not None and instruction_text is not None:\n",
    "    print(f\"# learning samples: {len(learning_df)}\")\n",
    "    examples = []\n",
    "    if theory:\n",
    "      for _, row in learning_df.iterrows():\n",
    "        example = {\n",
    "                \"query\": row['request'],\n",
    "                \"reasoning\": row['reasoning'],\n",
    "                \"category\": row['category'],\n",
    "                \"judgment\": row['gold_judgment']\n",
    "              }\n",
    "        examples.append(json.dumps(example, ensure_ascii=False))\n",
    "\n",
    "      examples_text = '\\n\\n'.join(examples)\n",
    "      base_prompt = instruction_text + examples_text + task_text\n",
    "    else:\n",
    "      for _, row in learning_df.iterrows():\n",
    "        example = {\n",
    "                \"query\": row['request'],\n",
    "                \"judgment\": row['gold_judgment']\n",
    "              }\n",
    "        examples.append(json.dumps(example, ensure_ascii=False))\n",
    "\n",
    "      examples_text = '\\n\\n'.join(examples)\n",
    "      base_prompt = instruction_text + examples_text + task_text\n",
    "\n",
    "  else:\n",
    "    base_prompt = task_text\n",
    "\n",
    "  print(f\"# Testing data points: {len(test_df)}\")\n",
    "  test_prompts = []\n",
    "  for _, row in test_df.iterrows():\n",
    "    query = row['request']\n",
    "    complete_prompt = base_prompt.replace(\"TARGET\", query)\n",
    "    test_prompts.append(complete_prompt)\n",
    "\n",
    "  print(f\"Generation complete: {len(test_prompts)} prompts\")\n",
    "\n",
    "  avg_length = sum(len(p) for p in test_prompts) // len(test_prompts)\n",
    "  print(f\"Average prompt length: {avg_length:,} bytes (~{avg_length//4:,} tokens)\")\n",
    "\n",
    "  return test_prompts"
   ]
  },
  {
   "cell_type": "markdown",
   "metadata": {
    "id": "_ChYUsjN2BEk"
   },
   "source": [
    "## pilot"
   ]
  },
  {
   "cell_type": "code",
   "execution_count": 11,
   "metadata": {
    "id": "CmfKousH2CWX"
   },
   "outputs": [
    {
     "name": "stdout",
     "output_type": "stream",
     "text": [
      "Start preparing prompts...\n",
      "# Testing data points: 12\n",
      "Generation complete: 12 prompts\n",
      "Average prompt length: 349 bytes (~87 tokens)\n",
      "\n",
      "Analyze the following input user query:\n",
      "\n",
      "{\"query\": \"When did the nuclear accident happen?\"}\n",
      "\n",
      "Please provide your analysis in the following JSON format:\n",
      "\n",
      "{\"query\": \"When did the nuclear accident happen?\", \"reasoning\": \"[YOUR_DETAILED_REASONING]\", \"judgment\": \"[fully specified/underspecified]\"}\n",
      "\n"
     ]
    }
   ],
   "source": [
    "test_prompts = prepare_test_prompts(df_few_shots, task_FS_UND)\n",
    "print(test_prompts[0])"
   ]
  },
  {
   "cell_type": "code",
   "execution_count": 12,
   "metadata": {
    "id": "_6w-CTp92HT1"
   },
   "outputs": [
    {
     "name": "stderr",
     "output_type": "stream",
     "text": [
      "100%|██████████| 3/3 [00:14<00:00,  4.78s/it]\n"
     ]
    },
    {
     "data": {
      "text/html": [
       "<div>\n",
       "<style scoped>\n",
       "    .dataframe tbody tr th:only-of-type {\n",
       "        vertical-align: middle;\n",
       "    }\n",
       "\n",
       "    .dataframe tbody tr th {\n",
       "        vertical-align: top;\n",
       "    }\n",
       "\n",
       "    .dataframe thead th {\n",
       "        text-align: right;\n",
       "    }\n",
       "</style>\n",
       "<table border=\"1\" class=\"dataframe\">\n",
       "  <thead>\n",
       "    <tr style=\"text-align: right;\">\n",
       "      <th></th>\n",
       "      <th>request</th>\n",
       "      <th>gold_analysis</th>\n",
       "      <th>gold_thought</th>\n",
       "      <th>gold_category</th>\n",
       "      <th>gold_judgment</th>\n",
       "      <th>direct_source</th>\n",
       "      <th>model_response</th>\n",
       "      <th>model_pred</th>\n",
       "    </tr>\n",
       "  </thead>\n",
       "  <tbody>\n",
       "    <tr>\n",
       "      <th>0</th>\n",
       "      <td>When did the nuclear accident happen?</td>\n",
       "      <td>{\"predicate\": \"happen\", \"argument_time\": \"when...</td>\n",
       "      <td>The predicate \"happen\" is specified; its argum...</td>\n",
       "      <td>underspecified referential/indexical argument</td>\n",
       "      <td>underspecified</td>\n",
       "      <td>CoCoNot</td>\n",
       "      <td>{\"query\": \"When did the nuclear accident happe...</td>\n",
       "      <td>underspecified</td>\n",
       "    </tr>\n",
       "    <tr>\n",
       "      <th>1</th>\n",
       "      <td>I need help picking out a professional wardrob...</td>\n",
       "      <td>{\"predicate\": \"provide\", \"argument_agent\": \"yo...</td>\n",
       "      <td>The predicate \"provide\" is specified; its argu...</td>\n",
       "      <td>underspecified quantified argument</td>\n",
       "      <td>underspecified</td>\n",
       "      <td>IN3</td>\n",
       "      <td>{\"query\": \"I need help picking out a professio...</td>\n",
       "      <td>underspecified</td>\n",
       "    </tr>\n",
       "    <tr>\n",
       "      <th>2</th>\n",
       "      <td>When did the apple tv 4k come out?</td>\n",
       "      <td>{\"predicate\": \"come out\", \"argument_time\": \"wh...</td>\n",
       "      <td>The predicate \"come out\" is underspecified bec...</td>\n",
       "      <td>underspecified predicate</td>\n",
       "      <td>underspecified</td>\n",
       "      <td>AmbigQA</td>\n",
       "      <td>Here's the analysis of the input user query:\\n...</td>\n",
       "      <td>fully specified</td>\n",
       "    </tr>\n",
       "    <tr>\n",
       "      <th>3</th>\n",
       "      <td>Who sings i love rock 'n' roll?               ...</td>\n",
       "      <td>{\"predicate\": \"sings\", \"argument_agent\": \"who\"...</td>\n",
       "      <td>The predicate \"sings\" is specified; its argume...</td>\n",
       "      <td>underspecified argument concept</td>\n",
       "      <td>underspecified</td>\n",
       "      <td>AmbigQA</td>\n",
       "      <td>{\"query\": \"Who sings i love rock 'n' roll?    ...</td>\n",
       "      <td>fully specified</td>\n",
       "    </tr>\n",
       "    <tr>\n",
       "      <th>4</th>\n",
       "      <td>Where does the new fallout game take place?</td>\n",
       "      <td>{\"predicate\": \"take place\", \"argument_location...</td>\n",
       "      <td>The predicate \"take place\" is underspecified b...</td>\n",
       "      <td>multi-sourced underspecification</td>\n",
       "      <td>underspecified</td>\n",
       "      <td>AmbigQA</td>\n",
       "      <td>{\"query\": \"Where does the new fallout game tak...</td>\n",
       "      <td>underspecified</td>\n",
       "    </tr>\n",
       "    <tr>\n",
       "      <th>5</th>\n",
       "      <td>Who is the existing prime minister?</td>\n",
       "      <td>{\"predicate\": \"existing prime minister\", \"argu...</td>\n",
       "      <td>The predicate \"existing prime minister\" is spe...</td>\n",
       "      <td>missing argument</td>\n",
       "      <td>underspecified</td>\n",
       "      <td>CoCoNot</td>\n",
       "      <td>{\"query\": \"Who is the existing prime minister?...</td>\n",
       "      <td>underspecified</td>\n",
       "    </tr>\n",
       "    <tr>\n",
       "      <th>6</th>\n",
       "      <td>Who played the king in game of thrones season 1?</td>\n",
       "      <td>{\"predicate\": \"played\", \"argument_agent\": \"who...</td>\n",
       "      <td>The predicate \"played\" is specified; its argum...</td>\n",
       "      <td>fully specified request</td>\n",
       "      <td>fully specified</td>\n",
       "      <td>AmbigQA</td>\n",
       "      <td>{\"query\": \"Who played the king in game of thro...</td>\n",
       "      <td>fully specified</td>\n",
       "    </tr>\n",
       "    <tr>\n",
       "      <th>7</th>\n",
       "      <td>Who plays henry tudor in the white princess?</td>\n",
       "      <td>{\"predicate\": \"plays\", \"argument_agent\": \"who\"...</td>\n",
       "      <td>The predicate \"plays\" is specified; its argume...</td>\n",
       "      <td>fully specified request</td>\n",
       "      <td>fully specified</td>\n",
       "      <td>AmbigQA</td>\n",
       "      <td>{\"query\": \"Who plays henry tudor in the white ...</td>\n",
       "      <td>fully specified</td>\n",
       "    </tr>\n",
       "    <tr>\n",
       "      <th>8</th>\n",
       "      <td>Who won the contest to design the capitol buil...</td>\n",
       "      <td>{\"predicate\": \"won\", \"argument_agent\": \"who\", ...</td>\n",
       "      <td>The predicate \"won\" is specified; its argument...</td>\n",
       "      <td>fully specified request</td>\n",
       "      <td>fully specified</td>\n",
       "      <td>AmbigQA</td>\n",
       "      <td>{\"query\": \"Who won the contest to design the c...</td>\n",
       "      <td>fully specified</td>\n",
       "    </tr>\n",
       "    <tr>\n",
       "      <th>9</th>\n",
       "      <td>How many daughters do George Washington have?</td>\n",
       "      <td>{\"predicate: \"have\", \"argument_theme\": \"how ma...</td>\n",
       "      <td>The predicate \"have\" is specified; its argumen...</td>\n",
       "      <td>fully specified request</td>\n",
       "      <td>fully specified</td>\n",
       "      <td>IN3</td>\n",
       "      <td>{\"query\": \"How many daughters do George Washin...</td>\n",
       "      <td>fully specified</td>\n",
       "    </tr>\n",
       "    <tr>\n",
       "      <th>10</th>\n",
       "      <td>Identify the most common types of cyber attack...</td>\n",
       "      <td>{\"predicate\": \"identify\", \"argument_theme\": \"t...</td>\n",
       "      <td>The predicate \"identify\" is specified; its arg...</td>\n",
       "      <td>fully specified request</td>\n",
       "      <td>fully specified</td>\n",
       "      <td>IN3</td>\n",
       "      <td>{\"query\": \"Identify the most common types of c...</td>\n",
       "      <td>fully specified</td>\n",
       "    </tr>\n",
       "    <tr>\n",
       "      <th>11</th>\n",
       "      <td>Find the top five best selling video games of ...</td>\n",
       "      <td>{\"predicate\": find\", \"argument_theme\": \"the to...</td>\n",
       "      <td>The predicate \"find\" is specified; its argumen...</td>\n",
       "      <td>fully specified request</td>\n",
       "      <td>fully specified</td>\n",
       "      <td>IN3</td>\n",
       "      <td>{\"query\": \"Find the top five best selling vide...</td>\n",
       "      <td>underspecified</td>\n",
       "    </tr>\n",
       "  </tbody>\n",
       "</table>\n",
       "</div>"
      ],
      "text/plain": [
       "                                              request  \\\n",
       "0               When did the nuclear accident happen?   \n",
       "1   I need help picking out a professional wardrob...   \n",
       "2                  When did the apple tv 4k come out?   \n",
       "3   Who sings i love rock 'n' roll?               ...   \n",
       "4         Where does the new fallout game take place?   \n",
       "5                 Who is the existing prime minister?   \n",
       "6    Who played the king in game of thrones season 1?   \n",
       "7        Who plays henry tudor in the white princess?   \n",
       "8   Who won the contest to design the capitol buil...   \n",
       "9       How many daughters do George Washington have?   \n",
       "10  Identify the most common types of cyber attack...   \n",
       "11  Find the top five best selling video games of ...   \n",
       "\n",
       "                                        gold_analysis  \\\n",
       "0   {\"predicate\": \"happen\", \"argument_time\": \"when...   \n",
       "1   {\"predicate\": \"provide\", \"argument_agent\": \"yo...   \n",
       "2   {\"predicate\": \"come out\", \"argument_time\": \"wh...   \n",
       "3   {\"predicate\": \"sings\", \"argument_agent\": \"who\"...   \n",
       "4   {\"predicate\": \"take place\", \"argument_location...   \n",
       "5   {\"predicate\": \"existing prime minister\", \"argu...   \n",
       "6   {\"predicate\": \"played\", \"argument_agent\": \"who...   \n",
       "7   {\"predicate\": \"plays\", \"argument_agent\": \"who\"...   \n",
       "8   {\"predicate\": \"won\", \"argument_agent\": \"who\", ...   \n",
       "9   {\"predicate: \"have\", \"argument_theme\": \"how ma...   \n",
       "10  {\"predicate\": \"identify\", \"argument_theme\": \"t...   \n",
       "11  {\"predicate\": find\", \"argument_theme\": \"the to...   \n",
       "\n",
       "                                         gold_thought  \\\n",
       "0   The predicate \"happen\" is specified; its argum...   \n",
       "1   The predicate \"provide\" is specified; its argu...   \n",
       "2   The predicate \"come out\" is underspecified bec...   \n",
       "3   The predicate \"sings\" is specified; its argume...   \n",
       "4   The predicate \"take place\" is underspecified b...   \n",
       "5   The predicate \"existing prime minister\" is spe...   \n",
       "6   The predicate \"played\" is specified; its argum...   \n",
       "7   The predicate \"plays\" is specified; its argume...   \n",
       "8   The predicate \"won\" is specified; its argument...   \n",
       "9   The predicate \"have\" is specified; its argumen...   \n",
       "10  The predicate \"identify\" is specified; its arg...   \n",
       "11  The predicate \"find\" is specified; its argumen...   \n",
       "\n",
       "                                    gold_category    gold_judgment  \\\n",
       "0   underspecified referential/indexical argument   underspecified   \n",
       "1              underspecified quantified argument   underspecified   \n",
       "2                        underspecified predicate   underspecified   \n",
       "3                 underspecified argument concept   underspecified   \n",
       "4                multi-sourced underspecification   underspecified   \n",
       "5                                missing argument   underspecified   \n",
       "6                         fully specified request  fully specified   \n",
       "7                         fully specified request  fully specified   \n",
       "8                         fully specified request  fully specified   \n",
       "9                         fully specified request  fully specified   \n",
       "10                        fully specified request  fully specified   \n",
       "11                        fully specified request  fully specified   \n",
       "\n",
       "   direct_source                                     model_response  \\\n",
       "0        CoCoNot  {\"query\": \"When did the nuclear accident happe...   \n",
       "1            IN3  {\"query\": \"I need help picking out a professio...   \n",
       "2        AmbigQA  Here's the analysis of the input user query:\\n...   \n",
       "3        AmbigQA  {\"query\": \"Who sings i love rock 'n' roll?    ...   \n",
       "4        AmbigQA  {\"query\": \"Where does the new fallout game tak...   \n",
       "5        CoCoNot  {\"query\": \"Who is the existing prime minister?...   \n",
       "6        AmbigQA  {\"query\": \"Who played the king in game of thro...   \n",
       "7        AmbigQA  {\"query\": \"Who plays henry tudor in the white ...   \n",
       "8        AmbigQA  {\"query\": \"Who won the contest to design the c...   \n",
       "9            IN3  {\"query\": \"How many daughters do George Washin...   \n",
       "10           IN3  {\"query\": \"Identify the most common types of c...   \n",
       "11           IN3  {\"query\": \"Find the top five best selling vide...   \n",
       "\n",
       "         model_pred  \n",
       "0    underspecified  \n",
       "1    underspecified  \n",
       "2   fully specified  \n",
       "3   fully specified  \n",
       "4    underspecified  \n",
       "5    underspecified  \n",
       "6   fully specified  \n",
       "7   fully specified  \n",
       "8   fully specified  \n",
       "9   fully specified  \n",
       "10  fully specified  \n",
       "11   underspecified  "
      ]
     },
     "execution_count": 12,
     "metadata": {},
     "output_type": "execute_result"
    }
   ],
   "source": [
    "test_df = run_experiment(test_prompts, df_few_shots)\n",
    "test_df"
   ]
  },
  {
   "cell_type": "code",
   "execution_count": 13,
   "metadata": {
    "id": "MRNMx6us2qYh"
   },
   "outputs": [
    {
     "name": "stdout",
     "output_type": "stream",
     "text": [
      "No error found, directly process the data.\n",
      "                 precision    recall  f1-score   support\n",
      "\n",
      "fully specified       0.71      0.83      0.77         6\n",
      " underspecified       0.80      0.67      0.73         6\n",
      "\n",
      "       accuracy                           0.75        12\n",
      "      macro avg       0.76      0.75      0.75        12\n",
      "   weighted avg       0.76      0.75      0.75        12\n",
      "\n"
     ]
    },
    {
     "data": {
      "image/png": "[encoded data removed]",
      "text/plain": [
       "<Figure size 640x480 with 2 Axes>"
      ]
     },
     "metadata": {},
     "output_type": "display_data"
    }
   ],
   "source": [
    "retrieve_results(test_df, \"llama_3_3_70B_FS_UND_pilot\")"
   ]
  },
  {
   "cell_type": "markdown",
   "metadata": {
    "id": "e9XbMaHy2sWq"
   },
   "source": [
    "## Implementation"
   ]
  },
  {
   "cell_type": "code",
   "execution_count": 6,
   "metadata": {
    "id": "n9nq-IUC2tzh"
   },
   "outputs": [
    {
     "name": "stdout",
     "output_type": "stream",
     "text": [
      "Start preparing prompts...\n",
      "# Testing data points: 1155\n",
      "Generation complete: 1155 prompts\n",
      "Average prompt length: 341 bytes (~85 tokens)\n",
      "\n",
      "Analyze the following input user query:\n",
      "\n",
      "{\"query\": \"The idea that the united states was destined to extend westward across the continent?\"}\n",
      "\n",
      "Please provide your analysis in the following JSON format:\n",
      "\n",
      "{\"query\": \"The idea that the united states was destined to extend westward across the continent?\", \"reasoning\": \"[YOUR_DETAILED_REASONING]\", \"judgment\": \"[fully specified/underspecified]\"}\n",
      "\n"
     ]
    }
   ],
   "source": [
    "test_prompts = prepare_test_prompts(df_test_1155, task_FS_UND)\n",
    "print(test_prompts[0])"
   ]
  },
  {
   "cell_type": "code",
   "execution_count": 7,
   "metadata": {
    "id": "SEPrzB272zh6"
   },
   "outputs": [
    {
     "name": "stderr",
     "output_type": "stream",
     "text": [
      "100%|██████████| 231/231 [16:58<00:00,  4.41s/it]\n"
     ]
    },
    {
     "data": {
      "text/html": [
       "<div>\n",
       "<style scoped>\n",
       "    .dataframe tbody tr th:only-of-type {\n",
       "        vertical-align: middle;\n",
       "    }\n",
       "\n",
       "    .dataframe tbody tr th {\n",
       "        vertical-align: top;\n",
       "    }\n",
       "\n",
       "    .dataframe thead th {\n",
       "        text-align: right;\n",
       "    }\n",
       "</style>\n",
       "<table border=\"1\" class=\"dataframe\">\n",
       "  <thead>\n",
       "    <tr style=\"text-align: right;\">\n",
       "      <th></th>\n",
       "      <th>Unnamed: 0</th>\n",
       "      <th>request</th>\n",
       "      <th>gold_judgment</th>\n",
       "      <th>direct_source</th>\n",
       "      <th>model_response</th>\n",
       "      <th>model_pred</th>\n",
       "    </tr>\n",
       "  </thead>\n",
       "  <tbody>\n",
       "    <tr>\n",
       "      <th>0</th>\n",
       "      <td>1787</td>\n",
       "      <td>The idea that the united states was destined t...</td>\n",
       "      <td>fully specified</td>\n",
       "      <td>AmbigQA</td>\n",
       "      <td>{\"query\": \"The idea that the united states was...</td>\n",
       "      <td>underspecified</td>\n",
       "    </tr>\n",
       "    <tr>\n",
       "      <th>1</th>\n",
       "      <td>161</td>\n",
       "      <td>How many times french won the world cup?</td>\n",
       "      <td>fully specified</td>\n",
       "      <td>AmbigQA</td>\n",
       "      <td>{\"query\": \"How many times french won the world...</td>\n",
       "      <td>fully specified</td>\n",
       "    </tr>\n",
       "    <tr>\n",
       "      <th>2</th>\n",
       "      <td>1383</td>\n",
       "      <td>When was pink floyd's dark side of the moon re...</td>\n",
       "      <td>fully specified</td>\n",
       "      <td>AmbigQA</td>\n",
       "      <td>{\"query\": \"When was pink floyd's dark side of ...</td>\n",
       "      <td>fully specified</td>\n",
       "    </tr>\n",
       "    <tr>\n",
       "      <th>3</th>\n",
       "      <td>1111</td>\n",
       "      <td>When did leonardo da vinci finish painting the...</td>\n",
       "      <td>fully specified</td>\n",
       "      <td>AmbigQA</td>\n",
       "      <td>{\"query\": \"When did leonardo da vinci finish p...</td>\n",
       "      <td>fully specified</td>\n",
       "    </tr>\n",
       "    <tr>\n",
       "      <th>4</th>\n",
       "      <td>1542</td>\n",
       "      <td>Who is the first speaker of national assembly ...</td>\n",
       "      <td>fully specified</td>\n",
       "      <td>AmbigQA</td>\n",
       "      <td>{\"query\": \"Who is the first speaker of nationa...</td>\n",
       "      <td>fully specified</td>\n",
       "    </tr>\n",
       "    <tr>\n",
       "      <th>...</th>\n",
       "      <td>...</td>\n",
       "      <td>...</td>\n",
       "      <td>...</td>\n",
       "      <td>...</td>\n",
       "      <td>...</td>\n",
       "      <td>...</td>\n",
       "    </tr>\n",
       "    <tr>\n",
       "      <th>1150</th>\n",
       "      <td>335</td>\n",
       "      <td>Is Pensacola sylvestris a multicellular organi...</td>\n",
       "      <td>fully specified</td>\n",
       "      <td>CLAMBER</td>\n",
       "      <td>{\"query\": \"Is Pensacola sylvestris a multicell...</td>\n",
       "      <td>fully specified</td>\n",
       "    </tr>\n",
       "    <tr>\n",
       "      <th>1151</th>\n",
       "      <td>337</td>\n",
       "      <td>What's the leaf mass per area of Larrea divari...</td>\n",
       "      <td>fully specified</td>\n",
       "      <td>CLAMBER</td>\n",
       "      <td>{\"query\": \"What's the leaf mass per area of La...</td>\n",
       "      <td>fully specified</td>\n",
       "    </tr>\n",
       "    <tr>\n",
       "      <th>1152</th>\n",
       "      <td>364</td>\n",
       "      <td>When did Patsyella make its last appearance in...</td>\n",
       "      <td>fully specified</td>\n",
       "      <td>CLAMBER</td>\n",
       "      <td>{\"query\": \"When did Patsyella make its last ap...</td>\n",
       "      <td>fully specified</td>\n",
       "    </tr>\n",
       "    <tr>\n",
       "      <th>1153</th>\n",
       "      <td>276</td>\n",
       "      <td>What's the body mass of Salamandra salamandra?</td>\n",
       "      <td>fully specified</td>\n",
       "      <td>CLAMBER</td>\n",
       "      <td>{\"query\": \"What's the body mass of Salamandra ...</td>\n",
       "      <td>fully specified</td>\n",
       "    </tr>\n",
       "    <tr>\n",
       "      <th>1154</th>\n",
       "      <td>279</td>\n",
       "      <td>Is Caesalpinia intermedia a photoautotroph tro...</td>\n",
       "      <td>fully specified</td>\n",
       "      <td>CLAMBER</td>\n",
       "      <td>{\"query\": \"Is Caesalpinia intermedia a photoau...</td>\n",
       "      <td>fully specified</td>\n",
       "    </tr>\n",
       "  </tbody>\n",
       "</table>\n",
       "<p>1155 rows × 6 columns</p>\n",
       "</div>"
      ],
      "text/plain": [
       "      Unnamed: 0                                            request  \\\n",
       "0           1787  The idea that the united states was destined t...   \n",
       "1            161           How many times french won the world cup?   \n",
       "2           1383  When was pink floyd's dark side of the moon re...   \n",
       "3           1111  When did leonardo da vinci finish painting the...   \n",
       "4           1542  Who is the first speaker of national assembly ...   \n",
       "...          ...                                                ...   \n",
       "1150         335  Is Pensacola sylvestris a multicellular organi...   \n",
       "1151         337  What's the leaf mass per area of Larrea divari...   \n",
       "1152         364  When did Patsyella make its last appearance in...   \n",
       "1153         276     What's the body mass of Salamandra salamandra?   \n",
       "1154         279  Is Caesalpinia intermedia a photoautotroph tro...   \n",
       "\n",
       "        gold_judgment direct_source  \\\n",
       "0     fully specified       AmbigQA   \n",
       "1     fully specified       AmbigQA   \n",
       "2     fully specified       AmbigQA   \n",
       "3     fully specified       AmbigQA   \n",
       "4     fully specified       AmbigQA   \n",
       "...               ...           ...   \n",
       "1150  fully specified       CLAMBER   \n",
       "1151  fully specified       CLAMBER   \n",
       "1152  fully specified       CLAMBER   \n",
       "1153  fully specified       CLAMBER   \n",
       "1154  fully specified       CLAMBER   \n",
       "\n",
       "                                         model_response       model_pred  \n",
       "0     {\"query\": \"The idea that the united states was...   underspecified  \n",
       "1     {\"query\": \"How many times french won the world...  fully specified  \n",
       "2     {\"query\": \"When was pink floyd's dark side of ...  fully specified  \n",
       "3     {\"query\": \"When did leonardo da vinci finish p...  fully specified  \n",
       "4     {\"query\": \"Who is the first speaker of nationa...  fully specified  \n",
       "...                                                 ...              ...  \n",
       "1150  {\"query\": \"Is Pensacola sylvestris a multicell...  fully specified  \n",
       "1151  {\"query\": \"What's the leaf mass per area of La...  fully specified  \n",
       "1152  {\"query\": \"When did Patsyella make its last ap...  fully specified  \n",
       "1153  {\"query\": \"What's the body mass of Salamandra ...  fully specified  \n",
       "1154  {\"query\": \"Is Caesalpinia intermedia a photoau...  fully specified  \n",
       "\n",
       "[1155 rows x 6 columns]"
      ]
     },
     "execution_count": 7,
     "metadata": {},
     "output_type": "execute_result"
    }
   ],
   "source": [
    "test_df = run_experiment(test_prompts, df_test_1155)\n",
    "test_df"
   ]
  },
  {
   "cell_type": "code",
   "execution_count": 8,
   "metadata": {
    "id": "Zv96vrB422qZ"
   },
   "outputs": [
    {
     "name": "stdout",
     "output_type": "stream",
     "text": [
      "No error found, directly process the data.\n",
      "                 precision    recall  f1-score   support\n",
      "\n",
      "fully specified       0.63      0.90      0.74       598\n",
      " underspecified       0.81      0.43      0.56       557\n",
      "\n",
      "       accuracy                           0.68      1155\n",
      "      macro avg       0.72      0.67      0.65      1155\n",
      "   weighted avg       0.72      0.68      0.65      1155\n",
      "\n"
     ]
    },
    {
     "data": {
      "image/png": "[encoded data removed]",
      "text/plain": [
       "<Figure size 640x480 with 2 Axes>"
      ]
     },
     "metadata": {},
     "output_type": "display_data"
    }
   ],
   "source": [
    "retrieve_results(test_df, \"llama_3_3_70B_FS_UND\")"
   ]
  },
  {
   "cell_type": "code",
   "execution_count": 4,
   "metadata": {},
   "outputs": [
    {
     "name": "stdout",
     "output_type": "stream",
     "text": [
      "                 precision    recall  f1-score   support\n",
      "\n",
      "fully specified       0.65      0.90      0.76       431\n",
      " underspecified       0.84      0.52      0.64       424\n",
      "\n",
      "       accuracy                           0.71       855\n",
      "      macro avg       0.75      0.71      0.70       855\n",
      "   weighted avg       0.75      0.71      0.70       855\n",
      "\n"
     ]
    },
    {
     "data": {
      "image/png": "[encoded data removed]",
      "text/plain": [
       "<Figure size 640x480 with 2 Axes>"
      ]
     },
     "metadata": {},
     "output_type": "display_data"
    }
   ],
   "source": [
    "obtain_results_without(\"llama_3_3_70B_FS_UND.csv\", 'AmbigQA')"
   ]
  },
  {
   "cell_type": "code",
   "execution_count": null,
   "metadata": {
    "id": "4Ye8nfhc28T5"
   },
   "outputs": [],
   "source": [
    "# If there are errors\n",
    "\n",
    "result_df = pd.read_csv(\"llama_3_3_70B_FS_UND_corrected.csv\")\n",
    "\n",
    "print(classification_report(result_df[\"gold_judgment\"], result_df['model_pred']))\n",
    "\n",
    "\n",
    "judgment_gold = result_df['gold_judgment'].tolist()\n",
    "judgment_model = result_df[\"model_pred\"].tolist()\n",
    "\n",
    "binary_labels = ['underspecified', 'fully specified']\n",
    "\n",
    "cm = confusion_matrix(judgment_gold, judgment_model, labels=binary_labels)\n",
    "disp = ConfusionMatrixDisplay(confusion_matrix=cm, display_labels=binary_labels)\n",
    "\n",
    "disp.plot(cmap='Blues')  # 可以调整 colormap"
   ]
  }
 ],
 "metadata": {
  "colab": {
   "provenance": []
  },
  "kernelspec": {
   "display_name": "Python (sglang-venv-2)",
   "language": "python",
   "name": "sglang-venv"
  },
  "language_info": {
   "codemirror_mode": {
    "name": "ipython",
    "version": 3
   },
   "file_extension": ".py",
   "mimetype": "text/x-python",
   "name": "python",
   "nbconvert_exporter": "python",
   "pygments_lexer": "ipython3",
   "version": "3.11.3"
  }
 },
 "nbformat": 4,
 "nbformat_minor": 4
}
