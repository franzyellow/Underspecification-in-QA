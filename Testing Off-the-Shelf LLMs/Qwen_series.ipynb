{
 "cells": [
  {
   "cell_type": "code",
   "execution_count": 1,
   "metadata": {
    "id": "bTalDd7516jP",
    "scrolled": true
   },
   "outputs": [
    {
     "name": "stdout",
     "output_type": "stream",
     "text": [
      "Thu Jun 26 16:22:01 2025       \n",
      "+-----------------------------------------------------------------------------------------+\n",
      "| NVIDIA-SMI 565.57.01              Driver Version: 565.57.01      CUDA Version: 12.7     |\n",
      "|-----------------------------------------+------------------------+----------------------+\n",
      "| GPU  Name                 Persistence-M | Bus-Id          Disp.A | Volatile Uncorr. ECC |\n",
      "| Fan  Temp   Perf          Pwr:Usage/Cap |           Memory-Usage | GPU-Util  Compute M. |\n",
      "|                                         |                        |               MIG M. |\n",
      "|=========================================+========================+======================|\n",
      "|   0  NVIDIA A100-SXM4-40GB          On  |   00000000:32:00.0 Off |                    0 |\n",
      "| N/A   31C    P0             50W /  400W |       1MiB /  40960MiB |      0%      Default |\n",
      "|                                         |                        |             Disabled |\n",
      "+-----------------------------------------+------------------------+----------------------+\n",
      "                                                                                         \n",
      "+-----------------------------------------------------------------------------------------+\n",
      "| Processes:                                                                              |\n",
      "|  GPU   GI   CI        PID   Type   Process name                              GPU Memory |\n",
      "|        ID   ID                                                               Usage      |\n",
      "|=========================================================================================|\n",
      "|  No running processes found                                                             |\n",
      "+-----------------------------------------------------------------------------------------+\n"
     ]
    }
   ],
   "source": [
    "!nvidia-smi\n",
    "%matplotlib inline"
   ]
  },
  {
   "cell_type": "code",
   "execution_count": 1,
   "metadata": {
    "id": "k9B20Vvj2QDn"
   },
   "outputs": [],
   "source": [
    "import pandas as pd\n",
    "import json\n",
    "import re\n",
    "import numpy as np\n",
    "from typing import List, Optional, Dict, Any\n",
    "from sklearn.metrics import classification_report\n",
    "import matplotlib.pyplot as plt\n",
    "from sklearn.metrics import confusion_matrix\n",
    "from sklearn.metrics import ConfusionMatrixDisplay\n",
    "from tqdm import tqdm\n",
    "import torch"
   ]
  },
  {
   "cell_type": "markdown",
   "metadata": {
    "id": "5HSVU2RN2Y28"
   },
   "source": [
    "# Loading Files"
   ]
  },
  {
   "cell_type": "code",
   "execution_count": 2,
   "metadata": {
    "id": "YO5PSMD22T0q"
   },
   "outputs": [],
   "source": [
    "# For Snellius\n",
    "input_csv = \"../data/few_shots.csv\"\n",
    "df_few_shots = pd.read_csv(input_csv)\n",
    "real_csv = \"../data/Test_1155.csv\"\n",
    "df_test_1155 = pd.read_csv(real_csv)\n",
    "learning_csv = \"../data/in-context_learning_set.csv\"\n",
    "df_in_context_learning = pd.read_csv(learning_csv)"
   ]
  },
  {
   "cell_type": "markdown",
   "metadata": {
    "id": "UIitesw34FY7"
   },
   "source": [
    "# Prompt Setting"
   ]
  },
  {
   "cell_type": "code",
   "execution_count": 4,
   "metadata": {
    "id": "lGfiqkfN4FMn"
   },
   "outputs": [],
   "source": [
    "system_prompt = \"\"\"\n",
    "You are an expert analyst. Your task is to analyze and determine whether an input user query is \"fully specified\" or \"underspecified\".\n",
    "\n",
    "\"\"\"\n",
    "\n",
    "task_FS_UND = \"\"\"\n",
    "Analyze the following input user query:\n",
    "\n",
    "{\"query\": \"TARGET\"}\n",
    "\n",
    "Please provide your analysis in the following JSON format:\n",
    "\n",
    "{\"query\": \"TARGET\", \"reasoning\": \"[YOUR_DETAILED_REASONING]\", \"judgment\": \"[fully specified/underspecified]\"}\n",
    "\"\"\""
   ]
  },
  {
   "cell_type": "markdown",
   "metadata": {
    "id": "TJQelC_L2gwR"
   },
   "source": [
    "# Qwen3 4B"
   ]
  },
  {
   "cell_type": "markdown",
   "metadata": {
    "id": "wK-CdFdd2vSu"
   },
   "source": [
    "## Loading the model"
   ]
  },
  {
   "cell_type": "code",
   "execution_count": 5,
   "metadata": {
    "id": "UAIOES0X2asu"
   },
   "outputs": [],
   "source": [
    "Qwen3_4B = \"Qwen/Qwen3-4B\"\n",
    "\n",
    "import os\n",
    "os.environ['TRANSFORMERS_CACHE'] = '/scratch-local/yhuang/huggingface_cache'\n",
    "# 确保目录存在\n",
    "os.makedirs('/scratch-local/yhuang/huggingface_cache', exist_ok=True)"
   ]
  },
  {
   "cell_type": "code",
   "execution_count": 6,
   "metadata": {
    "id": "8GcHx1Bz246u"
   },
   "outputs": [
    {
     "name": "stderr",
     "output_type": "stream",
     "text": [
      "/home/yhuang/sglang-venv-2/lib/python3.11/site-packages/transformers/utils/hub.py:105: FutureWarning: Using `TRANSFORMERS_CACHE` is deprecated and will be removed in v5 of Transformers. Use `HF_HOME` instead.\n",
      "  warnings.warn(\n"
     ]
    },
    {
     "data": {
      "application/vnd.jupyter.widget-view+json": {
       "model_id": "7efa15f203514d729570254a9f928188",
       "version_major": 2,
       "version_minor": 0
      },
      "text/plain": [
       "tokenizer_config.json: 0.00B [00:00, ?B/s]"
      ]
     },
     "metadata": {},
     "output_type": "display_data"
    },
    {
     "data": {
      "application/vnd.jupyter.widget-view+json": {
       "model_id": "057eba5276634454be44ed3104929596",
       "version_major": 2,
       "version_minor": 0
      },
      "text/plain": [
       "vocab.json: 0.00B [00:00, ?B/s]"
      ]
     },
     "metadata": {},
     "output_type": "display_data"
    },
    {
     "data": {
      "application/vnd.jupyter.widget-view+json": {
       "model_id": "3871abf25f684cf89b1cee12e865f926",
       "version_major": 2,
       "version_minor": 0
      },
      "text/plain": [
       "merges.txt: 0.00B [00:00, ?B/s]"
      ]
     },
     "metadata": {},
     "output_type": "display_data"
    },
    {
     "data": {
      "application/vnd.jupyter.widget-view+json": {
       "model_id": "71bbffc0df4d4da29025330accdeda04",
       "version_major": 2,
       "version_minor": 0
      },
      "text/plain": [
       "tokenizer.json:   0%|          | 0.00/11.4M [00:00<?, ?B/s]"
      ]
     },
     "metadata": {},
     "output_type": "display_data"
    },
    {
     "data": {
      "application/vnd.jupyter.widget-view+json": {
       "model_id": "482caa3de0f847cfb7c39b57828dfda7",
       "version_major": 2,
       "version_minor": 0
      },
      "text/plain": [
       "config.json:   0%|          | 0.00/726 [00:00<?, ?B/s]"
      ]
     },
     "metadata": {},
     "output_type": "display_data"
    },
    {
     "data": {
      "application/vnd.jupyter.widget-view+json": {
       "model_id": "0f155e5b3f4f49cb9475c4b267bd9486",
       "version_major": 2,
       "version_minor": 0
      },
      "text/plain": [
       "model.safetensors.index.json: 0.00B [00:00, ?B/s]"
      ]
     },
     "metadata": {},
     "output_type": "display_data"
    },
    {
     "data": {
      "application/vnd.jupyter.widget-view+json": {
       "model_id": "ec149278409444869ac77474503ad4eb",
       "version_major": 2,
       "version_minor": 0
      },
      "text/plain": [
       "Fetching 3 files:   0%|          | 0/3 [00:00<?, ?it/s]"
      ]
     },
     "metadata": {},
     "output_type": "display_data"
    },
    {
     "data": {
      "application/vnd.jupyter.widget-view+json": {
       "model_id": "a6496b98f0db4c6b8e37b8cff2d1dca4",
       "version_major": 2,
       "version_minor": 0
      },
      "text/plain": [
       "model-00002-of-00003.safetensors:   0%|          | 0.00/3.99G [00:00<?, ?B/s]"
      ]
     },
     "metadata": {},
     "output_type": "display_data"
    },
    {
     "data": {
      "application/vnd.jupyter.widget-view+json": {
       "model_id": "7d50d1ff99ca49588a702bf4b5f8cb67",
       "version_major": 2,
       "version_minor": 0
      },
      "text/plain": [
       "model-00003-of-00003.safetensors:   0%|          | 0.00/99.6M [00:00<?, ?B/s]"
      ]
     },
     "metadata": {},
     "output_type": "display_data"
    },
    {
     "data": {
      "application/vnd.jupyter.widget-view+json": {
       "model_id": "0d4336dccc2d456694e0fb3dbedcf352",
       "version_major": 2,
       "version_minor": 0
      },
      "text/plain": [
       "model-00001-of-00003.safetensors:   0%|          | 0.00/3.96G [00:00<?, ?B/s]"
      ]
     },
     "metadata": {},
     "output_type": "display_data"
    },
    {
     "data": {
      "application/vnd.jupyter.widget-view+json": {
       "model_id": "92573ba706594b4ab1dc969c44973617",
       "version_major": 2,
       "version_minor": 0
      },
      "text/plain": [
       "Loading checkpoint shards:   0%|          | 0/3 [00:00<?, ?it/s]"
      ]
     },
     "metadata": {},
     "output_type": "display_data"
    },
    {
     "data": {
      "application/vnd.jupyter.widget-view+json": {
       "model_id": "d8df030c74254c75893c7899d51c98b6",
       "version_major": 2,
       "version_minor": 0
      },
      "text/plain": [
       "generation_config.json:   0%|          | 0.00/239 [00:00<?, ?B/s]"
      ]
     },
     "metadata": {},
     "output_type": "display_data"
    },
    {
     "name": "stdout",
     "output_type": "stream",
     "text": [
      "cuda\n"
     ]
    }
   ],
   "source": [
    "# Load model directly\n",
    "from transformers import AutoTokenizer, AutoModelForCausalLM\n",
    "\n",
    "tokenizer = AutoTokenizer.from_pretrained(Qwen3_4B, padding_side='left')\n",
    "model = AutoModelForCausalLM.from_pretrained(Qwen3_4B)\n",
    "\n",
    "# 将模型移到可用设备\n",
    "device = torch.device(\"cuda\" if torch.cuda.is_available() else \"cpu\")\n",
    "print(device)\n",
    "model = model.to(device)"
   ]
  },
  {
   "cell_type": "markdown",
   "metadata": {
    "id": "NnIK7RTG3HL-"
   },
   "source": [
    "## Defining helper Functions after loading a model"
   ]
  },
  {
   "cell_type": "code",
   "execution_count": 7,
   "metadata": {
    "id": "e3LbLz163F25"
   },
   "outputs": [],
   "source": [
    "def batch_generate_responses_qwen3(prompts, system_prompt=system_prompt,\n",
    "                             temperature=0.7, max_new_tokens=32768, batch_size=5,\n",
    "                             enable_thinking=True, parse_thinking=True):\n",
    "    \"\"\"\n",
    "    批量生成Qwen 3模型的回复\n",
    "\n",
    "    参数:\n",
    "        prompts: 字符串列表，每个字符串是一个提示词\n",
    "        system_prompt: 系统提示词\n",
    "        max_new_tokens: 生成的最大token数，默认为512\n",
    "        batch_size: 每批处理的提示词数量，默认为4\n",
    "        enable_thinking: 是否启用思考模式，默认为True\n",
    "        parse_thinking: 是否解析思考内容，默认为True\n",
    "\n",
    "    返回:\n",
    "        如果parse_thinking=True，返回(思考内容列表, 回复内容列表)的元组\n",
    "        如果parse_thinking=False，返回回复列表\n",
    "    \"\"\"\n",
    "\n",
    "    responses = []\n",
    "    thinking_contents = [] if parse_thinking else None\n",
    "\n",
    "    # 按批次处理\n",
    "    for i in tqdm(range(0, len(prompts), batch_size)):\n",
    "        batch_prompts = prompts[i:i+batch_size]\n",
    "        batch_texts = []\n",
    "\n",
    "        # 为每个提示词准备输入文本\n",
    "        for prompt in batch_prompts:\n",
    "            if system_prompt:\n",
    "                messages = [\n",
    "                    {\"role\": \"system\", \"content\": system_prompt},\n",
    "                    {\"role\": \"user\", \"content\": prompt}\n",
    "                ]\n",
    "            else:\n",
    "                messages = [\n",
    "                    {\"role\": \"user\", \"content\": prompt}\n",
    "                ]\n",
    "\n",
    "            text = tokenizer.apply_chat_template(\n",
    "                messages,\n",
    "                tokenize=False,\n",
    "                add_generation_prompt=True,\n",
    "                enable_thinking=enable_thinking  # 启用思考模式\n",
    "            )\n",
    "            batch_texts.append(text)\n",
    "\n",
    "        # 批量编码输入\n",
    "        model_inputs = tokenizer(batch_texts, return_tensors=\"pt\", padding=True, truncation=True).to(model.device)\n",
    "\n",
    "        # 生成回复\n",
    "        with torch.no_grad():\n",
    "            generated_ids = model.generate(\n",
    "                **model_inputs,\n",
    "                max_new_tokens=max_new_tokens,\n",
    "                do_sample=True,\n",
    "                temperature=temperature,\n",
    "                top_p=0.9,\n",
    "                repetition_penalty=1.2\n",
    "            )\n",
    "\n",
    "        # 处理生成的回复\n",
    "        batch_responses = []\n",
    "        batch_thinking = [] if parse_thinking else None\n",
    "\n",
    "        for input_ids, output_ids in zip(model_inputs.input_ids, generated_ids):\n",
    "            response_ids = output_ids[len(input_ids):].tolist()\n",
    "\n",
    "            if parse_thinking and enable_thinking:\n",
    "                # 解析思考内容\n",
    "                try:\n",
    "                    # 寻找</think>对应的token ID (151668)\n",
    "                    index = len(response_ids) - response_ids[::-1].index(151668)\n",
    "                except ValueError:\n",
    "                    index = 0\n",
    "\n",
    "                thinking_content = tokenizer.decode(response_ids[:index], skip_special_tokens=True).strip(\"\\n\")\n",
    "                content = tokenizer.decode(response_ids[index:], skip_special_tokens=True).strip(\"\\n\")\n",
    "\n",
    "                batch_thinking.append(thinking_content)\n",
    "                batch_responses.append(content)\n",
    "            else:\n",
    "                # 不解析思考内容，直接返回完整回复\n",
    "                response = tokenizer.decode(response_ids, skip_special_tokens=True)\n",
    "                batch_responses.append(response)\n",
    "\n",
    "        responses.extend(batch_responses)\n",
    "        if parse_thinking:\n",
    "            thinking_contents.extend(batch_thinking)\n",
    "\n",
    "    if parse_thinking:\n",
    "        return thinking_contents, responses\n",
    "    else:\n",
    "        return responses\n",
    "\n",
    "def get_judgments_from_responses(responses: List[str]) -> List[Optional[str]]:\n",
    "    \"\"\"\n",
    "    推荐的解析函数，结合了多种方法的优点\n",
    "    \"\"\"\n",
    "    judgments = []\n",
    "\n",
    "    for i, response in enumerate(responses):\n",
    "        judgment = None\n",
    "\n",
    "        try:\n",
    "            # 方法1: 尝试直接解析JSON\n",
    "            clean_response = response.strip()\n",
    "            if clean_response.startswith('{') and clean_response.endswith('}'):\n",
    "                data = json.loads(clean_response)\n",
    "                judgment = data.get('judgment')\n",
    "            else:\n",
    "                # 方法2: 寻找JSON部分\n",
    "                start_idx = clean_response.find('{')\n",
    "                end_idx = clean_response.rfind('}')\n",
    "                if start_idx != -1 and end_idx != -1:\n",
    "                    json_part = clean_response[start_idx:end_idx+1]\n",
    "                    data = json.loads(json_part)\n",
    "                    judgment = data.get('judgment')\n",
    "\n",
    "        except json.JSONDecodeError:\n",
    "            # 方法3: 使用正则表达式作为后备\n",
    "            pattern = r'\"judgment\"\\s*:\\s*\"([^\"]*)\"'\n",
    "            match = re.search(pattern, response)\n",
    "            if match:\n",
    "                judgment = match.group(1)\n",
    "\n",
    "        if judgment is None:\n",
    "            print(f\"Warning: response {i} cannot retrieve judgment\")\n",
    "            print(f\"Respond content: {response[:200]}...\")\n",
    "            judgment = \"error\"\n",
    "\n",
    "        judgments.append(judgment)\n",
    "\n",
    "    return judgments\n",
    "\n",
    "\n",
    "\n",
    "def run_experiment(input_prompts, test_df):\n",
    "  output = batch_generate_responses_qwen3(input_prompts)\n",
    "  df = test_df.copy()\n",
    "  df['thinking'] = output[0]\n",
    "  df['model_response'] = output[1]\n",
    "  to_process = output[1]\n",
    "  processed_judgments = get_judgments_from_responses(to_process)\n",
    "  df['model_pred'] = processed_judgments\n",
    "\n",
    "  return df\n",
    "\n",
    "def retrieve_results(result_df, output_name):\n",
    "  processed_judgments = result_df['model_pred'].tolist()\n",
    "\n",
    "  if \"error\" in processed_judgments:\n",
    "    print(\"There are unrecognized labels.\")\n",
    "    result_df.to_csv(f'{output_name}_error.csv')\n",
    "  else:\n",
    "    print(\"No error found, directly process the data.\")\n",
    "    print(classification_report(result_df[\"gold_judgment\"], result_df['model_pred']))\n",
    "    result_df.to_csv(f'{output_name}.csv')\n",
    "\n",
    "    judgment_gold = result_df['gold_judgment'].tolist()\n",
    "    judgment_model = result_df[\"model_pred\"].tolist()\n",
    "\n",
    "    binary_labels = ['underspecified', 'fully specified']\n",
    "\n",
    "    cm = confusion_matrix(judgment_gold, judgment_model, labels=binary_labels)\n",
    "    disp = ConfusionMatrixDisplay(confusion_matrix=cm, display_labels=binary_labels)\n",
    "\n",
    "    disp.plot(cmap='Blues')  # 可以调整 colormap\n",
    "\n",
    "def prepare_test_prompts(test_df, task_text, learning_df=None, instruction_text=None, theory=False):\n",
    "  print(\"Start preparing prompts...\")\n",
    "  if learning_df is not None and instruction_text is not None:\n",
    "    print(f\"# learning samples: {len(learning_df)}\")\n",
    "    examples = []\n",
    "    if theory:\n",
    "      for _, row in learning_df.iterrows():\n",
    "        example = {\n",
    "                \"query\": row['request'],\n",
    "                \"reasoning\": row['reasoning'],\n",
    "                \"category\": row['category'],\n",
    "                \"judgment\": row['gold_judgment']\n",
    "              }\n",
    "        examples.append(json.dumps(example, ensure_ascii=False))\n",
    "\n",
    "      examples_text = '\\n\\n'.join(examples)\n",
    "      base_prompt = instruction_text + examples_text + task_text\n",
    "    else:\n",
    "      for _, row in learning_df.iterrows():\n",
    "        example = {\n",
    "                \"query\": row['request'],\n",
    "                \"judgment\": row['gold_judgment']\n",
    "              }\n",
    "        examples.append(json.dumps(example, ensure_ascii=False))\n",
    "\n",
    "      examples_text = '\\n\\n'.join(examples)\n",
    "      base_prompt = instruction_text + examples_text + task_text\n",
    "\n",
    "  else:\n",
    "    base_prompt = task_text\n",
    "\n",
    "  print(f\"# Testing data points: {len(test_df)}\")\n",
    "  test_prompts = []\n",
    "  for _, row in test_df.iterrows():\n",
    "    query = row['request']\n",
    "    complete_prompt = base_prompt.replace(\"TARGET\", query)\n",
    "    test_prompts.append(complete_prompt)\n",
    "\n",
    "  print(f\"Generation complete: {len(test_prompts)} prompts\")\n",
    "\n",
    "  avg_length = sum(len(p) for p in test_prompts) // len(test_prompts)\n",
    "  print(f\"Average prompt length: {avg_length:,} bytes (~{avg_length//4:,} tokens)\")\n",
    "\n",
    "  return test_prompts"
   ]
  },
  {
   "cell_type": "markdown",
   "metadata": {
    "id": "6q-BFCmD5Q2X"
   },
   "source": [
    "## Implementation"
   ]
  },
  {
   "cell_type": "code",
   "execution_count": 8,
   "metadata": {
    "id": "tvEq0WT14s_S"
   },
   "outputs": [
    {
     "name": "stdout",
     "output_type": "stream",
     "text": [
      "Start preparing prompts...\n",
      "# Testing data points: 1155\n",
      "Generation complete: 1155 prompts\n",
      "Average prompt length: 341 bytes (~85 tokens)\n",
      "\n",
      "Analyze the following input user query:\n",
      "\n",
      "{\"query\": \"The idea that the united states was destined to extend westward across the continent?\"}\n",
      "\n",
      "Please provide your analysis in the following JSON format:\n",
      "\n",
      "{\"query\": \"The idea that the united states was destined to extend westward across the continent?\", \"reasoning\": \"[YOUR_DETAILED_REASONING]\", \"judgment\": \"[fully specified/underspecified]\"}\n",
      "\n"
     ]
    }
   ],
   "source": [
    "test_prompts = prepare_test_prompts(df_test_1155, task_FS_UND)\n",
    "print(test_prompts[0])"
   ]
  },
  {
   "cell_type": "code",
   "execution_count": 9,
   "metadata": {
    "id": "7RH8HKEZ4-w3"
   },
   "outputs": [
    {
     "name": "stderr",
     "output_type": "stream",
     "text": [
      "100%|██████████| 231/231 [1:51:07<00:00, 28.86s/it]\n"
     ]
    },
    {
     "data": {
      "text/html": [
       "<div>\n",
       "<style scoped>\n",
       "    .dataframe tbody tr th:only-of-type {\n",
       "        vertical-align: middle;\n",
       "    }\n",
       "\n",
       "    .dataframe tbody tr th {\n",
       "        vertical-align: top;\n",
       "    }\n",
       "\n",
       "    .dataframe thead th {\n",
       "        text-align: right;\n",
       "    }\n",
       "</style>\n",
       "<table border=\"1\" class=\"dataframe\">\n",
       "  <thead>\n",
       "    <tr style=\"text-align: right;\">\n",
       "      <th></th>\n",
       "      <th>Unnamed: 0</th>\n",
       "      <th>request</th>\n",
       "      <th>gold_judgment</th>\n",
       "      <th>direct_source</th>\n",
       "      <th>thinking</th>\n",
       "      <th>model_response</th>\n",
       "      <th>model_pred</th>\n",
       "    </tr>\n",
       "  </thead>\n",
       "  <tbody>\n",
       "    <tr>\n",
       "      <th>0</th>\n",
       "      <td>1787</td>\n",
       "      <td>The idea that the united states was destined t...</td>\n",
       "      <td>fully specified</td>\n",
       "      <td>AmbigQA</td>\n",
       "      <td>&lt;think&gt;\\nOkay, let's see. The user provided a ...</td>\n",
       "      <td>{\\n  \"query\": \"The idea that the united states...</td>\n",
       "      <td>underspecified</td>\n",
       "    </tr>\n",
       "    <tr>\n",
       "      <th>1</th>\n",
       "      <td>161</td>\n",
       "      <td>How many times french won the world cup?</td>\n",
       "      <td>fully specified</td>\n",
       "      <td>AmbigQA</td>\n",
       "      <td>&lt;think&gt;\\nOkay, let's see. The user is asking \"...</td>\n",
       "      <td>{\\n  \"query\": \"How many times french won the w...</td>\n",
       "      <td>fully specified</td>\n",
       "    </tr>\n",
       "    <tr>\n",
       "      <th>2</th>\n",
       "      <td>1383</td>\n",
       "      <td>When was pink floyd's dark side of the moon re...</td>\n",
       "      <td>fully specified</td>\n",
       "      <td>AmbigQA</td>\n",
       "      <td>&lt;think&gt;\\nOkay, let me try to figure out if thi...</td>\n",
       "      <td>{\\n  \"query\": \"When was pink floyd's dark side...</td>\n",
       "      <td>fully specified</td>\n",
       "    </tr>\n",
       "    <tr>\n",
       "      <th>3</th>\n",
       "      <td>1111</td>\n",
       "      <td>When did leonardo da vinci finish painting the...</td>\n",
       "      <td>fully specified</td>\n",
       "      <td>AmbigQA</td>\n",
       "      <td>&lt;think&gt;\\nOkay, let's see. The user is asking w...</td>\n",
       "      <td>{\\n  \"query\": \"When did leonardo da vinci fini...</td>\n",
       "      <td>underspecified</td>\n",
       "    </tr>\n",
       "    <tr>\n",
       "      <th>4</th>\n",
       "      <td>1542</td>\n",
       "      <td>Who is the first speaker of national assembly ...</td>\n",
       "      <td>fully specified</td>\n",
       "      <td>AmbigQA</td>\n",
       "      <td>&lt;think&gt;\\nOkay, let's see. The user is asking f...</td>\n",
       "      <td>{\\n  \"query\": \"Who is the first speaker of nat...</td>\n",
       "      <td>fully specified</td>\n",
       "    </tr>\n",
       "    <tr>\n",
       "      <th>...</th>\n",
       "      <td>...</td>\n",
       "      <td>...</td>\n",
       "      <td>...</td>\n",
       "      <td>...</td>\n",
       "      <td>...</td>\n",
       "      <td>...</td>\n",
       "      <td>...</td>\n",
       "    </tr>\n",
       "    <tr>\n",
       "      <th>1150</th>\n",
       "      <td>335</td>\n",
       "      <td>Is Pensacola sylvestris a multicellular organi...</td>\n",
       "      <td>fully specified</td>\n",
       "      <td>CLAMBER</td>\n",
       "      <td>&lt;think&gt;\\nOkay, let's tackle this query. The us...</td>\n",
       "      <td>{\\n  \"query\": \"Is Pensacola sylvestris a multi...</td>\n",
       "      <td>fully specified</td>\n",
       "    </tr>\n",
       "    <tr>\n",
       "      <th>1151</th>\n",
       "      <td>337</td>\n",
       "      <td>What's the leaf mass per area of Larrea divari...</td>\n",
       "      <td>fully specified</td>\n",
       "      <td>CLAMBER</td>\n",
       "      <td>&lt;think&gt;\\nOkay, let me try to figure out if thi...</td>\n",
       "      <td>{\\n  \"query\": \"What's the leaf mass per area o...</td>\n",
       "      <td>fully specified</td>\n",
       "    </tr>\n",
       "    <tr>\n",
       "      <th>1152</th>\n",
       "      <td>364</td>\n",
       "      <td>When did Patsyella make its last appearance in...</td>\n",
       "      <td>fully specified</td>\n",
       "      <td>CLAMBER</td>\n",
       "      <td>&lt;think&gt;\\nOkay, let's tackle this query. The us...</td>\n",
       "      <td>{\\n  \"query\": \"When did Patsyella make its las...</td>\n",
       "      <td>fully specified</td>\n",
       "    </tr>\n",
       "    <tr>\n",
       "      <th>1153</th>\n",
       "      <td>276</td>\n",
       "      <td>What's the body mass of Salamandra salamandra?</td>\n",
       "      <td>fully specified</td>\n",
       "      <td>CLAMBER</td>\n",
       "      <td>&lt;think&gt;\\nOkay, let me try to figure out if thi...</td>\n",
       "      <td>{\\n  \"query\": \"What's the body mass of Salaman...</td>\n",
       "      <td>fully specified</td>\n",
       "    </tr>\n",
       "    <tr>\n",
       "      <th>1154</th>\n",
       "      <td>279</td>\n",
       "      <td>Is Caesalpinia intermedia a photoautotroph tro...</td>\n",
       "      <td>fully specified</td>\n",
       "      <td>CLAMBER</td>\n",
       "      <td>&lt;think&gt;\\nOkay, let's tackle this query. The us...</td>\n",
       "      <td>{\\n  \"query\": \"Is Caesarlinia intermedia a pho...</td>\n",
       "      <td>fully specified</td>\n",
       "    </tr>\n",
       "  </tbody>\n",
       "</table>\n",
       "<p>1155 rows × 7 columns</p>\n",
       "</div>"
      ],
      "text/plain": [
       "      Unnamed: 0                                            request  \\\n",
       "0           1787  The idea that the united states was destined t...   \n",
       "1            161           How many times french won the world cup?   \n",
       "2           1383  When was pink floyd's dark side of the moon re...   \n",
       "3           1111  When did leonardo da vinci finish painting the...   \n",
       "4           1542  Who is the first speaker of national assembly ...   \n",
       "...          ...                                                ...   \n",
       "1150         335  Is Pensacola sylvestris a multicellular organi...   \n",
       "1151         337  What's the leaf mass per area of Larrea divari...   \n",
       "1152         364  When did Patsyella make its last appearance in...   \n",
       "1153         276     What's the body mass of Salamandra salamandra?   \n",
       "1154         279  Is Caesalpinia intermedia a photoautotroph tro...   \n",
       "\n",
       "        gold_judgment direct_source  \\\n",
       "0     fully specified       AmbigQA   \n",
       "1     fully specified       AmbigQA   \n",
       "2     fully specified       AmbigQA   \n",
       "3     fully specified       AmbigQA   \n",
       "4     fully specified       AmbigQA   \n",
       "...               ...           ...   \n",
       "1150  fully specified       CLAMBER   \n",
       "1151  fully specified       CLAMBER   \n",
       "1152  fully specified       CLAMBER   \n",
       "1153  fully specified       CLAMBER   \n",
       "1154  fully specified       CLAMBER   \n",
       "\n",
       "                                               thinking  \\\n",
       "0     <think>\\nOkay, let's see. The user provided a ...   \n",
       "1     <think>\\nOkay, let's see. The user is asking \"...   \n",
       "2     <think>\\nOkay, let me try to figure out if thi...   \n",
       "3     <think>\\nOkay, let's see. The user is asking w...   \n",
       "4     <think>\\nOkay, let's see. The user is asking f...   \n",
       "...                                                 ...   \n",
       "1150  <think>\\nOkay, let's tackle this query. The us...   \n",
       "1151  <think>\\nOkay, let me try to figure out if thi...   \n",
       "1152  <think>\\nOkay, let's tackle this query. The us...   \n",
       "1153  <think>\\nOkay, let me try to figure out if thi...   \n",
       "1154  <think>\\nOkay, let's tackle this query. The us...   \n",
       "\n",
       "                                         model_response       model_pred  \n",
       "0     {\\n  \"query\": \"The idea that the united states...   underspecified  \n",
       "1     {\\n  \"query\": \"How many times french won the w...  fully specified  \n",
       "2     {\\n  \"query\": \"When was pink floyd's dark side...  fully specified  \n",
       "3     {\\n  \"query\": \"When did leonardo da vinci fini...   underspecified  \n",
       "4     {\\n  \"query\": \"Who is the first speaker of nat...  fully specified  \n",
       "...                                                 ...              ...  \n",
       "1150  {\\n  \"query\": \"Is Pensacola sylvestris a multi...  fully specified  \n",
       "1151  {\\n  \"query\": \"What's the leaf mass per area o...  fully specified  \n",
       "1152  {\\n  \"query\": \"When did Patsyella make its las...  fully specified  \n",
       "1153  {\\n  \"query\": \"What's the body mass of Salaman...  fully specified  \n",
       "1154  {\\n  \"query\": \"Is Caesarlinia intermedia a pho...  fully specified  \n",
       "\n",
       "[1155 rows x 7 columns]"
      ]
     },
     "execution_count": 9,
     "metadata": {},
     "output_type": "execute_result"
    }
   ],
   "source": [
    "test_df = run_experiment(test_prompts, df_test_1155)\n",
    "test_df"
   ]
  },
  {
   "cell_type": "code",
   "execution_count": 10,
   "metadata": {
    "id": "CuRg2PdL5GO2"
   },
   "outputs": [
    {
     "name": "stdout",
     "output_type": "stream",
     "text": [
      "No error found, directly process the data.\n",
      "                 precision    recall  f1-score   support\n",
      "\n",
      "fully specified       0.68      0.68      0.68       598\n",
      " underspecified       0.66      0.65      0.65       557\n",
      "\n",
      "       accuracy                           0.67      1155\n",
      "      macro avg       0.67      0.67      0.67      1155\n",
      "   weighted avg       0.67      0.67      0.67      1155\n",
      "\n"
     ]
    },
    {
     "data": {
      "image/png": "[encoded data removed]",
      "text/plain": [
       "<Figure size 640x480 with 2 Axes>"
      ]
     },
     "metadata": {},
     "output_type": "display_data"
    }
   ],
   "source": [
    "retrieve_results(test_df, \"Qwen3_4B_FS_UND\")"
   ]
  },
  {
   "cell_type": "code",
   "execution_count": 4,
   "metadata": {},
   "outputs": [],
   "source": [
    "def obtain_results_without(input_csv, filter_set):\n",
    "    result_df = pd.read_csv(input_csv)\n",
    "    result_df = result_df[result_df['direct_source']!=filter_set]\n",
    "    print(classification_report(result_df[\"gold_judgment\"], result_df['model_pred']))\n",
    "    \n",
    "    judgment_gold = result_df['gold_judgment'].tolist()\n",
    "    judgment_model = result_df[\"model_pred\"].tolist()\n",
    "    binary_labels = ['underspecified', 'fully specified']\n",
    "\n",
    "    cm = confusion_matrix(judgment_gold, judgment_model, labels=binary_labels)\n",
    "    disp = ConfusionMatrixDisplay(confusion_matrix=cm, display_labels=binary_labels)\n",
    "\n",
    "    disp.plot(cmap='Blues')  # 可以调整 colormap"
   ]
  },
  {
   "cell_type": "code",
   "execution_count": 5,
   "metadata": {},
   "outputs": [
    {
     "name": "stdout",
     "output_type": "stream",
     "text": [
      "                 precision    recall  f1-score   support\n",
      "\n",
      "fully specified       0.73      0.66      0.69       431\n",
      " underspecified       0.69      0.75      0.72       424\n",
      "\n",
      "       accuracy                           0.71       855\n",
      "      macro avg       0.71      0.71      0.70       855\n",
      "   weighted avg       0.71      0.71      0.70       855\n",
      "\n"
     ]
    }
   ],
   "source": [
    "obtain_results_without('Qwen3_4B_FS_UND.csv', 'AmbigQA')"
   ]
  },
  {
   "cell_type": "markdown",
   "metadata": {
    "id": "Z9Y3nzU_6OFT"
   },
   "source": [
    "# Qwen 3 8B"
   ]
  },
  {
   "cell_type": "markdown",
   "metadata": {
    "id": "RY3LeT1h6Src"
   },
   "source": [
    "## Loading the model"
   ]
  },
  {
   "cell_type": "code",
   "execution_count": 5,
   "metadata": {
    "id": "9ARWnoY36Rev"
   },
   "outputs": [],
   "source": [
    "Qwen3_8B = \"Qwen/Qwen3-8B\"\n",
    "\n",
    "import os\n",
    "os.environ['TRANSFORMERS_CACHE'] = '/scratch-local/yhuang/huggingface_cache'\n",
    "# 确保目录存在\n",
    "os.makedirs('/scratch-local/yhuang/huggingface_cache', exist_ok=True)"
   ]
  },
  {
   "cell_type": "code",
   "execution_count": 6,
   "metadata": {
    "id": "6LHbEGq36egz"
   },
   "outputs": [
    {
     "name": "stderr",
     "output_type": "stream",
     "text": [
      "/home/yhuang/sglang-venv-2/lib/python3.11/site-packages/transformers/utils/hub.py:105: FutureWarning: Using `TRANSFORMERS_CACHE` is deprecated and will be removed in v5 of Transformers. Use `HF_HOME` instead.\n",
      "  warnings.warn(\n"
     ]
    },
    {
     "data": {
      "application/vnd.jupyter.widget-view+json": {
       "model_id": "0138773a41804d43a6d3c5507427341c",
       "version_major": 2,
       "version_minor": 0
      },
      "text/plain": [
       "tokenizer_config.json: 0.00B [00:00, ?B/s]"
      ]
     },
     "metadata": {},
     "output_type": "display_data"
    },
    {
     "data": {
      "application/vnd.jupyter.widget-view+json": {
       "model_id": "4467ba95421d4ae488e775f2822eb8e1",
       "version_major": 2,
       "version_minor": 0
      },
      "text/plain": [
       "vocab.json: 0.00B [00:00, ?B/s]"
      ]
     },
     "metadata": {},
     "output_type": "display_data"
    },
    {
     "data": {
      "application/vnd.jupyter.widget-view+json": {
       "model_id": "b72b9203244544e4bceeb948e4a3c169",
       "version_major": 2,
       "version_minor": 0
      },
      "text/plain": [
       "merges.txt: 0.00B [00:00, ?B/s]"
      ]
     },
     "metadata": {},
     "output_type": "display_data"
    },
    {
     "data": {
      "application/vnd.jupyter.widget-view+json": {
       "model_id": "a6443f3ede094757bb191ba70a409042",
       "version_major": 2,
       "version_minor": 0
      },
      "text/plain": [
       "tokenizer.json:   0%|          | 0.00/11.4M [00:00<?, ?B/s]"
      ]
     },
     "metadata": {},
     "output_type": "display_data"
    },
    {
     "data": {
      "application/vnd.jupyter.widget-view+json": {
       "model_id": "fe57cae4ca11401f850548666932b578",
       "version_major": 2,
       "version_minor": 0
      },
      "text/plain": [
       "config.json:   0%|          | 0.00/728 [00:00<?, ?B/s]"
      ]
     },
     "metadata": {},
     "output_type": "display_data"
    },
    {
     "data": {
      "application/vnd.jupyter.widget-view+json": {
       "model_id": "03b549a68d7d499b85d0a2a65f60629f",
       "version_major": 2,
       "version_minor": 0
      },
      "text/plain": [
       "model.safetensors.index.json: 0.00B [00:00, ?B/s]"
      ]
     },
     "metadata": {},
     "output_type": "display_data"
    },
    {
     "data": {
      "application/vnd.jupyter.widget-view+json": {
       "model_id": "76fbb4cdd5d74e1ca5d140e4f365b544",
       "version_major": 2,
       "version_minor": 0
      },
      "text/plain": [
       "Fetching 5 files:   0%|          | 0/5 [00:00<?, ?it/s]"
      ]
     },
     "metadata": {},
     "output_type": "display_data"
    },
    {
     "data": {
      "application/vnd.jupyter.widget-view+json": {
       "model_id": "0ddb9aa0fb2b4cd69d86ea16f9f2d3f7",
       "version_major": 2,
       "version_minor": 0
      },
      "text/plain": [
       "model-00001-of-00005.safetensors:   0%|          | 0.00/4.00G [00:00<?, ?B/s]"
      ]
     },
     "metadata": {},
     "output_type": "display_data"
    },
    {
     "data": {
      "application/vnd.jupyter.widget-view+json": {
       "model_id": "ee45f1c3f0674a55b8bb370315a96a40",
       "version_major": 2,
       "version_minor": 0
      },
      "text/plain": [
       "model-00003-of-00005.safetensors:   0%|          | 0.00/3.96G [00:00<?, ?B/s]"
      ]
     },
     "metadata": {},
     "output_type": "display_data"
    },
    {
     "data": {
      "application/vnd.jupyter.widget-view+json": {
       "model_id": "f523504249c84e43a631cc24915644d8",
       "version_major": 2,
       "version_minor": 0
      },
      "text/plain": [
       "model-00004-of-00005.safetensors:   0%|          | 0.00/3.19G [00:00<?, ?B/s]"
      ]
     },
     "metadata": {},
     "output_type": "display_data"
    },
    {
     "data": {
      "application/vnd.jupyter.widget-view+json": {
       "model_id": "187b7045343949ec81e2ad38738e1f66",
       "version_major": 2,
       "version_minor": 0
      },
      "text/plain": [
       "model-00002-of-00005.safetensors:   0%|          | 0.00/3.99G [00:00<?, ?B/s]"
      ]
     },
     "metadata": {},
     "output_type": "display_data"
    },
    {
     "data": {
      "application/vnd.jupyter.widget-view+json": {
       "model_id": "8edf0fd9163c454cb7151b3b6345f96d",
       "version_major": 2,
       "version_minor": 0
      },
      "text/plain": [
       "model-00005-of-00005.safetensors:   0%|          | 0.00/1.24G [00:00<?, ?B/s]"
      ]
     },
     "metadata": {},
     "output_type": "display_data"
    },
    {
     "data": {
      "application/vnd.jupyter.widget-view+json": {
       "model_id": "e29cda0f0fd1457bbb25a3dd613c0e85",
       "version_major": 2,
       "version_minor": 0
      },
      "text/plain": [
       "Loading checkpoint shards:   0%|          | 0/5 [00:00<?, ?it/s]"
      ]
     },
     "metadata": {},
     "output_type": "display_data"
    },
    {
     "data": {
      "application/vnd.jupyter.widget-view+json": {
       "model_id": "ba26dccfc81849bbb1057253a547706b",
       "version_major": 2,
       "version_minor": 0
      },
      "text/plain": [
       "generation_config.json:   0%|          | 0.00/239 [00:00<?, ?B/s]"
      ]
     },
     "metadata": {},
     "output_type": "display_data"
    },
    {
     "name": "stdout",
     "output_type": "stream",
     "text": [
      "cuda\n"
     ]
    }
   ],
   "source": [
    "# Load model directly\n",
    "from transformers import AutoTokenizer, AutoModelForCausalLM\n",
    "\n",
    "tokenizer = AutoTokenizer.from_pretrained(Qwen3_8B, padding_side='left')\n",
    "model = AutoModelForCausalLM.from_pretrained(Qwen3_8B)\n",
    "\n",
    "# 将模型移到可用设备\n",
    "device = torch.device(\"cuda\" if torch.cuda.is_available() else \"cpu\")\n",
    "print(device)\n",
    "model = model.to(device)"
   ]
  },
  {
   "cell_type": "markdown",
   "metadata": {
    "id": "B8ndox086sf1"
   },
   "source": [
    "## Implementation"
   ]
  },
  {
   "cell_type": "code",
   "execution_count": 9,
   "metadata": {
    "id": "boV_URyK6v29"
   },
   "outputs": [
    {
     "name": "stdout",
     "output_type": "stream",
     "text": [
      "Start preparing prompts...\n",
      "# Testing data points: 1155\n",
      "Generation complete: 1155 prompts\n",
      "Average prompt length: 341 bytes (~85 tokens)\n",
      "\n",
      "Analyze the following input user query:\n",
      "\n",
      "{\"query\": \"The idea that the united states was destined to extend westward across the continent?\"}\n",
      "\n",
      "Please provide your analysis in the following JSON format:\n",
      "\n",
      "{\"query\": \"The idea that the united states was destined to extend westward across the continent?\", \"reasoning\": \"[YOUR_DETAILED_REASONING]\", \"judgment\": \"[fully specified/underspecified]\"}\n",
      "\n"
     ]
    }
   ],
   "source": [
    "test_prompts = prepare_test_prompts(df_test_1155, task_FS_UND)\n",
    "print(test_prompts[0])"
   ]
  },
  {
   "cell_type": "code",
   "execution_count": 10,
   "metadata": {
    "id": "m1y3miSa6xRz"
   },
   "outputs": [
    {
     "name": "stderr",
     "output_type": "stream",
     "text": [
      "100%|██████████| 231/231 [2:37:23<00:00, 40.88s/it]  \n"
     ]
    },
    {
     "data": {
      "text/html": [
       "<div>\n",
       "<style scoped>\n",
       "    .dataframe tbody tr th:only-of-type {\n",
       "        vertical-align: middle;\n",
       "    }\n",
       "\n",
       "    .dataframe tbody tr th {\n",
       "        vertical-align: top;\n",
       "    }\n",
       "\n",
       "    .dataframe thead th {\n",
       "        text-align: right;\n",
       "    }\n",
       "</style>\n",
       "<table border=\"1\" class=\"dataframe\">\n",
       "  <thead>\n",
       "    <tr style=\"text-align: right;\">\n",
       "      <th></th>\n",
       "      <th>Unnamed: 0</th>\n",
       "      <th>request</th>\n",
       "      <th>gold_judgment</th>\n",
       "      <th>direct_source</th>\n",
       "      <th>thinking</th>\n",
       "      <th>model_response</th>\n",
       "      <th>model_pred</th>\n",
       "    </tr>\n",
       "  </thead>\n",
       "  <tbody>\n",
       "    <tr>\n",
       "      <th>0</th>\n",
       "      <td>1787</td>\n",
       "      <td>The idea that the united states was destined t...</td>\n",
       "      <td>fully specified</td>\n",
       "      <td>AmbigQA</td>\n",
       "      <td>&lt;think&gt;\\nOkay, let's see here. The user provid...</td>\n",
       "      <td>{\\n  \"query\": \"The idea that the united states...</td>\n",
       "      <td>underspecified</td>\n",
       "    </tr>\n",
       "    <tr>\n",
       "      <th>1</th>\n",
       "      <td>161</td>\n",
       "      <td>How many times french won the world cup?</td>\n",
       "      <td>fully specified</td>\n",
       "      <td>AmbigQA</td>\n",
       "      <td>&lt;think&gt;\\nOkay, let's tackle this query: \"How m...</td>\n",
       "      <td>{\\n  \"query\": \"How many times French won the w...</td>\n",
       "      <td>fully specified</td>\n",
       "    </tr>\n",
       "    <tr>\n",
       "      <th>2</th>\n",
       "      <td>1383</td>\n",
       "      <td>When was pink floyd's dark side of the moon re...</td>\n",
       "      <td>fully specified</td>\n",
       "      <td>AmbigQA</td>\n",
       "      <td>&lt;think&gt;\\nOkay, let me tackle this query. The u...</td>\n",
       "      <td>{\\n  \"query\": \"When was pink floyd's dark side...</td>\n",
       "      <td>fully specified</td>\n",
       "    </tr>\n",
       "    <tr>\n",
       "      <th>3</th>\n",
       "      <td>1111</td>\n",
       "      <td>When did leonardo da vinci finish painting the...</td>\n",
       "      <td>fully specified</td>\n",
       "      <td>AmbigQA</td>\n",
       "      <td>&lt;think&gt;\\nOkay, let's see. The user asked when ...</td>\n",
       "      <td>{\\n  \"query\": \"When did leonardo da vinci fini...</td>\n",
       "      <td>fully specified</td>\n",
       "    </tr>\n",
       "    <tr>\n",
       "      <th>4</th>\n",
       "      <td>1542</td>\n",
       "      <td>Who is the first speaker of national assembly ...</td>\n",
       "      <td>fully specified</td>\n",
       "      <td>AmbigQA</td>\n",
       "      <td>&lt;think&gt;\\nOkay, let's tackle this query: \"Who i...</td>\n",
       "      <td>{\\n  \"query\": \"Who is the first speaker of nat...</td>\n",
       "      <td>fully specified</td>\n",
       "    </tr>\n",
       "    <tr>\n",
       "      <th>...</th>\n",
       "      <td>...</td>\n",
       "      <td>...</td>\n",
       "      <td>...</td>\n",
       "      <td>...</td>\n",
       "      <td>...</td>\n",
       "      <td>...</td>\n",
       "      <td>...</td>\n",
       "    </tr>\n",
       "    <tr>\n",
       "      <th>1150</th>\n",
       "      <td>335</td>\n",
       "      <td>Is Pensacola sylvestris a multicellular organi...</td>\n",
       "      <td>fully specified</td>\n",
       "      <td>CLAMBER</td>\n",
       "      <td>&lt;think&gt;\\nOkay, let's tackle this query: \"Is Pe...</td>\n",
       "      <td>{\\n  \"query\": \"Is Pensacola sylvestris a multi...</td>\n",
       "      <td>underspecified</td>\n",
       "    </tr>\n",
       "    <tr>\n",
       "      <th>1151</th>\n",
       "      <td>337</td>\n",
       "      <td>What's the leaf mass per area of Larrea divari...</td>\n",
       "      <td>fully specified</td>\n",
       "      <td>CLAMBER</td>\n",
       "      <td>&lt;think&gt;\\nOkay, let me try to figure out if thi...</td>\n",
       "      <td>{\\n  \"query\": \"What's the leaf mass per area o...</td>\n",
       "      <td>fully specified</td>\n",
       "    </tr>\n",
       "    <tr>\n",
       "      <th>1152</th>\n",
       "      <td>364</td>\n",
       "      <td>When did Patsyella make its last appearance in...</td>\n",
       "      <td>fully specified</td>\n",
       "      <td>CLAMBER</td>\n",
       "      <td>&lt;think&gt;\\nOkay, let's tackle this query. The us...</td>\n",
       "      <td>{\\n  \"query\": \"When did Patsyella make its las...</td>\n",
       "      <td>underspecified</td>\n",
       "    </tr>\n",
       "    <tr>\n",
       "      <th>1153</th>\n",
       "      <td>276</td>\n",
       "      <td>What's the body mass of Salamandra salamandra?</td>\n",
       "      <td>fully specified</td>\n",
       "      <td>CLAMBER</td>\n",
       "      <td>&lt;think&gt;\\nOkay, let me try to figure out if thi...</td>\n",
       "      <td>{\\n  \"query\": \"What's the body mass of Salaman...</td>\n",
       "      <td>fully specified</td>\n",
       "    </tr>\n",
       "    <tr>\n",
       "      <th>1154</th>\n",
       "      <td>279</td>\n",
       "      <td>Is Caesalpinia intermedia a photoautotroph tro...</td>\n",
       "      <td>fully specified</td>\n",
       "      <td>CLAMBER</td>\n",
       "      <td>&lt;think&gt;\\nOkay, let's tackle this query: \"Is Ca...</td>\n",
       "      <td>{\\n  \"query\": \"Is Caesalpinia intermedia a pho...</td>\n",
       "      <td>fully specified</td>\n",
       "    </tr>\n",
       "  </tbody>\n",
       "</table>\n",
       "<p>1155 rows × 7 columns</p>\n",
       "</div>"
      ],
      "text/plain": [
       "      Unnamed: 0                                            request  \\\n",
       "0           1787  The idea that the united states was destined t...   \n",
       "1            161           How many times french won the world cup?   \n",
       "2           1383  When was pink floyd's dark side of the moon re...   \n",
       "3           1111  When did leonardo da vinci finish painting the...   \n",
       "4           1542  Who is the first speaker of national assembly ...   \n",
       "...          ...                                                ...   \n",
       "1150         335  Is Pensacola sylvestris a multicellular organi...   \n",
       "1151         337  What's the leaf mass per area of Larrea divari...   \n",
       "1152         364  When did Patsyella make its last appearance in...   \n",
       "1153         276     What's the body mass of Salamandra salamandra?   \n",
       "1154         279  Is Caesalpinia intermedia a photoautotroph tro...   \n",
       "\n",
       "        gold_judgment direct_source  \\\n",
       "0     fully specified       AmbigQA   \n",
       "1     fully specified       AmbigQA   \n",
       "2     fully specified       AmbigQA   \n",
       "3     fully specified       AmbigQA   \n",
       "4     fully specified       AmbigQA   \n",
       "...               ...           ...   \n",
       "1150  fully specified       CLAMBER   \n",
       "1151  fully specified       CLAMBER   \n",
       "1152  fully specified       CLAMBER   \n",
       "1153  fully specified       CLAMBER   \n",
       "1154  fully specified       CLAMBER   \n",
       "\n",
       "                                               thinking  \\\n",
       "0     <think>\\nOkay, let's see here. The user provid...   \n",
       "1     <think>\\nOkay, let's tackle this query: \"How m...   \n",
       "2     <think>\\nOkay, let me tackle this query. The u...   \n",
       "3     <think>\\nOkay, let's see. The user asked when ...   \n",
       "4     <think>\\nOkay, let's tackle this query: \"Who i...   \n",
       "...                                                 ...   \n",
       "1150  <think>\\nOkay, let's tackle this query: \"Is Pe...   \n",
       "1151  <think>\\nOkay, let me try to figure out if thi...   \n",
       "1152  <think>\\nOkay, let's tackle this query. The us...   \n",
       "1153  <think>\\nOkay, let me try to figure out if thi...   \n",
       "1154  <think>\\nOkay, let's tackle this query: \"Is Ca...   \n",
       "\n",
       "                                         model_response       model_pred  \n",
       "0     {\\n  \"query\": \"The idea that the united states...   underspecified  \n",
       "1     {\\n  \"query\": \"How many times French won the w...  fully specified  \n",
       "2     {\\n  \"query\": \"When was pink floyd's dark side...  fully specified  \n",
       "3     {\\n  \"query\": \"When did leonardo da vinci fini...  fully specified  \n",
       "4     {\\n  \"query\": \"Who is the first speaker of nat...  fully specified  \n",
       "...                                                 ...              ...  \n",
       "1150  {\\n  \"query\": \"Is Pensacola sylvestris a multi...   underspecified  \n",
       "1151  {\\n  \"query\": \"What's the leaf mass per area o...  fully specified  \n",
       "1152  {\\n  \"query\": \"When did Patsyella make its las...   underspecified  \n",
       "1153  {\\n  \"query\": \"What's the body mass of Salaman...  fully specified  \n",
       "1154  {\\n  \"query\": \"Is Caesalpinia intermedia a pho...  fully specified  \n",
       "\n",
       "[1155 rows x 7 columns]"
      ]
     },
     "execution_count": 10,
     "metadata": {},
     "output_type": "execute_result"
    }
   ],
   "source": [
    "test_df = run_experiment(test_prompts, df_test_1155)\n",
    "test_df"
   ]
  },
  {
   "cell_type": "code",
   "execution_count": 11,
   "metadata": {
    "id": "nO60tVpt7pSD"
   },
   "outputs": [
    {
     "name": "stdout",
     "output_type": "stream",
     "text": [
      "No error found, directly process the data.\n",
      "                 precision    recall  f1-score   support\n",
      "\n",
      "fully specified       0.68      0.58      0.63       598\n",
      " underspecified       0.61      0.71      0.65       557\n",
      "\n",
      "       accuracy                           0.64      1155\n",
      "      macro avg       0.64      0.64      0.64      1155\n",
      "   weighted avg       0.65      0.64      0.64      1155\n",
      "\n"
     ]
    },
    {
     "data": {
      "image/png": "[encoded data removed]",
      "text/plain": [
       "<Figure size 640x480 with 2 Axes>"
      ]
     },
     "metadata": {},
     "output_type": "display_data"
    }
   ],
   "source": [
    "retrieve_results(test_df, \"Qwen3_8B_FS_UND\")"
   ]
  },
  {
   "cell_type": "code",
   "execution_count": 6,
   "metadata": {},
   "outputs": [
    {
     "name": "stdout",
     "output_type": "stream",
     "text": [
      "                 precision    recall  f1-score   support\n",
      "\n",
      "fully specified       0.74      0.56      0.63       431\n",
      " underspecified       0.64      0.80      0.71       424\n",
      "\n",
      "       accuracy                           0.68       855\n",
      "      macro avg       0.69      0.68      0.67       855\n",
      "   weighted avg       0.69      0.68      0.67       855\n",
      "\n"
     ]
    }
   ],
   "source": [
    "obtain_results_without('Qwen3_8B_FS_UND.csv', 'AmbigQA')"
   ]
  },
  {
   "cell_type": "markdown",
   "metadata": {
    "id": "AEyP9x2h8wCB"
   },
   "source": [
    "# Qwen3 14B"
   ]
  },
  {
   "cell_type": "markdown",
   "metadata": {
    "id": "hiAXW29f8yJt"
   },
   "source": [
    "## Loading the model"
   ]
  },
  {
   "cell_type": "code",
   "execution_count": 5,
   "metadata": {
    "id": "V_ARIKvG8z7-"
   },
   "outputs": [],
   "source": [
    "Qwen3_14B = \"Qwen/Qwen3-14B\"\n",
    "\n",
    "import os\n",
    "os.environ['TRANSFORMERS_CACHE'] = '/scratch-local/yhuang/huggingface_cache'\n",
    "# 确保目录存在\n",
    "os.makedirs('/scratch-local/yhuang/huggingface_cache', exist_ok=True)"
   ]
  },
  {
   "cell_type": "code",
   "execution_count": 6,
   "metadata": {
    "id": "dXMyZC2t860C"
   },
   "outputs": [
    {
     "name": "stderr",
     "output_type": "stream",
     "text": [
      "/home/yhuang/sglang-venv-2/lib/python3.11/site-packages/transformers/utils/hub.py:105: FutureWarning: Using `TRANSFORMERS_CACHE` is deprecated and will be removed in v5 of Transformers. Use `HF_HOME` instead.\n",
      "  warnings.warn(\n"
     ]
    },
    {
     "data": {
      "application/vnd.jupyter.widget-view+json": {
       "model_id": "472e7ee818d846099db75a2995336ffb",
       "version_major": 2,
       "version_minor": 0
      },
      "text/plain": [
       "Loading checkpoint shards:   0%|          | 0/8 [00:00<?, ?it/s]"
      ]
     },
     "metadata": {},
     "output_type": "display_data"
    },
    {
     "name": "stdout",
     "output_type": "stream",
     "text": [
      "cuda\n"
     ]
    }
   ],
   "source": [
    "# Load model directly\n",
    "from transformers import AutoTokenizer, AutoModelForCausalLM\n",
    "\n",
    "tokenizer = AutoTokenizer.from_pretrained(Qwen3_14B, padding_side='left')\n",
    "model = AutoModelForCausalLM.from_pretrained(Qwen3_14B)\n",
    "\n",
    "# 将模型移到可用设备\n",
    "device = torch.device(\"cuda\" if torch.cuda.is_available() else \"cpu\")\n",
    "print(device)\n",
    "model = model.to(device)"
   ]
  },
  {
   "cell_type": "markdown",
   "metadata": {
    "id": "WVGpoyNn8-_G"
   },
   "source": [
    "## Implementation"
   ]
  },
  {
   "cell_type": "code",
   "execution_count": 9,
   "metadata": {
    "id": "X3u9IUNY8-00"
   },
   "outputs": [
    {
     "name": "stdout",
     "output_type": "stream",
     "text": [
      "Start preparing prompts...\n",
      "# Testing data points: 1155\n",
      "Generation complete: 1155 prompts\n",
      "Average prompt length: 341 bytes (~85 tokens)\n",
      "\n",
      "Analyze the following input user query:\n",
      "\n",
      "{\"query\": \"The idea that the united states was destined to extend westward across the continent?\"}\n",
      "\n",
      "Please provide your analysis in the following JSON format:\n",
      "\n",
      "{\"query\": \"The idea that the united states was destined to extend westward across the continent?\", \"reasoning\": \"[YOUR_DETAILED_REASONING]\", \"judgment\": \"[fully specified/underspecified]\"}\n",
      "\n"
     ]
    }
   ],
   "source": [
    "test_prompts = prepare_test_prompts(df_test_1155, task_FS_UND)\n",
    "print(test_prompts[0])"
   ]
  },
  {
   "cell_type": "code",
   "execution_count": 10,
   "metadata": {
    "id": "o4xdHkfx9CaP"
   },
   "outputs": [
    {
     "name": "stderr",
     "output_type": "stream",
     "text": [
      "100%|██████████| 231/231 [1:49:27<00:00, 28.43s/it]\n"
     ]
    },
    {
     "data": {
      "text/html": [
       "<div>\n",
       "<style scoped>\n",
       "    .dataframe tbody tr th:only-of-type {\n",
       "        vertical-align: middle;\n",
       "    }\n",
       "\n",
       "    .dataframe tbody tr th {\n",
       "        vertical-align: top;\n",
       "    }\n",
       "\n",
       "    .dataframe thead th {\n",
       "        text-align: right;\n",
       "    }\n",
       "</style>\n",
       "<table border=\"1\" class=\"dataframe\">\n",
       "  <thead>\n",
       "    <tr style=\"text-align: right;\">\n",
       "      <th></th>\n",
       "      <th>Unnamed: 0</th>\n",
       "      <th>request</th>\n",
       "      <th>gold_judgment</th>\n",
       "      <th>direct_source</th>\n",
       "      <th>thinking</th>\n",
       "      <th>model_response</th>\n",
       "      <th>model_pred</th>\n",
       "    </tr>\n",
       "  </thead>\n",
       "  <tbody>\n",
       "    <tr>\n",
       "      <th>0</th>\n",
       "      <td>1787</td>\n",
       "      <td>The idea that the united states was destined t...</td>\n",
       "      <td>fully specified</td>\n",
       "      <td>AmbigQA</td>\n",
       "      <td>&lt;think&gt;\\nOkay, let's tackle this query. The us...</td>\n",
       "      <td>{\\n  \"query\": \"The idea that the united states...</td>\n",
       "      <td>underspecified</td>\n",
       "    </tr>\n",
       "    <tr>\n",
       "      <th>1</th>\n",
       "      <td>161</td>\n",
       "      <td>How many times french won the world cup?</td>\n",
       "      <td>fully specified</td>\n",
       "      <td>AmbigQA</td>\n",
       "      <td>&lt;think&gt;\\nOkay, let's see here. The user asked,...</td>\n",
       "      <td>{\\n  \"query\": \"How many times french won the w...</td>\n",
       "      <td>fully specified</td>\n",
       "    </tr>\n",
       "    <tr>\n",
       "      <th>2</th>\n",
       "      <td>1383</td>\n",
       "      <td>When was pink floyd's dark side of the moon re...</td>\n",
       "      <td>fully specified</td>\n",
       "      <td>AmbigQA</td>\n",
       "      <td>&lt;think&gt;\\nOkay, let me look at this query. The ...</td>\n",
       "      <td>{\\n  \"query\": \"When was pink floyd's dark side...</td>\n",
       "      <td>fully specified</td>\n",
       "    </tr>\n",
       "    <tr>\n",
       "      <th>3</th>\n",
       "      <td>1111</td>\n",
       "      <td>When did leonardo da vinci finish painting the...</td>\n",
       "      <td>fully specified</td>\n",
       "      <td>AmbigQA</td>\n",
       "      <td>&lt;think&gt;\\nOkay, let's tackle this query. The us...</td>\n",
       "      <td>{\\n  \"query\": \"When did leonardo da vinci fini...</td>\n",
       "      <td>fully specified</td>\n",
       "    </tr>\n",
       "    <tr>\n",
       "      <th>4</th>\n",
       "      <td>1542</td>\n",
       "      <td>Who is the first speaker of national assembly ...</td>\n",
       "      <td>fully specified</td>\n",
       "      <td>AmbigQA</td>\n",
       "      <td>&lt;think&gt;\\nOkay, let's take a look at this query...</td>\n",
       "      <td>{\\n  \"query\": \"Who is the first speaker of nat...</td>\n",
       "      <td>fully specified</td>\n",
       "    </tr>\n",
       "    <tr>\n",
       "      <th>...</th>\n",
       "      <td>...</td>\n",
       "      <td>...</td>\n",
       "      <td>...</td>\n",
       "      <td>...</td>\n",
       "      <td>...</td>\n",
       "      <td>...</td>\n",
       "      <td>...</td>\n",
       "    </tr>\n",
       "    <tr>\n",
       "      <th>1150</th>\n",
       "      <td>335</td>\n",
       "      <td>Is Pensacola sylvestris a multicellular organi...</td>\n",
       "      <td>fully specified</td>\n",
       "      <td>CLAMBER</td>\n",
       "      <td>&lt;think&gt;\\nOkay, let's tackle this query: \"Is Pe...</td>\n",
       "      <td>{\\n  \"query\": \"Is Pensacola sylvestris a multi...</td>\n",
       "      <td>fully specified</td>\n",
       "    </tr>\n",
       "    <tr>\n",
       "      <th>1151</th>\n",
       "      <td>337</td>\n",
       "      <td>What's the leaf mass per area of Larrea divari...</td>\n",
       "      <td>fully specified</td>\n",
       "      <td>CLAMBER</td>\n",
       "      <td>&lt;think&gt;\\nOkay, let me try to figure this out. ...</td>\n",
       "      <td>{\\n  \"query\": \"What's the leaf mass per area o...</td>\n",
       "      <td>fully specified</td>\n",
       "    </tr>\n",
       "    <tr>\n",
       "      <th>1152</th>\n",
       "      <td>364</td>\n",
       "      <td>When did Patsyella make its last appearance in...</td>\n",
       "      <td>fully specified</td>\n",
       "      <td>CLAMBER</td>\n",
       "      <td>&lt;think&gt;\\nOkay, let's take a look at this query...</td>\n",
       "      <td>{\\n  \"query\": \"When did Patsyella make its las...</td>\n",
       "      <td>fully specified</td>\n",
       "    </tr>\n",
       "    <tr>\n",
       "      <th>1153</th>\n",
       "      <td>276</td>\n",
       "      <td>What's the body mass of Salamandra salamandra?</td>\n",
       "      <td>fully specified</td>\n",
       "      <td>CLAMBER</td>\n",
       "      <td>&lt;think&gt;\\nOkay, let me think about this. The us...</td>\n",
       "      <td>{\\n  \"query\": \"What's the body mass of Salaman...</td>\n",
       "      <td>fully specified</td>\n",
       "    </tr>\n",
       "    <tr>\n",
       "      <th>1154</th>\n",
       "      <td>279</td>\n",
       "      <td>Is Caesalpinia intermedia a photoautotroph tro...</td>\n",
       "      <td>fully specified</td>\n",
       "      <td>CLAMBER</td>\n",
       "      <td>&lt;think&gt;\\nOkay, let's tackle this query: \"Is Ca...</td>\n",
       "      <td>{\\n  \"query\": \"Is Caesalpinia intermedia a pho...</td>\n",
       "      <td>fully specified</td>\n",
       "    </tr>\n",
       "  </tbody>\n",
       "</table>\n",
       "<p>1155 rows × 7 columns</p>\n",
       "</div>"
      ],
      "text/plain": [
       "      Unnamed: 0                                            request  \\\n",
       "0           1787  The idea that the united states was destined t...   \n",
       "1            161           How many times french won the world cup?   \n",
       "2           1383  When was pink floyd's dark side of the moon re...   \n",
       "3           1111  When did leonardo da vinci finish painting the...   \n",
       "4           1542  Who is the first speaker of national assembly ...   \n",
       "...          ...                                                ...   \n",
       "1150         335  Is Pensacola sylvestris a multicellular organi...   \n",
       "1151         337  What's the leaf mass per area of Larrea divari...   \n",
       "1152         364  When did Patsyella make its last appearance in...   \n",
       "1153         276     What's the body mass of Salamandra salamandra?   \n",
       "1154         279  Is Caesalpinia intermedia a photoautotroph tro...   \n",
       "\n",
       "        gold_judgment direct_source  \\\n",
       "0     fully specified       AmbigQA   \n",
       "1     fully specified       AmbigQA   \n",
       "2     fully specified       AmbigQA   \n",
       "3     fully specified       AmbigQA   \n",
       "4     fully specified       AmbigQA   \n",
       "...               ...           ...   \n",
       "1150  fully specified       CLAMBER   \n",
       "1151  fully specified       CLAMBER   \n",
       "1152  fully specified       CLAMBER   \n",
       "1153  fully specified       CLAMBER   \n",
       "1154  fully specified       CLAMBER   \n",
       "\n",
       "                                               thinking  \\\n",
       "0     <think>\\nOkay, let's tackle this query. The us...   \n",
       "1     <think>\\nOkay, let's see here. The user asked,...   \n",
       "2     <think>\\nOkay, let me look at this query. The ...   \n",
       "3     <think>\\nOkay, let's tackle this query. The us...   \n",
       "4     <think>\\nOkay, let's take a look at this query...   \n",
       "...                                                 ...   \n",
       "1150  <think>\\nOkay, let's tackle this query: \"Is Pe...   \n",
       "1151  <think>\\nOkay, let me try to figure this out. ...   \n",
       "1152  <think>\\nOkay, let's take a look at this query...   \n",
       "1153  <think>\\nOkay, let me think about this. The us...   \n",
       "1154  <think>\\nOkay, let's tackle this query: \"Is Ca...   \n",
       "\n",
       "                                         model_response       model_pred  \n",
       "0     {\\n  \"query\": \"The idea that the united states...   underspecified  \n",
       "1     {\\n  \"query\": \"How many times french won the w...  fully specified  \n",
       "2     {\\n  \"query\": \"When was pink floyd's dark side...  fully specified  \n",
       "3     {\\n  \"query\": \"When did leonardo da vinci fini...  fully specified  \n",
       "4     {\\n  \"query\": \"Who is the first speaker of nat...  fully specified  \n",
       "...                                                 ...              ...  \n",
       "1150  {\\n  \"query\": \"Is Pensacola sylvestris a multi...  fully specified  \n",
       "1151  {\\n  \"query\": \"What's the leaf mass per area o...  fully specified  \n",
       "1152  {\\n  \"query\": \"When did Patsyella make its las...  fully specified  \n",
       "1153  {\\n  \"query\": \"What's the body mass of Salaman...  fully specified  \n",
       "1154  {\\n  \"query\": \"Is Caesalpinia intermedia a pho...  fully specified  \n",
       "\n",
       "[1155 rows x 7 columns]"
      ]
     },
     "execution_count": 10,
     "metadata": {},
     "output_type": "execute_result"
    }
   ],
   "source": [
    "test_df = run_experiment(test_prompts, df_test_1155)\n",
    "test_df"
   ]
  },
  {
   "cell_type": "code",
   "execution_count": 11,
   "metadata": {
    "id": "qj3bThgh9DjC"
   },
   "outputs": [
    {
     "name": "stdout",
     "output_type": "stream",
     "text": [
      "No error found, directly process the data.\n",
      "                 precision    recall  f1-score   support\n",
      "\n",
      "fully specified       0.65      0.77      0.70       598\n",
      " underspecified       0.69      0.55      0.61       557\n",
      "\n",
      "       accuracy                           0.66      1155\n",
      "      macro avg       0.67      0.66      0.65      1155\n",
      "   weighted avg       0.66      0.66      0.66      1155\n",
      "\n"
     ]
    },
    {
     "data": {
      "image/png": "[encoded data removed]",
      "text/plain": [
       "<Figure size 640x480 with 2 Axes>"
      ]
     },
     "metadata": {},
     "output_type": "display_data"
    }
   ],
   "source": [
    "retrieve_results(test_df, \"Qwen3_14B_FS_UND\")"
   ]
  },
  {
   "cell_type": "code",
   "execution_count": 7,
   "metadata": {},
   "outputs": [
    {
     "name": "stdout",
     "output_type": "stream",
     "text": [
      "                 precision    recall  f1-score   support\n",
      "\n",
      "fully specified       0.68      0.77      0.72       431\n",
      " underspecified       0.73      0.63      0.67       424\n",
      "\n",
      "       accuracy                           0.70       855\n",
      "      macro avg       0.70      0.70      0.70       855\n",
      "   weighted avg       0.70      0.70      0.70       855\n",
      "\n"
     ]
    }
   ],
   "source": [
    "obtain_results_without('Qwen3_14B_FS_UND.csv', 'AmbigQA')"
   ]
  },
  {
   "cell_type": "markdown",
   "metadata": {
    "id": "EduUolcF9Qvn"
   },
   "source": [
    "# Qwen3 32B"
   ]
  },
  {
   "cell_type": "markdown",
   "metadata": {
    "id": "20i1Rqok9mVv"
   },
   "source": [
    "## Loading the model 1"
   ]
  },
  {
   "cell_type": "code",
   "execution_count": 6,
   "metadata": {
    "id": "4G8-T2SM9VT4"
   },
   "outputs": [],
   "source": [
    "Qwen3_32B = \"Qwen/Qwen3-32B\"\n",
    "\n",
    "import os\n",
    "os.environ['TRANSFORMERS_CACHE'] = '/scratch-local/yhuang/huggingface_cache'\n",
    "# 确保目录存在\n",
    "os.makedirs('/scratch-local/yhuang/huggingface_cache', exist_ok=True)"
   ]
  },
  {
   "cell_type": "code",
   "execution_count": null,
   "metadata": {
    "id": "oE0_N2lO9fN_"
   },
   "outputs": [],
   "source": [
    "# Load model directly\n",
    "from transformers import AutoTokenizer, AutoModelForCausalLM\n",
    "\n",
    "tokenizer = AutoTokenizer.from_pretrained(Qwen3_32B, padding_side='left')\n",
    "model = AutoModelForCausalLM.from_pretrained(Qwen3_32B)\n",
    "\n",
    "# 将模型移到可用设备\n",
    "device = torch.device(\"cuda\" if torch.cuda.is_available() else \"cpu\")\n",
    "print(device)\n",
    "model = model.to(device)"
   ]
  },
  {
   "cell_type": "markdown",
   "metadata": {
    "id": "tvBuQ5WV9ovC"
   },
   "source": [
    "## Loading the model 2"
   ]
  },
  {
   "cell_type": "code",
   "execution_count": 5,
   "metadata": {
    "id": "AuLvUmk69uTx"
   },
   "outputs": [
    {
     "data": {
      "text/plain": [
       "'\\nmodule load CUDA/12.4.0\\nsource ~/sglang-venv-2/bin/activate\\nhuggingface-cli login\\n\\n\\n# 创建所有必要的目录\\nmkdir -p /scratch-local/yhuang/sglang_cache\\nmkdir -p /scratch-local/yhuang/huggingface_cache\\nmkdir -p /scratch-local/yhuang/torch_cache\\nmkdir -p /scratch-local/yhuang/cuda_cache\\nmkdir -p /scratch-local/yhuang/xdg_cache\\nmkdir -p /scratch-local/yhuang/tmp\\nmkdir -p /scratch-local/yhuang/logs\\n\\n# 设置所有相关环境变量\\nexport SGLANG_CACHE_DIR=/scratch-local/yhuang/sglang_cache\\nexport TRANSFORMERS_CACHE=/scratch-local/yhuang/huggingface_cache\\nexport HF_HOME=/scratch-local/yhuang/huggingface_cache\\nexport HF_DATASETS_CACHE=/scratch-local/yhuang/huggingface_cache/datasets\\nexport TORCH_HOME=/scratch-local/yhuang/torch_cache\\nexport CUDA_CACHE_PATH=/scratch-local/yhuang/cuda_cache\\nexport XDG_CACHE_HOME=/scratch-local/yhuang/xdg_cache\\nexport TMPDIR=/scratch-local/yhuang/tmp\\nexport TEMP=/scratch-local/yhuang/tmp\\nexport TMP=/scratch-local/yhuang/tmp\\nexport SGLANG_LOG_DIR=/scratch-local/yhuang/logs\\n\\n# launching\\npython -m sglang.launch_server --port 7501 --model-path Qwen/Qwen3-4B --trust-remote-code\\nCUDA_VISIBLE_DEVICES=0,1 python -m sglang.launch_server --port 7501 --model-path Qwen/Qwen3-32B --trust-remote-code --tp 2\\n'"
      ]
     },
     "execution_count": 5,
     "metadata": {},
     "output_type": "execute_result"
    }
   ],
   "source": [
    "Qwen_32B = \"Qwen/Qwen3-32B\"\n",
    "\n",
    "\"\"\"\n",
    "module load CUDA/12.4.0\n",
    "source ~/sglang-venv-2/bin/activate\n",
    "huggingface-cli login\n",
    "\n",
    "\n",
    "# 创建所有必要的目录\n",
    "mkdir -p /scratch-local/yhuang/sglang_cache\n",
    "mkdir -p /scratch-local/yhuang/huggingface_cache\n",
    "mkdir -p /scratch-local/yhuang/torch_cache\n",
    "mkdir -p /scratch-local/yhuang/cuda_cache\n",
    "mkdir -p /scratch-local/yhuang/xdg_cache\n",
    "mkdir -p /scratch-local/yhuang/tmp\n",
    "mkdir -p /scratch-local/yhuang/logs\n",
    "\n",
    "# 设置所有相关环境变量\n",
    "export SGLANG_CACHE_DIR=/scratch-local/yhuang/sglang_cache\n",
    "export TRANSFORMERS_CACHE=/scratch-local/yhuang/huggingface_cache\n",
    "export HF_HOME=/scratch-local/yhuang/huggingface_cache\n",
    "export HF_DATASETS_CACHE=/scratch-local/yhuang/huggingface_cache/datasets\n",
    "export TORCH_HOME=/scratch-local/yhuang/torch_cache\n",
    "export CUDA_CACHE_PATH=/scratch-local/yhuang/cuda_cache\n",
    "export XDG_CACHE_HOME=/scratch-local/yhuang/xdg_cache\n",
    "export TMPDIR=/scratch-local/yhuang/tmp\n",
    "export TEMP=/scratch-local/yhuang/tmp\n",
    "export TMP=/scratch-local/yhuang/tmp\n",
    "export SGLANG_LOG_DIR=/scratch-local/yhuang/logs\n",
    "\n",
    "# launching\n",
    "python -m sglang.launch_server --port 7501 --model-path Qwen/Qwen3-4B --trust-remote-code\n",
    "CUDA_VISIBLE_DEVICES=0,1 python -m sglang.launch_server --port 7501 --model-path Qwen/Qwen3-32B --trust-remote-code --tp 2\n",
    "\"\"\""
   ]
  },
  {
   "cell_type": "code",
   "execution_count": 6,
   "metadata": {
    "id": "VAD6Qq81-NSK"
   },
   "outputs": [],
   "source": [
    "import openai\n",
    "import re\n",
    "client = openai.Client(\n",
    "    base_url=\"http://localhost:7501/v1\", api_key=\"EMPTY\")\n",
    "\n",
    "\n",
    "def batch_generate_responses_openai(prompts, system_prompt=system_prompt,\n",
    "                            temperature=0.7, max_new_tokens=32768, batch_size=5,\n",
    "                            enable_thinking=True):\n",
    "    responses = []\n",
    "    thoughts = []\n",
    "\n",
    "    for i in tqdm(range(0, len(prompts), batch_size)):\n",
    "        batch_prompts = prompts[i:i+batch_size]\n",
    "        batch_responses = []\n",
    "        batch_thoughts = []\n",
    "\n",
    "        for prompt in batch_prompts:\n",
    "            try:\n",
    "                kwargs = {\n",
    "                    \"model\": \"Qwen/Qwen3-32B\",\n",
    "                    \"messages\": [\n",
    "                        {\"role\": \"system\", \"content\": system_prompt},\n",
    "                        {\"role\": \"user\", \"content\": prompt},\n",
    "                    ],\n",
    "                    \"temperature\": temperature,\n",
    "                    \"max_tokens\": max_new_tokens,\n",
    "                    \"extra_body\": {\"chat_template_kwargs\": {\"enable_thinking\": False}}\n",
    "                }\n",
    "\n",
    "                # 仅当enable_thinking为True时添加思考模式参数\n",
    "                if enable_thinking:\n",
    "                    kwargs[\"extra_body\"] = {\"chat_template_kwargs\": {\"enable_thinking\": True}}\n",
    "\n",
    "                response = client.chat.completions.create(**kwargs)\n",
    "                full_text = response.choices[0].message.content\n",
    "\n",
    "                # 仅在enable_thinking为True时尝试分离思考过程\n",
    "                if enable_thinking:\n",
    "                    try:\n",
    "                        end_think_pos = full_text.find('</think>')\n",
    "\n",
    "                        if end_think_pos != -1:\n",
    "                            thought = full_text[:end_think_pos].strip()\n",
    "                            answer = full_text[end_think_pos + len('</think>'):].strip()\n",
    "                        else:\n",
    "                            thought = \"\"\n",
    "                            answer = full_text\n",
    "                    except Exception as parsing_error:\n",
    "                        print(f\"解析思考过程时出错: {parsing_error}\")\n",
    "                        thought = \"\"\n",
    "                        answer = full_text\n",
    "                else:\n",
    "                    # 当enable_thinking为False时，不分离思考过程\n",
    "                    thought = \"\"\n",
    "                    answer = full_text\n",
    "\n",
    "                batch_responses.append(answer)\n",
    "                batch_thoughts.append(thought)\n",
    "\n",
    "            except Exception as e:\n",
    "                print(f\"API调用时出错: {e}\")\n",
    "                batch_responses.append(None)\n",
    "                batch_thoughts.append(None)\n",
    "\n",
    "        responses.extend(batch_responses)\n",
    "        thoughts.extend(batch_thoughts)\n",
    "\n",
    "    return responses, thoughts\n",
    "\n",
    "\n",
    "def run_experiment(input_prompts, test_df):\n",
    "  output = batch_generate_responses_openai(input_prompts)\n",
    "  df = test_df.copy()\n",
    "  df['thinking'] = output[1]\n",
    "  df['model_response'] = output[0]\n",
    "  to_process = output[0]\n",
    "  processed_judgments = get_judgments_from_responses(to_process)\n",
    "  df['model_pred'] = processed_judgments\n",
    "\n",
    "  return df\n",
    "\n",
    "def get_judgments_from_responses(responses: List[str]) -> List[Optional[str]]:\n",
    "    \"\"\"\n",
    "    推荐的解析函数，结合了多种方法的优点\n",
    "    \"\"\"\n",
    "    judgments = []\n",
    "\n",
    "    for i, response in enumerate(responses):\n",
    "        judgment = None\n",
    "\n",
    "        try:\n",
    "            # 方法1: 尝试直接解析JSON\n",
    "            clean_response = response.strip()\n",
    "            if clean_response.startswith('{') and clean_response.endswith('}'):\n",
    "                data = json.loads(clean_response)\n",
    "                judgment = data.get('judgment')\n",
    "            else:\n",
    "                # 方法2: 寻找JSON部分\n",
    "                start_idx = clean_response.find('{')\n",
    "                end_idx = clean_response.rfind('}')\n",
    "                if start_idx != -1 and end_idx != -1:\n",
    "                    json_part = clean_response[start_idx:end_idx+1]\n",
    "                    data = json.loads(json_part)\n",
    "                    judgment = data.get('judgment')\n",
    "\n",
    "        except json.JSONDecodeError:\n",
    "            # 方法3: 使用正则表达式作为后备\n",
    "            pattern = r'\"judgment\"\\s*:\\s*\"([^\"]*)\"'\n",
    "            match = re.search(pattern, response)\n",
    "            if match:\n",
    "                judgment = match.group(1)\n",
    "\n",
    "        if judgment is None:\n",
    "            print(f\"Warning: response {i} cannot retrieve judgment\")\n",
    "            print(f\"Respond content: {response[:200]}...\")\n",
    "            judgment = \"error\"\n",
    "\n",
    "        judgments.append(judgment)\n",
    "\n",
    "    return judgments\n",
    "\n",
    "def retrieve_results(result_df, output_name):\n",
    "  processed_judgments = result_df['model_pred'].tolist()\n",
    "\n",
    "  if \"error\" in processed_judgments:\n",
    "    print(\"There are unrecognized labels.\")\n",
    "    result_df.to_csv(f'{output_name}_error.csv')\n",
    "  else:\n",
    "    print(\"No error found, directly process the data.\")\n",
    "    print(classification_report(result_df[\"gold_judgment\"], result_df['model_pred']))\n",
    "    result_df.to_csv(f'{output_name}.csv')\n",
    "\n",
    "    judgment_gold = result_df['gold_judgment'].tolist()\n",
    "    judgment_model = result_df[\"model_pred\"].tolist()\n",
    "\n",
    "    binary_labels = ['underspecified', 'fully specified']\n",
    "\n",
    "    cm = confusion_matrix(judgment_gold, judgment_model, labels=binary_labels)\n",
    "    disp = ConfusionMatrixDisplay(confusion_matrix=cm, display_labels=binary_labels)\n",
    "\n",
    "    disp.plot(cmap='Blues')  # 可以调整 colormap\n",
    "\n",
    "def prepare_test_prompts(test_df, task_text, learning_df=None, instruction_text=None, theory=False):\n",
    "  print(\"Start preparing prompts...\")\n",
    "  if learning_df is not None and instruction_text is not None:\n",
    "    print(f\"# learning samples: {len(learning_df)}\")\n",
    "    examples = []\n",
    "    if theory:\n",
    "      for _, row in learning_df.iterrows():\n",
    "        example = {\n",
    "                \"query\": row['request'],\n",
    "                \"reasoning\": row['reasoning'],\n",
    "                \"category\": row['category'],\n",
    "                \"judgment\": row['gold_judgment']\n",
    "              }\n",
    "        examples.append(json.dumps(example, ensure_ascii=False))\n",
    "\n",
    "      examples_text = '\\n\\n'.join(examples)\n",
    "      base_prompt = instruction_text + examples_text + task_text\n",
    "    else:\n",
    "      for _, row in learning_df.iterrows():\n",
    "        example = {\n",
    "                \"query\": row['request'],\n",
    "                \"judgment\": row['gold_judgment']\n",
    "              }\n",
    "        examples.append(json.dumps(example, ensure_ascii=False))\n",
    "\n",
    "      examples_text = '\\n\\n'.join(examples)\n",
    "      base_prompt = instruction_text + examples_text + task_text\n",
    "\n",
    "  else:\n",
    "    base_prompt = task_text\n",
    "\n",
    "  print(f\"# Testing data points: {len(test_df)}\")\n",
    "  test_prompts = []\n",
    "  for _, row in test_df.iterrows():\n",
    "    query = row['request']\n",
    "    complete_prompt = base_prompt.replace(\"TARGET\", query)\n",
    "    test_prompts.append(complete_prompt)\n",
    "\n",
    "  print(f\"Generation complete: {len(test_prompts)} prompts\")\n",
    "\n",
    "  avg_length = sum(len(p) for p in test_prompts) // len(test_prompts)\n",
    "  print(f\"Average prompt length: {avg_length:,} bytes (~{avg_length//4:,} tokens)\")\n",
    "\n",
    "  return test_prompts"
   ]
  },
  {
   "cell_type": "markdown",
   "metadata": {
    "id": "UkC1dkFF_DPp"
   },
   "source": [
    "## Implementation"
   ]
  },
  {
   "cell_type": "markdown",
   "metadata": {
    "id": "KzEPNQHp_Vvm"
   },
   "source": [
    "### For Loading 1"
   ]
  },
  {
   "cell_type": "code",
   "execution_count": 10,
   "metadata": {
    "id": "kmHGvlLp_FeQ"
   },
   "outputs": [
    {
     "name": "stdout",
     "output_type": "stream",
     "text": [
      "Start preparing prompts...\n",
      "# Testing data points: 1155\n",
      "Generation complete: 1155 prompts\n",
      "Average prompt length: 341 bytes (~85 tokens)\n",
      "\n",
      "Analyze the following input user query:\n",
      "\n",
      "{\"query\": \"The idea that the united states was destined to extend westward across the continent?\"}\n",
      "\n",
      "Please provide your analysis in the following JSON format:\n",
      "\n",
      "{\"query\": \"The idea that the united states was destined to extend westward across the continent?\", \"reasoning\": \"[YOUR_DETAILED_REASONING]\", \"judgment\": \"[fully specified/underspecified]\"}\n",
      "\n"
     ]
    }
   ],
   "source": [
    "test_prompts = prepare_test_prompts(df_test_1155, task_FS_UND)\n",
    "print(test_prompts[0])"
   ]
  },
  {
   "cell_type": "code",
   "execution_count": null,
   "metadata": {
    "id": "UkGvbYta-_MM"
   },
   "outputs": [],
   "source": [
    "test_df = run_experiment(test_prompts, df_test_1155)\n",
    "test_df"
   ]
  },
  {
   "cell_type": "code",
   "execution_count": null,
   "metadata": {
    "id": "5ni838lT_O5X"
   },
   "outputs": [],
   "source": [
    "retrieve_results(test_df, \"Qwen3_32B_FS_UND\")"
   ]
  },
  {
   "cell_type": "markdown",
   "metadata": {
    "id": "jpuZDojC_X5b"
   },
   "source": [
    "### For Loading 2"
   ]
  },
  {
   "cell_type": "markdown",
   "metadata": {
    "id": "40X1ILpl_ghS"
   },
   "source": [
    "#### A pilot test"
   ]
  },
  {
   "cell_type": "code",
   "execution_count": 7,
   "metadata": {
    "id": "Ib6fKLBj_aF8"
   },
   "outputs": [
    {
     "name": "stdout",
     "output_type": "stream",
     "text": [
      "Start preparing prompts...\n",
      "# Testing data points: 12\n",
      "Generation complete: 12 prompts\n",
      "Average prompt length: 349 bytes (~87 tokens)\n",
      "\n",
      "Analyze the following input user query:\n",
      "\n",
      "{\"query\": \"When did the nuclear accident happen?\"}\n",
      "\n",
      "Please provide your analysis in the following JSON format:\n",
      "\n",
      "{\"query\": \"When did the nuclear accident happen?\", \"reasoning\": \"[YOUR_DETAILED_REASONING]\", \"judgment\": \"[fully specified/underspecified]\"}\n",
      "\n"
     ]
    }
   ],
   "source": [
    "test_prompts = prepare_test_prompts(df_few_shots, task_FS_UND)\n",
    "print(test_prompts[0])"
   ]
  },
  {
   "cell_type": "code",
   "execution_count": 8,
   "metadata": {
    "id": "HZKqtM3S_pFJ"
   },
   "outputs": [
    {
     "name": "stderr",
     "output_type": "stream",
     "text": [
      "100%|██████████| 3/3 [01:39<00:00, 33.33s/it]\n"
     ]
    },
    {
     "data": {
      "text/html": [
       "<div>\n",
       "<style scoped>\n",
       "    .dataframe tbody tr th:only-of-type {\n",
       "        vertical-align: middle;\n",
       "    }\n",
       "\n",
       "    .dataframe tbody tr th {\n",
       "        vertical-align: top;\n",
       "    }\n",
       "\n",
       "    .dataframe thead th {\n",
       "        text-align: right;\n",
       "    }\n",
       "</style>\n",
       "<table border=\"1\" class=\"dataframe\">\n",
       "  <thead>\n",
       "    <tr style=\"text-align: right;\">\n",
       "      <th></th>\n",
       "      <th>request</th>\n",
       "      <th>gold_analysis</th>\n",
       "      <th>gold_thought</th>\n",
       "      <th>gold_category</th>\n",
       "      <th>gold_judgment</th>\n",
       "      <th>direct_source</th>\n",
       "      <th>thinking</th>\n",
       "      <th>model_response</th>\n",
       "      <th>model_pred</th>\n",
       "    </tr>\n",
       "  </thead>\n",
       "  <tbody>\n",
       "    <tr>\n",
       "      <th>0</th>\n",
       "      <td>When did the nuclear accident happen?</td>\n",
       "      <td>{\"predicate\": \"happen\", \"argument_time\": \"when...</td>\n",
       "      <td>The predicate \"happen\" is specified; its argum...</td>\n",
       "      <td>underspecified referential/indexical argument</td>\n",
       "      <td>underspecified</td>\n",
       "      <td>CoCoNot</td>\n",
       "      <td>&lt;think&gt;\\nOkay, let's analyze this user query. ...</td>\n",
       "      <td>{\"query\": \"When did the nuclear accident happe...</td>\n",
       "      <td>underspecified</td>\n",
       "    </tr>\n",
       "    <tr>\n",
       "      <th>1</th>\n",
       "      <td>I need help picking out a professional wardrob...</td>\n",
       "      <td>{\"predicate\": \"provide\", \"argument_agent\": \"yo...</td>\n",
       "      <td>The predicate \"provide\" is specified; its argu...</td>\n",
       "      <td>underspecified quantified argument</td>\n",
       "      <td>underspecified</td>\n",
       "      <td>IN3</td>\n",
       "      <td>&lt;think&gt;\\nOkay, let's analyze this user query. ...</td>\n",
       "      <td>{\"query\": \"I need help picking out a professio...</td>\n",
       "      <td>fully specified</td>\n",
       "    </tr>\n",
       "    <tr>\n",
       "      <th>2</th>\n",
       "      <td>When did the apple tv 4k come out?</td>\n",
       "      <td>{\"predicate\": \"come out\", \"argument_time\": \"wh...</td>\n",
       "      <td>The predicate \"come out\" is underspecified bec...</td>\n",
       "      <td>underspecified predicate</td>\n",
       "      <td>underspecified</td>\n",
       "      <td>AmbigQA</td>\n",
       "      <td>&lt;think&gt;\\nOkay, let's tackle this query analysi...</td>\n",
       "      <td>{\"query\": \"When did the apple tv 4k come out?\"...</td>\n",
       "      <td>fully specified</td>\n",
       "    </tr>\n",
       "    <tr>\n",
       "      <th>3</th>\n",
       "      <td>Who sings i love rock 'n' roll?               ...</td>\n",
       "      <td>{\"predicate\": \"sings\", \"argument_agent\": \"who\"...</td>\n",
       "      <td>The predicate \"sings\" is specified; its argume...</td>\n",
       "      <td>underspecified argument concept</td>\n",
       "      <td>underspecified</td>\n",
       "      <td>AmbigQA</td>\n",
       "      <td>&lt;think&gt;\\nOkay, let's analyze the user query \"W...</td>\n",
       "      <td>{\"query\": \"Who sings i love rock 'n' roll?    ...</td>\n",
       "      <td>fully specified</td>\n",
       "    </tr>\n",
       "    <tr>\n",
       "      <th>4</th>\n",
       "      <td>Where does the new fallout game take place?</td>\n",
       "      <td>{\"predicate\": \"take place\", \"argument_location...</td>\n",
       "      <td>The predicate \"take place\" is underspecified b...</td>\n",
       "      <td>multi-sourced underspecification</td>\n",
       "      <td>underspecified</td>\n",
       "      <td>AmbigQA</td>\n",
       "      <td>&lt;think&gt;\\nOkay, let's see. The user is asking a...</td>\n",
       "      <td>{\"query\": \"Where does the new fallout game tak...</td>\n",
       "      <td>underspecified</td>\n",
       "    </tr>\n",
       "    <tr>\n",
       "      <th>5</th>\n",
       "      <td>Who is the existing prime minister?</td>\n",
       "      <td>{\"predicate\": \"existing prime minister\", \"argu...</td>\n",
       "      <td>The predicate \"existing prime minister\" is spe...</td>\n",
       "      <td>missing argument</td>\n",
       "      <td>underspecified</td>\n",
       "      <td>CoCoNot</td>\n",
       "      <td>&lt;think&gt;\\nOkay, let's look at this user query. ...</td>\n",
       "      <td>{\"query\": \"Who is the existing prime minister?...</td>\n",
       "      <td>underspecified</td>\n",
       "    </tr>\n",
       "    <tr>\n",
       "      <th>6</th>\n",
       "      <td>Who played the king in game of thrones season 1?</td>\n",
       "      <td>{\"predicate\": \"played\", \"argument_agent\": \"who...</td>\n",
       "      <td>The predicate \"played\" is specified; its argum...</td>\n",
       "      <td>fully specified request</td>\n",
       "      <td>fully specified</td>\n",
       "      <td>AmbigQA</td>\n",
       "      <td>&lt;think&gt;\\nOkay, let's take a look at this query...</td>\n",
       "      <td>{\"query\": \"Who played the king in game of thro...</td>\n",
       "      <td>underspecified</td>\n",
       "    </tr>\n",
       "    <tr>\n",
       "      <th>7</th>\n",
       "      <td>Who plays henry tudor in the white princess?</td>\n",
       "      <td>{\"predicate\": \"plays\", \"argument_agent\": \"who\"...</td>\n",
       "      <td>The predicate \"plays\" is specified; its argume...</td>\n",
       "      <td>fully specified request</td>\n",
       "      <td>fully specified</td>\n",
       "      <td>AmbigQA</td>\n",
       "      <td>&lt;think&gt;\\nOkay, I need to determine if the quer...</td>\n",
       "      <td>{\"query\": \"Who plays henry tudor in the white ...</td>\n",
       "      <td>fully specified</td>\n",
       "    </tr>\n",
       "    <tr>\n",
       "      <th>8</th>\n",
       "      <td>Who won the contest to design the capitol buil...</td>\n",
       "      <td>{\"predicate\": \"won\", \"argument_agent\": \"who\", ...</td>\n",
       "      <td>The predicate \"won\" is specified; its argument...</td>\n",
       "      <td>fully specified request</td>\n",
       "      <td>fully specified</td>\n",
       "      <td>AmbigQA</td>\n",
       "      <td>&lt;think&gt;\\nOkay, let's see. The user is asking \"...</td>\n",
       "      <td>{\"query\": \"Who won the contest to design the c...</td>\n",
       "      <td>underspecified</td>\n",
       "    </tr>\n",
       "    <tr>\n",
       "      <th>9</th>\n",
       "      <td>How many daughters do George Washington have?</td>\n",
       "      <td>{\"predicate: \"have\", \"argument_theme\": \"how ma...</td>\n",
       "      <td>The predicate \"have\" is specified; its argumen...</td>\n",
       "      <td>fully specified request</td>\n",
       "      <td>fully specified</td>\n",
       "      <td>IN3</td>\n",
       "      <td>&lt;think&gt;\\nOkay, let's see. The user is asking, ...</td>\n",
       "      <td>{\"query\": \"How many daughters do George Washin...</td>\n",
       "      <td>fully specified</td>\n",
       "    </tr>\n",
       "    <tr>\n",
       "      <th>10</th>\n",
       "      <td>Identify the most common types of cyber attack...</td>\n",
       "      <td>{\"predicate\": \"identify\", \"argument_theme\": \"t...</td>\n",
       "      <td>The predicate \"identify\" is specified; its arg...</td>\n",
       "      <td>fully specified request</td>\n",
       "      <td>fully specified</td>\n",
       "      <td>IN3</td>\n",
       "      <td>&lt;think&gt;\\nOkay, let's see. The user query is \"I...</td>\n",
       "      <td>{\"query\": \"Identify the most common types of c...</td>\n",
       "      <td>fully specified</td>\n",
       "    </tr>\n",
       "    <tr>\n",
       "      <th>11</th>\n",
       "      <td>Find the top five best selling video games of ...</td>\n",
       "      <td>{\"predicate\": find\", \"argument_theme\": \"the to...</td>\n",
       "      <td>The predicate \"find\" is specified; its argumen...</td>\n",
       "      <td>fully specified request</td>\n",
       "      <td>fully specified</td>\n",
       "      <td>IN3</td>\n",
       "      <td>&lt;think&gt;\\nOkay, let's see. The user is asking f...</td>\n",
       "      <td>{\"query\": \"Find the top five best selling vide...</td>\n",
       "      <td>underspecified</td>\n",
       "    </tr>\n",
       "  </tbody>\n",
       "</table>\n",
       "</div>"
      ],
      "text/plain": [
       "                                              request  \\\n",
       "0               When did the nuclear accident happen?   \n",
       "1   I need help picking out a professional wardrob...   \n",
       "2                  When did the apple tv 4k come out?   \n",
       "3   Who sings i love rock 'n' roll?               ...   \n",
       "4         Where does the new fallout game take place?   \n",
       "5                 Who is the existing prime minister?   \n",
       "6    Who played the king in game of thrones season 1?   \n",
       "7        Who plays henry tudor in the white princess?   \n",
       "8   Who won the contest to design the capitol buil...   \n",
       "9       How many daughters do George Washington have?   \n",
       "10  Identify the most common types of cyber attack...   \n",
       "11  Find the top five best selling video games of ...   \n",
       "\n",
       "                                        gold_analysis  \\\n",
       "0   {\"predicate\": \"happen\", \"argument_time\": \"when...   \n",
       "1   {\"predicate\": \"provide\", \"argument_agent\": \"yo...   \n",
       "2   {\"predicate\": \"come out\", \"argument_time\": \"wh...   \n",
       "3   {\"predicate\": \"sings\", \"argument_agent\": \"who\"...   \n",
       "4   {\"predicate\": \"take place\", \"argument_location...   \n",
       "5   {\"predicate\": \"existing prime minister\", \"argu...   \n",
       "6   {\"predicate\": \"played\", \"argument_agent\": \"who...   \n",
       "7   {\"predicate\": \"plays\", \"argument_agent\": \"who\"...   \n",
       "8   {\"predicate\": \"won\", \"argument_agent\": \"who\", ...   \n",
       "9   {\"predicate: \"have\", \"argument_theme\": \"how ma...   \n",
       "10  {\"predicate\": \"identify\", \"argument_theme\": \"t...   \n",
       "11  {\"predicate\": find\", \"argument_theme\": \"the to...   \n",
       "\n",
       "                                         gold_thought  \\\n",
       "0   The predicate \"happen\" is specified; its argum...   \n",
       "1   The predicate \"provide\" is specified; its argu...   \n",
       "2   The predicate \"come out\" is underspecified bec...   \n",
       "3   The predicate \"sings\" is specified; its argume...   \n",
       "4   The predicate \"take place\" is underspecified b...   \n",
       "5   The predicate \"existing prime minister\" is spe...   \n",
       "6   The predicate \"played\" is specified; its argum...   \n",
       "7   The predicate \"plays\" is specified; its argume...   \n",
       "8   The predicate \"won\" is specified; its argument...   \n",
       "9   The predicate \"have\" is specified; its argumen...   \n",
       "10  The predicate \"identify\" is specified; its arg...   \n",
       "11  The predicate \"find\" is specified; its argumen...   \n",
       "\n",
       "                                    gold_category    gold_judgment  \\\n",
       "0   underspecified referential/indexical argument   underspecified   \n",
       "1              underspecified quantified argument   underspecified   \n",
       "2                        underspecified predicate   underspecified   \n",
       "3                 underspecified argument concept   underspecified   \n",
       "4                multi-sourced underspecification   underspecified   \n",
       "5                                missing argument   underspecified   \n",
       "6                         fully specified request  fully specified   \n",
       "7                         fully specified request  fully specified   \n",
       "8                         fully specified request  fully specified   \n",
       "9                         fully specified request  fully specified   \n",
       "10                        fully specified request  fully specified   \n",
       "11                        fully specified request  fully specified   \n",
       "\n",
       "   direct_source                                           thinking  \\\n",
       "0        CoCoNot  <think>\\nOkay, let's analyze this user query. ...   \n",
       "1            IN3  <think>\\nOkay, let's analyze this user query. ...   \n",
       "2        AmbigQA  <think>\\nOkay, let's tackle this query analysi...   \n",
       "3        AmbigQA  <think>\\nOkay, let's analyze the user query \"W...   \n",
       "4        AmbigQA  <think>\\nOkay, let's see. The user is asking a...   \n",
       "5        CoCoNot  <think>\\nOkay, let's look at this user query. ...   \n",
       "6        AmbigQA  <think>\\nOkay, let's take a look at this query...   \n",
       "7        AmbigQA  <think>\\nOkay, I need to determine if the quer...   \n",
       "8        AmbigQA  <think>\\nOkay, let's see. The user is asking \"...   \n",
       "9            IN3  <think>\\nOkay, let's see. The user is asking, ...   \n",
       "10           IN3  <think>\\nOkay, let's see. The user query is \"I...   \n",
       "11           IN3  <think>\\nOkay, let's see. The user is asking f...   \n",
       "\n",
       "                                       model_response       model_pred  \n",
       "0   {\"query\": \"When did the nuclear accident happe...   underspecified  \n",
       "1   {\"query\": \"I need help picking out a professio...  fully specified  \n",
       "2   {\"query\": \"When did the apple tv 4k come out?\"...  fully specified  \n",
       "3   {\"query\": \"Who sings i love rock 'n' roll?    ...  fully specified  \n",
       "4   {\"query\": \"Where does the new fallout game tak...   underspecified  \n",
       "5   {\"query\": \"Who is the existing prime minister?...   underspecified  \n",
       "6   {\"query\": \"Who played the king in game of thro...   underspecified  \n",
       "7   {\"query\": \"Who plays henry tudor in the white ...  fully specified  \n",
       "8   {\"query\": \"Who won the contest to design the c...   underspecified  \n",
       "9   {\"query\": \"How many daughters do George Washin...  fully specified  \n",
       "10  {\"query\": \"Identify the most common types of c...  fully specified  \n",
       "11  {\"query\": \"Find the top five best selling vide...   underspecified  "
      ]
     },
     "execution_count": 8,
     "metadata": {},
     "output_type": "execute_result"
    }
   ],
   "source": [
    "test_df = run_experiment(test_prompts, df_few_shots)\n",
    "test_df"
   ]
  },
  {
   "cell_type": "code",
   "execution_count": 9,
   "metadata": {
    "id": "P7te_t0K_tvc"
   },
   "outputs": [
    {
     "name": "stdout",
     "output_type": "stream",
     "text": [
      "No error found, directly process the data.\n",
      "                 precision    recall  f1-score   support\n",
      "\n",
      "fully specified       0.50      0.50      0.50         6\n",
      " underspecified       0.50      0.50      0.50         6\n",
      "\n",
      "       accuracy                           0.50        12\n",
      "      macro avg       0.50      0.50      0.50        12\n",
      "   weighted avg       0.50      0.50      0.50        12\n",
      "\n"
     ]
    },
    {
     "data": {
      "image/png": "[encoded data removed]",
      "text/plain": [
       "<Figure size 640x480 with 2 Axes>"
      ]
     },
     "metadata": {},
     "output_type": "display_data"
    }
   ],
   "source": [
    "retrieve_results(test_df, \"Qwen3_32B_FS_UND_pilot\")"
   ]
  },
  {
   "cell_type": "markdown",
   "metadata": {
    "id": "e0J5jDXX_0AT"
   },
   "source": [
    "#### 噶事"
   ]
  },
  {
   "cell_type": "code",
   "execution_count": 7,
   "metadata": {
    "id": "dxCATf4S_ycs"
   },
   "outputs": [
    {
     "name": "stdout",
     "output_type": "stream",
     "text": [
      "Start preparing prompts...\n",
      "# Testing data points: 1155\n",
      "Generation complete: 1155 prompts\n",
      "Average prompt length: 341 bytes (~85 tokens)\n",
      "\n",
      "Analyze the following input user query:\n",
      "\n",
      "{\"query\": \"The idea that the united states was destined to extend westward across the continent?\"}\n",
      "\n",
      "Please provide your analysis in the following JSON format:\n",
      "\n",
      "{\"query\": \"The idea that the united states was destined to extend westward across the continent?\", \"reasoning\": \"[YOUR_DETAILED_REASONING]\", \"judgment\": \"[fully specified/underspecified]\"}\n",
      "\n"
     ]
    }
   ],
   "source": [
    "test_prompts = prepare_test_prompts(df_test_1155, task_FS_UND)\n",
    "print(test_prompts[0])"
   ]
  },
  {
   "cell_type": "code",
   "execution_count": 8,
   "metadata": {
    "id": "EAp7pVG8_8wB"
   },
   "outputs": [
    {
     "name": "stderr",
     "output_type": "stream",
     "text": [
      "100%|██████████| 231/231 [2:48:03<00:00, 43.65s/it]  \n"
     ]
    },
    {
     "data": {
      "text/html": [
       "<div>\n",
       "<style scoped>\n",
       "    .dataframe tbody tr th:only-of-type {\n",
       "        vertical-align: middle;\n",
       "    }\n",
       "\n",
       "    .dataframe tbody tr th {\n",
       "        vertical-align: top;\n",
       "    }\n",
       "\n",
       "    .dataframe thead th {\n",
       "        text-align: right;\n",
       "    }\n",
       "</style>\n",
       "<table border=\"1\" class=\"dataframe\">\n",
       "  <thead>\n",
       "    <tr style=\"text-align: right;\">\n",
       "      <th></th>\n",
       "      <th>Unnamed: 0</th>\n",
       "      <th>request</th>\n",
       "      <th>gold_judgment</th>\n",
       "      <th>direct_source</th>\n",
       "      <th>thinking</th>\n",
       "      <th>model_response</th>\n",
       "      <th>model_pred</th>\n",
       "    </tr>\n",
       "  </thead>\n",
       "  <tbody>\n",
       "    <tr>\n",
       "      <th>0</th>\n",
       "      <td>1787</td>\n",
       "      <td>The idea that the united states was destined t...</td>\n",
       "      <td>fully specified</td>\n",
       "      <td>AmbigQA</td>\n",
       "      <td>&lt;think&gt;\\nOkay, let's take a look at this query...</td>\n",
       "      <td>{\"query\": \"The idea that the united states was...</td>\n",
       "      <td>underspecified</td>\n",
       "    </tr>\n",
       "    <tr>\n",
       "      <th>1</th>\n",
       "      <td>161</td>\n",
       "      <td>How many times french won the world cup?</td>\n",
       "      <td>fully specified</td>\n",
       "      <td>AmbigQA</td>\n",
       "      <td>&lt;think&gt;\\nOkay, let's see. The user is asking, ...</td>\n",
       "      <td>{\"query\": \"How many times french won the world...</td>\n",
       "      <td>fully specified</td>\n",
       "    </tr>\n",
       "    <tr>\n",
       "      <th>2</th>\n",
       "      <td>1383</td>\n",
       "      <td>When was pink floyd's dark side of the moon re...</td>\n",
       "      <td>fully specified</td>\n",
       "      <td>AmbigQA</td>\n",
       "      <td>&lt;think&gt;\\nOkay, let's tackle this query analysi...</td>\n",
       "      <td>{\"query\": \"When was pink floyd's dark side of ...</td>\n",
       "      <td>fully specified</td>\n",
       "    </tr>\n",
       "    <tr>\n",
       "      <th>3</th>\n",
       "      <td>1111</td>\n",
       "      <td>When did leonardo da vinci finish painting the...</td>\n",
       "      <td>fully specified</td>\n",
       "      <td>AmbigQA</td>\n",
       "      <td>&lt;think&gt;\\nOkay, let's tackle this query analysi...</td>\n",
       "      <td>{\"query\": \"When did leonardo da vinci finish p...</td>\n",
       "      <td>fully specified</td>\n",
       "    </tr>\n",
       "    <tr>\n",
       "      <th>4</th>\n",
       "      <td>1542</td>\n",
       "      <td>Who is the first speaker of national assembly ...</td>\n",
       "      <td>fully specified</td>\n",
       "      <td>AmbigQA</td>\n",
       "      <td>&lt;think&gt;\\nOkay, I need to analyze the query \"Wh...</td>\n",
       "      <td>{\"query\": \"Who is the first speaker of nationa...</td>\n",
       "      <td>fully specified</td>\n",
       "    </tr>\n",
       "    <tr>\n",
       "      <th>...</th>\n",
       "      <td>...</td>\n",
       "      <td>...</td>\n",
       "      <td>...</td>\n",
       "      <td>...</td>\n",
       "      <td>...</td>\n",
       "      <td>...</td>\n",
       "      <td>...</td>\n",
       "    </tr>\n",
       "    <tr>\n",
       "      <th>1150</th>\n",
       "      <td>335</td>\n",
       "      <td>Is Pensacola sylvestris a multicellular organi...</td>\n",
       "      <td>fully specified</td>\n",
       "      <td>CLAMBER</td>\n",
       "      <td>&lt;think&gt;\\nOkay, let's see. The user is asking w...</td>\n",
       "      <td>{\"query\": \"Is Pensacola sylvestris a multicell...</td>\n",
       "      <td>underspecified</td>\n",
       "    </tr>\n",
       "    <tr>\n",
       "      <th>1151</th>\n",
       "      <td>337</td>\n",
       "      <td>What's the leaf mass per area of Larrea divari...</td>\n",
       "      <td>fully specified</td>\n",
       "      <td>CLAMBER</td>\n",
       "      <td>&lt;think&gt;\\nOkay, let's see. The user is asking a...</td>\n",
       "      <td>{\"query\": \"What's the leaf mass per area of La...</td>\n",
       "      <td>underspecified</td>\n",
       "    </tr>\n",
       "    <tr>\n",
       "      <th>1152</th>\n",
       "      <td>364</td>\n",
       "      <td>When did Patsyella make its last appearance in...</td>\n",
       "      <td>fully specified</td>\n",
       "      <td>CLAMBER</td>\n",
       "      <td>&lt;think&gt;\\nOkay, let's see. The user is asking w...</td>\n",
       "      <td>{\"query\": \"When did Patsyella make its last ap...</td>\n",
       "      <td>fully specified</td>\n",
       "    </tr>\n",
       "    <tr>\n",
       "      <th>1153</th>\n",
       "      <td>276</td>\n",
       "      <td>What's the body mass of Salamandra salamandra?</td>\n",
       "      <td>fully specified</td>\n",
       "      <td>CLAMBER</td>\n",
       "      <td>&lt;think&gt;\\nOkay, I need to determine if the quer...</td>\n",
       "      <td>{\"query\": \"What's the body mass of Salamandra ...</td>\n",
       "      <td>fully specified</td>\n",
       "    </tr>\n",
       "    <tr>\n",
       "      <th>1154</th>\n",
       "      <td>279</td>\n",
       "      <td>Is Caesalpinia intermedia a photoautotroph tro...</td>\n",
       "      <td>fully specified</td>\n",
       "      <td>CLAMBER</td>\n",
       "      <td>&lt;think&gt;\\nOkay, let's tackle this query. The us...</td>\n",
       "      <td>{\\n  \"query\": \"Is Caesalpinia intermedia a pho...</td>\n",
       "      <td>fully specified</td>\n",
       "    </tr>\n",
       "  </tbody>\n",
       "</table>\n",
       "<p>1155 rows × 7 columns</p>\n",
       "</div>"
      ],
      "text/plain": [
       "      Unnamed: 0                                            request  \\\n",
       "0           1787  The idea that the united states was destined t...   \n",
       "1            161           How many times french won the world cup?   \n",
       "2           1383  When was pink floyd's dark side of the moon re...   \n",
       "3           1111  When did leonardo da vinci finish painting the...   \n",
       "4           1542  Who is the first speaker of national assembly ...   \n",
       "...          ...                                                ...   \n",
       "1150         335  Is Pensacola sylvestris a multicellular organi...   \n",
       "1151         337  What's the leaf mass per area of Larrea divari...   \n",
       "1152         364  When did Patsyella make its last appearance in...   \n",
       "1153         276     What's the body mass of Salamandra salamandra?   \n",
       "1154         279  Is Caesalpinia intermedia a photoautotroph tro...   \n",
       "\n",
       "        gold_judgment direct_source  \\\n",
       "0     fully specified       AmbigQA   \n",
       "1     fully specified       AmbigQA   \n",
       "2     fully specified       AmbigQA   \n",
       "3     fully specified       AmbigQA   \n",
       "4     fully specified       AmbigQA   \n",
       "...               ...           ...   \n",
       "1150  fully specified       CLAMBER   \n",
       "1151  fully specified       CLAMBER   \n",
       "1152  fully specified       CLAMBER   \n",
       "1153  fully specified       CLAMBER   \n",
       "1154  fully specified       CLAMBER   \n",
       "\n",
       "                                               thinking  \\\n",
       "0     <think>\\nOkay, let's take a look at this query...   \n",
       "1     <think>\\nOkay, let's see. The user is asking, ...   \n",
       "2     <think>\\nOkay, let's tackle this query analysi...   \n",
       "3     <think>\\nOkay, let's tackle this query analysi...   \n",
       "4     <think>\\nOkay, I need to analyze the query \"Wh...   \n",
       "...                                                 ...   \n",
       "1150  <think>\\nOkay, let's see. The user is asking w...   \n",
       "1151  <think>\\nOkay, let's see. The user is asking a...   \n",
       "1152  <think>\\nOkay, let's see. The user is asking w...   \n",
       "1153  <think>\\nOkay, I need to determine if the quer...   \n",
       "1154  <think>\\nOkay, let's tackle this query. The us...   \n",
       "\n",
       "                                         model_response       model_pred  \n",
       "0     {\"query\": \"The idea that the united states was...   underspecified  \n",
       "1     {\"query\": \"How many times french won the world...  fully specified  \n",
       "2     {\"query\": \"When was pink floyd's dark side of ...  fully specified  \n",
       "3     {\"query\": \"When did leonardo da vinci finish p...  fully specified  \n",
       "4     {\"query\": \"Who is the first speaker of nationa...  fully specified  \n",
       "...                                                 ...              ...  \n",
       "1150  {\"query\": \"Is Pensacola sylvestris a multicell...   underspecified  \n",
       "1151  {\"query\": \"What's the leaf mass per area of La...   underspecified  \n",
       "1152  {\"query\": \"When did Patsyella make its last ap...  fully specified  \n",
       "1153  {\"query\": \"What's the body mass of Salamandra ...  fully specified  \n",
       "1154  {\\n  \"query\": \"Is Caesalpinia intermedia a pho...  fully specified  \n",
       "\n",
       "[1155 rows x 7 columns]"
      ]
     },
     "execution_count": 8,
     "metadata": {},
     "output_type": "execute_result"
    }
   ],
   "source": [
    "test_df = run_experiment(test_prompts, df_test_1155)\n",
    "test_df"
   ]
  },
  {
   "cell_type": "code",
   "execution_count": 9,
   "metadata": {
    "id": "CubJ5Bn7_9y7"
   },
   "outputs": [
    {
     "name": "stdout",
     "output_type": "stream",
     "text": [
      "No error found, directly process the data.\n",
      "                 precision    recall  f1-score   support\n",
      "\n",
      "fully specified       0.65      0.74      0.69       598\n",
      " underspecified       0.67      0.58      0.62       557\n",
      "\n",
      "       accuracy                           0.66      1155\n",
      "      macro avg       0.66      0.66      0.66      1155\n",
      "   weighted avg       0.66      0.66      0.66      1155\n",
      "\n"
     ]
    },
    {
     "data": {
      "image/png": "[encoded data removed]",
      "text/plain": [
       "<Figure size 640x480 with 2 Axes>"
      ]
     },
     "metadata": {},
     "output_type": "display_data"
    }
   ],
   "source": [
    "retrieve_results(test_df, \"Qwen3_32B_FS_UND\")"
   ]
  },
  {
   "cell_type": "code",
   "execution_count": 8,
   "metadata": {},
   "outputs": [
    {
     "name": "stdout",
     "output_type": "stream",
     "text": [
      "                 precision    recall  f1-score   support\n",
      "\n",
      "fully specified       0.70      0.71      0.70       431\n",
      " underspecified       0.70      0.68      0.69       424\n",
      "\n",
      "       accuracy                           0.70       855\n",
      "      macro avg       0.70      0.70      0.70       855\n",
      "   weighted avg       0.70      0.70      0.70       855\n",
      "\n"
     ]
    }
   ],
   "source": [
    "obtain_results_without('Qwen3_32B_FS_UND.csv', 'AmbigQA')"
   ]
  }
 ],
 "metadata": {
  "colab": {
   "provenance": []
  },
  "kernelspec": {
   "display_name": "Python (sglang-venv-2)",
   "language": "python",
   "name": "sglang-venv"
  },
  "language_info": {
   "codemirror_mode": {
    "name": "ipython",
    "version": 3
   },
   "file_extension": ".py",
   "mimetype": "text/x-python",
   "name": "python",
   "nbconvert_exporter": "python",
   "pygments_lexer": "ipython3",
   "version": "3.11.3"
  }
 },
 "nbformat": 4,
 "nbformat_minor": 4
}
