{
 "cells": [
  {
   "cell_type": "code",
   "execution_count": 1,
   "metadata": {
    "id": "99HbgqFQR1M2",
    "outputId": "ee53b30d-d850-494e-9c16-3480ca13ede4"
   },
   "outputs": [
    {
     "name": "stdout",
     "output_type": "stream",
     "text": [
      "Sun Jul 13 15:07:00 2025       \n",
      "+-----------------------------------------------------------------------------------------+\n",
      "| NVIDIA-SMI 565.57.01              Driver Version: 565.57.01      CUDA Version: 12.7     |\n",
      "|-----------------------------------------+------------------------+----------------------+\n",
      "| GPU  Name                 Persistence-M | Bus-Id          Disp.A | Volatile Uncorr. ECC |\n",
      "| Fan  Temp   Perf          Pwr:Usage/Cap |           Memory-Usage | GPU-Util  Compute M. |\n",
      "|                                         |                        |               MIG M. |\n",
      "|=========================================+========================+======================|\n",
      "|   0  NVIDIA A100-SXM4-40GB          On  |   00000000:32:00.0 Off |                    0 |\n",
      "| N/A   29C    P0             48W /  400W |       1MiB /  40960MiB |      0%      Default |\n",
      "|                                         |                        |             Disabled |\n",
      "+-----------------------------------------+------------------------+----------------------+\n",
      "                                                                                         \n",
      "+-----------------------------------------------------------------------------------------+\n",
      "| Processes:                                                                              |\n",
      "|  GPU   GI   CI        PID   Type   Process name                              GPU Memory |\n",
      "|        ID   ID                                                               Usage      |\n",
      "|=========================================================================================|\n",
      "|  No running processes found                                                             |\n",
      "+-----------------------------------------------------------------------------------------+\n"
     ]
    }
   ],
   "source": [
    "!nvidia-smi"
   ]
  },
  {
   "cell_type": "code",
   "execution_count": 2,
   "metadata": {
    "id": "7FMSbvacR-1R"
   },
   "outputs": [],
   "source": [
    "%matplotlib inline"
   ]
  },
  {
   "cell_type": "code",
   "execution_count": 3,
   "metadata": {
    "id": "d0gacUhJSAJC"
   },
   "outputs": [],
   "source": [
    "import pandas as pd\n",
    "from sklearn.metrics import classification_report\n",
    "import matplotlib.pyplot as plt\n",
    "from sklearn.metrics import confusion_matrix\n",
    "from sklearn.metrics import ConfusionMatrixDisplay\n",
    "from tqdm import tqdm\n",
    "import torch\n",
    "import json\n",
    "from typing import List, Optional, Dict, Any\n",
    "import re"
   ]
  },
  {
   "cell_type": "markdown",
   "metadata": {
    "id": "mOuuBVo3SCOx"
   },
   "source": [
    "## Loading data"
   ]
  },
  {
   "cell_type": "code",
   "execution_count": 4,
   "metadata": {
    "id": "L1Tsie0zSEcU"
   },
   "outputs": [],
   "source": [
    "# For Snellius\n",
    "input_csv = \"Qwen3_4B_FS_UND.csv\"\n",
    "input_df = pd.read_csv(input_csv)"
   ]
  },
  {
   "cell_type": "markdown",
   "metadata": {
    "id": "dxsJnHIrclAI"
   },
   "source": [
    "## Loading the model"
   ]
  },
  {
   "cell_type": "code",
   "execution_count": 5,
   "metadata": {
    "id": "_Umy0XeTckSL"
   },
   "outputs": [],
   "source": [
    "Qwen3_4B = \"Qwen/Qwen3-4B\"\n",
    "\n",
    "import os\n",
    "os.environ['TRANSFORMERS_CACHE'] = '/scratch-local/yhuang/huggingface_cache'\n",
    "# 确保目录存在\n",
    "os.makedirs('/scratch-local/yhuang/huggingface_cache', exist_ok=True)"
   ]
  },
  {
   "cell_type": "code",
   "execution_count": 6,
   "metadata": {
    "colab": {
     "referenced_widgets": [
      "e6b02c63429a4b8981ff1276617aac6e"
     ]
    },
    "id": "CFL_7FBDctE9",
    "outputId": "e28e5cc0-b278-495e-dae1-b6906cc85c07"
   },
   "outputs": [
    {
     "name": "stderr",
     "output_type": "stream",
     "text": [
      "/home/yhuang/sglang-venv-2/lib/python3.11/site-packages/transformers/utils/hub.py:105: FutureWarning: Using `TRANSFORMERS_CACHE` is deprecated and will be removed in v5 of Transformers. Use `HF_HOME` instead.\n",
      "  warnings.warn(\n"
     ]
    },
    {
     "data": {
      "application/vnd.jupyter.widget-view+json": {
       "model_id": "1ebcec3b62ce40318b414efa3114bd03",
       "version_major": 2,
       "version_minor": 0
      },
      "text/plain": [
       "tokenizer_config.json: 0.00B [00:00, ?B/s]"
      ]
     },
     "metadata": {},
     "output_type": "display_data"
    },
    {
     "data": {
      "application/vnd.jupyter.widget-view+json": {
       "model_id": "5db105364abc45fe8a177cc3e24abf1a",
       "version_major": 2,
       "version_minor": 0
      },
      "text/plain": [
       "vocab.json: 0.00B [00:00, ?B/s]"
      ]
     },
     "metadata": {},
     "output_type": "display_data"
    },
    {
     "data": {
      "application/vnd.jupyter.widget-view+json": {
       "model_id": "33a51ff3b17f47128ff80f6570a3bc09",
       "version_major": 2,
       "version_minor": 0
      },
      "text/plain": [
       "merges.txt: 0.00B [00:00, ?B/s]"
      ]
     },
     "metadata": {},
     "output_type": "display_data"
    },
    {
     "data": {
      "application/vnd.jupyter.widget-view+json": {
       "model_id": "39a7f0669f0c4c9da9ea26c4d8d2faed",
       "version_major": 2,
       "version_minor": 0
      },
      "text/plain": [
       "tokenizer.json:   0%|          | 0.00/11.4M [00:00<?, ?B/s]"
      ]
     },
     "metadata": {},
     "output_type": "display_data"
    },
    {
     "data": {
      "application/vnd.jupyter.widget-view+json": {
       "model_id": "6864dea52ad54ddc97dd377558dbfd7b",
       "version_major": 2,
       "version_minor": 0
      },
      "text/plain": [
       "config.json:   0%|          | 0.00/726 [00:00<?, ?B/s]"
      ]
     },
     "metadata": {},
     "output_type": "display_data"
    },
    {
     "data": {
      "application/vnd.jupyter.widget-view+json": {
       "model_id": "34fcd1cb83c64eff993d0796690d2893",
       "version_major": 2,
       "version_minor": 0
      },
      "text/plain": [
       "model.safetensors.index.json: 0.00B [00:00, ?B/s]"
      ]
     },
     "metadata": {},
     "output_type": "display_data"
    },
    {
     "data": {
      "application/vnd.jupyter.widget-view+json": {
       "model_id": "0150199c6cce48a38d27de1d4d428046",
       "version_major": 2,
       "version_minor": 0
      },
      "text/plain": [
       "Fetching 3 files:   0%|          | 0/3 [00:00<?, ?it/s]"
      ]
     },
     "metadata": {},
     "output_type": "display_data"
    },
    {
     "data": {
      "application/vnd.jupyter.widget-view+json": {
       "model_id": "cfbc3a9cfd99465fbbcc0a63473fe8f1",
       "version_major": 2,
       "version_minor": 0
      },
      "text/plain": [
       "model-00003-of-00003.safetensors:   0%|          | 0.00/99.6M [00:00<?, ?B/s]"
      ]
     },
     "metadata": {},
     "output_type": "display_data"
    },
    {
     "data": {
      "application/vnd.jupyter.widget-view+json": {
       "model_id": "133089ded1eb46819cef73eadbbbf1b8",
       "version_major": 2,
       "version_minor": 0
      },
      "text/plain": [
       "model-00002-of-00003.safetensors:   0%|          | 0.00/3.99G [00:00<?, ?B/s]"
      ]
     },
     "metadata": {},
     "output_type": "display_data"
    },
    {
     "data": {
      "application/vnd.jupyter.widget-view+json": {
       "model_id": "aca1d0e7d1d346239468d7fd047b64f5",
       "version_major": 2,
       "version_minor": 0
      },
      "text/plain": [
       "model-00001-of-00003.safetensors:   0%|          | 0.00/3.96G [00:00<?, ?B/s]"
      ]
     },
     "metadata": {},
     "output_type": "display_data"
    },
    {
     "data": {
      "application/vnd.jupyter.widget-view+json": {
       "model_id": "04081cb781534e43a6d8a94a9af513bf",
       "version_major": 2,
       "version_minor": 0
      },
      "text/plain": [
       "Loading checkpoint shards:   0%|          | 0/3 [00:00<?, ?it/s]"
      ]
     },
     "metadata": {},
     "output_type": "display_data"
    },
    {
     "data": {
      "application/vnd.jupyter.widget-view+json": {
       "model_id": "b29556926fc14503aa395832f02ad92f",
       "version_major": 2,
       "version_minor": 0
      },
      "text/plain": [
       "generation_config.json:   0%|          | 0.00/239 [00:00<?, ?B/s]"
      ]
     },
     "metadata": {},
     "output_type": "display_data"
    }
   ],
   "source": [
    "# Load model directly\n",
    "from transformers import AutoTokenizer, AutoModelForCausalLM\n",
    "\n",
    "tokenizer = AutoTokenizer.from_pretrained(Qwen3_4B, padding_side='left')\n",
    "model = AutoModelForCausalLM.from_pretrained(Qwen3_4B)"
   ]
  },
  {
   "cell_type": "code",
   "execution_count": 7,
   "metadata": {
    "id": "2wqE0mXVcu6o",
    "outputId": "3e9bc72d-078f-4435-bc02-10f2010c2b2a"
   },
   "outputs": [
    {
     "name": "stdout",
     "output_type": "stream",
     "text": [
      "cuda\n"
     ]
    }
   ],
   "source": [
    "# 将模型移到可用设备\n",
    "device = torch.device(\"cuda\" if torch.cuda.is_available() else \"cpu\")\n",
    "print(device)\n",
    "model = model.to(device)"
   ]
  },
  {
   "cell_type": "markdown",
   "metadata": {
    "id": "3TQDc4DxZgV2"
   },
   "source": [
    "## Model function"
   ]
  },
  {
   "cell_type": "code",
   "execution_count": 8,
   "metadata": {
    "id": "NSUqTQK9ZfKg"
   },
   "outputs": [],
   "source": [
    "def batch_generate_responses_qwen3(prompts, system_prompt=\"You are an expert AI assistant in rating confidence scores.\",\n",
    "                             temperature=0.001, max_new_tokens=512, batch_size=4,\n",
    "                             enable_thinking=True, parse_thinking=True):\n",
    "    \"\"\"\n",
    "    批量生成Qwen 3模型的回复\n",
    "\n",
    "    参数:\n",
    "        prompts: 字符串列表，每个字符串是一个提示词\n",
    "        system_prompt: 系统提示词\n",
    "        max_new_tokens: 生成的最大token数，默认为512\n",
    "        batch_size: 每批处理的提示词数量，默认为4\n",
    "        enable_thinking: 是否启用思考模式，默认为True\n",
    "        parse_thinking: 是否解析思考内容，默认为True\n",
    "\n",
    "    返回:\n",
    "        如果parse_thinking=True，返回(思考内容列表, 回复内容列表)的元组\n",
    "        如果parse_thinking=False，返回回复列表\n",
    "    \"\"\"\n",
    "\n",
    "    responses = []\n",
    "    thinking_contents = [] if parse_thinking else None\n",
    "\n",
    "    # 按批次处理\n",
    "    for i in tqdm(range(0, len(prompts), batch_size)):\n",
    "        batch_prompts = prompts[i:i+batch_size]\n",
    "        batch_texts = []\n",
    "\n",
    "        # 为每个提示词准备输入文本\n",
    "        for prompt in batch_prompts:\n",
    "            if system_prompt:\n",
    "                messages = [\n",
    "                    {\"role\": \"system\", \"content\": system_prompt},\n",
    "                    {\"role\": \"user\", \"content\": prompt}\n",
    "                ]\n",
    "            else:\n",
    "                messages = [\n",
    "                    {\"role\": \"user\", \"content\": prompt}\n",
    "                ]\n",
    "\n",
    "            text = tokenizer.apply_chat_template(\n",
    "                messages,\n",
    "                tokenize=False,\n",
    "                add_generation_prompt=True,\n",
    "                enable_thinking=enable_thinking  # 启用思考模式\n",
    "            )\n",
    "            batch_texts.append(text)\n",
    "\n",
    "        # 批量编码输入\n",
    "        model_inputs = tokenizer(batch_texts, return_tensors=\"pt\", padding=True, truncation=True).to(model.device)\n",
    "\n",
    "        # 生成回复\n",
    "        with torch.no_grad():\n",
    "            generated_ids = model.generate(\n",
    "                **model_inputs,\n",
    "                max_new_tokens=max_new_tokens,\n",
    "                do_sample=True,\n",
    "                temperature=temperature,\n",
    "                top_p=0.9,\n",
    "                repetition_penalty=1.2\n",
    "            )\n",
    "\n",
    "        # 处理生成的回复\n",
    "        batch_responses = []\n",
    "        batch_thinking = [] if parse_thinking else None\n",
    "\n",
    "        for input_ids, output_ids in zip(model_inputs.input_ids, generated_ids):\n",
    "            response_ids = output_ids[len(input_ids):].tolist()\n",
    "\n",
    "            if parse_thinking and enable_thinking:\n",
    "                # 解析思考内容\n",
    "                try:\n",
    "                    # 寻找</think>对应的token ID (151668)\n",
    "                    index = len(response_ids) - response_ids[::-1].index(151668)\n",
    "                except ValueError:\n",
    "                    index = 0\n",
    "\n",
    "                thinking_content = tokenizer.decode(response_ids[:index], skip_special_tokens=True).strip(\"\\n\")\n",
    "                content = tokenizer.decode(response_ids[index:], skip_special_tokens=True).strip(\"\\n\")\n",
    "\n",
    "                batch_thinking.append(thinking_content)\n",
    "                batch_responses.append(content)\n",
    "            else:\n",
    "                # 不解析思考内容，直接返回完整回复\n",
    "                response = tokenizer.decode(response_ids, skip_special_tokens=True)\n",
    "                batch_responses.append(response)\n",
    "\n",
    "        responses.extend(batch_responses)\n",
    "        if parse_thinking:\n",
    "            thinking_contents.extend(batch_thinking)\n",
    "\n",
    "    if parse_thinking:\n",
    "        return thinking_contents, responses\n",
    "    else:\n",
    "        return responses"
   ]
  },
  {
   "cell_type": "markdown",
   "metadata": {
    "id": "sriOa5XcYX2r"
   },
   "source": [
    "## Helper functions"
   ]
  },
  {
   "cell_type": "code",
   "execution_count": 9,
   "metadata": {
    "id": "xFQoNfZAXxKN"
   },
   "outputs": [],
   "source": [
    "def prepare_feedback_prompts_scale(reasoning_list, label=\"fully specified\"):\n",
    "    consistency_prompt_list = []\n",
    "    for reasoning in reasoning_list:\n",
    "        consistency_prompt = f\"\"\"\n",
    "        Given this statement from a reasoning process: \"{reasoning}\"\n",
    "\n",
    "        On a scale from 0 to 1, how confident does this statement support\n",
    "        the classification of a user query as \"{label}\"?\n",
    "\n",
    "        Return ONLY a number between 0 and 1. DO NOT PRODUCE ANYTHING ELSE.\n",
    "        \"\"\"\n",
    "        consistency_prompt_list.append(consistency_prompt)\n",
    "    return consistency_prompt_list\n",
    "\n",
    "def scale_to_label(scale_list):\n",
    "  scale_to_label = []\n",
    "  for scale in scale_list:\n",
    "    if float(scale) > 0.5:\n",
    "      scale_to_label.append(\"fully specified\")\n",
    "    else:\n",
    "      scale_to_label.append(\"underspecified\")\n",
    "  return scale_to_label\n",
    "\n",
    "def get_reasonings_from_responses(responses: List[str]) -> List[Optional[str]]:\n",
    "    \"\"\"\n",
    "    推荐的解析函数，结合了多种方法的优点\n",
    "    \"\"\"\n",
    "    reasonings = []\n",
    "\n",
    "    for i, response in enumerate(responses):\n",
    "        reasoning = None\n",
    "\n",
    "        try:\n",
    "            # 方法1: 尝试直接解析JSON\n",
    "            clean_response = response.strip()\n",
    "            if clean_response.startswith('{') and clean_response.endswith('}'):\n",
    "                data = json.loads(clean_response)\n",
    "                reasoning = data.get('reasoning')\n",
    "            else:\n",
    "                # 方法2: 寻找JSON部分\n",
    "                start_idx = clean_response.find('{')\n",
    "                end_idx = clean_response.rfind('}')\n",
    "                if start_idx != -1 and end_idx != -1:\n",
    "                    json_part = clean_response[start_idx:end_idx+1]\n",
    "                    data = json.loads(json_part)\n",
    "                    reasoning = data.get('reasoning')\n",
    "\n",
    "        except json.JSONDecodeError:\n",
    "            # 方法3: 使用正则表达式作为后备\n",
    "            pattern = r'\"reasoning\"\\s*:\\s*\"([^\"]*)\"'\n",
    "            match = re.search(pattern, response)\n",
    "            if match:\n",
    "                reasoning = match.group(1)\n",
    "\n",
    "        if reasoning is None:\n",
    "            print(f\"Warning: response {i} cannot retrieve reasoning\")\n",
    "            print(f\"Respond content: {response[:200]}...\")\n",
    "            reasoning = \"error\"\n",
    "\n",
    "        reasonings.append(reasoning)\n",
    "\n",
    "    return reasonings\n",
    "\n",
    "def obtain_results_without(input_csv, filter_set):\n",
    "    result_df = pd.read_csv(input_csv)\n",
    "    result_df = result_df[result_df['direct_source']!=filter_set]\n",
    "    print(classification_report(result_df[\"gold_judgment\"], result_df['model_pred']))\n",
    "\n",
    "    judgment_gold = result_df['gold_judgment'].tolist()\n",
    "    judgment_model = result_df[\"model_pred\"].tolist()\n",
    "    binary_labels = ['underspecified', 'fully specified']\n",
    "\n",
    "    cm = confusion_matrix(judgment_gold, judgment_model, labels=binary_labels)\n",
    "    disp = ConfusionMatrixDisplay(confusion_matrix=cm, display_labels=binary_labels)\n",
    "\n",
    "    disp.plot(cmap='Blues')  # 可以调整 colormap"
   ]
  },
  {
   "cell_type": "markdown",
   "metadata": {
    "id": "TypdSzdEZ4z2"
   },
   "source": [
    "## Implementation"
   ]
  },
  {
   "cell_type": "code",
   "execution_count": 10,
   "metadata": {
    "id": "Pe_Ohs6RYZ6g",
    "outputId": "2f2c8f57-37fb-4720-938f-a3c54c0b5fd6"
   },
   "outputs": [
    {
     "data": {
      "text/plain": [
       "'\\n        Given this statement from a reasoning process: \"The query asks for \\'laws\\' related to the flow of goods between \\'england\\' and \\'the colonies.\\' While the general topic (trade regulation between Britain and its colonial territories) is clear, critical contextual details are missing. Specifically, the query does not specify which colonies (e.g., American colonies vs. Caribbean colonies), the geographic region(s) involved, the time period (e.g., pre-Revolutionary War vs. 19th century), or the type of legal framework (statutes, treaties, regulatory acts). These omissions create ambiguity about which laws to identify, as multiple historical frameworks exist (e.g., Navigation Acts, Molasses Act, Stamp Act).\"\\n\\n        On a scale from 0 to 1, how confident does this statement support\\n        the classification of a user query as \"fully specified\"?\\n\\n        Return ONLY a number between 0 and 1. DO NOT PRODUCE ANYTHING ELSE.\\n        '"
      ]
     },
     "execution_count": 10,
     "metadata": {},
     "output_type": "execute_result"
    }
   ],
   "source": [
    "# Retrieve the reasoning list\n",
    "response_list = input_df[\"model_response\"].tolist()\n",
    "reasoning_list = get_reasonings_from_responses(response_list)\n",
    "\n",
    "# Preparing prompts\n",
    "feedback_prompts = prepare_feedback_prompts_scale(reasoning_list)\n",
    "feedback_prompts[21]"
   ]
  },
  {
   "cell_type": "code",
   "execution_count": 17,
   "metadata": {
    "id": "e9NQgjoEaiXm",
    "outputId": "f8b4591c-f146-471b-9e8f-6cbe81900586"
   },
   "outputs": [
    {
     "name": "stderr",
     "output_type": "stream",
     "text": [
      "100%|██████████| 289/289 [02:45<00:00,  1.75it/s]\n"
     ]
    },
    {
     "name": "stdout",
     "output_type": "stream",
     "text": [
      "                 precision    recall  f1-score   support\n",
      "\n",
      "fully specified       0.68      0.70      0.69       598\n",
      " underspecified       0.67      0.64      0.66       557\n",
      "\n",
      "       accuracy                           0.67      1155\n",
      "      macro avg       0.67      0.67      0.67      1155\n",
      "   weighted avg       0.67      0.67      0.67      1155\n",
      "\n"
     ]
    },
    {
     "data": {
      "image/png": "[encoded data removed]",
      "text/plain": [
       "<Figure size 640x480 with 2 Axes>"
      ]
     },
     "metadata": {},
     "output_type": "display_data"
    }
   ],
   "source": [
    "# without-thinking processing\n",
    "feedback_scale_list = batch_generate_responses_qwen3(feedback_prompts, max_new_tokens=128, enable_thinking=False, parse_thinking=False)\n",
    "feedback_label_list = scale_to_label(feedback_scale_list)\n",
    "\n",
    "df = input_df.copy()\n",
    "df['feedback_scale'] = feedback_scale_list\n",
    "df['feedback_label'] = feedback_label_list\n",
    "\n",
    "print(classification_report(df['gold_judgment'], df['feedback_label']))\n",
    "\n",
    "judgment_gold = df['gold_judgment'].tolist()\n",
    "judgment_model = df[\"feedback_label\"].tolist()\n",
    "\n",
    "binary_labels = ['underspecified', 'fully specified']\n",
    "\n",
    "cm = confusion_matrix(judgment_gold, judgment_model, labels=binary_labels)\n",
    "disp = ConfusionMatrixDisplay(confusion_matrix=cm, display_labels=binary_labels)\n",
    "\n",
    "disp.plot(cmap='Blues')  # 可以调整 colormap\n",
    "\n",
    "df.to_csv(\"Qwen3_4B_reasoning_feedback_nothink.csv\", index=False)"
   ]
  },
  {
   "cell_type": "code",
   "execution_count": 18,
   "metadata": {
    "id": "hQojjU3NwZMP"
   },
   "outputs": [
    {
     "name": "stdout",
     "output_type": "stream",
     "text": [
      "                 precision    recall  f1-score   support\n",
      "\n",
      "fully specified       0.73      0.66      0.69       431\n",
      " underspecified       0.69      0.75      0.72       424\n",
      "\n",
      "       accuracy                           0.71       855\n",
      "      macro avg       0.71      0.71      0.70       855\n",
      "   weighted avg       0.71      0.71      0.70       855\n",
      "\n"
     ]
    },
    {
     "data": {
      "image/png": "[encoded data removed]",
      "text/plain": [
       "<Figure size 640x480 with 2 Axes>"
      ]
     },
     "metadata": {},
     "output_type": "display_data"
    }
   ],
   "source": [
    "obtain_results_without(\"Qwen3_4B_reasoning_feedback_nothink.csv\", \"AmbigQA\")"
   ]
  },
  {
   "cell_type": "code",
   "execution_count": 11,
   "metadata": {
    "id": "GhkCH-gsbtyo",
    "outputId": "920d36c8-4363-4e07-e7dc-e63ec47e6c9e"
   },
   "outputs": [
    {
     "name": "stderr",
     "output_type": "stream",
     "text": [
      "100%|██████████| 289/289 [1:54:46<00:00, 23.83s/it]\n"
     ]
    },
    {
     "name": "stdout",
     "output_type": "stream",
     "text": [
      "                 precision    recall  f1-score   support\n",
      "\n",
      "fully specified       0.67      0.71      0.69       598\n",
      " underspecified       0.67      0.63      0.65       557\n",
      "\n",
      "       accuracy                           0.67      1155\n",
      "      macro avg       0.67      0.67      0.67      1155\n",
      "   weighted avg       0.67      0.67      0.67      1155\n",
      "\n"
     ]
    },
    {
     "data": {
      "image/png": "[encoded data removed]",
      "text/plain": [
       "<Figure size 640x480 with 2 Axes>"
      ]
     },
     "metadata": {},
     "output_type": "display_data"
    }
   ],
   "source": [
    "# with_thinking processing\n",
    "feedback_scale_thinking, feedback_scale_list = batch_generate_responses_qwen3(feedback_prompts,max_new_tokens=30000)\n",
    "feedback_label_list = scale_to_label(feedback_scale_list)\n",
    "df = input_df.copy()\n",
    "df['feedback_scale'] = feedback_scale_list\n",
    "df['feedback_label'] = feedback_label_list\n",
    "df['feedback_scale_thinking'] = feedback_scale_thinking\n",
    "\n",
    "print(classification_report(df['gold_judgment'], df['feedback_label']))\n",
    "\n",
    "judgment_gold = df['gold_judgment'].tolist()\n",
    "judgment_model = df[\"feedback_label\"].tolist()\n",
    "\n",
    "binary_labels = ['underspecified', 'fully specified']\n",
    "\n",
    "cm = confusion_matrix(judgment_gold, judgment_model, labels=binary_labels)\n",
    "disp = ConfusionMatrixDisplay(confusion_matrix=cm, display_labels=binary_labels)\n",
    "\n",
    "disp.plot(cmap='Blues')  # 可以调整 colormap\n",
    "\n",
    "df.to_csv(\"Qwen3_4B_reasoning_feedback_think.csv\", index=False)"
   ]
  },
  {
   "cell_type": "code",
   "execution_count": 12,
   "metadata": {
    "id": "0vJTzvuRwdNz"
   },
   "outputs": [
    {
     "name": "stdout",
     "output_type": "stream",
     "text": [
      "                 precision    recall  f1-score   support\n",
      "\n",
      "fully specified       0.73      0.66      0.69       431\n",
      " underspecified       0.69      0.75      0.72       424\n",
      "\n",
      "       accuracy                           0.71       855\n",
      "      macro avg       0.71      0.71      0.70       855\n",
      "   weighted avg       0.71      0.71      0.70       855\n",
      "\n"
     ]
    },
    {
     "data": {
      "image/png": "[encoded data removed]",
      "text/plain": [
       "<Figure size 640x480 with 2 Axes>"
      ]
     },
     "metadata": {},
     "output_type": "display_data"
    }
   ],
   "source": [
    "obtain_results_without(\"Qwen3_4B_reasoning_feedback_think.csv\", \"AmbigQA\")"
   ]
  }
 ],
 "metadata": {
  "colab": {
   "provenance": []
  },
  "kernelspec": {
   "display_name": "Python (sglang-venv-2)",
   "language": "python",
   "name": "sglang-venv"
  },
  "language_info": {
   "codemirror_mode": {
    "name": "ipython",
    "version": 3
   },
   "file_extension": ".py",
   "mimetype": "text/x-python",
   "name": "python",
   "nbconvert_exporter": "python",
   "pygments_lexer": "ipython3",
   "version": "3.11.3"
  }
 },
 "nbformat": 4,
 "nbformat_minor": 4
}
